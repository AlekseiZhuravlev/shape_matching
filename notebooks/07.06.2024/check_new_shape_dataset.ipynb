{
 "cells": [
  {
   "cell_type": "code",
   "execution_count": 12,
   "metadata": {},
   "outputs": [
    {
     "name": "stdout",
     "output_type": "stream",
     "text": [
      "Hello, World!\n"
     ]
    },
    {
     "ename": "",
     "evalue": "",
     "output_type": "error",
     "traceback": [
      "\u001b[1;31mThe Kernel crashed while executing code in the current cell or a previous cell. \n",
      "\u001b[1;31mPlease review the code in the cell(s) to identify a possible cause of the failure. \n",
      "\u001b[1;31mClick <a href='https://aka.ms/vscodeJupyterKernelCrash'>here</a> for more info. \n",
      "\u001b[1;31mView Jupyter <a href='command:jupyter.viewOutput'>log</a> for further details."
     ]
    },
    {
     "ename": "",
     "evalue": "",
     "output_type": "error",
     "traceback": [
      "\u001b[1;31mThe Kernel crashed while executing code in the current cell or a previous cell. \n",
      "\u001b[1;31mPlease review the code in the cell(s) to identify a possible cause of the failure. \n",
      "\u001b[1;31mClick <a href='https://aka.ms/vscodeJupyterKernelCrash'>here</a> for more info. \n",
      "\u001b[1;31mView Jupyter <a href='command:jupyter.viewOutput'>log</a> for further details."
     ]
    },
    {
     "ename": "",
     "evalue": "",
     "output_type": "error",
     "traceback": [
      "\u001b[1;31mThe Kernel crashed while executing code in the current cell or a previous cell. \n",
      "\u001b[1;31mPlease review the code in the cell(s) to identify a possible cause of the failure. \n",
      "\u001b[1;31mClick <a href='https://aka.ms/vscodeJupyterKernelCrash'>here</a> for more info. \n",
      "\u001b[1;31mView Jupyter <a href='command:jupyter.viewOutput'>log</a> for further details."
     ]
    },
    {
     "ename": "",
     "evalue": "",
     "output_type": "error",
     "traceback": [
      "\u001b[1;31mThe Kernel crashed while executing code in the current cell or a previous cell. \n",
      "\u001b[1;31mPlease review the code in the cell(s) to identify a possible cause of the failure. \n",
      "\u001b[1;31mClick <a href='https://aka.ms/vscodeJupyterKernelCrash'>here</a> for more info. \n",
      "\u001b[1;31mView Jupyter <a href='command:jupyter.viewOutput'>log</a> for further details."
     ]
    },
    {
     "ename": "",
     "evalue": "",
     "output_type": "error",
     "traceback": [
      "\u001b[1;31mThe Kernel crashed while executing code in the current cell or a previous cell. \n",
      "\u001b[1;31mPlease review the code in the cell(s) to identify a possible cause of the failure. \n",
      "\u001b[1;31mClick <a href='https://aka.ms/vscodeJupyterKernelCrash'>here</a> for more info. \n",
      "\u001b[1;31mView Jupyter <a href='command:jupyter.viewOutput'>log</a> for further details."
     ]
    }
   ],
   "source": [
    "print('Hello, World!') "
   ]
  },
  {
   "cell_type": "code",
   "execution_count": 1,
   "metadata": {},
   "outputs": [
    {
     "name": "stdout",
     "output_type": "stream",
     "text": [
      "Jupyter environment detected. Enabling Open3D WebVisualizer.\n",
      "[Open3D INFO] WebRTC GUI backend enabled.\n",
      "[Open3D INFO] WebRTCWindowSystem: HTTP handshake server disabled.\n"
     ]
    }
   ],
   "source": [
    "import my_code.datasets.shape_dataset as shape_dataset\n",
    "\n",
    "dataset_faust_orig = shape_dataset.SingleShapeDataset(\n",
    "    data_root = 'data_with_smpl_corr/FAUST_original',\n",
    "    centering = 'bbox',\n",
    "    return_faces=True,\n",
    "    return_evecs=True,\n",
    "    num_evecs=64,\n",
    "    return_corr=True,\n",
    "    return_dist=False,\n",
    "    lb_cache_dir=None\n",
    ")\n",
    "dataset_faust_r = shape_dataset.SingleShapeDataset(\n",
    "    data_root = 'data_with_smpl_corr/FAUST_r',\n",
    "    centering = 'bbox',\n",
    "    return_faces=True,\n",
    "    return_evecs=True,\n",
    "    num_evecs=64,\n",
    "    return_corr=True,\n",
    "    return_dist=False,\n",
    "    lb_cache_dir=None\n",
    ")\n",
    "dataset_faust_a = shape_dataset.SingleShapeDataset(\n",
    "    data_root = 'data_with_smpl_corr/FAUST_a',\n",
    "    centering = 'bbox',\n",
    "    return_faces=True,\n",
    "    return_evecs=True,\n",
    "    num_evecs=64,\n",
    "    return_corr=True,\n",
    "    return_dist=False,\n",
    "    lb_cache_dir=None\n",
    ")"
   ]
  },
  {
   "cell_type": "code",
   "execution_count": 8,
   "metadata": {},
   "outputs": [],
   "source": [
    "data_orig = dataset_faust_orig[91]\n",
    "data_r = dataset_faust_r[91]\n",
    "data_a = dataset_faust_a[11]"
   ]
  },
  {
   "cell_type": "code",
   "execution_count": 6,
   "metadata": {},
   "outputs": [],
   "source": [
    "import trimesh\n",
    "\n",
    "scene = trimesh.Scene()"
   ]
  },
  {
   "cell_type": "code",
   "execution_count": null,
   "metadata": {},
   "outputs": [],
   "source": [
    "mesh_orig = trimesh.Trimesh(\n",
    "    vertices=data_orig['verts'],\n",
    "    faces=data_orig['faces']\n",
    "    )\n",
    "mesh_r = trimesh.Trimesh(\n",
    "    vertices=data_r['verts'].numpy() + [0, 0, 0],\n",
    "    faces=data_r['faces'],\n",
    "    face_colors=[255, 0, 0, 100]\n",
    "    )\n",
    "mesh_a = trimesh.Trimesh(\n",
    "    vertices=data_a['verts'].numpy() + [0, 0, 0],\n",
    "    faces=data_a['faces'],\n",
    "    face_colors=[0, 255, 0, 100]\n",
    "    )\n",
    "\n",
    "scene.geometry.clear()\n",
    "\n",
    "scene.add_geometry(mesh_orig)\n",
    "scene.add_geometry(mesh_r)\n",
    "scene.add_geometry(mesh_a)\n",
    "\n",
    "scene.show()"
   ]
  },
  {
   "cell_type": "code",
   "execution_count": 2,
   "metadata": {},
   "outputs": [],
   "source": [
    "dataset_shrec = shape_dataset.SingleShapeDataset(\n",
    "    data_root = 'data_with_smpl_corr/SHREC19_original',\n",
    "    centering = 'bbox',\n",
    "    return_faces=True,\n",
    "    return_evecs=True,\n",
    "    num_evecs=64,\n",
    "    return_corr=True,\n",
    "    return_dist=False,\n",
    "    lb_cache_dir=None\n",
    ")\n",
    "dataset_surreal = shape_dataset.SingleShapeDataset(\n",
    "    data_root = 'data_with_smpl_corr/SURREAL_test',\n",
    "    centering = 'bbox',\n",
    "    return_faces=True,\n",
    "    return_evecs=True,\n",
    "    num_evecs=64,\n",
    "    return_corr=True,\n",
    "    return_dist=False,\n",
    "    lb_cache_dir=None\n",
    ")"
   ]
  },
  {
   "cell_type": "code",
   "execution_count": 11,
   "metadata": {},
   "outputs": [],
   "source": [
    "data_shrec = dataset_shrec[32]\n",
    "data_surreal = dataset_surreal[32]"
   ]
  },
  {
   "cell_type": "code",
   "execution_count": null,
   "metadata": {},
   "outputs": [],
   "source": [
    "mesh_shrec = trimesh.Trimesh(\n",
    "    vertices=data_shrec['verts'].numpy() + [-2, 0, 0],\n",
    "    faces=data_shrec['faces']\n",
    "    )\n",
    "mesh_surreal = trimesh.Trimesh(\n",
    "    vertices=data_surreal['verts'].numpy() + [-1, 0, 0],\n",
    "    faces=data_surreal['faces'],\n",
    "    face_colors=[0, 0, 255, 100]\n",
    "    )\n",
    "\n",
    "scene.add_geometry(mesh_shrec)\n",
    "scene.add_geometry(mesh_surreal)\n",
    "\n",
    "scene.show()"
   ]
  },
  {
   "cell_type": "markdown",
   "metadata": {},
   "source": [
    "# Template datasets"
   ]
  },
  {
   "cell_type": "code",
   "execution_count": 3,
   "metadata": {},
   "outputs": [],
   "source": [
    "import my_code.datasets.template_dataset as template_dataset\n",
    "import numpy as np\n",
    "\n",
    "dataset_faust_orig_template = template_dataset.TemplateDataset(\n",
    "    base_dataset=dataset_faust_orig,\n",
    "    template_path='data/SURREAL_full/template/template.ply',\n",
    "    template_corr=list(range(6890)),\n",
    "    num_evecs=dataset_faust_orig.num_evecs,\n",
    "    return_Cxy=True,\n",
    "    preload_base_dataset=False\n",
    ")\n",
    "dataset_faust_r_template = template_dataset.TemplateDataset(\n",
    "    base_dataset=dataset_faust_r,\n",
    "    template_path='data/SURREAL_full/template/template.ply',\n",
    "    template_corr=np.loadtxt('data_with_smpl_corr/FAUST_r/sampleID.vts', dtype=int) - 1,\n",
    "    num_evecs=dataset_faust_r.num_evecs,\n",
    "    return_Cxy=True,\n",
    "    preload_base_dataset=False\n",
    ")\n",
    "dataset_faust_a_template = template_dataset.TemplateDataset(\n",
    "    base_dataset=dataset_faust_a,\n",
    "    template_path='data/SURREAL_full/template/template.ply',\n",
    "    template_corr=list(range(6890)),\n",
    "    num_evecs=dataset_faust_a.num_evecs,\n",
    "    return_Cxy=True,\n",
    "    preload_base_dataset=False\n",
    ")\n",
    "dataset_shrec_template = template_dataset.TemplateDataset(\n",
    "    base_dataset=dataset_shrec,\n",
    "    template_path='data/SURREAL_full/template/template.ply',\n",
    "    template_corr=list(range(6890)),\n",
    "    num_evecs=dataset_shrec.num_evecs,\n",
    "    return_Cxy=True,\n",
    "    preload_base_dataset=False\n",
    ")\n",
    "dataset_surreal_template = template_dataset.TemplateDataset(\n",
    "    base_dataset=dataset_surreal,\n",
    "    template_path='data/SURREAL_full/template/template.ply',\n",
    "    template_corr=list(range(6890)),\n",
    "    num_evecs=dataset_surreal.num_evecs,\n",
    "    return_Cxy=True,\n",
    "    preload_base_dataset=False\n",
    ")"
   ]
  },
  {
   "cell_type": "code",
   "execution_count": 4,
   "metadata": {},
   "outputs": [],
   "source": [
    "import torch\n",
    "import matplotlib.pyplot as plt\n",
    "\n",
    "\n",
    "def plot_fmap_and_meshes(dataset, idx):\n",
    "    # data_orig_12 = dataset_faust_orig_template[82]\n",
    "    \n",
    "    data_orig_12 = dataset[idx]\n",
    "\n",
    "    mesh_orig_12 = trimesh.Trimesh(\n",
    "        vertices=data_orig_12['second']['verts'],\n",
    "        faces=data_orig_12['second']['faces']\n",
    "        )\n",
    "    template_orig_12 = trimesh.Trimesh(\n",
    "        vertices=data_orig_12['first']['verts'] + torch.tensor([0.0, 0, 0]),\n",
    "        faces=data_orig_12['first']['faces'],\n",
    "        face_colors=[255, 0, 0, 100]\n",
    "    )\n",
    "    \n",
    "    print(mesh_orig_12, template_orig_12)\n",
    "\n",
    "    plot = plt.imshow(data_orig_12['second']['C_gt_xy'][0], cmap='bwr', vmin=-1, vmax=1)\n",
    "    plt.colorbar(plot)\n",
    "\n",
    "    plt.show()\n",
    "\n",
    "    scene.geometry.clear()\n",
    "\n",
    "    scene.add_geometry(mesh_orig_12)\n",
    "    scene.add_geometry(template_orig_12)\n",
    "\n",
    "    scene.show()"
   ]
  },
  {
   "cell_type": "code",
   "execution_count": null,
   "metadata": {},
   "outputs": [],
   "source": [
    "# plot_fmap_and_meshes(dataset_faust_orig_template, 8)\n",
    "# plot_fmap_and_meshes(dataset_faust_r_template, 88)\n",
    "# plot_fmap_and_meshes(dataset_faust_a_template, 8)\n",
    "plot_fmap_and_meshes(dataset_shrec_template, 28)\n",
    "# plot_fmap_and_meshes(dataset_surreal_template, 118)\n",
    "scene.show()"
   ]
  },
  {
   "cell_type": "markdown",
   "metadata": {},
   "source": [
    "# Check surreal normalization"
   ]
  },
  {
   "cell_type": "code",
   "execution_count": 3,
   "metadata": {},
   "outputs": [
    {
     "data": {
      "text/plain": [
       "(<trimesh.Trimesh(vertices.shape=(6890, 3), faces.shape=(13776, 3), name=`tr_reg_001.off`)>,\n",
       " <trimesh.Trimesh(vertices.shape=(6890, 3), faces.shape=(13776, 3), name=`template.ply`)>)"
      ]
     },
     "execution_count": 3,
     "metadata": {},
     "output_type": "execute_result"
    }
   ],
   "source": [
    "mesh_surreal_orig = trimesh.load('/home/s94zalek_hpc/shape_matching/data_with_smpl_corr/SURREAL_test/off/tr_reg_001.off')\n",
    "mesh_template = trimesh.load(f'/home/s94zalek_hpc/shape_matching/data/SURREAL_full/template/template.ply')\n",
    "\n",
    "mesh_surreal_orig, mesh_template"
   ]
  },
  {
   "cell_type": "code",
   "execution_count": 4,
   "metadata": {},
   "outputs": [
    {
     "name": "stdout",
     "output_type": "stream",
     "text": [
      "Area of surreal: 1.3497835096016626, area of template: 1.3311199303787813\n"
     ]
    }
   ],
   "source": [
    "from utils.geometry_util import laplacian_decomposition, get_operators\n",
    "\n",
    "sqrt_area_surreal = laplacian_decomposition(verts=mesh_surreal_orig.vertices, faces=mesh_surreal_orig.faces, k=1)[-1]\n",
    "sqrt_area_template = laplacian_decomposition(verts=mesh_template.vertices, faces=mesh_template.faces, k=1)[-1]\n",
    "\n",
    "print(f'Area of surreal: {sqrt_area_surreal}, area of template: {sqrt_area_template}')"
   ]
  },
  {
   "cell_type": "code",
   "execution_count": null,
   "metadata": {},
   "outputs": [],
   "source": [
    "scene.geometry.clear()\n",
    "\n",
    "scene.add_geometry(mesh_surreal_orig)\n",
    "scene.add_geometry(mesh_template)\n",
    "\n",
    "scene.show()"
   ]
  }
 ],
 "metadata": {
  "kernelspec": {
   "display_name": "Python 3 (ipykernel)",
   "language": "python",
   "name": "python3"
  }
 },
 "nbformat": 4,
 "nbformat_minor": 2
}
