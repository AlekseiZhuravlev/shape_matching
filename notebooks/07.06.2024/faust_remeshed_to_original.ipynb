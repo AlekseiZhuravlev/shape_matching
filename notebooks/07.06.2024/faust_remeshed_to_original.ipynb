{
 "cells": [
  {
   "cell_type": "code",
   "execution_count": 2,
   "metadata": {},
   "outputs": [],
   "source": [
    "faust_orig_folder = '/home/s94zalek_hpc/shape_matching/data/FAUST_original/off'\n",
    "faust_remeshed_folder = '/home/s94zalek_hpc/shape_matching/data/FAUST_aligned/FAUST_a/off'"
   ]
  },
  {
   "cell_type": "code",
   "execution_count": 3,
   "metadata": {},
   "outputs": [],
   "source": [
    "import trimesh\n",
    "\n",
    "scene = trimesh.Scene()"
   ]
  },
  {
   "cell_type": "code",
   "execution_count": null,
   "metadata": {},
   "outputs": [],
   "source": [
    "# read tr_reg_000.off from each folder and plot it\n",
    "# load the mesh from the original folder\n",
    "mesh_orig = trimesh.load(faust_orig_folder + '/tr_reg_082.off', process=False)\n",
    "scene.add_geometry(mesh_orig)\n",
    "\n",
    "# load the mesh from the remeshed folder\n",
    "mesh_remeshed = trimesh.load(faust_remeshed_folder + '/tr_reg_082.off', process=False)\n",
    "mesh_remeshed.vertices += [1, 0, 0]  # move the remeshed mesh to the right\n",
    "scene.add_geometry(mesh_remeshed)\n",
    "\n",
    "print(mesh_orig)\n",
    "print(mesh_remeshed)\n",
    "\n",
    "scene.show()"
   ]
  },
  {
   "cell_type": "code",
   "execution_count": 5,
   "metadata": {},
   "outputs": [],
   "source": [
    "import my_code.datasets.preprocessing as preprocessing\n",
    "import torch\n",
    "\n",
    "verts_orig = preprocessing.center(\n",
    "    torch.tensor(mesh_orig.vertices)\n",
    "    )[0]\n",
    "\n",
    "verts_remeshed = preprocessing.center(\n",
    "    torch.tensor(mesh_remeshed.vertices)\n",
    "    )[0]\n",
    "\n",
    "verts_remeshed = preprocessing.scale(\n",
    "    input_verts=verts_remeshed,\n",
    "    input_faces=torch.tensor(mesh_remeshed.faces),\n",
    "    ref_verts=verts_orig,\n",
    "    ref_faces=torch.tensor(mesh_orig.faces)\n",
    ")[0]"
   ]
  },
  {
   "cell_type": "code",
   "execution_count": null,
   "metadata": {},
   "outputs": [],
   "source": [
    "# plot the meshes\n",
    "\n",
    "scene.geometry.clear()\n",
    "\n",
    "scene.add_geometry(trimesh.Trimesh(vertices=verts_orig, faces=mesh_orig.faces))\n",
    "scene.add_geometry(trimesh.Trimesh(vertices=verts_remeshed + torch.tensor([1, 0, 0]),\n",
    "                                   faces=mesh_remeshed.faces))\n",
    "\n",
    "scene.show()"
   ]
  },
  {
   "cell_type": "code",
   "execution_count": 7,
   "metadata": {},
   "outputs": [
    {
     "name": "stdout",
     "output_type": "stream",
     "text": [
      "torch.Size([5802])\n"
     ]
    }
   ],
   "source": [
    "from utils.fmap_util import nn_query\n",
    "\n",
    "# find correspondences by nearest neigbor search\n",
    "\n",
    "corr_r_o = nn_query(\n",
    "    verts_orig,\n",
    "    verts_remeshed\n",
    ")\n",
    "\n",
    "print(corr_r_o.shape)"
   ]
  },
  {
   "cell_type": "code",
   "execution_count": null,
   "metadata": {},
   "outputs": [],
   "source": [
    "scene.geometry.clear()\n",
    "\n",
    "# cmap = trimesh.visual.color.interpolate(data_x['verts'][:, 1], 'jet')\n",
    "# imterpolate the color diagonally based on 0 and 2 coordinate\n",
    "cmap = trimesh.visual.color.interpolate(\n",
    "    verts_orig[:, 0] / verts_orig[:, 0].max() +\\\n",
    "    verts_orig[:, 1] / verts_orig[:, 1].max(),\n",
    "    'jet')\n",
    "\n",
    "# add the first mesh\n",
    "mesh1 = trimesh.Trimesh(vertices=verts_orig, faces=mesh_orig.faces)\n",
    "mesh1.visual.vertex_colors = cmap[:len(mesh1.vertices)].clip(0, 255)\n",
    "scene.add_geometry(mesh1)\n",
    "\n",
    "mesh2 = trimesh.Trimesh(vertices=verts_remeshed + torch.tensor([1, 0, 0]), faces=mesh_remeshed.faces)\n",
    "cmap2 = cmap[corr_r_o]\n",
    "mesh2.visual.vertex_colors = cmap2.clip(0, 255)[:len(mesh2.vertices)]\n",
    "scene.add_geometry(mesh2)\n",
    "\n",
    "scene.show()"
   ]
  },
  {
   "cell_type": "code",
   "execution_count": 11,
   "metadata": {},
   "outputs": [
    {
     "data": {
      "text/plain": [
       "(5001, 4)"
      ]
     },
     "execution_count": 11,
     "metadata": {},
     "output_type": "execute_result"
    }
   ],
   "source": [
    "cmap[corr_r_o].shape"
   ]
  },
  {
   "cell_type": "code",
   "execution_count": 8,
   "metadata": {},
   "outputs": [
    {
     "name": "stderr",
     "output_type": "stream",
     "text": [
      "100%|█████████████████████████████████████████████████████████████████████████████████████████████████████████████| 20/20 [00:03<00:00,  5.64it/s]\n"
     ]
    }
   ],
   "source": [
    "import my_code.datasets.preprocessing as preprocessing\n",
    "import torch\n",
    "import trimesh\n",
    "import os\n",
    "import numpy as np\n",
    "from tqdm import tqdm\n",
    "from utils.fmap_util import nn_query\n",
    "\n",
    "faust_orig_folder = '/home/s94zalek_hpc/shape_matching/data_with_smpl_corr/FAUST_original/off'\n",
    "faust_remeshed_folder = '/home/s94zalek_hpc/shape_matching/data_with_smpl_corr/FAUST_a/off'\n",
    "corr_remeshed_folder = '/home/s94zalek_hpc/shape_matching/data_with_smpl_corr/FAUST_a/corres'\n",
    "\n",
    "if not os.path.exists(corr_remeshed_folder):\n",
    "    os.makedirs(corr_remeshed_folder, exist_ok=True)\n",
    "    \n",
    "\n",
    "for file_name in tqdm(sorted(os.listdir(faust_remeshed_folder)), total=len(os.listdir(faust_remeshed_folder))):\n",
    "    \n",
    "    mesh_orig = trimesh.load(faust_orig_folder + f'/{file_name}', process=False)\n",
    "    mesh_remeshed = trimesh.load(faust_remeshed_folder + f'/{file_name}', process=False)\n",
    "\n",
    "    verts_orig = preprocessing.center(\n",
    "        torch.tensor(mesh_orig.vertices)\n",
    "        )[0]\n",
    "\n",
    "    verts_remeshed = preprocessing.center(\n",
    "        torch.tensor(mesh_remeshed.vertices)\n",
    "        )[0]\n",
    "\n",
    "    verts_remeshed = preprocessing.scale(\n",
    "        input_verts=verts_remeshed,\n",
    "        input_faces=torch.tensor(mesh_remeshed.faces),\n",
    "        ref_verts=verts_orig,\n",
    "        ref_faces=torch.tensor(mesh_orig.faces)\n",
    "    )[0]\n",
    "\n",
    "    # corr_r_o = nn_query(\n",
    "    #     verts_orig,\n",
    "    #     verts_remeshed\n",
    "    # )\n",
    "    corr_o_r = nn_query(\n",
    "        verts_remeshed,\n",
    "        verts_orig\n",
    "    )\n",
    "    corr_o_r += 1\n",
    "    \n",
    "    \n",
    "    # assert corr_r_o.shape[0] == verts_remeshed.shape[0]\n",
    "    assert corr_o_r.shape[0] == verts_orig.shape[0]\n",
    "\n",
    "    # save corr_r_o to corres folder, file_name .vts\n",
    "    with open(corr_remeshed_folder + f'/{file_name[:-4]}.vts', 'w') as f:\n",
    "        np.savetxt(f, corr_o_r.numpy(), fmt='%d')\n"
   ]
  },
  {
   "cell_type": "code",
   "execution_count": null,
   "metadata": {},
   "outputs": [],
   "source": []
  }
 ],
 "metadata": {
  "kernelspec": {
   "display_name": "Python 3 (ipykernel)",
   "language": "python",
   "name": "python3"
  },
  "language_info": {
   "codemirror_mode": {
    "name": "ipython",
    "version": 3
   },
   "file_extension": ".py",
   "mimetype": "text/x-python",
   "name": "python",
   "nbconvert_exporter": "python",
   "pygments_lexer": "ipython3",
   "version": "3.8.19"
  }
 },
 "nbformat": 4,
 "nbformat_minor": 2
}
