{
 "cells": [
  {
   "cell_type": "code",
   "execution_count": 45,
   "metadata": {},
   "outputs": [],
   "source": [
    "faust_orig_folder = '/home/s94zalek_hpc/shape_matching/data_with_smpl_corr/FAUST_original/off'\n",
    "faust_remeshed_folder = '/home/s94zalek_hpc/shape_matching/data_pair_evaluation/FAUST_r/off'"
   ]
  },
  {
   "cell_type": "code",
   "execution_count": null,
   "metadata": {},
   "outputs": [],
   "source": [
    "import trimesh\n",
    "\n",
    "scene = trimesh.Scene()"
   ]
  },
  {
   "cell_type": "code",
   "execution_count": null,
   "metadata": {},
   "outputs": [],
   "source": [
    "# read tr_reg_000.off from each folder and plot it\n",
    "# load the mesh from the original folder\n",
    "scene.geometry.clear()\n",
    "\n",
    "mesh_orig = trimesh.load(faust_orig_folder + '/tr_reg_099.off', process=False)\n",
    "scene.add_geometry(mesh_orig)\n",
    "\n",
    "# load the mesh from the remeshed folder\n",
    "mesh_remeshed = trimesh.load(faust_remeshed_folder + '/tr_reg_099.off', process=False)\n",
    "mesh_remeshed.vertices += [1, 0, 0]  # move the remeshed mesh to the right\n",
    "scene.add_geometry(mesh_remeshed)\n",
    "\n",
    "print(mesh_orig)\n",
    "print(mesh_remeshed)\n",
    "\n",
    "scene.show()"
   ]
  },
  {
   "cell_type": "markdown",
   "metadata": {},
   "source": [
    "# SMPL correspondences on remeshed"
   ]
  },
  {
   "cell_type": "code",
   "execution_count": null,
   "metadata": {},
   "outputs": [],
   "source": [
    "import my_code.datasets.preprocessing as preprocessing\n",
    "import torch\n",
    "\n",
    "verts_orig = preprocessing.center(\n",
    "    torch.tensor(mesh_orig.vertices)\n",
    "    )[0]\n",
    "\n",
    "verts_remeshed = preprocessing.center(\n",
    "    torch.tensor(mesh_remeshed.vertices)\n",
    "    )[0]\n",
    "\n",
    "verts_remeshed = preprocessing.scale(\n",
    "    input_verts=verts_remeshed,\n",
    "    input_faces=torch.tensor(mesh_remeshed.faces),\n",
    "    ref_verts=verts_orig,\n",
    "    ref_faces=torch.tensor(mesh_orig.faces)\n",
    ")[0]"
   ]
  },
  {
   "cell_type": "code",
   "execution_count": null,
   "metadata": {},
   "outputs": [],
   "source": [
    "# plot the meshes\n",
    "\n",
    "scene.geometry.clear()\n",
    "\n",
    "scene.add_geometry(trimesh.Trimesh(vertices=verts_orig, faces=mesh_orig.faces))\n",
    "scene.add_geometry(trimesh.Trimesh(vertices=verts_remeshed + torch.tensor([0.0, 0, 0]),\n",
    "                                   faces=mesh_remeshed.faces))\n",
    "\n",
    "scene.show()"
   ]
  },
  {
   "cell_type": "code",
   "execution_count": null,
   "metadata": {},
   "outputs": [],
   "source": [
    "from utils.fmap_util import nn_query\n",
    "\n",
    "# find correspondences by nearest neigbor search\n",
    "\n",
    "p2p_o_r = nn_query(\n",
    "    verts_remeshed,\n",
    "    verts_orig,   \n",
    ")\n",
    "\n",
    "print(p2p_o_r.shape)"
   ]
  },
  {
   "cell_type": "code",
   "execution_count": null,
   "metadata": {},
   "outputs": [],
   "source": [
    "scene.geometry.clear()\n",
    "\n",
    "# cmap = trimesh.visual.color.interpolate(data_x['verts'][:, 1], 'jet')\n",
    "# imterpolate the color diagonally based on 0 and 2 coordinate\n",
    "cmap = trimesh.visual.color.interpolate(\n",
    "    verts_remeshed[:, 0] / verts_remeshed[:, 0].max() +\\\n",
    "    verts_remeshed[:, 1] / verts_remeshed[:, 1].max(),\n",
    "    'jet')\n",
    "\n",
    "# add the first mesh\n",
    "mesh1 = trimesh.Trimesh(vertices=verts_remeshed, faces=mesh_remeshed.faces)\n",
    "mesh1.visual.vertex_colors = cmap[:len(mesh1.vertices)].clip(0, 255)\n",
    "scene.add_geometry(mesh1)\n",
    "\n",
    "mesh2 = trimesh.Trimesh(vertices=verts_orig + torch.tensor([1, 0, 0]), faces=mesh_orig.faces)\n",
    "cmap2 = cmap[p2p_o_r]\n",
    "mesh2.visual.vertex_colors = cmap2.clip(0, 255)[:len(mesh2.vertices)]\n",
    "scene.add_geometry(mesh2)\n",
    "\n",
    "scene.show()"
   ]
  },
  {
   "cell_type": "code",
   "execution_count": null,
   "metadata": {},
   "outputs": [],
   "source": [
    "cmap[corr_r_o].shape"
   ]
  },
  {
   "cell_type": "code",
   "execution_count": null,
   "metadata": {},
   "outputs": [],
   "source": [
    "import my_code.datasets.preprocessing as preprocessing\n",
    "import torch\n",
    "import trimesh\n",
    "import os\n",
    "import numpy as np\n",
    "from tqdm import tqdm\n",
    "from utils.fmap_util import nn_query\n",
    "import shutil\n",
    "\n",
    "faust_orig_folder = '/home/s94zalek_hpc/shape_matching/data_with_smpl_corr/FAUST_original/off'\n",
    "\n",
    "faust_remeshed_folder = '/home/s94zalek_hpc/shape_matching/data_with_smpl_corr/FAUST_a/off'\n",
    "corr_remeshed_folder = '/home/s94zalek_hpc/shape_matching/data_with_smpl_corr/FAUST_a/corres'\n",
    "\n",
    "shutil.rmtree(corr_remeshed_folder, ignore_errors=True)\n",
    "# shutil.rmtree(faust_remeshed_folder, ignore_errors=True)\n",
    "\n",
    "os.makedirs(corr_remeshed_folder, exist_ok=True)\n",
    "# os.makedirs(faust_remeshed_folder, exist_ok=True)\n",
    "    \n",
    "\n",
    "for file_name in tqdm(sorted(os.listdir(faust_remeshed_folder)), total=len(os.listdir(faust_remeshed_folder))):\n",
    "    \n",
    "    mesh_orig = trimesh.load(faust_orig_folder + f'/{file_name}', process=False)\n",
    "    mesh_remeshed = trimesh.load(faust_remeshed_folder + f'/{file_name}', process=False)\n",
    "\n",
    "    verts_orig = preprocessing.center(\n",
    "        torch.tensor(mesh_orig.vertices)\n",
    "        )[0]\n",
    "\n",
    "    verts_remeshed = preprocessing.center(\n",
    "        torch.tensor(mesh_remeshed.vertices)\n",
    "        )[0]\n",
    "\n",
    "    verts_remeshed = preprocessing.scale(\n",
    "        input_verts=verts_remeshed,\n",
    "        input_faces=torch.tensor(mesh_remeshed.faces),\n",
    "        ref_verts=verts_orig,\n",
    "        ref_faces=torch.tensor(mesh_orig.faces)\n",
    "    )[0]\n",
    "   \n",
    "    p2p_o_r = nn_query(\n",
    "    verts_remeshed,\n",
    "    verts_orig,\n",
    "    )\n",
    "    p2p_o_r += 1\n",
    "    \n",
    "    \n",
    "    # assert corr_r_o.shape[0] == verts_remeshed.shape[0]\n",
    "    assert p2p_o_r.shape[0] == verts_orig.shape[0]\n",
    "    assert p2p_o_r.min() > 0\n",
    "\n",
    "    # save corr_r_o to corres folder, file_name .vts\n",
    "    with open(corr_remeshed_folder + f'/{file_name[:-4]}.vts', 'w') as f:\n",
    "        np.savetxt(f, p2p_o_r.numpy(), fmt='%d')\n"
   ]
  },
  {
   "cell_type": "code",
   "execution_count": null,
   "metadata": {},
   "outputs": [],
   "source": []
  },
  {
   "cell_type": "code",
   "execution_count": null,
   "metadata": {},
   "outputs": [],
   "source": [
    "import numpy as np\n",
    "import torch\n",
    "\n",
    "\n",
    "faust_orig_folder = '/home/s94zalek_hpc/shape_matching/data_with_smpl_corr/FAUST_original/off'\n",
    "faust_remeshed_folder = '/home/s94zalek_hpc/shape_matching/data_with_smpl_corr/FAUST_a/off'\n",
    "p2p_folder = '/home/s94zalek_hpc/shape_matching/data_with_smpl_corr/FAUST_a/corres'\n",
    "\n",
    "\n",
    "# read tr_reg_000.off from each folder and plot it\n",
    "# load the mesh from the original folder\n",
    "scene.geometry.clear()\n",
    "\n",
    "# add axis\n",
    "scene.add_geometry(trimesh.creation.axis(axis_length=1))\n",
    "\n",
    "mesh_name = 'tr_reg_081'\n",
    "\n",
    "mesh_orig = trimesh.load(faust_orig_folder + f'/{mesh_name}.off', process=False)\n",
    "\n",
    "# load the mesh from the remeshed folder\n",
    "mesh_remeshed = trimesh.load(faust_remeshed_folder + f'/{mesh_name}.off', process=False)\n",
    "mesh_remeshed.vertices += [0.1, 0, 0]  # move the remeshed mesh to the right\n",
    "\n",
    "p2p = np.loadtxt(p2p_folder + f'/{mesh_name}.vts')\n",
    "p2p -= 1\n",
    "\n",
    "\n",
    "cmap = trimesh.visual.color.interpolate(\n",
    "    mesh_remeshed.vertices[:, 0] / mesh_remeshed.vertices[:, 0].max() +\\\n",
    "    mesh_remeshed.vertices[:, 1] / mesh_remeshed.vertices[:, 1].max(),\n",
    "    'jet')\n",
    "\n",
    "mesh_remeshed.visual.vertex_colors = cmap[:len(mesh_remeshed.vertices)].clip(0, 255)\n",
    "scene.add_geometry(mesh_remeshed)\n",
    "\n",
    "\n",
    "mesh2 = trimesh.Trimesh(vertices=mesh_orig.vertices + torch.tensor([1, 0, 0]).numpy(), faces=mesh_orig.faces)\n",
    "cmap2 = cmap[p2p.astype(int)]\n",
    "mesh2.visual.vertex_colors = cmap2.clip(0, 255)[:len(mesh2.vertices)]\n",
    "scene.add_geometry(mesh2)\n",
    "\n",
    "scene.show()"
   ]
  },
  {
   "cell_type": "markdown",
   "metadata": {},
   "source": [
    "# Scale FAUST original for pair evaluation"
   ]
  },
  {
   "cell_type": "code",
   "execution_count": 92,
   "metadata": {},
   "outputs": [
    {
     "name": "stderr",
     "output_type": "stream",
     "text": [
      "100%|████████████████████████████████████████████████████████████████████████████████████████████████████████████████| 100/100 [00:11<00:00,  8.91it/s]\n"
     ]
    }
   ],
   "source": [
    "import my_code.datasets.preprocessing as preprocessing\n",
    "import torch\n",
    "import trimesh\n",
    "import os\n",
    "import numpy as np\n",
    "from tqdm import tqdm\n",
    "from utils.fmap_util import nn_query\n",
    "import shutil\n",
    "\n",
    "faust_orig_folder = '/home/s94zalek_hpc/shape_matching/data/FAUST_original/off'\n",
    "faust_new_folder = '/home/s94zalek_hpc/shape_matching/data_pair_evaluation/FAUST_original_scaled/off'\n",
    "\n",
    "faust_remeshed_folder = '/home/s94zalek_hpc/shape_matching/data/FAUST_r/off'\n",
    "# corr_remeshed_folder = '/home/s94zalek_hpc/shape_matching/data_with_smpl_corr/FAUST_a/corres'\n",
    "\n",
    "# shutil.rmtree(corr_remeshed_folder, ignore_errors=True)\n",
    "# shutil.rmtree(faust_remeshed_folder, ignore_errors=True)\n",
    "shutil.rmtree(faust_new_folder, ignore_errors=True)\n",
    "\n",
    "# os.makedirs(corr_remeshed_folder, exist_ok=True)\n",
    "# os.makedirs(faust_remeshed_folder, exist_ok=True)\n",
    "os.makedirs(faust_new_folder, exist_ok=True)\n",
    "    \n",
    "\n",
    "for file_name in tqdm(sorted(os.listdir(faust_remeshed_folder)), total=len(os.listdir(faust_remeshed_folder))):\n",
    "    \n",
    "    mesh_orig = trimesh.load(faust_orig_folder + f'/{file_name}', process=False)\n",
    "    mesh_remeshed = trimesh.load(faust_remeshed_folder + f'/{file_name}', process=False)\n",
    "\n",
    "    verts_remeshed = preprocessing.center(\n",
    "        torch.tensor(mesh_remeshed.vertices)\n",
    "        )[0]\n",
    "\n",
    "    verts_orig = preprocessing.center(\n",
    "        torch.tensor(mesh_orig.vertices)\n",
    "        )[0]\n",
    "    \n",
    "    verts_orig = preprocessing.scale(\n",
    "        input_verts=verts_orig,\n",
    "        input_faces=torch.tensor(mesh_orig.faces),\n",
    "        ref_verts=verts_remeshed,\n",
    "        ref_faces=torch.tensor(mesh_remeshed.faces)\n",
    "    )[0]\n",
    "    \n",
    "    # center again\n",
    "    # verts_orig = preprocessing.center(verts_orig)[0]\n",
    "\n",
    "    # save original mesh \n",
    "    new_mesh_orig = trimesh.Trimesh(vertices=verts_orig, faces=mesh_orig.faces)\n",
    "    \n",
    "    new_mesh_orig.export(faust_new_folder + f'/{file_name}')\n",
    "    \n",
    "    # if file_name == 'tr_reg_011.off':\n",
    "    #     break\n",
    "    \n",
    "# scene.geometry.clear()\n",
    "\n",
    "# mesh_remeshed.vertices += [0.0, 0, 0]  # move the remeshed mesh to the right\n",
    "# mesh_orig.vertices += [2, 0, 0]  # move the remeshed mesh to the right\n",
    "\n",
    "# # add axis\n",
    "# scene.add_geometry(trimesh.creation.axis(axis_length=1))\n",
    "\n",
    "# scene.add_geometry(new_mesh_orig)\n",
    "# scene.add_geometry(mesh_remeshed)\n",
    "# scene.add_geometry(mesh_orig)\n",
    "\n",
    "\n",
    "# scene.show()\n",
    "    \n",
    "    \n",
    "    \n",
    "    \n"
   ]
  },
  {
   "cell_type": "code",
   "execution_count": null,
   "metadata": {},
   "outputs": [],
   "source": [
    "import trimesh\n",
    "scene = trimesh.Scene()"
   ]
  },
  {
   "cell_type": "code",
   "execution_count": null,
   "metadata": {},
   "outputs": [],
   "source": [
    "\n",
    "\n",
    "faust_orig_folder = '/home/s94zalek_hpc/shape_matching/data_pair_evaluation/FAUST_original_scaled/off'\n",
    "faust_remeshed_folder = '/home/s94zalek_hpc/shape_matching/data_pair_evaluation/FAUST_r/off'\n",
    "\n",
    "shape_name = 'tr_reg_026'\n",
    "mesh_orig_scaled = trimesh.load(faust_orig_folder + f'/{shape_name}.off', process=False)\n",
    "mesh_orig = trimesh.load(f'/home/s94zalek_hpc/shape_matching/data_with_smpl_corr/FAUST_original/off/{shape_name}.off', process=False)\n",
    "mesh_remeshed = trimesh.load(f'/home/s94zalek_hpc/shape_matching/data_pair_evaluation/FAUST_r/off/{shape_name}.off', process=False)\n",
    "\n",
    "mesh_orig.vertices += [1, 0, 0]\n",
    "# mesh_remeshed.vertices += [2, 0, 0]\n",
    "\n",
    "\n",
    "scene.geometry.clear()\n",
    "\n",
    "scene.add_geometry(mesh_orig_scaled)\n",
    "scene.add_geometry(mesh_orig)\n",
    "scene.add_geometry(mesh_remeshed)\n",
    "\n",
    "scene.show()\n"
   ]
  },
  {
   "cell_type": "code",
   "execution_count": 37,
   "metadata": {},
   "outputs": [
    {
     "data": {
      "text/plain": [
       "(5000,)"
      ]
     },
     "execution_count": 37,
     "metadata": {},
     "output_type": "execute_result"
    }
   ],
   "source": [
    "# read /home/s94zalek_hpc/SGA18_orientation_BCICP_dataset/Dataset/FAUST/vtx_5k/corres/sampleID.vts\n",
    "\n",
    "import numpy as np\n",
    "\n",
    "sga_vts = np.loadtxt('/home/s94zalek_hpc/SGA18_orientation_BCICP_dataset/Dataset/FAUST/vtx_5k/corres/sampleID.vts')\n",
    "\n",
    "sga_vts.shape"
   ]
  },
  {
   "cell_type": "code",
   "execution_count": 38,
   "metadata": {},
   "outputs": [
    {
     "data": {
      "text/plain": [
       "(1.0, 6888.0)"
      ]
     },
     "execution_count": 38,
     "metadata": {},
     "output_type": "execute_result"
    }
   ],
   "source": [
    "sga_vts.min(), sga_vts.max()"
   ]
  },
  {
   "cell_type": "code",
   "execution_count": 48,
   "metadata": {},
   "outputs": [],
   "source": [
    "faust_orig_folder = '/home/s94zalek_hpc/shape_matching/data/FAUST_original/off'\n",
    "faust_remeshed_folder = '/home/s94zalek_hpc/shape_matching/data/FAUST_r/'"
   ]
  },
  {
   "cell_type": "code",
   "execution_count": 50,
   "metadata": {},
   "outputs": [
    {
     "data": {
      "text/plain": [
       "(<trimesh.Trimesh(vertices.shape=(6890, 3), faces.shape=(13776, 3), name=`tr_reg_099.off`)>,\n",
       " <trimesh.Trimesh(vertices.shape=(5000, 3), faces.shape=(9996, 3), name=`tr_reg_099.off`)>)"
      ]
     },
     "execution_count": 50,
     "metadata": {},
     "output_type": "execute_result"
    }
   ],
   "source": [
    "mesh_orig = trimesh.load(faust_orig_folder + '/tr_reg_099.off', process=False)\n",
    "# scene.add_geometry(mesh_orig)\n",
    "\n",
    "# load the mesh from the remeshed folder\n",
    "mesh_remeshed = trimesh.load(faust_remeshed_folder + 'off/tr_reg_099.off', process=False)\n",
    "# mesh_remeshed.vertices += [1, 0, 0]  # move the remeshed mesh to the right\n",
    "\n",
    "verts_orig = torch.tensor(mesh_orig.vertices)\n",
    "verts_remeshed = torch.tensor(mesh_remeshed.vertices)\n",
    "\n",
    "mesh_orig, mesh_remeshed"
   ]
  },
  {
   "cell_type": "markdown",
   "metadata": {},
   "source": [
    "# Check sampleID.vts file"
   ]
  },
  {
   "cell_type": "code",
   "execution_count": 59,
   "metadata": {},
   "outputs": [],
   "source": [
    "template_smpl_corr = np.loadtxt('/home/s94zalek_hpc/SGA18_orientation_BCICP_dataset/Dataset/FAUST/vtx_5k/corres/sampleID.vts').astype(int)\n",
    "template_smpl_corr -= 1\n",
    "\n",
    "shape_template_corr = np.loadtxt(faust_remeshed_folder + 'corres/tr_reg_099.vts').astype(int)\n",
    "shape_template_corr -= 1"
   ]
  },
  {
   "cell_type": "code",
   "execution_count": 64,
   "metadata": {},
   "outputs": [],
   "source": [
    "shape_smpl_corr = template_smpl_corr[shape_template_corr]"
   ]
  },
  {
   "cell_type": "code",
   "execution_count": 57,
   "metadata": {},
   "outputs": [
    {
     "data": {
      "text/plain": [
       "array([6713, 1782, 3249, ..., 1352, 6550, 6636])"
      ]
     },
     "execution_count": 57,
     "metadata": {},
     "output_type": "execute_result"
    }
   ],
   "source": [
    "shape_smpl_corr"
   ]
  },
  {
   "cell_type": "code",
   "execution_count": null,
   "metadata": {},
   "outputs": [],
   "source": [
    "scene.geometry.clear()\n",
    "\n",
    "# cmap = trimesh.visual.color.interpolate(data_x['verts'][:, 1], 'jet')\n",
    "# imterpolate the color diagonally based on 0 and 2 coordinate\n",
    "cmap = trimesh.visual.color.interpolate(\n",
    "    verts_orig[:, 0] / verts_orig[:, 0].max() +\\\n",
    "    verts_orig[:, 1] / verts_orig[:, 1].max(),\n",
    "    'jet')\n",
    "\n",
    "# add the first mesh\n",
    "mesh1 = trimesh.Trimesh(vertices=verts_orig, faces=mesh_orig.faces)\n",
    "mesh1.visual.vertex_colors = cmap[:len(mesh1.vertices)].clip(0, 255)\n",
    "scene.add_geometry(mesh1)\n",
    "\n",
    "mesh2 = trimesh.Trimesh(vertices=verts_remeshed + torch.tensor([1, 0, 0]), faces=mesh_remeshed.faces)\n",
    "# cmap2 = cmap[shape_smpl_corr]\n",
    "\n",
    "cmap2 = trimesh.visual.color.interpolate(\n",
    "    verts_remeshed[:, 0] / verts_remeshed[:, 0].max() +\\\n",
    "    verts_remeshed[:, 1] / verts_remeshed[:, 1].max(),\n",
    "    'jet')\n",
    "\n",
    "mesh2.visual.vertex_colors = cmap2.clip(0, 255)[:len(mesh2.vertices)]\n",
    "scene.add_geometry(mesh2)\n",
    "\n",
    "scene.show()"
   ]
  },
  {
   "cell_type": "code",
   "execution_count": 69,
   "metadata": {},
   "outputs": [
    {
     "data": {
      "text/plain": [
       "128.4549019607843"
      ]
     },
     "execution_count": 69,
     "metadata": {},
     "output_type": "execute_result"
    }
   ],
   "source": [
    "np.sum(np.abs(cmap[template_smpl_corr]/255 - cmap2[shape_template_corr]/255))"
   ]
  },
  {
   "cell_type": "code",
   "execution_count": 70,
   "metadata": {},
   "outputs": [
    {
     "data": {
      "text/plain": [
       "6063.470588235294"
      ]
     },
     "execution_count": 70,
     "metadata": {},
     "output_type": "execute_result"
    }
   ],
   "source": [
    "np.sum(np.abs(cmap[shape_smpl_corr]/255 - cmap2/255))"
   ]
  },
  {
   "cell_type": "code",
   "execution_count": 72,
   "metadata": {},
   "outputs": [],
   "source": [
    "import my_code.datasets.preprocessing as preprocessing\n",
    "import torch\n",
    "\n",
    "verts_orig = preprocessing.center(\n",
    "    torch.tensor(mesh1.vertices)\n",
    "    )[0]\n",
    "\n",
    "verts_remeshed = preprocessing.center(\n",
    "    torch.tensor(mesh2.vertices)\n",
    "    )[0]\n",
    "\n",
    "verts_remeshed = preprocessing.scale(\n",
    "    input_verts=verts_remeshed,\n",
    "    input_faces=torch.tensor(mesh2.faces),\n",
    "    ref_verts=verts_orig,\n",
    "    ref_faces=torch.tensor(mesh1.faces)\n",
    ")[0]\n"
   ]
  },
  {
   "cell_type": "code",
   "execution_count": 81,
   "metadata": {},
   "outputs": [
    {
     "data": {
      "text/plain": [
       "(tensor(-1.1180, dtype=torch.float64), tensor(1.1180, dtype=torch.float64))"
      ]
     },
     "execution_count": 81,
     "metadata": {},
     "output_type": "execute_result"
    }
   ],
   "source": [
    "verts_orig[template_smpl_corr].min(), verts_orig[template_smpl_corr].max()"
   ]
  },
  {
   "cell_type": "code",
   "execution_count": 84,
   "metadata": {},
   "outputs": [
    {
     "data": {
      "text/plain": [
       "0.004972067659011989"
      ]
     },
     "execution_count": 84,
     "metadata": {},
     "output_type": "execute_result"
    }
   ],
   "source": [
    "np.mean(np.abs(verts_orig[template_smpl_corr].numpy() - verts_remeshed[shape_template_corr].numpy()))"
   ]
  },
  {
   "cell_type": "markdown",
   "metadata": {},
   "source": [
    "# Correspondences on FAUST A"
   ]
  },
  {
   "cell_type": "code",
   "execution_count": 94,
   "metadata": {},
   "outputs": [],
   "source": [
    "faust_a_path = '/home/s94zalek_hpc/shape_matching/data/FAUST_a/off/tr_reg_081.off'\n",
    "mesh_a = trimesh.load(faust_a_path, process=False)\n",
    "\n",
    "smpl_path = '/home/s94zalek_hpc/shape_matching/data/FAUST_original/off/tr_reg_001.off'\n",
    "mesh_smpl = trimesh.load(smpl_path, process=False)\n",
    "\n",
    "corr_path = '/home/s94zalek_hpc/shape_matching/data/FAUST_a/corres/tr_reg_081.vts'\n",
    "corr = np.loadtxt(corr_path).astype(int) - 1"
   ]
  },
  {
   "cell_type": "code",
   "execution_count": null,
   "metadata": {},
   "outputs": [],
   "source": [
    "scene.geometry.clear()\n",
    "\n",
    "# imterpolate the color diagonally based on 0 and 2 coordinate\n",
    "cmap = trimesh.visual.color.interpolate(\n",
    "    mesh_a.vertices[:, 0] / mesh_a.vertices[:, 0].max() +\\\n",
    "    mesh_a.vertices[:, 1] / mesh_a.vertices[:, 1].max(),\n",
    "    'jet')\n",
    "\n",
    "# add the first mesh\n",
    "mesh_a.visual.vertex_colors = cmap[:len(mesh1.vertices)].clip(0, 255)\n",
    "scene.add_geometry(mesh_a)\n",
    "\n",
    "mesh_smpl.vertices += [1, 0, 0]\n",
    "mesh_smpl.visual.vertex_colors = cmap[corr].clip(0, 255)\n",
    "scene.add_geometry(mesh_smpl)\n",
    "\n",
    "scene.show()"
   ]
  }
 ],
 "metadata": {
  "kernelspec": {
   "display_name": "Python 3 (ipykernel)",
   "language": "python",
   "name": "python3"
  }
 },
 "nbformat": 4,
 "nbformat_minor": 2
}
