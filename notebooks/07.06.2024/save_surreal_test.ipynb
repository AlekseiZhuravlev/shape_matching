{
 "cells": [
  {
   "cell_type": "code",
   "execution_count": 1,
   "metadata": {},
   "outputs": [],
   "source": [
    "import os\n",
    "curr_dir = os.getcwd()\n",
    "if 's94zalek_hpc' in curr_dir:\n",
    "    user_name = 's94zalek_hpc'\n",
    "else:\n",
    "    user_name = 's94zalek'\n",
    "import torch\n",
    "import trimesh\n",
    "\n",
    "shapes_surreal = torch.load(f'/home/{user_name}/3D-CODED/data/datas_surreal_test.pth')\n",
    "template_mesh = trimesh.load(f'/home/{user_name}/shape_matching/data/SURREAL_full/template/template.ply')"
   ]
  },
  {
   "cell_type": "code",
   "execution_count": 3,
   "metadata": {},
   "outputs": [
    {
     "name": "stderr",
     "output_type": "stream",
     "text": [
      "100%|████████████████████████████████████████████████████████████████████████████████████████████████████████████████| 200/200 [00:08<00:00, 24.80it/s]\n"
     ]
    }
   ],
   "source": [
    "import numpy as np\n",
    "from tqdm import tqdm\n",
    "\n",
    "off_folder = '/home/s94zalek_hpc/shape_matching/data_with_smpl_corr/SURREAL_test/off'\n",
    "corr_folder = '/home/s94zalek_hpc/shape_matching/data_with_smpl_corr/SURREAL_test/corres'\n",
    "\n",
    "os.makedirs(off_folder, exist_ok=True)\n",
    "os.makedirs(corr_folder, exist_ok=True)\n",
    "\n",
    "for i, shape in tqdm(enumerate(shapes_surreal), total=len(shapes_surreal)):\n",
    "    off_path = os.path.join(off_folder, f'tr_reg_{i:03d}.off')\n",
    "    corr_path = os.path.join(corr_folder, f'tr_reg_{i:03d}.vts')\n",
    "    \n",
    "    \n",
    "    trimesh.Trimesh(vertices=shape, faces=template_mesh.faces).export(off_path)\n",
    "    \n",
    "    corr = list(range(1, shape.shape[0]+1))\n",
    "    with open(corr_path, 'w') as f:\n",
    "        np.savetxt(f, corr, fmt='%d')"
   ]
  }
 ],
 "metadata": {
  "kernelspec": {
   "display_name": "Python 3 (ipykernel)",
   "language": "python",
   "name": "python3"
  },
  "language_info": {
   "codemirror_mode": {
    "name": "ipython",
    "version": 3
   },
   "file_extension": ".py",
   "mimetype": "text/x-python",
   "name": "python",
   "nbconvert_exporter": "python",
   "pygments_lexer": "ipython3",
   "version": "3.8.19"
  }
 },
 "nbformat": 4,
 "nbformat_minor": 2
}
