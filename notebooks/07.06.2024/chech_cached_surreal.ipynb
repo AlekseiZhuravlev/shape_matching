{
 "cells": [
  {
   "cell_type": "code",
   "execution_count": 2,
   "metadata": {},
   "outputs": [],
   "source": [
    "import torch\n",
    "import numpy as np\n",
    "import os\n",
    "import shutil\n",
    "from tqdm import tqdm\n",
    "import yaml\n",
    "\n",
    "import sys\n",
    "import os\n",
    "curr_dir = os.getcwd()\n",
    "if 's94zalek_hpc' in curr_dir:\n",
    "    user_name = 's94zalek_hpc'\n",
    "else:\n",
    "    user_name = 's94zalek'\n",
    "sys.path.append(f'/home/{user_name}/shape_matching')\n",
    "\n",
    "# datasets\n",
    "from my_code.datasets.surreal_cached_train_dataset import SurrealTrainDataset\n",
    "from my_code.datasets.surreal_dataset_3dc import TemplateSurrealDataset3DC"
   ]
  },
  {
   "cell_type": "code",
   "execution_count": 4,
   "metadata": {},
   "outputs": [
    {
     "name": "stdout",
     "output_type": "stream",
     "text": [
      "Train dataset, functional map dimension: 32\n"
     ]
    }
   ],
   "source": [
    "np.random.seed(120)\n",
    "\n",
    "# create the dataset\n",
    "train_dataset = TemplateSurrealDataset3DC(\n",
    "    shape_path=f'/home/{user_name}/3D-CODED/data/datas_surreal_train.pth',\n",
    "    num_evecs=32,\n",
    "    use_cuda=False,\n",
    "    cache_lb_dir=None\n",
    ")    \n",
    "\n",
    "# cached version\n",
    "dataset_base_folder = f'/home/{user_name}/shape_matching/data/SURREAL_full/full_datasets'\n",
    "train_dataset_cached = SurrealTrainDataset(f'{dataset_base_folder}/{\"dataset_3dc_32\"}/train')"
   ]
  },
  {
   "cell_type": "code",
   "execution_count": 12,
   "metadata": {},
   "outputs": [
    {
     "name": "stdout",
     "output_type": "stream",
     "text": [
      "Index: 163495\n",
      "Evals: 0.00\n",
      "C_gt_xy: 0.00\n",
      "Index: 42752\n",
      "Evals: 0.00\n",
      "C_gt_xy: 0.00\n",
      "Index: 83102\n",
      "Evals: 0.00\n",
      "C_gt_xy: 0.00\n",
      "Index: 208254\n",
      "Evals: 0.00\n",
      "C_gt_xy: 0.00\n",
      "Index: 147466\n",
      "Evals: 0.00\n",
      "C_gt_xy: 0.00\n",
      "Index: 131631\n",
      "Evals: 0.00\n",
      "C_gt_xy: 0.00\n",
      "Index: 118072\n",
      "Evals: 0.00\n",
      "C_gt_xy: 0.00\n",
      "Index: 181169\n",
      "Evals: 0.00\n",
      "C_gt_xy: 0.00\n",
      "Index: 38551\n",
      "Evals: 0.00\n",
      "C_gt_xy: 0.00\n",
      "Index: 75135\n",
      "Evals: 0.00\n",
      "C_gt_xy: 0.00\n"
     ]
    }
   ],
   "source": [
    "random_idx = np.random.randint(0, len(train_dataset), 10)\n",
    "\n",
    "for i in random_idx:\n",
    "    print(f\"Index: {i}\")\n",
    "    data_train = train_dataset[i]\n",
    "    data_cached = train_dataset_cached[i]\n",
    "    \n",
    "    fmap = data_train['second']['C_gt_xy'].abs()\n",
    "    fmap = fmap / fmap.max()\n",
    "    fmap = fmap * 2 - 1\n",
    "    \n",
    "    fmap_cached = train_dataset_cached[i][0]\n",
    "    \n",
    "    print(f\"Evals: {(train_dataset[i]['second']['evals'] - train_dataset_cached[i][1]).square().sum():.2f}\")\n",
    "    print(f\"C_gt_xy: {(fmap - fmap_cached).square().sum():.2f}\")\n",
    "\n",
    "# train_dataset_cached[10]"
   ]
  }
 ],
 "metadata": {
  "kernelspec": {
   "display_name": "Python 3 (ipykernel)",
   "language": "python",
   "name": "python3"
  }
 },
 "nbformat": 4,
 "nbformat_minor": 2
}
