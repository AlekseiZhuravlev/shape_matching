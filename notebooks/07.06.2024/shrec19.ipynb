{
 "cells": [
  {
   "cell_type": "code",
   "execution_count": 1,
   "metadata": {},
   "outputs": [
    {
     "name": "stdout",
     "output_type": "stream",
     "text": [
      "verts.shape: (4706, 3)\n",
      "faces.shape: (9408, 3)\n",
      "corr.shape: (6890, 1)\n"
     ]
    }
   ],
   "source": [
    "# read /home/s94zalek_hpc/shape_matching/data/data_transmatch/datasets/shrec19/SHREC19_matching_humans/mat/1.mat\n",
    "\n",
    "import scipy.io\n",
    "\n",
    "mat = scipy.io.loadmat('/home/s94zalek_hpc/shape_matching/data/data_transmatch/datasets/shrec19/SHREC19_matching_humans/mat/1.mat')\n",
    "\n",
    "verts = mat['Shape_df'][0][0][0]\n",
    "faces = mat['Shape_df'][0][0][1]\n",
    "corr = mat['smpl_matches']\n",
    "\n",
    "print('verts.shape:', verts.shape)\n",
    "print('faces.shape:', faces.shape)\n",
    "print('corr.shape:', corr.shape)"
   ]
  },
  {
   "cell_type": "code",
   "execution_count": 2,
   "metadata": {},
   "outputs": [
    {
     "data": {
      "text/plain": [
       "array([[3043],\n",
       "       [3044],\n",
       "       [2943],\n",
       "       ...,\n",
       "       [4311],\n",
       "       [4311],\n",
       "       [4311]], dtype=uint16)"
      ]
     },
     "execution_count": 2,
     "metadata": {},
     "output_type": "execute_result"
    }
   ],
   "source": [
    "corr"
   ]
  },
  {
   "cell_type": "code",
   "execution_count": 17,
   "metadata": {},
   "outputs": [
    {
     "name": "stdout",
     "output_type": "stream",
     "text": [
      "1 4706\n"
     ]
    }
   ],
   "source": [
    "print(corr.min(), corr.max())"
   ]
  },
  {
   "cell_type": "code",
   "execution_count": 17,
   "metadata": {},
   "outputs": [
    {
     "name": "stderr",
     "output_type": "stream",
     "text": [
      "100%|█████████████████████████████████████████████████████████████████████████████████████████████████████████████| 44/44 [00:09<00:00,  4.55it/s]\n"
     ]
    }
   ],
   "source": [
    "import os\n",
    "import numpy as np\n",
    "import trimesh\n",
    "from tqdm import tqdm\n",
    "\n",
    "mat_dir = '/home/s94zalek_hpc/shape_matching/data/data_transmatch/datasets/shrec19/SHREC19_matching_humans/mat/'\n",
    "off_dir = '/home/s94zalek_hpc/shape_matching/data_with_smpl_corr/SHREC19_original/off'\n",
    "corr_dir = '/home/s94zalek_hpc/shape_matching/data_with_smpl_corr/SHREC19_original/corres'\n",
    "\n",
    "ply_dir = '/home/s94zalek_hpc/shape_matching/data/data_transmatch/datasets/shrec19/origin_shrec/mat'\n",
    "\n",
    "for file in tqdm(sorted(os.listdir(mat_dir))):\n",
    "    if file.endswith('.mat'):\n",
    "        mat = scipy.io.loadmat(mat_dir + file)\n",
    "\n",
    "        # verts = mat['Shape_df'][0][0][0]\n",
    "        # faces = mat['Shape_df'][0][0][1]\n",
    "        corr = mat['smpl_matches'].flatten()\n",
    "\n",
    "        # mesh = trimesh.Trimesh(vertices=verts, faces=faces, process=False)\n",
    "        mesh = trimesh.load_mesh(ply_dir + '/' + file[:-4] + '.ply')\n",
    "        mesh.export(off_dir + '/' + file[:-4] + '.off')\n",
    "        \n",
    "        \n",
    "        np.savetxt(corr_dir + '/' + file[:-4] + '.txt', corr, fmt='%d')\n",
    "        # with open(corr_dir + '/' + file[:-4] + '.vts', 'w') as f:\n",
    "        #     np.savetxt(f, corr, fmt='%d')"
   ]
  },
  {
   "cell_type": "code",
   "execution_count": 7,
   "metadata": {},
   "outputs": [],
   "source": [
    "import trimesh\n",
    "\n",
    "scene = trimesh.Scene()"
   ]
  },
  {
   "cell_type": "code",
   "execution_count": null,
   "metadata": {},
   "outputs": [],
   "source": [
    "# read tr_reg_000.off from each folder and plot it\n",
    "# load the mesh from the original folder\n",
    "\n",
    "scene.geometry.clear()\n",
    "\n",
    "shrec19_orig_folder = '/home/s94zalek_hpc/shape_matching/data_with_smpl_corr/SHREC19_original/off'\n",
    "shrec19_remeshed_folder = '/home/s94zalek_hpc/shape_matching/data_with_smpl_corr/SHREC19_r/off'\n",
    "\n",
    "mesh_orig = trimesh.load(shrec19_orig_folder + '/12.off', process=False)\n",
    "# mesh_orig.faces -= 1\n",
    "# mesh_orig = trimesh.load('/home/s94zalek_hpc/shape_matching/data/data_transmatch/datasets/shrec19/origin_shrec/mat/12.ply')\n",
    "scene.add_geometry(mesh_orig)\n",
    "\n",
    "# load the mesh from the remeshed folder\n",
    "mesh_remeshed = trimesh.load(shrec19_remeshed_folder + '/12.off', process=False)\n",
    "mesh_remeshed.vertices += [1, 0, 0]  # move the remeshed mesh to the right\n",
    "scene.add_geometry(mesh_remeshed)\n",
    "\n",
    "print(mesh_orig)\n",
    "print(mesh_remeshed)\n",
    "\n",
    "scene.show()"
   ]
  }
 ],
 "metadata": {
  "kernelspec": {
   "display_name": "Python 3 (ipykernel)",
   "language": "python",
   "name": "python3"
  },
  "language_info": {
   "codemirror_mode": {
    "name": "ipython",
    "version": 3
   },
   "file_extension": ".py",
   "mimetype": "text/x-python",
   "name": "python",
   "nbconvert_exporter": "python",
   "pygments_lexer": "ipython3",
   "version": "3.8.19"
  }
 },
 "nbformat": 4,
 "nbformat_minor": 2
}
