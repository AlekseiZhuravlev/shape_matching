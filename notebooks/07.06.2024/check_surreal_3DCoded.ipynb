{
 "cells": [
  {
   "cell_type": "code",
   "execution_count": 1,
   "metadata": {},
   "outputs": [
    {
     "data": {
      "text/plain": [
       "torch.Size([200, 6890, 3])"
      ]
     },
     "execution_count": 1,
     "metadata": {},
     "output_type": "execute_result"
    }
   ],
   "source": [
    "# load /home/s94zalek_hpc/3D-CODED/data/datas_surreal_test.pth\n",
    "\n",
    "import torch\n",
    "\n",
    "data_test = torch.load('/home/s94zalek_hpc/3D-CODED/data/datas_surreal_test.pth')\n",
    "data_test.shape"
   ]
  },
  {
   "cell_type": "code",
   "execution_count": 3,
   "metadata": {},
   "outputs": [],
   "source": [
    "import trimesh\n",
    "\n",
    "template = trimesh.load('/home/s94zalek_hpc/shape_matching/data/SURREAL_full/template/template.ply')"
   ]
  },
  {
   "cell_type": "code",
   "execution_count": 2,
   "metadata": {},
   "outputs": [],
   "source": [
    "import trimesh\n",
    "import numpy as np\n",
    "\n",
    "scene = trimesh.Scene()\n",
    "\n",
    "# for i, idx in enumerate(range(0, 200, 20)):\n",
    "#     mesh = trimesh.Trimesh(vertices=data_test[idx] + np.array([i, 0, 0]), faces=template.faces, process=False)\n",
    "#     scene.add_geometry(mesh)\n",
    "    \n",
    "# scene.show()"
   ]
  },
  {
   "cell_type": "code",
   "execution_count": 7,
   "metadata": {},
   "outputs": [],
   "source": [
    "import sys\n",
    "import os\n",
    "curr_dir = os.getcwd()\n",
    "if 's94zalek_hpc' in curr_dir:\n",
    "    user_name = 's94zalek_hpc'\n",
    "else:\n",
    "    user_name = 's94zalek'\n",
    "sys.path.append(f'/home/{user_name}/shape_matching')\n",
    "\n",
    "import my_code.datasets.surreal_dataset_3dc as surreal_dataset_3dc"
   ]
  },
  {
   "cell_type": "code",
   "execution_count": 18,
   "metadata": {},
   "outputs": [
    {
     "data": {
      "text/plain": [
       "<module 'my_code.datasets.surreal_dataset_3dc' from '/home/s94zalek_hpc/shape_matching/my_code/datasets/surreal_dataset_3dc.py'>"
      ]
     },
     "execution_count": 18,
     "metadata": {},
     "output_type": "execute_result"
    }
   ],
   "source": [
    "import importlib\n",
    "importlib.reload(surreal_dataset_3dc)"
   ]
  },
  {
   "cell_type": "code",
   "execution_count": 23,
   "metadata": {},
   "outputs": [],
   "source": [
    "dataset_test = surreal_dataset_3dc.TemplateSurrealDataset('/home/s94zalek_hpc/3D-CODED/data/datas_surreal_test.pth')\n",
    "dataset_train = surreal_dataset_3dc.TemplateSurrealDataset('/home/s94zalek_hpc/3D-CODED/data/datas_surreal_train.pth')"
   ]
  },
  {
   "cell_type": "code",
   "execution_count": null,
   "metadata": {},
   "outputs": [],
   "source": [
    "scene.geometry.clear()\n",
    "\n",
    "# plot ['first'] and ['second'] meshes\n",
    "\n",
    "mesh_first = trimesh.Trimesh(vertices=dataset[21]['first']['verts'], faces=dataset[21]['first']['faces'], process=False)\n",
    "mesh_second = trimesh.Trimesh(vertices=dataset[21]['second']['verts'] + np.array([1, 0, 0]), faces=dataset[21]['second']['faces'], process=False)\n",
    "\n",
    "scene.add_geometry(mesh_first)\n",
    "scene.add_geometry(mesh_second)\n",
    "\n",
    "scene.show()"
   ]
  },
  {
   "cell_type": "code",
   "execution_count": 30,
   "metadata": {},
   "outputs": [
    {
     "data": {
      "text/plain": [
       "230000"
      ]
     },
     "execution_count": 30,
     "metadata": {},
     "output_type": "execute_result"
    }
   ],
   "source": [
    "len(dataset_train)"
   ]
  },
  {
   "cell_type": "code",
   "execution_count": null,
   "metadata": {},
   "outputs": [],
   "source": [
    "import trimesh\n",
    "import numpy as np\n",
    "\n",
    "scene.geometry.clear()\n",
    "\n",
    "# random_idxs = np.random.choice(len(dataset_test), 20, replace=False)\n",
    "random_idxs = np.arange(0, 230000, 10000)\n",
    "for i, idx in enumerate(random_idxs):\n",
    "    mesh = trimesh.Trimesh(vertices=dataset_train[idx]['second']['verts'] + np.array([i, 0, 0]),\n",
    "                           faces=template.faces, process=False)\n",
    "    scene.add_geometry(mesh)\n",
    "    \n",
    "scene.show()"
   ]
  },
  {
   "cell_type": "code",
   "execution_count": 2,
   "metadata": {},
   "outputs": [
    {
     "data": {
      "text/plain": [
       "tensor([-1,  2, -3])"
      ]
     },
     "execution_count": 2,
     "metadata": {},
     "output_type": "execute_result"
    }
   ],
   "source": [
    "import torch\n",
    "\n",
    "t1 = torch.tensor([1, 2, 3])\n",
    "t2 = torch.tensor([-4, 5, -6])\n",
    "\n",
    "t1 * torch.sign(t2)"
   ]
  },
  {
   "cell_type": "code",
   "execution_count": 1,
   "metadata": {},
   "outputs": [
    {
     "data": {
      "text/plain": [
       "4309"
      ]
     },
     "execution_count": 1,
     "metadata": {},
     "output_type": "execute_result"
    }
   ],
   "source": [
    "# get n of files in /home/s94zalek_hpc/shape_matching/data/CAESAR/caesar-fitted-meshes\n",
    "import os\n",
    "\n",
    "len(os.listdir('/home/s94zalek_hpc/shape_matching/data/CAESAR/caesar-fitted-meshes'))"
   ]
  },
  {
   "cell_type": "code",
   "execution_count": 2,
   "metadata": {},
   "outputs": [
    {
     "data": {
      "text/plain": [
       "dict_keys(['__header__', '__version__', '__globals__', 'points'])"
      ]
     },
     "execution_count": 2,
     "metadata": {},
     "output_type": "execute_result"
    }
   ],
   "source": [
    "# read file /home/s94zalek_hpc/shape_matching/data/CAESAR/caesar-fitted-meshes/CSR0001A.mat\n",
    "\n",
    "file_caesar = '/home/s94zalek_hpc/shape_matching/data/CAESAR/caesar-fitted-meshes/CSR0001A.mat'\n",
    "\n",
    "import scipy.io\n",
    "\n",
    "data_caesar = scipy.io.loadmat(file_caesar)\n",
    "\n",
    "data_caesar.keys()"
   ]
  },
  {
   "cell_type": "code",
   "execution_count": 5,
   "metadata": {},
   "outputs": [
    {
     "data": {
      "text/plain": [
       "(6449, 3)"
      ]
     },
     "execution_count": 5,
     "metadata": {},
     "output_type": "execute_result"
    }
   ],
   "source": [
    "data_caesar['points'].shape"
   ]
  },
  {
   "cell_type": "code",
   "execution_count": 6,
   "metadata": {},
   "outputs": [
    {
     "name": "stdout",
     "output_type": "stream",
     "text": [
      "__header__ b'MATLAB 5.0 MAT-file, Platform: GLNXA64, Created on: Tue Aug 12 11:40:25 2014'\n",
      "__version__ 1.0\n",
      "__globals__ []\n",
      "points [[-1.33926000e-03  9.05487000e+01  7.99718000e+02]\n",
      " [-2.13881107e-01  7.99444097e+01  8.08583799e+02]\n",
      " [ 4.47694323e-01  9.94668743e+01  7.94246374e+02]\n",
      " ...\n",
      " [ 1.63805135e+02  2.37000950e+01  4.74036037e+01]\n",
      " [ 1.59371085e+02  4.62206403e+01  4.26767205e+01]\n",
      " [ 1.72352888e+02  7.94995389e+01  4.25441082e+01]]\n"
     ]
    }
   ],
   "source": [
    "# read /home/s94zalek_hpc/shape_matching/data/CAESAR/caesar/meanShape.mat\n",
    "\n",
    "file_mean_shape = '/home/s94zalek_hpc/shape_matching/data/CAESAR/caesar/meanShape.mat'\n",
    "\n",
    "data_mean_shape = scipy.io.loadmat(file_mean_shape)\n",
    "\n",
    "for key in data_mean_shape.keys():\n",
    "    print(key, data_mean_shape[key])\n",
    "    "
   ]
  },
  {
   "cell_type": "code",
   "execution_count": null,
   "metadata": {},
   "outputs": [],
   "source": [
    "# read /home/s94zalek_hpc/shape_matching/data/CAESAR/caesar/model.dat\n",
    "# as a mesh file\n",
    "\n",
    "import trimesh\n",
    "\n",
    "file_model = '/home/s94zalek_hpc/shape_matching/data/CAESAR/caesar/model.dat'\n",
    "\n",
    "# mesh = trimesh.load(file_model)\n",
    "\n",
    "with open(file_model, 'r') as f:\n",
    "    lines = f.readlines()\n",
    "\n",
    "\n",
    "n_vertices = int(lines[0].split()[0])\n",
    "n_faces = int(lines[0].split()[1])\n",
    "n_edges = int(lines[0].split()[2])\n",
    "\n",
    "vertices = np.array([list(map(float, line.split()[:3])) for line in lines[1:1 + n_vertices]])\n",
    "faces = np.array([list(map(int, line.split()[:3])) for line in lines[1 + n_vertices: 1 + n_vertices + n_faces]])\n",
    "# faces = faces[:, 1:]\n",
    "\n",
    "mesh_caesar = trimesh.Trimesh(vertices=vertices + np.array([1, 0, 0]), faces=faces, process=False)\n",
    "# rotate by 90 degrees along x axis\n",
    "\n",
    "mesh_caesar.vertices = np.dot(mesh_caesar.vertices, np.array([[1, 0, 0], [0, 0, -1], [0, 1, 0]]))\n",
    "\n",
    "\n",
    "mesh_scape = trimesh.load('/home/s94zalek_hpc/shape_matching/data/SCAPE_r/off/mesh001.off')\n",
    "\n",
    "mesh_scape.vertices *= 1000\n",
    "\n",
    "# rotate by 90 degrees along y axis\n",
    "mesh_scape.vertices = np.dot(mesh_scape.vertices, np.array([[0, 0, 1], [0, 1, 0], [-1, 0, 0]]))\n",
    "# mesh_scape.vertices = np.dot(mesh_scape.vertices, np.array([[0, -1, 0], [1, 0, 0], [0, 0, 1]]))\n",
    "\n",
    "# pcl_scape = trimesh.PointCloud(mesh_scape.vertices, colors=[1, 0, 0])\n",
    "\n",
    "# print(mesh_scape)\n",
    "\n",
    "scene.geometry.clear()\n",
    "\n",
    "\n",
    "\n",
    "scene.add_geometry(mesh_caesar)\n",
    "scene.add_geometry(mesh_scape)\n",
    "\n",
    "# rescale the scene to the size of the mesh\n",
    "# scene.camera.zoom_extents()\n",
    "\n",
    "\n",
    "\n",
    "# scene.add_geometry(pcl_scape)\n",
    "\n",
    "scene.show()\n",
    "\n"
   ]
  },
  {
   "cell_type": "code",
   "execution_count": 18,
   "metadata": {},
   "outputs": [
    {
     "name": "stdout",
     "output_type": "stream",
     "text": [
      "[[ 0.0454073   0.08321649 -0.33811596]\n",
      " [ 0.0460818   0.09463759 -0.33470798]\n",
      " [ 0.0319602   0.10948099 -0.31902797]\n",
      " ...\n",
      " [-0.0153254  -0.0822232   0.00731354]\n",
      " [-0.0346853  -0.0736474   0.00192538]\n",
      " [ 0.00540836 -0.63934095 -0.15509099]]\n"
     ]
    }
   ],
   "source": [
    "print(mesh_scape.vertices)"
   ]
  },
  {
   "cell_type": "code",
   "execution_count": 5,
   "metadata": {},
   "outputs": [
    {
     "data": {
      "text/plain": [
       "<trimesh.Trimesh(vertices.shape=(3889, 3), faces.shape=(7774, 3), name=`template_hyppo.ply`)>"
      ]
     },
     "execution_count": 5,
     "metadata": {},
     "output_type": "execute_result"
    }
   ],
   "source": [
    "template_ifmatch = trimesh.load('/home/s94zalek_hpc/shape_matching/data/IFMatch/Template/template_hyppo.ply')\n",
    "template_ifmatch"
   ]
  },
  {
   "cell_type": "code",
   "execution_count": null,
   "metadata": {},
   "outputs": [],
   "source": [
    "scene.geometry.clear()\n",
    "\n",
    "scene.add_geometry(template_ifmatch)\n",
    "\n",
    "scene.show()"
   ]
  },
  {
   "cell_type": "code",
   "execution_count": null,
   "metadata": {},
   "outputs": [],
   "source": [
    "templates_3dc = '/home/s94zalek_hpc/shape_matching/data/SURREAL_full/template'\n",
    "\n",
    "# for each ply file in templates_3dc, load it and add to the scene\n",
    "\n",
    "scene.geometry.clear()\n",
    "\n",
    "import os\n",
    "\n",
    "for i,file in enumerate(os.listdir(templates_3dc)):\n",
    "    if file.endswith('.ply') and 'hyppo' not in file:\n",
    "        mesh = trimesh.load(os.path.join(templates_3dc, file))\n",
    "        mesh.vertices += np.array([i, 0, 0])\n",
    "        \n",
    "        print(f'{i}: {file}')\n",
    "        \n",
    "        scene.add_geometry(mesh)\n",
    "        \n",
    "scene.show()"
   ]
  }
 ],
 "metadata": {
  "kernelspec": {
   "display_name": "Python 3 (ipykernel)",
   "language": "python",
   "name": "python3"
  }
 },
 "nbformat": 4,
 "nbformat_minor": 2
}
