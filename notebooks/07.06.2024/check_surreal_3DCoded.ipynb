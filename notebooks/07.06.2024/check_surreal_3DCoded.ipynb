{
 "cells": [
  {
   "cell_type": "code",
   "execution_count": 1,
   "metadata": {},
   "outputs": [
    {
     "data": {
      "text/plain": [
       "torch.Size([200, 6890, 3])"
      ]
     },
     "execution_count": 1,
     "metadata": {},
     "output_type": "execute_result"
    }
   ],
   "source": [
    "# load /home/s94zalek_hpc/3D-CODED/data/datas_surreal_test.pth\n",
    "\n",
    "import torch\n",
    "\n",
    "data_test = torch.load('/home/s94zalek_hpc/3D-CODED/data/datas_surreal_test.pth')\n",
    "data_test.shape"
   ]
  },
  {
   "cell_type": "code",
   "execution_count": 3,
   "metadata": {},
   "outputs": [],
   "source": [
    "import trimesh\n",
    "\n",
    "template = trimesh.load('/home/s94zalek_hpc/shape_matching/data/SURREAL_full/template/template.ply')"
   ]
  },
  {
   "cell_type": "code",
   "execution_count": null,
   "metadata": {},
   "outputs": [],
   "source": [
    "import trimesh\n",
    "import numpy as np\n",
    "\n",
    "scene = trimesh.Scene()\n",
    "\n",
    "for i, idx in enumerate(range(0, 200, 20)):\n",
    "    mesh = trimesh.Trimesh(vertices=data_test[idx] + np.array([i, 0, 0]), faces=template.faces, process=False)\n",
    "    scene.add_geometry(mesh)\n",
    "    \n",
    "scene.show()"
   ]
  },
  {
   "cell_type": "code",
   "execution_count": 7,
   "metadata": {},
   "outputs": [],
   "source": [
    "import sys\n",
    "import os\n",
    "curr_dir = os.getcwd()\n",
    "if 's94zalek_hpc' in curr_dir:\n",
    "    user_name = 's94zalek_hpc'\n",
    "else:\n",
    "    user_name = 's94zalek'\n",
    "sys.path.append(f'/home/{user_name}/shape_matching')\n",
    "\n",
    "import my_code.datasets.surreal_dataset_3dc as surreal_dataset_3dc"
   ]
  },
  {
   "cell_type": "code",
   "execution_count": 18,
   "metadata": {},
   "outputs": [
    {
     "data": {
      "text/plain": [
       "<module 'my_code.datasets.surreal_dataset_3dc' from '/home/s94zalek_hpc/shape_matching/my_code/datasets/surreal_dataset_3dc.py'>"
      ]
     },
     "execution_count": 18,
     "metadata": {},
     "output_type": "execute_result"
    }
   ],
   "source": [
    "import importlib\n",
    "importlib.reload(surreal_dataset_3dc)"
   ]
  },
  {
   "cell_type": "code",
   "execution_count": 23,
   "metadata": {},
   "outputs": [],
   "source": [
    "dataset_test = surreal_dataset_3dc.TemplateSurrealDataset('/home/s94zalek_hpc/3D-CODED/data/datas_surreal_test.pth')\n",
    "dataset_train = surreal_dataset_3dc.TemplateSurrealDataset('/home/s94zalek_hpc/3D-CODED/data/datas_surreal_train.pth')"
   ]
  },
  {
   "cell_type": "code",
   "execution_count": null,
   "metadata": {},
   "outputs": [],
   "source": [
    "scene.geometry.clear()\n",
    "\n",
    "# plot ['first'] and ['second'] meshes\n",
    "\n",
    "mesh_first = trimesh.Trimesh(vertices=dataset[21]['first']['verts'], faces=dataset[21]['first']['faces'], process=False)\n",
    "mesh_second = trimesh.Trimesh(vertices=dataset[21]['second']['verts'] + np.array([1, 0, 0]), faces=dataset[21]['second']['faces'], process=False)\n",
    "\n",
    "scene.add_geometry(mesh_first)\n",
    "scene.add_geometry(mesh_second)\n",
    "\n",
    "scene.show()"
   ]
  },
  {
   "cell_type": "code",
   "execution_count": 30,
   "metadata": {},
   "outputs": [
    {
     "data": {
      "text/plain": [
       "230000"
      ]
     },
     "execution_count": 30,
     "metadata": {},
     "output_type": "execute_result"
    }
   ],
   "source": [
    "len(dataset_train)"
   ]
  },
  {
   "cell_type": "code",
   "execution_count": null,
   "metadata": {},
   "outputs": [],
   "source": [
    "import trimesh\n",
    "import numpy as np\n",
    "\n",
    "scene.geometry.clear()\n",
    "\n",
    "# random_idxs = np.random.choice(len(dataset_test), 20, replace=False)\n",
    "random_idxs = np.arange(0, 230000, 10000)\n",
    "for i, idx in enumerate(random_idxs):\n",
    "    mesh = trimesh.Trimesh(vertices=dataset_train[idx]['second']['verts'] + np.array([i, 0, 0]),\n",
    "                           faces=template.faces, process=False)\n",
    "    scene.add_geometry(mesh)\n",
    "    \n",
    "scene.show()"
   ]
  },
  {
   "cell_type": "code",
   "execution_count": 2,
   "metadata": {},
   "outputs": [
    {
     "data": {
      "text/plain": [
       "tensor([-1,  2, -3])"
      ]
     },
     "execution_count": 2,
     "metadata": {},
     "output_type": "execute_result"
    }
   ],
   "source": [
    "import torch\n",
    "\n",
    "t1 = torch.tensor([1, 2, 3])\n",
    "t2 = torch.tensor([-4, 5, -6])\n",
    "\n",
    "t1 * torch.sign(t2)"
   ]
  }
 ],
 "metadata": {
  "kernelspec": {
   "display_name": "Python 3 (ipykernel)",
   "language": "python",
   "name": "python3"
  }
 },
 "nbformat": 4,
 "nbformat_minor": 2
}
