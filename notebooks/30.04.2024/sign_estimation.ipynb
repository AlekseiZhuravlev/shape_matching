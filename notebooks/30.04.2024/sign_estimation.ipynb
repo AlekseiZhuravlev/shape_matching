{
 "cells": [
  {
   "cell_type": "code",
   "execution_count": 28,
   "metadata": {
    "metadata": {}
   },
   "outputs": [
    {
     "name": "stdout",
     "output_type": "stream",
     "text": [
      "hello world\n"
     ]
    }
   ],
   "source": [
    "print('hello world')"
   ]
  },
  {
   "cell_type": "code",
   "execution_count": 29,
   "metadata": {
    "metadata": {}
   },
   "outputs": [
    {
     "name": "stdout",
     "output_type": "stream",
     "text": [
      "/home/s94zalek/shape_matching\n"
     ]
    }
   ],
   "source": [
    "import sys\n",
    "sys.path.append('/home/s94zalek/shape_matching')\n",
    "\n",
    "# set logging level to info\n",
    "import logging\n",
    "logging.basicConfig(level=logging.INFO)\n",
    "\n",
    "from datasets_code import build_dataloader, build_dataset\n",
    "from utils.options import parse_options\n",
    "from train import create_train_val_dataloader\n",
    "import torch\n",
    "import numpy as np\n",
    "\n",
    "import os\n",
    "os.chdir('/home/s94zalek/shape_matching')\n",
    "\n",
    "# print current working directory\n",
    "print(os.getcwd())"
   ]
  },
  {
   "cell_type": "code",
   "execution_count": null,
   "metadata": {
    "metadata": {}
   },
   "outputs": [
    {
     "name": "stdout",
     "output_type": "stream",
     "text": [
      "Backend DataParallel.\n",
      "Path already exists. Rename it to /home/s94zalek/shape_matching/results/faust_archived_20240513_101613\n"
     ]
    },
    {
     "name": "stderr",
     "output_type": "stream",
     "text": [
      "Constructing DatasetFromListOfDicts: 100%|█████████████████████████████████████████████████████████████████████████████| 80/80 [00:22<00:00,  3.52it/s]\n",
      "Calculating functional maps: 100%|█████████████████████████████████████████████████████████████████████████████████| 6400/6400 [01:31<00:00, 69.81it/s]\n",
      "2024-05-13 10:18:08,437 INFO: Dataset [PairFaustDataset]-[FaustTrain] is built.\n",
      "Constructing DatasetFromListOfDicts: 100%|█████████████████████████████████████████████████████████████████████████████| 20/20 [00:03<00:00,  5.99it/s]\n",
      "Calculating functional maps: 100%|██████████████████████████████████████████████████████████████████████████████████| 400/400 [00:03<00:00, 102.12it/s]\n",
      "2024-05-13 10:18:15,886 INFO: Dataset [PairFaustDataset]-[FaustTest] is built.\n",
      "Constructing DatasetFromListOfDicts: 100%|█████████████████████████████████████████████████████████████████████████████| 20/20 [00:00<00:00, 32.16it/s]\n",
      "Calculating functional maps: 100%|██████████████████████████████████████████████████████████████████████████████████| 400/400 [00:03<00:00, 104.32it/s]\n",
      "2024-05-13 10:18:20,353 INFO: Dataset [PairFaustDataset]-[FaustTest] is built.\n"
     ]
    }
   ],
   "source": [
    "import os\n",
    "\n",
    "# root_path = osp.abspath(osp.join(__file__, osp.pardir))\n",
    "root_path = '/home/s94zalek/shape_matching'\n",
    "\n",
    "opt = parse_options(root_path, is_train=False, use_argparse=False,\n",
    "                    opt_path = 'options/train/faust.yaml')\n",
    "\n",
    "opt['root_path'] = root_path\n",
    "opt['dist'] = False\n",
    "\n",
    "opt['datasets']['train_dataset']['return_corr'] = True\n",
    "opt['datasets']['train_dataset']['return_dist'] = False\n",
    "opt['datasets']['test_dataset']['return_dist'] = False\n",
    "\n",
    "# create train and validation dataloaders\n",
    "result = create_train_val_dataloader(opt)\n",
    "train_loader, train_sampler, val_loader, total_epochs, total_iters = result\n",
    "train_dataset = train_loader.dataset\n",
    "\n",
    "test_set = build_dataset(opt['datasets']['test_dataset'])\n",
    "test_loader = build_dataloader(\n",
    "test_set, opt['datasets']['test_dataset'], phase='val', num_gpu=opt['num_gpu'], dist=opt['dist'], sampler=None, seed=opt['manual_seed'])\n"
   ]
  },
  {
   "cell_type": "code",
   "execution_count": 89,
   "metadata": {
    "metadata": {}
   },
   "outputs": [],
   "source": [
    "import torch\n",
    "\n",
    "data = train_dataset[32]\n",
    "data_x = data['first']\n",
    "data_y = data['second']\n",
    "\n",
    "# indices = torch.randperm(min(\n",
    "#     data_x['evecs'].shape[0],\n",
    "#     data_y['evecs'].shape[0],\n",
    "#     ))[:150]\n",
    "indices = list(range(100))\n",
    "\n",
    "Cxy_reduced_100 = torch.linalg.lstsq(\n",
    "    data_y['evecs'][data_y['corr']][indices, :],\n",
    "    data_x['evecs'][data_x['corr']][indices, :]\n",
    "    ).solution\n",
    "Cyx_reduced_100 = torch.linalg.lstsq(\n",
    "    data_x['evecs'][data_x['corr']][indices, :],\n",
    "    data_y['evecs'][data_y['corr']][indices, :]\n",
    "    ).solution"
   ]
  },
  {
   "cell_type": "code",
   "execution_count": 90,
   "metadata": {
    "metadata": {}
   },
   "outputs": [
    {
     "data": {
      "image/png": "[encoded data removed]",
      "text/plain": [
       "<Figure size 1500x500 with 6 Axes>"
      ]
     },
     "metadata": {},
     "output_type": "display_data"
    }
   ],
   "source": [
    "import matplotlib.pyplot as plt\n",
    "\n",
    "def plot_Cxy(figure, axis, Cxy_plt, title, min_dim, max_dim):\n",
    "    \n",
    "    axis_plot = axis.imshow(Cxy_plt[min_dim:max_dim, min_dim:max_dim], cmap='bwr', vmin=-1, vmax=1)\n",
    "    figure.colorbar(axis_plot, ax=axis)\n",
    "    \n",
    "    axis.set_title(f'{title}: {min_dim}-{max_dim}')\n",
    "\n",
    "    axis.set_xticks(np.arange(-0.5, max_dim - min_dim, 1.0))\n",
    "    axis.set_yticks(np.arange(-0.5, max_dim - min_dim, 1.0))     \n",
    "    axis.grid(which='both')\n",
    "    \n",
    "    axis.set_xticklabels([])\n",
    "    axis.set_yticklabels([])\n",
    "   \n",
    "\n",
    "\n",
    "def get_sign_difference(Cxy_gt, Cxy_target, threshold):\n",
    "    Cxy_signs = torch.sign(Cxy_gt)\n",
    "    Cxy_target_signs = torch.sign(Cxy_target)\n",
    "\n",
    "    Cxy_nonzero = (Cxy_gt.abs() > threshold).int()\n",
    "    # print\n",
    "    sign_difference = Cxy_signs * Cxy_target_signs * Cxy_nonzero\n",
    "\n",
    "    return sign_difference\n",
    "\n",
    "\n",
    "fig, ax = plt.subplots(1, 3, figsize=(15, 5))\n",
    "\n",
    "plot_Cxy(fig, ax[0],\n",
    "         data['Cxy'],\n",
    "         'Cxy',\n",
    "         min_dim=0, max_dim=40)\n",
    "\n",
    "plot_Cxy(fig, ax[1],\n",
    "         Cxy_reduced_100,\n",
    "         'Cxy_reduced_100',\n",
    "         min_dim=0, max_dim=40)\n",
    "\n",
    "plot_Cxy(fig, ax[2],\n",
    "         get_sign_difference(data['Cxy'][:, :], Cxy_reduced_100, threshold = 0.05), \n",
    "         'sign_difference',\n",
    "         min_dim=0, max_dim=40)\n",
    "\n",
    "plt.show()"
   ]
  },
  {
   "cell_type": "code",
   "execution_count": 86,
   "metadata": {
    "metadata": {}
   },
   "outputs": [
    {
     "data": {
      "text/plain": [
       "tensor(0.9532)"
      ]
     },
     "execution_count": 86,
     "metadata": {},
     "output_type": "execute_result"
    }
   ],
   "source": [
    "data['Cxy'].max()"
   ]
  },
  {
   "cell_type": "code",
   "execution_count": null,
   "metadata": {
    "metadata": {}
   },
   "outputs": [
    {
     "name": "stdout",
     "output_type": "stream",
     "text": [
      "RANDOM n_corr\n",
      "reduced_10\n",
      " > 0.1  :  7.78%; correct: 67.97%;\n",
      " > 0.05 : 17.31%; correct: 62.73%;\n",
      " > 0.01 : 52.71%; correct: 56.52%;\n",
      "geo_dist_gt: 43.06, geo_dist: 131.43, diff: 88.37\n",
      "-----------------------------\n",
      "reduced_25\n",
      " > 0.1  :  7.78%; correct: 76.81%;\n",
      " > 0.05 : 17.31%; correct: 70.01%;\n",
      " > 0.01 : 52.71%; correct: 60.07%;\n",
      "geo_dist_gt: 43.06, geo_dist: 74.42, diff: 31.36\n",
      "-----------------------------\n",
      "reduced_50\n",
      " > 0.1  :  7.78%; correct: 85.26%;\n",
      " > 0.05 : 17.31%; correct: 77.52%;\n",
      " > 0.01 : 52.71%; correct: 65.10%;\n",
      "geo_dist_gt: 43.06, geo_dist: 63.21, diff: 20.15\n",
      "-----------------------------\n",
      "reduced_100\n",
      " > 0.1  :  7.78%; correct: 92.58%;\n",
      " > 0.05 : 17.31%; correct: 83.88%;\n",
      " > 0.01 : 52.71%; correct: 67.03%;\n",
      "geo_dist_gt: 43.06, geo_dist: 54.16, diff: 11.10\n",
      "-----------------------------\n",
      "reduced_200\n",
      " > 0.1  :  7.78%; correct: 92.32%;\n",
      " > 0.05 : 17.31%; correct: 84.07%;\n",
      " > 0.01 : 52.71%; correct: 69.12%;\n",
      "geo_dist_gt: 43.06, geo_dist: 53.84, diff: 10.78\n",
      "-----------------------------\n",
      "reduced_500\n",
      " > 0.1  :  7.78%; correct: 96.95%;\n",
      " > 0.05 : 17.31%; correct: 89.98%;\n",
      " > 0.01 : 52.71%; correct: 73.28%;\n",
      "geo_dist_gt: 43.06, geo_dist: 48.60, diff: 5.54\n",
      "-----------------------------\n",
      "reduced_1000\n",
      " > 0.1  :  7.78%; correct: 100.00%;\n",
      " > 0.05 : 17.31%; correct: 99.80%;\n",
      " > 0.01 : 52.71%; correct: 93.15%;\n",
      "geo_dist_gt: 43.06, geo_dist: 43.88, diff: 0.82\n",
      "-----------------------------\n"
     ]
    }
   ],
   "source": [
    "import metrics.geodist_metric as geodist_metric\n",
    "from utils.fmap_util import nn_query, fmap2pointmap\n",
    "\n",
    "\n",
    "def print_correct_signs(Cxy_gt, Cxy_target, title, verbose):\n",
    "\n",
    "    print(title)\n",
    "    \n",
    "    for threshold in [0.1, 0.05, 0.01]:\n",
    "\n",
    "        sign_difference = get_sign_difference(Cxy_gt, Cxy_target, threshold = threshold)\n",
    "\n",
    "        num_correct = (sign_difference == 1).int().sum()\n",
    "        num_incorrect = (sign_difference == -1).int().sum()\n",
    "        \n",
    "        num_zero = (sign_difference == 0).int().sum()\n",
    "        num_nonzero = (sign_difference != 0).int().sum()\n",
    "        num_total = Cxy_gt.shape[0] * Cxy_gt.shape[1]\n",
    "\n",
    "        if verbose:\n",
    "            print(f'threshold = {threshold}')\n",
    "            print(f'num_correct: {num_correct} / {num_nonzero} = {num_correct / num_nonzero*100:.2f}%')\n",
    "            print(f'num_incorrect: {num_incorrect} / {num_nonzero} = {num_incorrect / num_nonzero*100:.2f}%')\n",
    "            print(f\"num_zero: {num_zero} / {num_total} = {num_zero / num_total * 100:.2f}%\\n\")\n",
    "        else:\n",
    "            print(f\" > {threshold:<5}: {num_nonzero / num_total * 100:5.2f}%; correct: {num_correct / num_nonzero*100:5.2f}%;\")\n",
    "            \n",
    "    \n",
    "def check_geodesic_error(data, Cxy_landmarks, verbose):\n",
    "    \n",
    "    signs_landmarks = torch.sign(Cxy_landmarks)\n",
    "    Cxy_target = torch.abs(data['Cxy']) * signs_landmarks  \n",
    "    \n",
    "    p2p = fmap2pointmap(Cxy_target, data['first']['evecs'], data['second']['evecs']) \n",
    "    p2p_gt = fmap2pointmap(data['Cxy'], data['first']['evecs'], data['second']['evecs'])\n",
    "    \n",
    "    dist_x = torch.cdist(data['first']['verts'], data['first']['verts'])\n",
    "\n",
    "    geo_dist_gt = geodist_metric.calculate_geodesic_error(\n",
    "        dist_x=dist_x,\n",
    "        corr_x=data['first']['corr'],\n",
    "        corr_y=data['second']['corr'],\n",
    "        p2p=p2p_gt,\n",
    "        return_mean=False\n",
    "    ).abs().sum()\n",
    "    \n",
    "    geo_dist = geodist_metric.calculate_geodesic_error(\n",
    "        dist_x=dist_x,\n",
    "        corr_x=data['first']['corr'],\n",
    "        corr_y=data['second']['corr'],\n",
    "        p2p=p2p,\n",
    "        return_mean=False\n",
    "    ).abs().sum()\n",
    "    \n",
    "    if verbose:\n",
    "        print(f\"geo_dist_gt: {geo_dist_gt:.2f}, geo_dist: {geo_dist:.2f}, diff: {torch.abs(geo_dist_gt - geo_dist):.2f}\")\n",
    "\n",
    "    return geo_dist_gt, geo_dist\n",
    "\n",
    "\n",
    "print('RANDOM n_corr')\n",
    "\n",
    "for n_corr in [10, 25, 50, 100, 200, 500, 1000]:\n",
    "    # get n_corr random indices\n",
    "    indices = torch.randperm(min(data_y['evecs'].shape[0], data_x['evecs'].shape[0]))[:n_corr]\n",
    "\n",
    "    # get the functional map from n random landmarks\n",
    "    Cxy_reduced_iter = torch.linalg.lstsq(\n",
    "        data_y['evecs'][data_y['corr']][indices],\n",
    "        data_x['evecs'][data_x['corr']][indices]\n",
    "        ).solution\n",
    "    \n",
    "    # print % of correct signs\n",
    "    print_correct_signs(data['Cxy'], Cxy_reduced_iter, f'reduced_{n_corr}', verbose=False)\n",
    "    \n",
    "    # print geodesic error\n",
    "    check_geodesic_error(data, Cxy_reduced_iter, verbose=True)\n",
    "    \n",
    "    print('-----------------------------')   "
   ]
  },
  {
   "cell_type": "code",
   "execution_count": null,
   "metadata": {},
   "outputs": [],
   "source": [
    "# TODO\n",
    "# Geodesic error for imprefect signs\n",
    "# Full statistic on FAUST"
   ]
  },
  {
   "cell_type": "code",
   "execution_count": 96,
   "metadata": {
    "metadata": {}
   },
   "outputs": [
    {
     "name": "stdout",
     "output_type": "stream",
     "text": [
      "RANDOM n_corr\n",
      "n_corr:    10, correct +/-: 62.91%, geo_err GT: 3.74, geo_err Reduced: 10.41\n",
      "n_corr:    25, correct +/-: 68.87%, geo_err GT: 3.74, geo_err Reduced: 6.73\n",
      "n_corr:    50, correct +/-: 74.45%, geo_err GT: 3.74, geo_err Reduced: 5.65\n",
      "n_corr:   100, correct +/-: 81.08%, geo_err GT: 3.74, geo_err Reduced: 4.92\n",
      "n_corr:   200, correct +/-: 72.77%, geo_err GT: 3.74, geo_err Reduced: 18.89\n",
      "n_corr:   500, correct +/-: 90.23%, geo_err GT: 3.74, geo_err Reduced: 4.29\n",
      "n_corr:  1000, correct +/-: 99.57%, geo_err GT: 3.74, geo_err Reduced: 3.81\n"
     ]
    }
   ],
   "source": [
    "print('RANDOM n_corr')\n",
    "\n",
    "for n_corr in [10, 25, 50, 100, 200, 500, 1000]:\n",
    "    \n",
    "    faust_correct_signs = 0\n",
    "    faust_total_signs = 0\n",
    "    \n",
    "    faust_geo_error_gt = []\n",
    "    faust_geo_error_reduced = []\n",
    "\n",
    "    for i in range(80):\n",
    "\n",
    "        # get n_corr random indices\n",
    "        indices = torch.randperm(min(\n",
    "            train_dataset[i]['first']['evecs'].shape[0],\n",
    "            train_dataset[i]['second']['evecs'].shape[0],\n",
    "            ))[:n_corr]\n",
    "\n",
    "        # get the functional map from n random landmarks\n",
    "        Cxy_reduced_iter = torch.linalg.lstsq(\n",
    "            train_dataset[i]['second']['evecs'][train_dataset[i]['second']['corr']][indices],\n",
    "            train_dataset[i]['first']['evecs'][train_dataset[i]['first']['corr']][indices]\n",
    "            ).solution\n",
    "        \n",
    "        sign_difference = get_sign_difference(\n",
    "            train_dataset[i]['Cxy'],\n",
    "            Cxy_reduced_iter,\n",
    "            threshold = 0.05\n",
    "            )\n",
    "        \n",
    "        num_correct = (sign_difference == 1).int().sum()    \n",
    "        num_nonzero = (sign_difference != 0).int().sum()\n",
    "\n",
    "        faust_correct_signs += num_correct\n",
    "        faust_total_signs += num_nonzero\n",
    "        \n",
    "        # print geodesic error\n",
    "        geo_err_gt, geo_err_reduced = check_geodesic_error(train_dataset[i], Cxy_reduced_iter, verbose=False)\n",
    "        \n",
    "        faust_geo_error_gt.append(geo_err_gt)\n",
    "        faust_geo_error_reduced.append(geo_err_reduced)\n",
    "        \n",
    "        # print('-----------------------------') \n",
    "        \n",
    "    print(f'n_corr: {n_corr:>5}, correct +/-: {faust_correct_signs / faust_total_signs * 100:.2f}%,',\n",
    "          f'geo_err GT: {sum(faust_geo_error_gt)/1000:.2f}, geo_err Reduced: {sum(faust_geo_error_reduced)/1000:.2f}')"
   ]
  },
  {
   "cell_type": "code",
   "execution_count": null,
   "metadata": {},
   "outputs": [],
   "source": [
    "# Conclusion\n",
    "\n",
    "# if the number of landmarks is close to the number of eigenfunctions\n",
    "# lstsq may give a bad solution"
   ]
  }
 ],
 "metadata": {
  "kernelspec": {
   "display_name": "Python 3 (ipykernel)",
   "language": "python",
   "name": "python3"
  }
 },
 "nbformat": 4,
 "nbformat_minor": 2
}
