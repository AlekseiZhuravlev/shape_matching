{
 "cells": [
  {
   "cell_type": "code",
   "execution_count": 2,
   "metadata": {
    "metadata": {}
   },
   "outputs": [
    {
     "name": "stdout",
     "output_type": "stream",
     "text": [
      "hello world\n"
     ]
    }
   ],
   "source": [
    "print('hello world')"
   ]
  },
  {
   "cell_type": "code",
   "execution_count": 3,
   "metadata": {
    "metadata": {}
   },
   "outputs": [
    {
     "name": "stdout",
     "output_type": "stream",
     "text": [
      "Jupyter environment detected. Enabling Open3D WebVisualizer.\n",
      "[Open3D INFO] WebRTC GUI backend enabled.\n",
      "[Open3D INFO] WebRTCWindowSystem: HTTP handshake server disabled.\n",
      "/home/s94zalek/shape_matching\n"
     ]
    }
   ],
   "source": [
    "import sys\n",
    "sys.path.append('/home/s94zalek/shape_matching')\n",
    "\n",
    "# set logging level to info\n",
    "import logging\n",
    "logging.basicConfig(level=logging.INFO)\n",
    "\n",
    "from datasets_code import build_dataloader, build_dataset\n",
    "from utils.options import parse_options\n",
    "from train import create_train_val_dataloader\n",
    "import torch\n",
    "import numpy as np\n",
    "\n",
    "import os\n",
    "os.chdir('/home/s94zalek/shape_matching')\n",
    "\n",
    "# print current working directory\n",
    "print(os.getcwd())"
   ]
  },
  {
   "cell_type": "code",
   "execution_count": 4,
   "metadata": {
    "metadata": {}
   },
   "outputs": [
    {
     "name": "stdout",
     "output_type": "stream",
     "text": [
      "Backend DataParallel.\n",
      "Path already exists. Rename it to /home/s94zalek/shape_matching/results/faust_archived_20240507_093239\n"
     ]
    },
    {
     "name": "stderr",
     "output_type": "stream",
     "text": [
      "Constructing DatasetFromListOfDicts: 100%|████████████████████████████████████████████████████████████████████████| 80/80 [00:14<00:00,  5.51it/s]\n",
      "Calculating functional maps: 100%|████████████████████████████████████████████████████████████████████████████| 6400/6400 [01:25<00:00, 74.95it/s]\n",
      "2024-05-07 09:34:19,741 INFO: Dataset [PairFaustDataset]-[FaustTrain] is built.\n",
      "Constructing DatasetFromListOfDicts: 100%|████████████████████████████████████████████████████████████████████████| 20/20 [00:02<00:00,  7.23it/s]\n",
      "Calculating functional maps: 100%|█████████████████████████████████████████████████████████████████████████████| 400/400 [00:03<00:00, 101.12it/s]\n",
      "2024-05-07 09:34:26,473 INFO: Dataset [PairFaustDataset]-[FaustTest] is built.\n",
      "Constructing DatasetFromListOfDicts: 100%|████████████████████████████████████████████████████████████████████████| 20/20 [00:00<00:00, 28.03it/s]\n",
      "Calculating functional maps: 100%|█████████████████████████████████████████████████████████████████████████████| 400/400 [00:03<00:00, 101.75it/s]\n",
      "2024-05-07 09:34:31,127 INFO: Dataset [PairFaustDataset]-[FaustTest] is built.\n"
     ]
    }
   ],
   "source": [
    "import os\n",
    "\n",
    "# root_path = osp.abspath(osp.join(__file__, osp.pardir))\n",
    "root_path = '/home/s94zalek/shape_matching'\n",
    "\n",
    "opt = parse_options(root_path, is_train=False, use_argparse=False,\n",
    "                    opt_path = 'options/train/faust.yaml')\n",
    "\n",
    "opt['root_path'] = root_path\n",
    "opt['dist'] = False\n",
    "\n",
    "opt['datasets']['train_dataset']['return_corr'] = True\n",
    "opt['datasets']['train_dataset']['return_dist'] = False\n",
    "opt['datasets']['test_dataset']['return_dist'] = False\n",
    "\n",
    "# create train and validation dataloaders\n",
    "result = create_train_val_dataloader(opt)\n",
    "train_loader, train_sampler, val_loader, total_epochs, total_iters = result\n",
    "train_dataset = train_loader.dataset\n",
    "\n",
    "test_set = build_dataset(opt['datasets']['test_dataset'])\n",
    "test_loader = build_dataloader(\n",
    "test_set, opt['datasets']['test_dataset'], phase='val', num_gpu=opt['num_gpu'], dist=opt['dist'], sampler=None, seed=opt['manual_seed'])\n"
   ]
  },
  {
   "cell_type": "code",
   "execution_count": 5,
   "metadata": {
    "metadata": {}
   },
   "outputs": [],
   "source": [
    "Cxy_40 = []\n",
    "Dx_40 = []\n",
    "Dy_40 = []\n",
    "\n",
    "Vxy_computed_40 = []\n",
    "Rxy_computed_40 = []\n",
    "\n",
    "data_40 = []\n",
    "\n",
    "train_dataset = train_loader.dataset\n",
    "for i in range(len(train_dataset)):\n",
    "    data = train_dataset[i]\n",
    "    if data['first']['name'] == 'tr_reg_040':\n",
    "        \n",
    "        Cxy_40.append(data['Cxy'])\n",
    "        \n",
    "        Dx_40.append(data['first']['evals'])\n",
    "        Dy_40.append(data['second']['evals'])\n",
    "        \n",
    "        Vxy_computed_40.append(data['Vxy'])\n",
    "        Rxy_computed_40.append(data['Rxy'])\n",
    "        \n",
    "        data_40.append(data)\n",
    "        \n",
    "Cxy_40_full = torch.stack(Cxy_40)\n",
    "Cxy_40_truncated = torch.stack(Cxy_40)[:, :20, :20]\n",
    "\n",
    "Dx_40_full = torch.stack(Dx_40)\n",
    "Dy_40_full = torch.stack(Dy_40)\n",
    "\n",
    "Vxy_computed_40_full = torch.stack(Vxy_computed_40)\n",
    "Rxy_computed_40_full = torch.stack(Rxy_computed_40)"
   ]
  },
  {
   "cell_type": "code",
   "execution_count": 6,
   "metadata": {
    "metadata": {}
   },
   "outputs": [],
   "source": [
    "########################################################################################\n",
    "# Check if difference operators in dataset are correct\n",
    "########################################################################################"
   ]
  },
  {
   "cell_type": "code",
   "execution_count": 7,
   "metadata": {
    "metadata": {}
   },
   "outputs": [],
   "source": [
    "Cxy_T_Cxy_40_full = torch.bmm(Cxy_40_full.transpose(1, 2), Cxy_40_full)\n",
    "\n",
    "Rxy_40_left = torch.bmm(\n",
    "    torch.diag_embed(-1 / Dx_40_full),\n",
    "    Cxy_40_full.transpose(1, 2)\n",
    "    )\n",
    "Rxy_40_right = torch.bmm(\n",
    "    torch.diag_embed(-Dy_40_full),\n",
    "    Cxy_40_full\n",
    "    )\n",
    "\n",
    "Rxy_40_full = torch.bmm(Rxy_40_left, Rxy_40_right)"
   ]
  },
  {
   "cell_type": "code",
   "execution_count": 8,
   "metadata": {
    "metadata": {}
   },
   "outputs": [
    {
     "name": "stdout",
     "output_type": "stream",
     "text": [
      "Vxy in dataset - Vxy computed: tensor(0.0002)\n",
      "Rxy in dataset - Rxy computed: tensor(-6.4227e-05)\n"
     ]
    }
   ],
   "source": [
    "print('Vxy in dataset - Vxy computed:', (Vxy_computed_40_full - Cxy_T_Cxy_40_full).sum())\n",
    "print('Rxy in dataset - Rxy computed:', (Rxy_40_full - Rxy_computed_40_full).sum())"
   ]
  },
  {
   "cell_type": "code",
   "execution_count": 9,
   "metadata": {
    "metadata": {}
   },
   "outputs": [],
   "source": [
    "########################################################################################\n",
    "#\n",
    "# Descriptor preservation by GT Fmap\n",
    "#\n",
    "########################################################################################"
   ]
  },
  {
   "cell_type": "code",
   "execution_count": 10,
   "metadata": {
    "metadata": {}
   },
   "outputs": [
    {
     "data": {
      "text/plain": [
       "('tr_reg_040',\n",
       " 'tr_reg_021',\n",
       " torch.Size([200, 200]),\n",
       " torch.Size([200, 5001]),\n",
       " torch.Size([5001, 200]))"
      ]
     },
     "execution_count": 10,
     "metadata": {},
     "output_type": "execute_result"
    }
   ],
   "source": [
    "data = data_40[21]\n",
    "data_x = data['first']\n",
    "data_y = data['second']\n",
    "\n",
    "data_x['name'], data_y['name'], data['Cxy'].shape, data_x['evecs_trans'].shape, data_y['evecs'].shape"
   ]
  },
  {
   "cell_type": "code",
   "execution_count": 11,
   "metadata": {
    "metadata": {}
   },
   "outputs": [],
   "source": [
    "# check wks/hks computation\n",
    "# why the geodesic error is so high?\n",
    "# put whs/hks to optimization problem\n",
    "# initialize C properly, do not optimize 1st row (or column?)\n",
    "# run optimization with V and R"
   ]
  },
  {
   "cell_type": "code",
   "execution_count": 12,
   "metadata": {
    "metadata": {}
   },
   "outputs": [
    {
     "name": "stdout",
     "output_type": "stream",
     "text": [
      "HKS preserv. loss,  50 ef, sum: tensor(99.7664) mean: tensor(0.0399)\n",
      "HKS preserv. loss, 100 ef, sum: tensor(161.5919) mean: tensor(0.0162)\n",
      "HKS preserv. loss, 150 ef, sum: tensor(184.0081) mean: tensor(0.0096)\n",
      "HKS preserv. loss, 200 ef, sum: tensor(194.5981) mean: tensor(0.0076)\n"
     ]
    }
   ],
   "source": [
    "import utils.geometry_util as geometry_util\n",
    "\n",
    "# hks as descriptors\n",
    "hks_x = geometry_util.compute_hks_autoscale(data_x['evals'].unsqueeze(0), data_x['evecs'].unsqueeze(0), 128)[0]\n",
    "hks_y = geometry_util.compute_hks_autoscale(data_y['evals'].unsqueeze(0), data_y['evecs'].unsqueeze(0), 128)[0]\n",
    "\n",
    "hks_pres_loss = (data['Cxy'] @ data_x['evecs_trans'] @ hks_x - data_y['evecs_trans'] @ hks_y).abs()\n",
    "\n",
    "print('HKS preserv. loss,  50 ef, sum:', hks_pres_loss[:50, :50].sum(), 'mean:', hks_pres_loss[:50, :50].mean())\n",
    "print('HKS preserv. loss, 100 ef, sum:', hks_pres_loss[:100, :100].sum(), 'mean:', hks_pres_loss[:100, :100].mean())\n",
    "print('HKS preserv. loss, 150 ef, sum:', hks_pres_loss[:150, :150].sum(), 'mean:', hks_pres_loss[:150, :150].mean())\n",
    "print('HKS preserv. loss, 200 ef, sum:', hks_pres_loss[:200, :200].sum(), 'mean:', hks_pres_loss[:200, :200].mean())"
   ]
  },
  {
   "cell_type": "code",
   "execution_count": 13,
   "metadata": {
    "metadata": {}
   },
   "outputs": [
    {
     "name": "stdout",
     "output_type": "stream",
     "text": [
      "WKS preserv. loss,  50 ef, sum: tensor(25.3663) mean: tensor(0.0101)\n",
      "WKS preserv. loss, 100 ef, sum: tensor(77.3188) mean: tensor(0.0077)\n",
      "WKS preserv. loss, 150 ef, sum: tensor(126.9926) mean: tensor(0.0066)\n",
      "WKS preserv. loss, 200 ef, sum: tensor(149.6696) mean: tensor(0.0058)\n"
     ]
    }
   ],
   "source": [
    "# wks as descriptors\n",
    "\n",
    "wks_x = geometry_util.compute_wks_autoscale(data_x['evals'].unsqueeze(0), data_x['evecs'].unsqueeze(0), data_x['mass'].unsqueeze(0))[0]\n",
    "wks_y = geometry_util.compute_wks_autoscale(data_y['evals'].unsqueeze(0), data_y['evecs'].unsqueeze(0), data_y['mass'].unsqueeze(0))[0]\n",
    "\n",
    "wks_pres_loss = (data['Cxy'] @ data_x['evecs_trans'] @ wks_x - data_y['evecs_trans'] @ wks_y).abs()\n",
    "\n",
    "print('WKS preserv. loss,  50 ef, sum:', wks_pres_loss[:50, :50].sum(), 'mean:', wks_pres_loss[:50, :50].mean())\n",
    "print('WKS preserv. loss, 100 ef, sum:', wks_pres_loss[:100, :100].sum(), 'mean:', wks_pres_loss[:100, :100].mean())\n",
    "print('WKS preserv. loss, 150 ef, sum:', wks_pres_loss[:150, :150].sum(), 'mean:', wks_pres_loss[:150, :150].mean())\n",
    "print('WKS preserv. loss, 200 ef, sum:', wks_pres_loss[:200, :200].sum(), 'mean:', wks_pres_loss[:200, :200].mean())"
   ]
  },
  {
   "cell_type": "code",
   "execution_count": 14,
   "metadata": {
    "metadata": {}
   },
   "outputs": [],
   "source": [
    "########################################################################################\n",
    "#\n",
    "# Does this count as descriptor preservation?\n",
    "# I guess it does\n",
    "#\n",
    "########################################################################################"
   ]
  },
  {
   "cell_type": "code",
   "execution_count": 15,
   "metadata": {
    "metadata": {}
   },
   "outputs": [
    {
     "name": "stdout",
     "output_type": "stream",
     "text": [
      "Cxy_hks_lstsq error,  50 ef, sum: tensor(147.0585) mean: tensor(0.0588)\n",
      "Cxy_hks_lstsq error, 100 ef, sum: tensor(445.3884) mean: tensor(0.0445)\n",
      "Cxy_hks_lstsq error, 200 ef, sum: tensor(1336.2449) mean: tensor(0.0334)\n",
      "\n",
      "Cxy_wks_lstsq error,  50 ef, sum: tensor(284.5417) mean: tensor(0.1138)\n",
      "Cxy_wks_lstsq error, 100 ef, sum: tensor(721.4183) mean: tensor(0.0721)\n",
      "Cxy_wks_lstsq error, 200 ef, sum: tensor(1708.9946) mean: tensor(0.0427)\n"
     ]
    }
   ],
   "source": [
    "import torch\n",
    "\n",
    "Cxy_hks_lstsq = torch.linalg.lstsq(\n",
    "    hks_x.T @ data_x['evecs_trans'].T,\n",
    "    hks_y.T @ data_y['evecs_trans'].T\n",
    ").solution.T\n",
    "\n",
    "Cxy_wks_lstsq = torch.linalg.lstsq(\n",
    "    wks_x.T @ data_x['evecs_trans'].T,\n",
    "    wks_y.T @ data_y['evecs_trans'].T\n",
    ").solution.T\n",
    "\n",
    "print('Cxy_hks_lstsq error,  50 ef, sum:', (Cxy_hks_lstsq - data['Cxy']).abs()[:50, :50].sum(), 'mean:', (Cxy_hks_lstsq - data['Cxy']).abs()[:50, :50].mean())\n",
    "print('Cxy_hks_lstsq error, 100 ef, sum:', (Cxy_hks_lstsq - data['Cxy']).abs()[:100, :100].sum(), 'mean:', (Cxy_hks_lstsq - data['Cxy']).abs()[:100, :100].mean())\n",
    "print('Cxy_hks_lstsq error, 200 ef, sum:', (Cxy_hks_lstsq - data['Cxy']).abs().sum(), 'mean:', (Cxy_hks_lstsq - data['Cxy']).abs().mean())\n",
    "print()\n",
    "print('Cxy_wks_lstsq error,  50 ef, sum:', (Cxy_wks_lstsq - data['Cxy']).abs()[:50, :50].sum(), 'mean:', (Cxy_wks_lstsq - data['Cxy']).abs()[:50, :50].mean())\n",
    "print('Cxy_wks_lstsq error, 100 ef, sum:', (Cxy_wks_lstsq - data['Cxy']).abs()[:100, :100].sum(), 'mean:', (Cxy_wks_lstsq - data['Cxy']).abs()[:100, :100].mean())\n",
    "print('Cxy_wks_lstsq error, 200 ef, sum:', (Cxy_wks_lstsq - data['Cxy']).abs().sum(), 'mean:', (Cxy_wks_lstsq - data['Cxy']).abs().mean())"
   ]
  },
  {
   "cell_type": "code",
   "execution_count": 16,
   "metadata": {
    "metadata": {}
   },
   "outputs": [],
   "source": [
    "Cxy_hks_lstsq_50 = torch.linalg.lstsq(\n",
    "    hks_x.T[:50, :] @ data_x['evecs_trans'].T[:, :50],\n",
    "    hks_y.T[:50, :] @ data_y['evecs_trans'].T[:, :50],\n",
    ").solution.T\n",
    "\n",
    "Cxy_wks_lstsq_50 = torch.linalg.lstsq(\n",
    "    wks_x.T[:50, :] @ data_x['evecs_trans'].T[:, :50],\n",
    "    wks_y.T[:50, :] @ data_y['evecs_trans'].T[:, :50],\n",
    ").solution.T"
   ]
  },
  {
   "cell_type": "code",
   "execution_count": 17,
   "metadata": {
    "metadata": {}
   },
   "outputs": [
    {
     "name": "stdout",
     "output_type": "stream",
     "text": [
      "Cxy_gt\n",
      "0: desc 1.4996760, laplace 0.0003710, area 0.0000000, conf 0.0000000\n",
      "---------------------------------\n",
      "0: desc 16.6135417, laplace 0.0000116, area 1.5585192, conf 2.7807165\n",
      "10000: desc 9.8689347, laplace 0.0000516, area 1.7784599, conf 5.9353720\n",
      "20000: desc 1.7116324, laplace 0.0002303, area 3.5362579, conf 121.6879199\n",
      "30000: desc 0.7388717, laplace 0.0002922, area 4.5968299, conf 138.9377323\n",
      "40000: desc 0.4492903, laplace 0.0002995, area 5.5517802, conf 100.7244312\n",
      "50000: desc 0.3891949, laplace 0.0002299, area 5.3678564, conf 67.0679033\n",
      "60000: desc 0.2839180, laplace 0.0002387, area 6.1992529, conf 61.9997485\n",
      "70000: desc 0.2254429, laplace 0.0002197, area 6.4633522, conf 51.2326542\n",
      "80000: desc 0.1789370, laplace 0.0002006, area 6.8091440, conf 38.2723509\n",
      "90000: desc 0.1544926, laplace 0.0002007, area 7.1252249, conf 35.3240008\n",
      "100000: desc 0.1481990, laplace 0.0001844, area 7.2353018, conf 30.7878585\n"
     ]
    }
   ],
   "source": [
    "######################################################\n",
    "# Optimization problem with area and conformal difference\n",
    "######################################################\n",
    "\n",
    "import scipy.optimize as opt\n",
    "\n",
    "evecs_x = data_x['evecs'].cpu().numpy()[:, :50]\n",
    "evecs_y = data_y['evecs'].cpu().numpy()[:, :50]\n",
    "evecs_trans_x = data_x['evecs_trans'].cpu().numpy()[:50, :]\n",
    "evecs_trans_y = data_y['evecs_trans'].cpu().numpy()[:50, :]\n",
    "Cxy_gt = data['Cxy'].cpu().numpy()[:50, :50]\n",
    "\n",
    "evals_x = data_x['evals'].cpu().numpy()[:50]\n",
    "evals_y = data_y['evals'].cpu().numpy()[:50]\n",
    "\n",
    "V_gt = Cxy_gt.T @ Cxy_gt\n",
    "R_gt = np.diag(-1/evals_x) @ Cxy_gt.T @ np.diag(evals_y) @ Cxy_gt\n",
    "\n",
    "ev_sqdiff = np.square(evals_x[None, :] - evals_y[:, None])\n",
    "ev_sqdiff = ev_sqdiff / ev_sqdiff.sum()\n",
    "\n",
    "wks_x_np = wks_x.cpu().numpy()\n",
    "wks_y_np = wks_y.cpu().numpy()\n",
    "hks_x_np = hks_x.cpu().numpy()\n",
    "hks_y_np = hks_y.cpu().numpy()\n",
    "\n",
    "\n",
    "def area_difference(Cxy):\n",
    "    Cxy = Cxy.reshape(Cxy_gt.shape)\n",
    "    \n",
    "    Cxy_T_Cxy = Cxy.T @ Cxy\n",
    "    \n",
    "    return 0.5 * np.sum(np.square(\n",
    "        Cxy_T_Cxy - V_gt \n",
    "        ))\n",
    "    \n",
    "    \n",
    "def conformal_difference(Cxy):\n",
    "    # return 0\n",
    "    Cxy = Cxy.reshape(Cxy_gt.shape)\n",
    "    \n",
    "    predicted = (\n",
    "        np.diag(-1 / evals_x[:]) @ Cxy[:, :].T @ \\\n",
    "        np.diag(evals_y[:]) @ Cxy[:, :]\n",
    "        )[1:, 1:]\n",
    "    \n",
    "    \n",
    "    predicted = predicted \n",
    "    actual = R_gt[1:, 1:] \n",
    "    \n",
    "    return 0.5 * np.sum(np.square(\n",
    "        predicted - actual      \n",
    "    ))\n",
    "    \n",
    "\n",
    "def objective_diff_operators(Cxy, info):\n",
    "    \n",
    "    Cxy = Cxy.reshape(Cxy_gt.shape)\n",
    "    \n",
    "    # descriptor preservation\n",
    "    if info['descr_type'] == 'hks':\n",
    "        desc_pres = 0.5 * np.sum(np.square(Cxy @ evecs_trans_x @ hks_x_np - evecs_trans_y @ hks_y_np))\n",
    "        # grad_desc = (Cxy @ evecs_trans_x @ hks_x_np - evecs_trans_y @ hks_y_np) @ (evecs_trans_x @ hks_x_np).T\n",
    "        # grad_desc = grad_desc.reshape(-1)\n",
    "    else:\n",
    "        desc_pres = 0.5 * np.sum(np.square(Cxy @ evecs_trans_x @ wks_x_np - evecs_trans_y @ wks_y_np))\n",
    "        # grad_desc = (Cxy @ evecs_trans_x @ wks_x_np - evecs_trans_y @ wks_y_np) @ (evecs_trans_x @ wks_x_np).T\n",
    "        # grad_desc = grad_desc.reshape(-1)\n",
    "\n",
    "    # laplace commutativity    \n",
    "    laplace_comm = 0.5 * (np.square(Cxy) * ev_sqdiff).sum()\n",
    "\n",
    "    # area and conformal difference\n",
    "    area_diff = area_difference(Cxy)\n",
    "    conf_diff = conformal_difference(Cxy)\n",
    "    \n",
    "    \n",
    "    # print every 10000 iterations\n",
    "    if info['Nfeval'] % info['print_every'] == 0:\n",
    "        print(f\"{info['Nfeval']}: desc {desc_pres:.7f}, laplace {laplace_comm:.7f}, area {area_diff:.7f}, conf {conf_diff:.7f}\")\n",
    "    info['Nfeval'] += 1    \n",
    "    \n",
    "    return info['desc_weight']*desc_pres + info['comm_weight']*laplace_comm + info['area_weight']*area_diff + info['conf_weight']*conf_diff #, grad_desc\n",
    "\n",
    "\n",
    "print('Cxy_gt')\n",
    "objective_diff_operators(Cxy_gt, \n",
    "                         {'Nfeval':0,\n",
    "                          'print_every':10000,\n",
    "                          'desc_weight': 1000,\n",
    "                          'area_weight': 1,\n",
    "                          'conf_weight': 1,\n",
    "                          'descr_type': 'wks',\n",
    "                          'comm_weight': 1\n",
    "                          })\n",
    "print('---------------------------------')\n",
    "\n",
    "\n",
    "# initialization\n",
    "Cxy_0 = np.eye(Cxy_gt.shape[0]) #+ np.random.randn(*Cxy_gt.shape) * 0.05\n",
    "# Cxy_0 = Cxy_lstsq[:50, :50].numpy()\n",
    "# Cxy_0 = np.random.randn(*Cxy_gt.shape) * 0.00001\n",
    "# Cxy_0 = np.zeros(Cxy_gt.shape)\n",
    "\n",
    "\n",
    "# minimize\n",
    "res = opt.fmin_l_bfgs_b(\n",
    "    func=objective_diff_operators,\n",
    "    x0=Cxy_0.reshape(-1),\n",
    "    args=({\n",
    "        'Nfeval':0,\n",
    "        'print_every':10000,\n",
    "        'desc_weight': 1,\n",
    "        'comm_weight': 1000,\n",
    "        'area_weight': 0,\n",
    "        'conf_weight': 0,\n",
    "        'descr_type': 'wks',\n",
    "        },),\n",
    "    approx_grad=True,\n",
    "    maxiter=100000,\n",
    "    maxfun=100000\n",
    ")\n",
    "\n",
    "Cxy_opt = res[0].reshape(Cxy_gt.shape)"
   ]
  },
  {
   "cell_type": "code",
   "execution_count": 18,
   "metadata": {
    "metadata": {}
   },
   "outputs": [
    {
     "name": "stdout",
     "output_type": "stream",
     "text": [
      "Cxy_opt - Cxy_hks_lstsq tensor(111.3074)\n",
      "Cxy_opt - Cxy_gt tensor(168.5665)\n"
     ]
    }
   ],
   "source": [
    "print('Cxy_opt - Cxy_hks_lstsq', (torch.tensor(Cxy_opt, dtype=torch.float32) - Cxy_hks_lstsq[:50, :50]).abs().sum())\n",
    "print('Cxy_opt - Cxy_gt', (torch.tensor(Cxy_opt, dtype=torch.float32) - data['Cxy'][:50, :50]).abs().sum())"
   ]
  },
  {
   "cell_type": "code",
   "execution_count": 45,
   "metadata": {
    "metadata": {}
   },
   "outputs": [
    {
     "name": "stdout",
     "output_type": "stream",
     "text": [
      "Random\n",
      "Commutativity with V_gt 390.60393789346165\n",
      "Commutativity with R_gt 536.3542115839522\n",
      "Commutativity with LB 267587.8923140643\n"
     ]
    }
   ],
   "source": [
    "C_rand = np.random.rand(*Cxy_gt.shape)\n",
    "\n",
    "print('Random')\n",
    "print('Commutativity with V_gt', np.sum(np.abs(C_rand @ V_gt - V_gt @ C_rand)))\n",
    "print('Commutativity with R_gt', np.sum(np.abs(C_rand @ R_gt - R_gt @ C_rand)))\n",
    "print('Commutativity with LB', \n",
    "      np.sum(np.abs(np.diag(evals_y) @ C_rand - C_rand @ np.diag(evals_x)))\n",
    "      )"
   ]
  },
  {
   "cell_type": "code",
   "execution_count": 49,
   "metadata": {
    "metadata": {}
   },
   "outputs": [
    {
     "name": "stdout",
     "output_type": "stream",
     "text": [
      "GT\n",
      "Commutativity with V_gt 36.88396\n",
      "Commutativity with R_gt 76.56494\n",
      "Commutativity with LB 11516.967\n"
     ]
    }
   ],
   "source": [
    "print('GT')\n",
    "print('Commutativity with V_gt', np.sum(np.abs(Cxy_gt @ V_gt - V_gt @ Cxy_gt)))\n",
    "print('Commutativity with R_gt', np.sum(np.abs(Cxy_gt @ R_gt - R_gt @ Cxy_gt)))\n",
    "print('Commutativity with LB', \n",
    "      np.sum(np.abs(np.diag(evals_y) @ Cxy_gt - Cxy_gt @ np.diag(evals_x)))\n",
    "      )"
   ]
  },
  {
   "cell_type": "code",
   "execution_count": 19,
   "metadata": {
    "metadata": {}
   },
   "outputs": [
    {
     "name": "stdout",
     "output_type": "stream",
     "text": [
      "Descriptor preservation error\n",
      "C_est 46.79432099519899\n",
      "C_hks 0.5156898498535156\n",
      "C_gt 9.885262489318848\n"
     ]
    },
    {
     "data": {
      "image/png": "[encoded data removed]",
      "text/plain": [
       "<Figure size 1500x500 with 6 Axes>"
      ]
     },
     "metadata": {},
     "output_type": "display_data"
    }
   ],
   "source": [
    "import matplotlib.pyplot as plt\n",
    "\n",
    "\n",
    "print('Descriptor preservation error')\n",
    "\n",
    "print('C_est', 0.5 * np.sum(np.square(Cxy_opt @ evecs_trans_x @ hks_x_np - evecs_trans_y @ hks_y_np)))\n",
    "print('C_hks', 0.5 * np.sum(np.square(Cxy_hks_lstsq_50.numpy() @ evecs_trans_x @ hks_x_np - evecs_trans_y @ hks_y_np)))\n",
    "print('C_gt', 0.5 * np.sum(np.square(Cxy_gt @ evecs_trans_x @ hks_x_np - evecs_trans_y @ hks_y_np)))\n",
    "\n",
    "\n",
    "fig, ax = plt.subplots(1, 5, figsize=(15, 5))\n",
    "\n",
    "ax_0 = ax[0].imshow(Cxy_opt, cmap='jet', vmin=-1, vmax=1)\n",
    "ax[0].set_title('Optimized Cxy')\n",
    "# add colorbar\n",
    "ax_cbar = fig.colorbar(ax_0, ax=ax[0], orientation='horizontal')\n",
    "\n",
    "ax_1 = ax[1].imshow(Cxy_hks_lstsq_50, cmap='jet', vmin=-1, vmax=1)\n",
    "ax[1].set_title('Cxy_hks_lstsq_50')\n",
    "# add colorbar\n",
    "# ax_cbar = fig.colorbar(ax_1, ax=ax[1], orientation='horizontal')\n",
    "\n",
    "ax_2 = ax[2].imshow(Cxy_gt, cmap='jet', vmin=-1, vmax=1)\n",
    "ax[2].set_title('Cxy_gt')\n",
    "# add colorbar\n",
    "# ax_cbar = fig.colorbar(ax_2, ax=ax[2], orientation='horizontal')\n",
    "\n",
    "ax_3 = ax[3].imshow(Cxy_gt.T @ Cxy_gt, cmap='jet', vmin=-1, vmax=1)\n",
    "ax[3].set_title('Cxy_gt @ Cxy_gt')\n",
    "# ax_cbar = fig.colorbar(ax_3, ax=ax[3], orientation='horizontal')\n",
    "\n",
    "ax_4 = ax[4].imshow(R_gt, cmap='jet', vmin=-1, vmax=1)\n",
    "ax[4].set_title('R_gt')\n",
    "# ax_cbar = fig.colorbar(ax_4, ax=ax[4], orientation='horizontal')\n",
    "\n",
    "\n",
    "plt.show()"
   ]
  },
  {
   "cell_type": "code",
   "execution_count": 20,
   "metadata": {
    "metadata": {}
   },
   "outputs": [
    {
     "data": {
      "image/png": "[encoded data removed]",
      "text/plain": [
       "<Figure size 700x500 with 3 Axes>"
      ]
     },
     "metadata": {},
     "output_type": "display_data"
    }
   ],
   "source": [
    "fig, ax = plt.subplots(1, 2, figsize=(7, 5))\n",
    "\n",
    "ax_0 = ax[0].imshow(Cxy_hks_lstsq_50, cmap='jet', vmin=-1, vmax=1)\n",
    "ax[0].set_title('Cxy_hks_lstsq_50')\n",
    "# add colorbar\n",
    "ax_cbar = fig.colorbar(ax_0, ax=ax[0], orientation='horizontal')\n",
    "\n",
    "ax_1 = ax[1].imshow(Cxy_hks_lstsq_50.T @ Cxy_hks_lstsq_50, cmap='jet', vmin=-1, vmax=1)\n",
    "ax[1].set_title('Cxy_hks_lstsq_50.T @ Cxy_hks_lstsq_50')\n",
    "\n",
    "plt.show()"
   ]
  },
  {
   "cell_type": "code",
   "execution_count": 21,
   "metadata": {
    "metadata": {}
   },
   "outputs": [
    {
     "name": "stdout",
     "output_type": "stream",
     "text": [
      "------ Cxy_opt\n",
      "Cxy_est - Cxy_gt: 168.57\n",
      "Pyx_est - Pyx_gt: 29995.76\n",
      "Geodesic error GT: 92.73, EST: 1555.89\n",
      "\n",
      "------ Cxy_hks_lstsq, 50 ef\n",
      "Cxy_est - Cxy_gt: 163.53\n",
      "Pyx_est - Pyx_gt: 19024.93\n",
      "Geodesic error GT: 92.73, EST: 1108.12\n",
      "\n",
      "------ Cxy_hks_lstsq, 200 ef\n",
      "Cxy_est - Cxy_gt: 1336.24\n",
      "Pyx_est - Pyx_gt: 23535.19\n",
      "Geodesic error GT: 46.61, EST: 974.55\n",
      "\n",
      "------ Cxy_wks_lstsq, 50 ef\n",
      "Cxy_est - Cxy_gt: 284.54\n",
      "Pyx_est - Pyx_gt: 51919.43\n",
      "Geodesic error GT: 92.73, EST: 1190.73\n",
      "\n",
      "------ Cxy_wks_lstsq, 200 ef\n",
      "Cxy_est - Cxy_gt: 1708.99\n",
      "Pyx_est - Pyx_gt: 67802.25\n",
      "Geodesic error GT: 46.61, EST: 1332.32\n"
     ]
    }
   ],
   "source": [
    "import utils.fmap_util as fmap_util\n",
    "import metrics.geodist_metric as geodist_metric\n",
    "\n",
    "\n",
    "def compare_with_gt(\n",
    "    Cxy_est, Cxy_gt,\n",
    "    evecs_x, evecs_y,\n",
    "    evecs_trans_x, evecs_trans_y,\n",
    "    verts_x, verts_y,\n",
    "    corr_x, corr_y\n",
    "    ):\n",
    "    \n",
    "    # hard correspondence \n",
    "    p2p_gt = fmap_util.fmap2pointmap(\n",
    "        Cxy_gt,\n",
    "        evecs_x,\n",
    "        evecs_y,\n",
    "        )\n",
    "    p2p_est = fmap_util.fmap2pointmap(\n",
    "        Cxy_est,\n",
    "        evecs_x,\n",
    "        evecs_y,\n",
    "        )\n",
    "    \n",
    "    # soft correspondence\n",
    "    Pyx_gt = evecs_y @ Cxy_gt @ evecs_trans_x\n",
    "    Pyx_est = evecs_y @ Cxy_est @ evecs_trans_x\n",
    "    \n",
    "    # distance matrices\n",
    "    dist_x = torch.cdist(verts_x, verts_x)\n",
    "    dist_y = torch.cdist(verts_y, verts_y)\n",
    "\n",
    "    # geodesic error\n",
    "    geo_err_gt = geodist_metric.calculate_geodesic_error(dist_x, corr_x, corr_y, p2p_gt, return_mean=False)    \n",
    "    geo_err_est = geodist_metric.calculate_geodesic_error(dist_x, corr_x, corr_y, p2p_est, return_mean=False)\n",
    "    \n",
    "    # print results\n",
    "    print(f'Cxy_est - Cxy_gt: {torch.sum(torch.abs(Cxy_est - Cxy_gt)):.2f}')\n",
    "    print(f'Pyx_est - Pyx_gt: {torch.sum(torch.abs(Pyx_est - Pyx_gt)):.2f}')\n",
    "    print(f'Geodesic error GT: {geo_err_gt.abs().sum():.2f}, EST: {geo_err_est.abs().sum():.2f}')\n",
    "    \n",
    "    \n",
    "print('------ Cxy_opt')\n",
    "compare_with_gt(\n",
    "    torch.tensor(Cxy_opt, dtype=torch.float32),\n",
    "    data['Cxy'][:50, :50],\n",
    "    data_x['evecs'][:, :50],\n",
    "    data_y['evecs'][:, :50],\n",
    "    data_x['evecs_trans'][:50, :],\n",
    "    data_y['evecs_trans'][:50, :],\n",
    "    data_x['verts'],\n",
    "    data_y['verts'],\n",
    "    data_x['corr'],\n",
    "    data_y['corr']\n",
    "    )    \n",
    "\n",
    "print('\\n------ Cxy_hks_lstsq, 50 ef')\n",
    "compare_with_gt(\n",
    "    Cxy_hks_lstsq_50,\n",
    "    data['Cxy'][:50, :50],\n",
    "    data_x['evecs'][:, :50],\n",
    "    data_y['evecs'][:, :50],\n",
    "    data_x['evecs_trans'][:50, :],\n",
    "    data_y['evecs_trans'][:50, :],\n",
    "    data_x['verts'],\n",
    "    data_y['verts'],\n",
    "    data_x['corr'],\n",
    "    data_y['corr']\n",
    "    )\n",
    "    \n",
    "print('\\n------ Cxy_hks_lstsq, 200 ef')\n",
    "compare_with_gt(\n",
    "    Cxy_hks_lstsq,\n",
    "    data['Cxy'],\n",
    "    data_x['evecs'],\n",
    "    data_y['evecs'],\n",
    "    data_x['evecs_trans'],\n",
    "    data_y['evecs_trans'],\n",
    "    data_x['verts'],\n",
    "    data_y['verts'],\n",
    "    data_x['corr'],\n",
    "    data_y['corr']\n",
    "    )\n",
    "\n",
    "print('\\n------ Cxy_wks_lstsq, 50 ef')\n",
    "compare_with_gt(\n",
    "    Cxy_wks_lstsq[:50, :50],\n",
    "    data['Cxy'][:50, :50],\n",
    "    data_x['evecs'][:, :50],\n",
    "    data_y['evecs'][:, :50],\n",
    "    data_x['evecs_trans'][:50, :],\n",
    "    data_y['evecs_trans'][:50, :],\n",
    "    data_x['verts'],\n",
    "    data_y['verts'],\n",
    "    data_x['corr'],\n",
    "    data_y['corr']\n",
    "    )\n",
    "\n",
    "print('\\n------ Cxy_wks_lstsq, 200 ef')\n",
    "compare_with_gt(\n",
    "    Cxy_wks_lstsq,\n",
    "    data['Cxy'],\n",
    "    data_x['evecs'],\n",
    "    data_y['evecs'],\n",
    "    data_x['evecs_trans'],\n",
    "    data_y['evecs_trans'],\n",
    "    data_x['verts'],\n",
    "    data_y['verts'],\n",
    "    data_x['corr'],\n",
    "    data_y['corr']\n",
    "    )"
   ]
  }
 ],
 "metadata": {
  "kernelspec": {
   "display_name": "Python 3 (ipykernel)",
   "language": "python",
   "name": "python3"
  },
  "language_info": {
   "codemirror_mode": {
    "name": "ipython",
    "version": 3
   },
   "file_extension": ".py",
   "mimetype": "text/x-python",
   "name": "python",
   "nbconvert_exporter": "python",
   "pygments_lexer": "ipython3",
   "version": "3.8.19"
  }
 },
 "nbformat": 4,
 "nbformat_minor": 2
}
