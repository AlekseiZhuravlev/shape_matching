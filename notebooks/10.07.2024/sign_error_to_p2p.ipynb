{
 "cells": [
  {
   "cell_type": "code",
   "execution_count": 1,
   "metadata": {},
   "outputs": [],
   "source": [
    "import torch\n",
    "import numpy as np\n",
    "import matplotlib.pyplot as plt\n",
    "\n",
    "import trimesh\n",
    "\n",
    "scene = trimesh.Scene()"
   ]
  },
  {
   "cell_type": "code",
   "execution_count": 2,
   "metadata": {},
   "outputs": [
    {
     "name": "stdout",
     "output_type": "stream",
     "text": [
      "Jupyter environment detected. Enabling Open3D WebVisualizer.\n",
      "[Open3D INFO] WebRTC GUI backend enabled.\n",
      "[Open3D INFO] WebRTCWindowSystem: HTTP handshake server disabled.\n"
     ]
    },
    {
     "name": "stderr",
     "output_type": "stream",
     "text": [
      "Loading base dataset: 100%|██████████████████████████████████████████████████████████████████████████████| 80/80 [00:47<00:00,  1.70it/s]\n",
      "Loading base dataset: 100%|██████████████████████████████████████████████████████████████████████████████| 80/80 [00:38<00:00,  2.08it/s]\n"
     ]
    }
   ],
   "source": [
    "import my_code.diffusion_training.data_loading as data_loading\n",
    "\n",
    "train_dataset = data_loading.get_val_dataset(\n",
    "    'FAUST_orig', 'train', 64, canonicalize_fmap=None\n",
    "    )[1]\n",
    "train_dataset_128 = data_loading.get_val_dataset(\n",
    "    'FAUST_orig', 'train', 128, canonicalize_fmap=None\n",
    "    )[1]"
   ]
  },
  {
   "cell_type": "code",
   "execution_count": 11,
   "metadata": {},
   "outputs": [
    {
     "data": {
      "image/png": "[encoded data removed]",
      "text/plain": [
       "<Figure size 1000x500 with 3 Axes>"
      ]
     },
     "metadata": {},
     "output_type": "display_data"
    }
   ],
   "source": [
    "import my_code.utils.plotting_utils as plotting_utils\n",
    "\n",
    "l = 0\n",
    "h = 32\n",
    "\n",
    "fig, axs = plt.subplots(1, 3, figsize=(10, 5))\n",
    "\n",
    "plotting_utils.plot_Cxy(fig, axs[0], train_dataset[4]['second']['C_gt_xy'][0],\n",
    "                        'C_xy 55', l, h, show_grid=False, show_colorbar=False)\n",
    "plotting_utils.plot_Cxy(fig, axs[1], train_dataset[67]['second']['C_gt_xy'][0],\n",
    "                        'C_xy 67', l, h, show_grid=False, show_colorbar=False)\n",
    "plotting_utils.plot_Cxy(fig, axs[2], train_dataset[78]['second']['C_gt_xy'][0],\n",
    "                        'C_xy 78', l, h, show_grid=False, show_colorbar=False)\n",
    "\n",
    "\n",
    "\n",
    "plt.show()"
   ]
  },
  {
   "cell_type": "code",
   "execution_count": 4,
   "metadata": {},
   "outputs": [],
   "source": [
    "def flip_random_signs(\n",
    "    C_xy, idx_start, idx_end, n_signs, row_wise\n",
    "):\n",
    "    C_xy = C_xy.clone()\n",
    "    \n",
    "    # randomly sample n non-repeating indices between idx_start and idx_end\n",
    "    idx = np.random.choice(\n",
    "        np.arange(idx_start, idx_end), n_signs, replace=False\n",
    "    )\n",
    "    idx = torch.tensor(idx)\n",
    "    \n",
    "    # print(idx)\n",
    "    \n",
    "    if row_wise:\n",
    "        C_xy[idx] = -C_xy[idx]\n",
    "    else:\n",
    "        C_xy[:, idx] = -C_xy[:, idx]\n",
    "\n",
    "    return C_xy"
   ]
  },
  {
   "cell_type": "code",
   "execution_count": null,
   "metadata": {},
   "outputs": [],
   "source": [
    "data_10 = train_dataset[2]\n",
    "\n",
    "C_gt_xy = data_10['second']['C_gt_xy'][0]\n",
    "\n",
    "# sign_flip = torch.ones(C_gt_xy.shape[0], dtype=torch.float32)\n",
    "# sign_flip[[16, 18, 20]] = -1\n",
    "# sign_flip = sign_flip.unsqueeze(1)\n",
    "# C_xy_err = C_gt_xy * sign_flip\n",
    "\n",
    "C_xy_err = flip_random_signs(\n",
    "    C_gt_xy,\n",
    "    idx_start=20,\n",
    "    idx_end=30,\n",
    "    n_signs=4,\n",
    "    row_wise=True\n",
    ")\n",
    "    \n",
    "\n",
    "l = 0\n",
    "h = 64\n",
    "\n",
    "fig, axs = plt.subplots(1, 3, figsize=(14, 5))\n",
    "\n",
    "plotting_utils.plot_Cxy(fig, axs[0], C_gt_xy,\n",
    "                        'C_xy gt', l, h, show_grid=False, show_colorbar=False)\n",
    "plotting_utils.plot_Cxy(fig, axs[1], C_xy_err,\n",
    "                        'C_xy err', l, h, show_grid=False, show_colorbar=False)\n",
    "plotting_utils.plot_Cxy(fig, axs[2], C_gt_xy - C_xy_err,\n",
    "                        'diff', l, h, show_grid=False, show_colorbar=False)\n",
    "\n",
    "\n",
    "plt.show()"
   ]
  },
  {
   "cell_type": "code",
   "execution_count": 6,
   "metadata": {},
   "outputs": [
    {
     "name": "stdout",
     "output_type": "stream",
     "text": [
      "geo_err_gt tensor(52.4204)\n",
      "geo_err_est tensor(107.3663)\n"
     ]
    }
   ],
   "source": [
    "import my_code.diffusion_training.evaluate_samples as evaluate_samples\n",
    "\n",
    "geo_err_gt, geo_err_est, p2p_gt, p2p_est = evaluate_samples.compare_fmap_with_gt(\n",
    "    Cxy_est=C_xy_err.unsqueeze(0),\n",
    "    data_x=data_10['first'],\n",
    "    data_y=data_10['second']\n",
    ")\n",
    "\n",
    "print('geo_err_gt', geo_err_gt.sum())\n",
    "print('geo_err_est', geo_err_est.sum())"
   ]
  },
  {
   "cell_type": "code",
   "execution_count": 16,
   "metadata": {},
   "outputs": [
    {
     "name": "stderr",
     "output_type": "stream",
     "text": [
      " 46%|████████████████████████████████████████████▏                                                    | 456/1000 [03:50<14:57,  1.65s/it]"
     ]
    },
    {
     "ename": "",
     "evalue": "",
     "output_type": "error",
     "traceback": [
      "\u001b[1;31mThe Kernel crashed while executing code in the current cell or a previous cell. \n",
      "\u001b[1;31mPlease review the code in the cell(s) to identify a possible cause of the failure. \n",
      "\u001b[1;31mClick <a href='https://aka.ms/vscodeJupyterKernelCrash'>here</a> for more info. \n",
      "\u001b[1;31mView Jupyter <a href='command:jupyter.viewOutput'>log</a> for further details."
     ]
    },
    {
     "ename": "",
     "evalue": "",
     "output_type": "error",
     "traceback": [
      "\u001b[1;31mCanceled future for execute_request message before replies were done"
     ]
    },
    {
     "ename": "",
     "evalue": "",
     "output_type": "error",
     "traceback": [
      "\u001b[1;31mCanceled future for execute_request message before replies were done. \n",
      "\u001b[1;31mView Jupyter <a href='command:jupyter.viewOutput'>log</a> for further details."
     ]
    }
   ],
   "source": [
    "from tqdm import tqdm\n",
    "\n",
    "mean_factor_increase_list = []\n",
    "median_factor_increase_list = []\n",
    "max_factor_increase_list = []\n",
    "min_factor_increase_list = []\n",
    "\n",
    "n_sign_flips_list = [1, 2, 4, 8]\n",
    "for n_signs in n_sign_flips_list:\n",
    "    factor_increase_list = torch.tensor([])    \n",
    "    \n",
    "    iterator = tqdm(range(1000))\n",
    "    for _ in iterator:\n",
    "        \n",
    "        # select a random shape\n",
    "        rand_idx = np.random.randint(1, len(train_dataset))\n",
    "        data_10 = train_dataset[rand_idx]\n",
    "        \n",
    "        # get the ground truth C_xy\n",
    "        C_gt_xy = data_10['second']['C_gt_xy'][0]\n",
    "        \n",
    "        # randomly flip the signs\n",
    "        C_xy_err = flip_random_signs(\n",
    "            C_gt_xy,\n",
    "            idx_start=0,\n",
    "            idx_end=64,\n",
    "            n_signs=n_signs,\n",
    "            row_wise=True\n",
    "        )\n",
    "        # calculate the geodesic error\n",
    "        geo_err_gt, geo_err_est, p2p_gt, p2p_est = evaluate_samples.compare_fmap_with_gt(\n",
    "            Cxy_est=C_xy_err.unsqueeze(0),\n",
    "            data_x=data_10['first'],\n",
    "            data_y=data_10['second']\n",
    "        )\n",
    "        factor_increase = geo_err_est.sum() / geo_err_gt.sum()\n",
    "        factor_increase_list = torch.cat([factor_increase_list, factor_increase.unsqueeze(0)])\n",
    "        \n",
    "        if factor_increase > 3:\n",
    "            iterator.set_description(f'factor_increase {factor_increase},shape {rand_idx}')\n",
    "\n",
    "    mean_factor_increase_list.append(factor_increase_list.mean())\n",
    "    median_factor_increase_list.append(factor_increase_list.median())\n",
    "    max_factor_increase_list.append(factor_increase_list.max())\n",
    "    min_factor_increase_list.append(factor_increase_list.min())\n",
    "    \n",
    "    print(f'{n_signs} signs:')\n",
    "    print('mean', factor_increase_list.mean())\n",
    "    print('median', factor_increase_list.median())\n",
    "    print('max', factor_increase_list.max())\n",
    "    print('min', factor_increase_list.min())\n",
    "    print()\n",
    "    \n",
    "\n",
    "# plt.plot(\n",
    "#     mean_factor_increase_list, label='mean')\n",
    "# plt.plot(median_factor_increase_list, label='median')\n",
    "\n",
    "# plot the factors, x axis is the number of signs flipped\n",
    "plt.plot(n_sign_flips_list, mean_factor_increase_list, '.-', label='mean')\n",
    "plt.plot(n_sign_flips_list, median_factor_increase_list, '.-', label='median')\n",
    "\n",
    "plt.title('Factor increase in geodesic error')\n",
    "plt.xlabel('Number of signs flipped')\n",
    "plt.ylabel('Factor increase')\n",
    "plt.legend()\n",
    "plt.show()"
   ]
  },
  {
   "cell_type": "markdown",
   "metadata": {},
   "source": [
    "## Find failed cases"
   ]
  },
  {
   "cell_type": "code",
   "execution_count": 10,
   "metadata": {},
   "outputs": [
    {
     "name": "stderr",
     "output_type": "stream",
     "text": [
      " 20%|███████████████████▎                                                                             | 199/1000 [00:34<02:17,  5.83it/s]\n"
     ]
    },
    {
     "ename": "ValueError",
     "evalue": "factor_increase 2.13, shape 4",
     "output_type": "error",
     "traceback": [
      "\u001b[0;31m---------------------------------------------------------------------------\u001b[0m",
      "\u001b[0;31mValueError\u001b[0m                                Traceback (most recent call last)",
      "Cell \u001b[0;32mIn[10], line 39\u001b[0m\n\u001b[1;32m     36\u001b[0m factor_increase \u001b[38;5;241m=\u001b[39m geo_err_est\u001b[38;5;241m.\u001b[39msum() \u001b[38;5;241m/\u001b[39m geo_err_gt\u001b[38;5;241m.\u001b[39msum()\n\u001b[1;32m     38\u001b[0m \u001b[38;5;28;01mif\u001b[39;00m factor_increase \u001b[38;5;241m>\u001b[39m \u001b[38;5;241m2\u001b[39m:\n\u001b[0;32m---> 39\u001b[0m     \u001b[38;5;28;01mraise\u001b[39;00m \u001b[38;5;167;01mValueError\u001b[39;00m(\u001b[38;5;124mf\u001b[39m\u001b[38;5;124m'\u001b[39m\u001b[38;5;124mfactor_increase \u001b[39m\u001b[38;5;132;01m{\u001b[39;00mfactor_increase\u001b[38;5;132;01m:\u001b[39;00m\u001b[38;5;124m.2f\u001b[39m\u001b[38;5;132;01m}\u001b[39;00m\u001b[38;5;124m, shape \u001b[39m\u001b[38;5;132;01m{\u001b[39;00mrand_idx\u001b[38;5;132;01m}\u001b[39;00m\u001b[38;5;124m'\u001b[39m)\n",
      "\u001b[0;31mValueError\u001b[0m: factor_increase 2.13, shape 4"
     ]
    }
   ],
   "source": [
    "from tqdm import tqdm\n",
    "\n",
    "mean_factor_increase_list = []\n",
    "median_factor_increase_list = []\n",
    "max_factor_increase_list = []\n",
    "min_factor_increase_list = []\n",
    "\n",
    "\n",
    "for n_signs in [1, 2, 4, 8]:\n",
    "    factor_increase_list = torch.tensor([])    \n",
    "    \n",
    "    for _ in tqdm(range(1000)):\n",
    "        \n",
    "        # select a random shape\n",
    "        rand_idx = np.random.randint(1, len(train_dataset))\n",
    "        data_10 = train_dataset[rand_idx]\n",
    "        \n",
    "        # get the ground truth C_xy\n",
    "        C_gt_xy = data_10['second']['C_gt_xy'][0]\n",
    "        \n",
    "        # randomly flip the signs\n",
    "        C_xy_err = flip_random_signs(\n",
    "            C_gt_xy,\n",
    "            idx_start=0,\n",
    "            idx_end=64,\n",
    "            n_signs=n_signs,\n",
    "            row_wise=True\n",
    "        )\n",
    "        # calculate the geodesic error\n",
    "        geo_err_gt, geo_err_est, p2p_gt, p2p_est = evaluate_samples.compare_fmap_with_gt(\n",
    "            Cxy_est=C_xy_err.unsqueeze(0),\n",
    "            data_x=data_10['first'],\n",
    "            data_y=data_10['second']\n",
    "        )\n",
    "        \n",
    "        factor_increase = geo_err_est.sum() / geo_err_gt.sum()\n",
    "        \n",
    "        if factor_increase > 2:\n",
    "            raise ValueError(f'factor_increase {factor_increase:.2f}, shape {rand_idx}')"
   ]
  },
  {
   "cell_type": "code",
   "execution_count": 12,
   "metadata": {},
   "outputs": [
    {
     "data": {
      "image/png": "[encoded data removed]",
      "text/plain": [
       "<Figure size 1400x500 with 3 Axes>"
      ]
     },
     "metadata": {},
     "output_type": "display_data"
    }
   ],
   "source": [
    "l = 0\n",
    "h = 64\n",
    "\n",
    "fig, axs = plt.subplots(1, 3, figsize=(14, 5))\n",
    "\n",
    "plotting_utils.plot_Cxy(fig, axs[0], C_gt_xy,\n",
    "                        'C_xy gt', l, h, show_grid=False, show_colorbar=False)\n",
    "plotting_utils.plot_Cxy(fig, axs[1], C_xy_err,\n",
    "                        'C_xy err', l, h, show_grid=False, show_colorbar=False)\n",
    "plotting_utils.plot_Cxy(fig, axs[2], C_gt_xy - C_xy_err,\n",
    "                        'diff', l, h, show_grid=False, show_colorbar=False)\n",
    "\n",
    "\n",
    "plt.show()"
   ]
  },
  {
   "cell_type": "code",
   "execution_count": 15,
   "metadata": {},
   "outputs": [
    {
     "name": "stdout",
     "output_type": "stream",
     "text": [
      "geo_err_gt tensor(29.0436)\n",
      "geo_err_est tensor(61.9948)\n"
     ]
    }
   ],
   "source": [
    "import my_code.diffusion_training.evaluate_samples as evaluate_samples\n",
    "\n",
    "geo_err_gt, geo_err_est, p2p_gt, p2p_est = evaluate_samples.compare_fmap_with_gt(\n",
    "    Cxy_est=C_xy_err.unsqueeze(0),\n",
    "    data_x=data_10['first'],\n",
    "    data_y=data_10['second']\n",
    ")\n",
    "\n",
    "print('geo_err_gt', geo_err_gt.sum())\n",
    "print('geo_err_est', geo_err_est.sum())"
   ]
  },
  {
   "cell_type": "markdown",
   "metadata": {},
   "source": [
    "## Zoomout refinement"
   ]
  },
  {
   "cell_type": "code",
   "execution_count": null,
   "metadata": {},
   "outputs": [],
   "source": [
    "from pyFM_fork.pyFM.refine.zoomout import zoomout_refine\n",
    "\n",
    "data_10 = train_dataset[12]\n",
    "\n",
    "C_gt_xy = data_10['second']['C_gt_xy'][0][:64, :64]\n",
    "\n",
    "C_xy_err = flip_random_signs(\n",
    "    C_gt_xy,\n",
    "    idx_start=0,\n",
    "    idx_end=30,\n",
    "    n_signs=4,\n",
    "    row_wise=True\n",
    ")\n",
    "Cxy_refined = zoomout_refine(\n",
    "    FM_12=C_xy_err[:48, :48].numpy(), \n",
    "    evects1=data_10['first']['evecs'].numpy(), \n",
    "    evects2=data_10['second']['evecs'].numpy(),\n",
    "    nit=16, step=1,\n",
    "    verbose=True\n",
    ")\n",
    "\n",
    "l = 0\n",
    "h = 32\n",
    "\n",
    "fig, axs = plt.subplots(1, 3, figsize=(14, 5))\n",
    "\n",
    "plotting_utils.plot_Cxy(fig, axs[0], C_gt_xy,\n",
    "                        'C_xy gt', l, h, show_grid=False, show_colorbar=False)\n",
    "plotting_utils.plot_Cxy(fig, axs[1], C_gt_xy - C_xy_err,\n",
    "                        'C_xy err', l, h, show_grid=False, show_colorbar=False)\n",
    "plotting_utils.plot_Cxy(fig, axs[2], C_gt_xy - Cxy_refined,\n",
    "                        'diff', l, h, show_grid=False, show_colorbar=False)\n",
    "plt.show()"
   ]
  },
  {
   "cell_type": "code",
   "execution_count": null,
   "metadata": {},
   "outputs": [],
   "source": [
    "Cxy_refined = torch.tensor(Cxy_refined)\n",
    "\n",
    "geo_err_gt, geo_err_ref, _, _ = evaluate_samples.compare_fmap_with_gt(\n",
    "    Cxy_est=Cxy_refined.unsqueeze(0),\n",
    "    data_x=data_10['first'],\n",
    "    data_y=data_10['second']\n",
    ")\n",
    "geo_err_gt, geo_err_err, _, _ = evaluate_samples.compare_fmap_with_gt(\n",
    "    Cxy_est=C_xy_err.unsqueeze(0),\n",
    "    data_x=data_10['first'],\n",
    "    data_y=data_10['second']\n",
    ")\n",
    "\n",
    "print('geo_err_gt', geo_err_gt.sum())\n",
    "print('geo_err_err', geo_err_err.sum())\n",
    "print('geo_err_ref', geo_err_ref.sum())\n",
    "\n"
   ]
  }
 ],
 "metadata": {
  "kernelspec": {
   "display_name": "Python 3 (ipykernel)",
   "language": "python",
   "name": "python3"
  },
  "language_info": {
   "codemirror_mode": {
    "name": "ipython",
    "version": 3
   },
   "file_extension": ".py",
   "mimetype": "text/x-python",
   "name": "python",
   "nbconvert_exporter": "python",
   "pygments_lexer": "ipython3",
   "version": "3.8.19"
  }
 },
 "nbformat": 4,
 "nbformat_minor": 2
}
