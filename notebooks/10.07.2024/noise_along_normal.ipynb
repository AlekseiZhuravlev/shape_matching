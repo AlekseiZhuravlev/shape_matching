{
 "cells": [
  {
   "cell_type": "code",
   "execution_count": null,
   "metadata": {},
   "outputs": [],
   "source": [
    "import torch\n",
    "import numpy as np\n",
    "import matplotlib.pyplot as plt\n",
    "\n",
    "import trimesh\n",
    "\n",
    "scene = trimesh.Scene()"
   ]
  },
  {
   "cell_type": "code",
   "execution_count": null,
   "metadata": {},
   "outputs": [],
   "source": [
    "import my_code.diffusion_training.data_loading as data_loading\n",
    "\n",
    "train_dataset = data_loading.get_val_dataset(\n",
    "    'FAUST_orig', 'train', 200, canonicalize_fmap=None\n",
    "    )[1]\n",
    "test_dataset = data_loading.get_val_dataset(\n",
    "    'FAUST_orig', 'test', 200, canonicalize_fmap=None\n",
    ")[1]"
   ]
  },
  {
   "cell_type": "code",
   "execution_count": null,
   "metadata": {},
   "outputs": [],
   "source": [
    "import my_code.utils.plotting_utils as plotting_utils\n",
    "\n",
    "l = 0\n",
    "h = 32\n",
    "\n",
    "fig, axs = plt.subplots(1, 3, figsize=(10, 5))\n",
    "\n",
    "plotting_utils.plot_Cxy(fig, axs[0], train_dataset[55]['second']['C_gt_xy'][0],\n",
    "                        'C_xy 55', l, h, show_grid=False, show_colorbar=False)\n",
    "plotting_utils.plot_Cxy(fig, axs[1], train_dataset[67]['second']['C_gt_xy'][0],\n",
    "                        'C_xy 67', l, h, show_grid=False, show_colorbar=False)\n",
    "plotting_utils.plot_Cxy(fig, axs[2], train_dataset[78]['second']['C_gt_xy'][0],\n",
    "                        'C_xy 78', l, h, show_grid=False, show_colorbar=False)\n",
    "\n",
    "\n",
    "\n",
    "plt.show()"
   ]
  },
  {
   "cell_type": "markdown",
   "metadata": {},
   "source": [
    "## Gaussian noise"
   ]
  },
  {
   "cell_type": "code",
   "execution_count": null,
   "metadata": {},
   "outputs": [],
   "source": [
    "import utils.geometry_util as geometry_util\n",
    "\n",
    "verts = train_dataset[15]['second']['verts']\n",
    "faces = train_dataset[15]['second']['faces']\n",
    "\n",
    "# augment the vertices\n",
    "verts_aug = geometry_util.data_augmentation(verts.unsqueeze(0),\n",
    "                                        # rot_x=0.0, rot_y=90.0, rot_z=0.0,\n",
    "                                        rot_x=0.0, rot_y=0.0, rot_z=0.0,\n",
    "                                        std=0.01,\n",
    "                                        scale_min=1, scale_max=1\n",
    "                                        )[0]"
   ]
  },
  {
   "cell_type": "code",
   "execution_count": null,
   "metadata": {},
   "outputs": [],
   "source": [
    "scene.geometry.clear()\n",
    "\n",
    "scene.add_geometry(trimesh.Trimesh(\n",
    "    vertices=verts + torch.tensor([0, 0, 0]),\n",
    "    faces=faces)\n",
    ")\n",
    "\n",
    "scene.add_geometry(trimesh.Trimesh(\n",
    "    vertices=verts_aug + torch.tensor([1, 0, 0]),\n",
    "    faces=faces)\n",
    ")\n",
    "    \n",
    "    \n",
    "axis = trimesh.creation.axis(axis_length=1)\n",
    "scene.add_geometry(axis)\n",
    "scene.show()"
   ]
  },
  {
   "cell_type": "markdown",
   "metadata": {},
   "source": [
    "## Noise along normal"
   ]
  },
  {
   "cell_type": "code",
   "execution_count": null,
   "metadata": {},
   "outputs": [],
   "source": [
    "import utils.geometry_util as geometry_util\n",
    "\n",
    "verts = train_dataset[15]['second']['verts']\n",
    "faces = train_dataset[15]['second']['faces']\n",
    "\n",
    "\n",
    "vert_normals = geometry_util.vertex_normal(verts, faces)"
   ]
  },
  {
   "cell_type": "code",
   "execution_count": null,
   "metadata": {},
   "outputs": [],
   "source": [
    "# for each vertex, add gaussian noise along the normal\n",
    "std = 0.01\n",
    "noise_clip = 0.05\n",
    "\n",
    "# random noise\n",
    "noise = std * torch.randn(verts.shape[0]).to(verts.device)\n",
    "noise = noise.clamp(-noise_clip, noise_clip)\n",
    "# noise = noise.repeat(3, 1).t()\n",
    "noise = noise.unsqueeze(1)\n",
    "\n",
    "verts_norm_noise = verts + noise * vert_normals\n",
    "\n",
    "# assert torch.allclose(verts + noise.unsqueeze(1) * vert_normals, verts + noise.repeat(3, 1).t() * vert_normals)"
   ]
  },
  {
   "cell_type": "code",
   "execution_count": null,
   "metadata": {},
   "outputs": [],
   "source": [
    "noise"
   ]
  },
  {
   "cell_type": "code",
   "execution_count": null,
   "metadata": {},
   "outputs": [],
   "source": [
    "scene.geometry.clear()\n",
    "\n",
    "scene.add_geometry(trimesh.Trimesh(\n",
    "    vertices=verts + torch.tensor([0, 0, 0]),\n",
    "    faces=faces)\n",
    ")\n",
    "scene.add_geometry(trimesh.Trimesh(\n",
    "    vertices=verts_aug + torch.tensor([1, 0, 0]),\n",
    "    faces=faces)\n",
    ")\n",
    "scene.add_geometry(trimesh.Trimesh(\n",
    "    vertices=verts_norm_noise + torch.tensor([2, 0, 0]),\n",
    "    faces=faces)\n",
    ")\n",
    "    \n",
    "    \n",
    "axis = trimesh.creation.axis(axis_length=1)\n",
    "scene.add_geometry(axis)\n",
    "scene.show()"
   ]
  },
  {
   "cell_type": "code",
   "execution_count": null,
   "metadata": {},
   "outputs": [],
   "source": [
    "import importlib\n",
    "importlib.reload(geometry_util)"
   ]
  },
  {
   "cell_type": "code",
   "execution_count": null,
   "metadata": {},
   "outputs": [],
   "source": [
    "import utils.geometry_util as geometry_util\n",
    "\n",
    "verts = train_dataset[15]['second']['verts']\n",
    "faces = train_dataset[15]['second']['faces']"
   ]
  },
  {
   "cell_type": "code",
   "execution_count": null,
   "metadata": {},
   "outputs": [],
   "source": [
    "verts_gauss = geometry_util.data_augmentation(verts.unsqueeze(0),\n",
    "                                              faces=faces.unsqueeze(0),\n",
    "                                              rot_x=0,\n",
    "                                              rot_y=90.0, \n",
    "                                              rot_z=0, \n",
    "                                              std=0.01,\n",
    "                                              noise_clip=0.05,\n",
    "                                              along_normal=False, \n",
    "                                              scale_min=0.9, \n",
    "                                              scale_max=1.1\n",
    ")\n",
    "verts_normal = geometry_util.data_augmentation(verts.unsqueeze(0),\n",
    "                                              faces=faces.unsqueeze(0),\n",
    "                                              rot_x=0,\n",
    "                                              rot_y=90.0, \n",
    "                                              rot_z=0, \n",
    "                                              std=0.01,\n",
    "                                              noise_clip=0.05,\n",
    "                                              along_normal=True, \n",
    "                                              scale_min=0.9, \n",
    "                                              scale_max=1.1\n",
    ")\n",
    "\n",
    "\n",
    "scene.geometry.clear()\n",
    "\n",
    "scene.add_geometry(trimesh.Trimesh(\n",
    "    vertices=verts + torch.tensor([0, 0, 0]),\n",
    "    faces=faces)\n",
    ")\n",
    "scene.add_geometry(trimesh.Trimesh(\n",
    "    vertices=verts_gauss[0] + torch.tensor([1, 0, 0]),\n",
    "    faces=faces)\n",
    ")\n",
    "scene.add_geometry(trimesh.Trimesh(\n",
    "    vertices=verts_normal[0] + torch.tensor([2, 0, 0]),\n",
    "    faces=faces)\n",
    ")\n",
    "    \n",
    "axis = trimesh.creation.axis(axis_length=1)\n",
    "scene.add_geometry(axis)\n",
    "scene.show()"
   ]
  },
  {
   "cell_type": "markdown",
   "metadata": {},
   "source": [
    "## Check the generated meshes"
   ]
  },
  {
   "cell_type": "code",
   "execution_count": null,
   "metadata": {},
   "outputs": [],
   "source": [
    "import my_code.sign_canonicalization.training as sign_training\n",
    "\n",
    "train_folder = 'FAUST_orig_train_rot_180_180_180_normal_True_noise_0.01_-0.05_0.05_lapl_mesh_scale_0.9_1.1'\n",
    "test_folder = 'FAUST_orig_test_rot_180_180_180_normal_True_noise_0.01_-0.05_0.05_lapl_mesh_scale_0.9_1.1'\n",
    "\n",
    "train_shapes, train_diff_folder = sign_training.load_cached_shapes(\n",
    "    f'/home/s94zalek_hpc/shape_matching/data_sign_training/train/{train_folder}',\n",
    "    lapl_type='mesh'\n",
    ")\n",
    "\n",
    "test_shapes, test_diff_folder = sign_training.load_cached_shapes(\n",
    "    f'/home/s94zalek_hpc/shape_matching/data_sign_training/test/{test_folder}',\n",
    "    lapl_type='mesh'\n",
    ")"
   ]
  },
  {
   "cell_type": "code",
   "execution_count": null,
   "metadata": {},
   "outputs": [],
   "source": [
    "# add 4 random training shapes to trimesh scene\n",
    "\n",
    "# np.random.shuffle(train_shapes)\n",
    "scene.geometry.clear()\n",
    "\n",
    "rand_idx_train = np.random.randint(0, len(train_shapes), 5)\n",
    "rand_idx_test = np.random.randint(0, len(test_shapes), 5)\n",
    "\n",
    "for i, idx in enumerate(rand_idx_train):\n",
    "    scene.add_geometry(trimesh.Trimesh(\n",
    "        vertices=train_shapes[idx]['verts'] + torch.tensor([i, 0, 0]),\n",
    "        faces=train_shapes[idx]['faces']))\n",
    "    \n",
    "for i, idx in enumerate(rand_idx_test):\n",
    "    scene.add_geometry(trimesh.Trimesh(\n",
    "        vertices=test_shapes[idx]['verts'] + torch.tensor([i, -1, 0]),\n",
    "        faces=test_shapes[idx]['faces']))\n",
    "    \n",
    "axis = trimesh.creation.axis(axis_length=1)\n",
    "scene.add_geometry(axis)\n",
    "scene.show()"
   ]
  },
  {
   "cell_type": "code",
   "execution_count": null,
   "metadata": {},
   "outputs": [],
   "source": []
  }
 ],
 "metadata": {
  "kernelspec": {
   "display_name": "Python 3 (ipykernel)",
   "language": "python",
   "name": "python3"
  }
 },
 "nbformat": 4,
 "nbformat_minor": 2
}
