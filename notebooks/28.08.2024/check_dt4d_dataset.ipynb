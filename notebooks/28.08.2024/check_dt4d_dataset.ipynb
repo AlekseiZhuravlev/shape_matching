{
 "cells": [
  {
   "cell_type": "code",
   "execution_count": null,
   "metadata": {},
   "outputs": [],
   "source": [
    "import my_code.datasets.shape_dataset as shape_dataset\n",
    "\n",
    "dataset_dt4d = shape_dataset.SingleDT4DDataset(\n",
    "    data_root='data/DT4D_r', phase='test',\n",
    "    lb_cache_dir='data/DT4D_r/diffusion',\n",
    "                 return_faces=True,\n",
    "                 return_evecs=True, num_evecs=200,\n",
    "                 return_corr=True, return_dist=False)"
   ]
  },
  {
   "cell_type": "code",
   "execution_count": null,
   "metadata": {},
   "outputs": [],
   "source": [
    "from tqdm import tqdm\n",
    "\n",
    "for i in tqdm(range(len(dataset_dt4d))):\n",
    "    data = dataset_dt4d[i]"
   ]
  },
  {
   "cell_type": "code",
   "execution_count": null,
   "metadata": {},
   "outputs": [],
   "source": [
    "import my_code.diffusion_training_sign_corr.data_loading as data_loading\n",
    "\n",
    "test_dataset_curr = data_loading.get_val_dataset(\n",
    "    'DT4D_inter_pair', 'test', 200, canonicalize_fmap=None, preload=False, return_evecs=True\n",
    "    )[1]"
   ]
  },
  {
   "cell_type": "code",
   "execution_count": null,
   "metadata": {},
   "outputs": [],
   "source": [
    "for i in tqdm(range(len(test_dataset_curr))):\n",
    "    data = test_dataset_curr[i]"
   ]
  },
  {
   "cell_type": "code",
   "execution_count": null,
   "metadata": {},
   "outputs": [],
   "source": [
    "import trimesh\n",
    "\n",
    "scene = trimesh.Scene()"
   ]
  },
  {
   "cell_type": "code",
   "execution_count": null,
   "metadata": {},
   "outputs": [],
   "source": [
    "import torch\n",
    "\n",
    "scene.geometry.clear()\n",
    "\n",
    "for i in range(30, 35):\n",
    "    mesh_i = trimesh.Trimesh(\n",
    "        dataset_dt4d[i]['verts'] + torch.tensor([i, 0, 0]),\n",
    "        dataset_dt4d[i]['faces'],\n",
    "    )\n",
    "    scene.add_geometry(mesh_i)\n",
    "    \n",
    "scene.show()"
   ]
  },
  {
   "cell_type": "code",
   "execution_count": null,
   "metadata": {},
   "outputs": [],
   "source": [
    "pair_dt4d = shape_dataset.PairDT4DDataset(\n",
    "    dataset=dataset_dt4d,\n",
    "    inter_class=True,\n",
    "    cache_base_dataset=False,\n",
    ")"
   ]
  },
  {
   "cell_type": "code",
   "execution_count": null,
   "metadata": {},
   "outputs": [],
   "source": [
    "len(pair_dt4d)"
   ]
  },
  {
   "cell_type": "code",
   "execution_count": null,
   "metadata": {},
   "outputs": [],
   "source": [
    "import torch\n",
    "\n",
    "data_12 = pair_dt4d[12]\n",
    "\n",
    "scene.geometry.clear()\n",
    "\n",
    "mesh_1 = trimesh.Trimesh(\n",
    "    data_12['first']['verts'],\n",
    "    data_12['first']['faces'],\n",
    ")\n",
    "mesh_2 = trimesh.Trimesh(\n",
    "    data_12['second']['verts'] + torch.tensor([1, 0, 0]),\n",
    "    data_12['second']['faces'],\n",
    ")\n",
    "\n",
    "scene.add_geometry(mesh_1)\n",
    "scene.add_geometry(mesh_2)\n",
    "\n",
    "scene.show()"
   ]
  },
  {
   "cell_type": "code",
   "execution_count": null,
   "metadata": {},
   "outputs": [],
   "source": [
    "import matplotlib.pyplot as plt\n",
    "import my_code.utils.plotting_utils as plotting_utils\n",
    "\n",
    "\n",
    "fig, axs = plt.subplots(1, 2, figsize=(6, 4))\n",
    "\n",
    "l = 0\n",
    "h = 32\n",
    "\n",
    "plotting_utils.plot_Cxy(fig, axs[0], data_12['second']['C_gt_xy'][0],\n",
    "                        f'Cxy', l, h, show_grid=False, show_colorbar=False)\n",
    "plotting_utils.plot_Cxy(fig, axs[1], data_12['second']['C_gt_yx'][0],\n",
    "                        f'Cxy', l, h, show_grid=False, show_colorbar=False)\n",
    "\n",
    "plt.show()"
   ]
  }
 ],
 "metadata": {
  "kernelspec": {
   "display_name": "Python 3 (ipykernel)",
   "language": "python",
   "name": "python3"
  },
  "language_info": {
   "codemirror_mode": {
    "name": "ipython",
    "version": 3
   },
   "file_extension": ".py",
   "mimetype": "text/x-python",
   "name": "python",
   "nbconvert_exporter": "python",
   "pygments_lexer": "ipython3",
   "version": "3.8.19"
  }
 },
 "nbformat": 4,
 "nbformat_minor": 2
}
