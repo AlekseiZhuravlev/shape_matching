{
 "cells": [
  {
   "cell_type": "code",
   "execution_count": null,
   "metadata": {},
   "outputs": [],
   "source": [
    "import torch\n",
    "\n",
    "data_Cyx = torch.load('/lustre/mlnvme/data/s94zalek_hpc-shape_matching/SURREAL/train/SURREAL_augShapes_anisRemesh_signNet_64_remeshed_mass_6b_1ev_10_0.2_0.8/train/C_gt_yx.pt',\n",
    "                      mmap=True)\n"
   ]
  },
  {
   "cell_type": "code",
   "execution_count": null,
   "metadata": {},
   "outputs": [],
   "source": [
    "data_Cyx = data_Cyx.float().reshape(-1, 64, 64)"
   ]
  },
  {
   "cell_type": "code",
   "execution_count": null,
   "metadata": {},
   "outputs": [],
   "source": [
    "import matplotlib.pyplot as plt\n",
    "import my_code.utils.plotting_utils as plotting_utils\n",
    "\n",
    "\n",
    "fig, axs = plt.subplots(1, 2, figsize=(6, 4))\n",
    "\n",
    "l = 0\n",
    "h = 32\n",
    "\n",
    "plotting_utils.plot_Cxy(fig, axs[0], data_Cyx[20].reshape(64, 64),\n",
    "                        f'Cxy', l, h, show_grid=False, show_colorbar=False)\n",
    "plotting_utils.plot_Cxy(fig, axs[1], data_Cyx[219088].reshape(64, 64),\n",
    "                        f'Cxy', l, h, show_grid=False, show_colorbar=False)\n",
    "\n",
    "plt.show()"
   ]
  },
  {
   "cell_type": "code",
   "execution_count": null,
   "metadata": {},
   "outputs": [],
   "source": [
    "from my_code.datasets.surreal_cached_train_dataset import SurrealTrainDataset\n",
    "\n",
    "config = {\n",
    "    'experiment_name': 'single_64_anisRemesh_signNet_64_remeshed_mass_6b_1ev_10_0.2_0.8',\n",
    "    \n",
    "    'dataset_base_dir': '/lustre/mlnvme/data/s94zalek_hpc-shape_matching/SURREAL/train/',\n",
    "    'dataset_name': 'SURREAL_augShapes_anisRemesh_signNet_64_remeshed_mass_6b_1ev_10_0.2_0.8',\n",
    "    'fmap_direction': 'yx',\n",
    "    'fmap_type': 'orig',\n",
    "    'conditioning_types': {'evecs'},\n",
    "    \n",
    "    'n_epochs': 100,\n",
    "    'validate_every': 5,\n",
    "    'checkpoint_every': 5,\n",
    "    \n",
    "    'batch_size': 128,\n",
    "    'eval_batch_size': 128,\n",
    "    \n",
    "    'model_params': {\n",
    "        'sample_size': 64,\n",
    "        'in_channels': 3,\n",
    "        'out_channels': 1,\n",
    "        'layers_per_block': 2,\n",
    "        'block_out_channels': (32, 64, 64),\n",
    "        'down_block_types': (\n",
    "            \"DownBlock2D\",\n",
    "            \"AttnDownBlock2D\",\n",
    "            \"AttnDownBlock2D\",\n",
    "        ),\n",
    "        'up_block_types': (\n",
    "            \"AttnUpBlock2D\",\n",
    "            \"AttnUpBlock2D\",\n",
    "            \"UpBlock2D\",\n",
    "        ),\n",
    "    },\n",
    "}  \n",
    "\n",
    "dataset_train = SurrealTrainDataset(\n",
    "    # f'data/SURREAL_full/full_datasets/{config[\"dataset_name\"]}/train',\n",
    "    f'{config[\"dataset_base_dir\"]}/{config[\"dataset_name\"]}/train',\n",
    "    fmap_direction=config[\"fmap_direction\"],\n",
    "    fmap_input_type=config[\"fmap_type\"],\n",
    "    conditioning_types=config[\"conditioning_types\"]\n",
    "    )"
   ]
  },
  {
   "cell_type": "code",
   "execution_count": null,
   "metadata": {},
   "outputs": [],
   "source": [
    "x, y = dataset_train[45]\n",
    "\n",
    "print(x.shape, y.shape)"
   ]
  },
  {
   "cell_type": "code",
   "execution_count": null,
   "metadata": {},
   "outputs": [],
   "source": [
    "fig, axs = plt.subplots(1, 3, figsize=(10, 5))\n",
    "\n",
    "l = 0\n",
    "h = 64\n",
    "\n",
    "plotting_utils.plot_Cxy(fig, axs[0], x[0],\n",
    "                        f'Cxy', l, h, show_grid=False, show_colorbar=False)\n",
    "plotting_utils.plot_Cxy(fig, axs[1], y[0],\n",
    "                        f'Cxy', l, h, show_grid=False, show_colorbar=False)\n",
    "plotting_utils.plot_Cxy(fig, axs[2], y[1],\n",
    "                        f'Cxy', l, h, show_grid=False, show_colorbar=False)\n",
    "\n",
    "plt.show()"
   ]
  },
  {
   "cell_type": "code",
   "execution_count": null,
   "metadata": {},
   "outputs": [],
   "source": []
  }
 ],
 "metadata": {
  "kernelspec": {
   "display_name": "Python 3 (ipykernel)",
   "language": "python",
   "name": "python3"
  }
 },
 "nbformat": 4,
 "nbformat_minor": 2
}
