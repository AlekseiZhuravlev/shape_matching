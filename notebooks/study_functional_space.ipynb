{
 "cells": [
  {
   "cell_type": "code",
   "execution_count": 1,
   "metadata": {},
   "outputs": [
    {
     "name": "stdout",
     "output_type": "stream",
     "text": [
      "Jupyter environment detected. Enabling Open3D WebVisualizer.\n",
      "[Open3D INFO] WebRTC GUI backend enabled.\n",
      "[Open3D INFO] WebRTCWindowSystem: HTTP handshake server disabled.\n",
      "/home/s94zalek/shape_matching\n"
     ]
    }
   ],
   "source": [
    "import datetime\n",
    "import sys\n",
    "sys.path.append('/home/s94zalek/shape_matching')\n",
    "\n",
    "import math\n",
    "import time\n",
    "from os import path as osp\n",
    "\n",
    "import torch.cuda\n",
    "\n",
    "from datasets import build_dataloader, build_dataset\n",
    "from datasets.data_sampler import EnlargedSampler\n",
    "\n",
    "from models import build_model\n",
    "from utils import (AvgTimer, MessageLogger, get_env_info, get_root_logger,\n",
    "                   init_tb_logger)\n",
    "from utils.options import dict2str, parse_options\n",
    "\n",
    "from train import create_train_val_dataloader\n",
    "\n",
    "import os\n",
    "os.chdir('/home/s94zalek/shape_matching')\n",
    "\n",
    "# print current working directory\n",
    "print(os.getcwd())"
   ]
  },
  {
   "cell_type": "code",
   "execution_count": 2,
   "metadata": {},
   "outputs": [
    {
     "name": "stdout",
     "output_type": "stream",
     "text": [
      "Backend DataParallel.\n",
      "Path already exists. Rename it to /home/s94zalek/shape_matching/results/faust_archived_20240407_115747\n"
     ]
    }
   ],
   "source": [
    "import os\n",
    "\n",
    "# root_path = osp.abspath(osp.join(__file__, osp.pardir))\n",
    "root_path = '/home/s94zalek/shape_matching'\n",
    "\n",
    "opt = parse_options(root_path, is_train=False, use_argparse=False)\n",
    "\n",
    "opt['root_path'] = root_path\n",
    "\n",
    "# create train and validation dataloaders\n",
    "result = create_train_val_dataloader(opt)\n",
    "train_loader, train_sampler, val_loader, total_epochs, total_iters = result\n",
    "\n",
    "test_set = build_dataset(opt['datasets']['test_dataset'])\n",
    "test_loader = build_dataloader(\n",
    "test_set, opt['datasets']['test_dataset'], phase='val', num_gpu=opt['num_gpu'], dist=opt['dist'], sampler=None, seed=opt['manual_seed'])\n"
   ]
  }
 ],
 "metadata": {
  "kernelspec": {
   "display_name": "Python 3 (ipykernel)",
   "language": "python",
   "name": "python3"
  },
  "language_info": {
   "codemirror_mode": {
    "name": "ipython",
    "version": 3
   },
   "file_extension": ".py",
   "mimetype": "text/x-python",
   "name": "python",
   "nbconvert_exporter": "python",
   "pygments_lexer": "ipython3",
   "version": "3.8.19"
  }
 },
 "nbformat": 4,
 "nbformat_minor": 2
}
