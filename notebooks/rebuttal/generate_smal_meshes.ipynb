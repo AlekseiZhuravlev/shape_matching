{
 "cells": [
  {
   "cell_type": "code",
   "execution_count": 1,
   "metadata": {},
   "outputs": [],
   "source": [
    "import trimesh\n",
    "\n",
    "scene = trimesh.Scene()"
   ]
  },
  {
   "cell_type": "code",
   "execution_count": 2,
   "metadata": {},
   "outputs": [],
   "source": [
    "from my_code.datasets.smpl_webuser.serialization import load_model\n",
    "from my_code.datasets.smal_online.my_mesh.mesh import myMesh\n",
    "import pickle as pkl\n",
    "\n",
    "# Load the smal model \n",
    "model_path = '/home/s94zalek_hpc/shape_matching/my_code/datasets/smal_online/smal_CVPR2017.pkl'\n",
    "model = load_model(model_path)"
   ]
  },
  {
   "cell_type": "code",
   "execution_count": 3,
   "metadata": {},
   "outputs": [],
   "source": [
    "# Save the mean model\n",
    "# model.r are the model vertexes, and model.f are the mesh faces.\n",
    "\n",
    "mesh_mean = trimesh.Trimesh(vertices=model.r, faces=model.f)"
   ]
  },
  {
   "cell_type": "code",
   "execution_count": 4,
   "metadata": {},
   "outputs": [],
   "source": [
    "# Load the family clusters data (see paper for details)\n",
    "# and save the mean per-family shape\n",
    "# 0-felidae(cats); 1-canidae(dogs); 2-equidae(horses);\n",
    "# 3-bovidae(cows); 4-hippopotamidae(hippos);\n",
    "# The clusters are over the shape coefficients (betas);\n",
    "# setting different betas changes the shape of the model\n",
    "\n",
    "model_data_path = '/home/s94zalek_hpc/shape_matching/my_code/datasets/smal_online/smal_CVPR2017_data.pkl'\n",
    "with open(model_data_path, 'rb') as model_data_path:\n",
    "    data = pkl.load(model_data_path, encoding=\"latin1\")"
   ]
  },
  {
   "cell_type": "code",
   "execution_count": null,
   "metadata": {},
   "outputs": [],
   "source": [
    "import numpy as np\n",
    "\n",
    "scene.geometry.clear()\n",
    "\n",
    "for i, betas in enumerate(data['cluster_means']):\n",
    "    model.betas[:] = betas\n",
    "    model.pose[:] = 0.\n",
    "    model.trans[:] = 0.\n",
    "    # m = myMesh(v=model.r, f=model.f)\n",
    "    # m.save_ply('family_'+str(i)+'.ply')\n",
    "    \n",
    "    mesh_i = trimesh.Trimesh(\n",
    "        vertices=model.r + np.array([2*i, 0, 0]),\n",
    "        faces=model.f)\n",
    "    \n",
    "    scene.add_geometry(mesh_i)\n",
    "    \n",
    "print('saved mean per-family shape')\n",
    "\n",
    "scene.show()\n"
   ]
  },
  {
   "cell_type": "code",
   "execution_count": null,
   "metadata": {},
   "outputs": [],
   "source": [
    "scene.geometry.clear()\n",
    "\n",
    "# Show the toys in T-pose\n",
    "for i, betas in enumerate(data['toys_betas']):\n",
    "    model.betas[:] = betas\n",
    "    model.pose[:] = 0.\n",
    "    model.trans[:] = 0.\n",
    "    # m = myMesh(v=model.r, f=model.f)\n",
    "    # m.save_ply('toy_'+str(i)+'.ply')\n",
    "    \n",
    "    mesh_i = trimesh.Trimesh(\n",
    "        vertices=model.r + np.array([2*i, 0, 0]),\n",
    "        faces=model.f)\n",
    "    \n",
    "    scene.add_geometry(mesh_i)\n",
    "    \n",
    "print('saved toys in t-pose')\n",
    "\n",
    "scene.show()\n"
   ]
  },
  {
   "cell_type": "code",
   "execution_count": null,
   "metadata": {},
   "outputs": [],
   "source": [
    "data['toys_betas'].shape"
   ]
  },
  {
   "cell_type": "code",
   "execution_count": null,
   "metadata": {},
   "outputs": [],
   "source": [
    "data['cluster_means'].shape"
   ]
  },
  {
   "cell_type": "code",
   "execution_count": null,
   "metadata": {},
   "outputs": [],
   "source": [
    "data['cluster_means'].max()"
   ]
  },
  {
   "cell_type": "markdown",
   "metadata": {},
   "source": [
    "## Generate data"
   ]
  },
  {
   "cell_type": "code",
   "execution_count": null,
   "metadata": {},
   "outputs": [],
   "source": [
    "betas = data['cluster_means'][4]\n",
    "\n",
    "model.betas[:] = betas\n",
    "model.pose[:] = 0.\n",
    "model.trans[:] = 0.\n",
    "\n",
    "scene.geometry.clear()\n",
    "\n",
    "for i in range(10):\n",
    "    model.pose[0:3]=0\n",
    "    model.pose[3:]=0.2 * np.random.randn(96)\n",
    "    \n",
    "    \n",
    "    # print(model.betas)\n",
    "    \n",
    "    # model.betas[:] = betas + 0.5 * np.random.randn(*betas.shape)\n",
    "    \n",
    "    print(model.r)\n",
    "    \n",
    "    # print(model.betas)\n",
    "    \n",
    "    \n",
    "    \n",
    "    mesh_i = trimesh.Trimesh(\n",
    "        vertices=model.r + np.array([3*i, 0, 0]),\n",
    "        faces=model.f)\n",
    "    \n",
    "    \n",
    "    scene.add_geometry(mesh_i)\n",
    "\n",
    "scene.show()\n",
    " "
   ]
  },
  {
   "cell_type": "code",
   "execution_count": 44,
   "metadata": {},
   "outputs": [],
   "source": [
    "import my_code.datasets.preprocessing as preprocessing\n",
    "import torch\n",
    "\n",
    "\n",
    "def process_mesh(mesh):\n",
    "\n",
    "    item = dict()\n",
    "\n",
    "    item['verts'] = torch.from_numpy(mesh.vertices).float()\n",
    "    item['faces'] = torch.from_numpy(mesh.faces).long()\n",
    "            \n",
    "    # item['verts'] = preprocessing.center_bbox(item['verts'])\n",
    "\n",
    "    # normalize vertices by area\n",
    "    item['verts'] = preprocessing.normalize_face_area(item['verts'], item['faces'])\n",
    "\n",
    "\n",
    "    item = preprocessing.get_spectral_ops(item, num_evecs=32,\n",
    "                                                    cache_dir=None)\n",
    "    \n",
    "    mesh_out = trimesh.Trimesh(vertices=item['verts'].numpy(), faces=item['faces'].numpy())\n",
    "    \n",
    "    return item, mesh_out\n"
   ]
  },
  {
   "cell_type": "code",
   "execution_count": null,
   "metadata": {},
   "outputs": [],
   "source": [
    "betas = data['cluster_means'][0]\n",
    "\n",
    "model.betas[:] = betas\n",
    "model.pose[:] = 0.\n",
    "model.trans[:] = 0.\n",
    "\n",
    "\n",
    "model.pose[0:3]=0\n",
    "model.pose[3:]=0.2 * np.random.randn(96)\n",
    "# model.betas[:] = betas + 0.5 * np.random.randn(*betas.shape)\n",
    "    \n",
    "mesh_1_trimesh = trimesh.Trimesh(\n",
    "    vertices=model.r,\n",
    "    faces=model.f)\n",
    "\n",
    "mesh_1, mesh_1_trimesh = process_mesh(mesh_1_trimesh)\n",
    "\n",
    "\n",
    "\n",
    "\n",
    "betas = data['cluster_means'][0]\n",
    "\n",
    "model.betas[:] = betas\n",
    "model.pose[:] = 0.\n",
    "model.trans[:] = 0.\n",
    "\n",
    "\n",
    "model.pose[0:3]=0\n",
    "model.pose[3:]=0.2 * np.random.randn(96)\n",
    "# model.betas[:] = betas + 0.5 * np.random.randn(*betas.shape)\n",
    "    \n",
    "mesh_2_trimesh = trimesh.Trimesh(\n",
    "    vertices=model.r + np.array([0, 0, 0]),\n",
    "    faces=model.f)\n",
    "\n",
    "mesh_2, mesh_2_trimesh = process_mesh(mesh_2_trimesh)   \n",
    "\n",
    "\n",
    "\n",
    "\n",
    "scene.geometry.clear()\n",
    "\n",
    "plotting_utils.plot_p2p_map(\n",
    "    scene,\n",
    "    \n",
    "    \n",
    "    mesh_2['verts'], mesh_2['faces'],\n",
    "    mesh_1['verts'], mesh_1['faces'],\n",
    "    \n",
    "    torch.arange(mesh_1['verts'].shape[0]).int(),\n",
    "    axes_color_gradient=[0, 1],\n",
    "    base_cmap='hsv'\n",
    ")\n",
    "\n",
    "scene.show()"
   ]
  },
  {
   "cell_type": "code",
   "execution_count": null,
   "metadata": {},
   "outputs": [],
   "source": [
    "import my_code.utils.plotting_utils as plotting_utils\n",
    "import matplotlib.pyplot as plt\n",
    "import torch\n",
    "\n",
    "\n",
    "C_gt_xy_lstsq = torch.linalg.lstsq(\n",
    "    mesh_2['evecs'],\n",
    "    mesh_1['evecs']\n",
    "    ).solution\n",
    "\n",
    "l = 0\n",
    "h = 32\n",
    "\n",
    "fig, axs = plt.subplots(1, 1, figsize=(4, 4))\n",
    "\n",
    "plotting_utils.plot_Cxy(fig, axs,  C_gt_xy_lstsq,\n",
    "                        'before', l, h, show_grid=False, show_colorbar=False)\n",
    "plt.show()"
   ]
  },
  {
   "cell_type": "code",
   "execution_count": null,
   "metadata": {},
   "outputs": [],
   "source": [
    "lion_data_path = '/home/s94zalek_hpc/shape_matching/data/SMAL_fitted/big_cats/lion6.pkl'\n",
    "\n",
    "with open(lion_data_path, 'rb') as lion_data_path:\n",
    "    lion_data = pkl.load(lion_data_path, encoding=\"latin1\")\n",
    "    \n",
    "lion_data"
   ]
  },
  {
   "cell_type": "markdown",
   "metadata": {},
   "source": [
    "### Generate other poses for each train shape"
   ]
  },
  {
   "cell_type": "code",
   "execution_count": null,
   "metadata": {},
   "outputs": [],
   "source": [
    "train_names = '/home/s94zalek_hpc/shape_matching/data/SMAL_r/train_cat.txt'\n",
    "# read the train names\n",
    "with open(train_names) as f:\n",
    "    train_names = f.readlines()\n",
    "    train_names = [x.strip() for x in train_names]\n",
    "    \n",
    "    \n",
    "train_names"
   ]
  },
  {
   "cell_type": "code",
   "execution_count": null,
   "metadata": {},
   "outputs": [],
   "source": [
    "# read name map \n",
    "\n",
    "name_map = '/home/s94zalek_hpc/shape_matching/data/SMAL_r/name_map.txt'\n",
    "\n",
    "with open(name_map) as f:\n",
    "    name_map = f.readlines()\n",
    "    name_map = [x.strip() for x in name_map]\n",
    "    \n",
    "    name_map = dict([x.split()[::-1] for x in name_map])\n",
    "    \n",
    "name_map"
   ]
  },
  {
   "cell_type": "code",
   "execution_count": null,
   "metadata": {},
   "outputs": [],
   "source": [
    "# for train_name in train_names:\n",
    "    \n",
    "\n",
    "orig_name = name_map['cougar_01']\n",
    "\n",
    "orig_path = f'/home/s94zalek_hpc/shape_matching/data/SMAL_fitted/{orig_name}.pkl'\n",
    "with open(orig_path, 'rb') as orig_path:\n",
    "    shape_data = pkl.load(orig_path, encoding=\"latin1\")\n",
    "    \n",
    "    \n",
    "model.betas[:] = np.zeros_like(model.betas)\n",
    "model.betas[:20] = np.array(shape_data['beta']) + 0.05 * np.random.randn(*shape_data['beta'].shape)\n",
    "\n",
    "model.pose[:] = np.array(shape_data['pose']) + 0.2 * np.random.randn(*shape_data['pose'].shape)\n",
    "model.pose[0:3]=0\n",
    "\n",
    "\n",
    "mesh_trimesh = trimesh.Trimesh(\n",
    "    vertices=model.r,\n",
    "    faces=model.f)\n",
    "\n",
    "scene.geometry.clear()\n",
    "\n",
    "scene.add_geometry(mesh_trimesh)\n",
    "\n",
    "\n",
    "scene.set_camera()\n",
    "scene.show()\n",
    "\n",
    "\n",
    "    \n",
    "   "
   ]
  },
  {
   "cell_type": "code",
   "execution_count": null,
   "metadata": {},
   "outputs": [],
   "source": [
    "mesh_orig = trimesh.load(\n",
    "    '/home/s94zalek_hpc/shape_matching/data/SMAL_r/off/hippo_03.off'\n",
    ")\n",
    "mesh_orig.show()"
   ]
  },
  {
   "cell_type": "code",
   "execution_count": null,
   "metadata": {},
   "outputs": [],
   "source": [
    "shape_data"
   ]
  },
  {
   "cell_type": "code",
   "execution_count": null,
   "metadata": {},
   "outputs": [],
   "source": [
    "chumpy.ch.Ch object"
   ]
  },
  {
   "cell_type": "code",
   "execution_count": null,
   "metadata": {},
   "outputs": [],
   "source": [
    "data['cluster_means'][1]"
   ]
  }
 ],
 "metadata": {
  "kernelspec": {
   "display_name": "Python 3 (ipykernel)",
   "language": "python",
   "name": "python3"
  },
  "language_info": {
   "codemirror_mode": {
    "name": "ipython",
    "version": 3
   },
   "file_extension": ".py",
   "mimetype": "text/x-python",
   "name": "python",
   "nbconvert_exporter": "python",
   "pygments_lexer": "ipython3",
   "version": "3.8.19"
  }
 },
 "nbformat": 4,
 "nbformat_minor": 2
}
