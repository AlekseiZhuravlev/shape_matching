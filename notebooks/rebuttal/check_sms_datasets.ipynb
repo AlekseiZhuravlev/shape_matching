{
 "cells": [
  {
   "cell_type": "code",
   "execution_count": 15,
   "metadata": {},
   "outputs": [],
   "source": [
    "import trimesh\n",
    "import numpy as np\n",
    "\n",
    "scene = trimesh.Scene()"
   ]
  },
  {
   "cell_type": "code",
   "execution_count": 21,
   "metadata": {},
   "outputs": [],
   "source": [
    "mesh_aligned = trimesh.load('/home/s94zalek_hpc/baselines/Spectral-Meets-Spatial/data/FAUST_aligned/off/tr_reg_088.off', process=False)\n",
    "mesh_ours = trimesh.load('/home/s94zalek_hpc/baselines/Spectral-Meets-Spatial/data/FAUST_r/off/tr_reg_088.off', process=False)\n",
    "\n",
    "# mesh_ours.vertices += np.array([0.1, 0, 0])"
   ]
  },
  {
   "cell_type": "code",
   "execution_count": 22,
   "metadata": {},
   "outputs": [],
   "source": [
    "scene.geometry.clear()\n",
    "\n",
    "scene.add_geometry(mesh_aligned)\n",
    "\n",
    "scene.add_geometry(mesh_ours)\n",
    "\n",
    "scene.show()"
   ]
  },
  {
   "cell_type": "code",
   "execution_count": null,
   "metadata": {},
   "outputs": [],
   "source": [
    "mesh_aligned.area_faces.sum(), mesh_ours.area_faces.sum()"
   ]
  },
  {
   "cell_type": "code",
   "execution_count": 20,
   "metadata": {},
   "outputs": [],
   "source": [
    "for i in range(80, 100):\n",
    "    mesh_aligned = trimesh.load(f'/home/s94zalek_hpc/baselines/Spectral-Meets-Spatial/data/FAUST_aligned/off/tr_reg_0{i}.off', process=False)\n",
    "    mesh_ours = trimesh.load(f'/home/s94zalek_hpc/baselines/Spectral-Meets-Spatial/data/FAUST_r/off/tr_reg_0{i}.off', process=False)\n",
    "\n",
    "    print(f'{i}) {np.abs(mesh_ours.vertices - mesh_aligned.vertices).sum()}')"
   ]
  },
  {
   "cell_type": "code",
   "execution_count": null,
   "metadata": {},
   "outputs": [],
   "source": [
    "# horse_01\n",
    "# horse_04\n",
    "# dog_01\n",
    "# cow_04\n",
    "# cow_03\n",
    "# fox_01\n",
    "# fox_02\n",
    "# hippo_01\n",
    "# hippo_06\n",
    "# lion_02\n",
    "# lion_05\n",
    "# horse_08\n",
    "# cow_06\n",
    "# dog_05\n",
    "# dog_08\n",
    "# wolf_01\n",
    "# wolf_03\n",
    "\n",
    "# sort data above alphabetically\n",
    "cow_03\n",
    "cow_04\n",
    "cow_06\n",
    "dog_01\n",
    "dog_05\n",
    "dog_08\n",
    "fox_01\n",
    "fox_02\n",
    "hippo_01\n",
    "hippo_06\n",
    "horse_01\n",
    "horse_04\n",
    "horse_08\n",
    "lion_02\n",
    "lion_05\n",
    "wolf_01\n",
    "wolf_03\n"
   ]
  }
 ],
 "metadata": {
  "kernelspec": {
   "display_name": "Python 3 (ipykernel)",
   "language": "python",
   "name": "python3"
  }
 },
 "nbformat": 4,
 "nbformat_minor": 2
}
