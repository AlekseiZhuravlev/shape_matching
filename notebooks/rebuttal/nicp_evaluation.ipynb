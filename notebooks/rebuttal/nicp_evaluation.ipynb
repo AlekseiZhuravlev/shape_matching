{
 "cells": [
  {
   "cell_type": "code",
   "execution_count": 1,
   "metadata": {},
   "outputs": [],
   "source": [
    "import trimesh\n",
    "\n",
    "scene = trimesh.Scene()"
   ]
  },
  {
   "cell_type": "code",
   "execution_count": 20,
   "metadata": {},
   "outputs": [],
   "source": [
    "mesh_demo, mesh_aligned"
   ]
  },
  {
   "cell_type": "code",
   "execution_count": null,
   "metadata": {},
   "outputs": [],
   "source": [
    "import numpy as np\n",
    "\n",
    "# mesh_demo = trimesh.load('/home/s94zalek_hpc/shape_matching/data/FAUST_r/off/tr_reg_091.off', process=True, validate=True)\n",
    "mesh_demo = trimesh.load('/home/s94zalek_hpc/baselines/NICP/output/1ljjfnbx/demo/FAUST_r_tr_reg_080/aligned.ply', process=True, validate=True)\n",
    "mesh_aligned = trimesh.load('/home/s94zalek_hpc/baselines/NICP/output/1ljjfnbx/demo/FAUST_r_tr_reg_080/out_ss_cham_0.ply', process=True, validate=True)\n",
    "\n",
    "# mesh_demo = trimesh.load('/home/s94zalek_hpc/baselines/NICP/output/1ljjfnbx/demo/test_scan_044/out_ss.ply')\n",
    "\n",
    "mesh_aligned.vertices += np.array([0, 0, 0.2])\n",
    "\n",
    "scene.geometry.clear()\n",
    "\n",
    "scene.add_geometry(mesh_demo)\n",
    "scene.add_geometry(mesh_aligned)\n",
    "\n",
    "scene.show()"
   ]
  },
  {
   "cell_type": "code",
   "execution_count": 24,
   "metadata": {},
   "outputs": [],
   "source": [
    "dataset_name = 'SHREC19_r'\n",
    "\n",
    "base_dir = f'/home/s94zalek_hpc/shape_matching/data/{dataset_name}/off'\n",
    "target_dir = f'/home/s94zalek_hpc/baselines/NICP/demo'\n",
    "\n",
    "# for each file in base_dir, make a folder in target_dir with name dataset_name_file_name (without extension) and copy the file there. \n",
    "\n",
    "import os\n",
    "\n",
    "for file_name in sorted(os.listdir(base_dir)):\n",
    "    if file_name.endswith('.off'):\n",
    "        file_name_no_ext = file_name[:-4]\n",
    "        os.makedirs(f'{target_dir}/{dataset_name}_{file_name_no_ext}', exist_ok=True)\n",
    "        os.system(f'cp {base_dir}/{file_name} {target_dir}/{dataset_name}_{file_name_no_ext}/{dataset_name}_{file_name}')\n",
    "            \n",
    "        \n"
   ]
  },
  {
   "cell_type": "markdown",
   "metadata": {},
   "source": [
    "### Evaluate Geo Error"
   ]
  },
  {
   "cell_type": "code",
   "execution_count": 3,
   "metadata": {},
   "outputs": [],
   "source": [
    "import numpy as np\n",
    "import my_code.diffusion_training_sign_corr.data_loading as data_loading\n",
    "import yaml\n",
    "from tqdm import tqdm\n",
    "import metrics.geodist_metric as geodist_metric\n",
    "from utils.shape_util import compute_geodesic_distmat\n",
    "import torch\n",
    "\n",
    "\n",
    "dataset_name = 'FAUST_r_pair'\n",
    "\n",
    "single_dataset, pair_dataset = data_loading.get_val_dataset(\n",
    "    dataset_name, 'test', 128, preload=False, return_evecs=True, centering='bbox'\n",
    ")\n"
   ]
  },
  {
   "cell_type": "code",
   "execution_count": 17,
   "metadata": {},
   "outputs": [],
   "source": [
    "dist_mat_list = []\n",
    "\n",
    "for i in tqdm(range(len(single_dataset))):\n",
    "    data_i = single_dataset[i]\n",
    "    \n",
    "    dist_i = torch.tensor(\n",
    "        compute_geodesic_distmat(data_i['verts'].numpy(), data_i['faces'].numpy())    \n",
    "    )\n",
    "    dist_mat_list.append(dist_i)"
   ]
  },
  {
   "cell_type": "code",
   "execution_count": 10,
   "metadata": {},
   "outputs": [],
   "source": [
    "import utils.fmap_util as fmap_util\n",
    "\n",
    "def get_reg(dataset_name, shape_name):\n",
    "\n",
    "    mesh_aligned = trimesh.load(\n",
    "        f\"/home/s94zalek_hpc/baselines/NICP/output/1ljjfnbx/demo/{dataset_name[:-5]}_{shape_name}/aligned.ply\", process=False, validate=False\n",
    "        )\n",
    "    mesh_fitted = trimesh.load(\n",
    "        f\"/home/s94zalek_hpc/baselines/NICP/output/1ljjfnbx/demo/{dataset_name[:-5]}_{shape_name}/out_ss_cham_0_+D.ply\", process=False, validate=False\n",
    "    )\n",
    "\n",
    "    corr = fmap_util.nn_query(\n",
    "        torch.tensor(mesh_aligned.vertices, dtype=torch.float32),\n",
    "        torch.tensor(mesh_fitted.vertices, dtype=torch.float32),\n",
    "        dim=-2)\n",
    "    \n",
    "    # print(mesh_aligned.vertices.shape, mesh_fitted.vertices.shape, corr.shape)\n",
    "    \n",
    "    return corr, mesh_aligned, mesh_fitted"
   ]
  },
  {
   "cell_type": "code",
   "execution_count": 26,
   "metadata": {},
   "outputs": [],
   "source": [
    "geo_err_list = []\n",
    "\n",
    "iterator = tqdm(range(len(pair_dataset)), disable=True)\n",
    "\n",
    "for i in iterator:\n",
    "    data_i = pair_dataset[i]\n",
    "\n",
    "    reg_first, mesh_aligned_first, mesh_fitted_first = get_reg(dataset_name, data_i['first']['name'])\n",
    "    reg_second, mesh_aligned_second, mesh_fitted_second = get_reg(dataset_name, data_i['second']['name'])\n",
    "\n",
    "    Cxy_lstsq = torch.linalg.lstsq(\n",
    "        data_i['second']['evecs'][reg_second],\n",
    "        data_i['first']['evecs'][reg_first]\n",
    "        ).solution\n",
    "\n",
    "    p2p = fmap_util.fmap2pointmap(\n",
    "        Cxy_lstsq,\n",
    "        data_i['first']['evecs'],\n",
    "        data_i['second']['evecs'],\n",
    "        )\n",
    "\n",
    "    dist_first = dist_mat_list[data_i['first']['id']]\n",
    "\n",
    "    geo_err = geodist_metric.calculate_geodesic_error(\n",
    "        dist_first, data_i['first']['corr'], data_i['second']['corr'], p2p, return_mean=True\n",
    "    )*100\n",
    "    \n",
    "    geo_err_list.append(geo_err)\n",
    "    \n",
    "    iterator.set_description(f'geo_err: {geo_err:.2f}')\n",
    "    \n",
    "    print(i, geo_err)"
   ]
  },
  {
   "cell_type": "code",
   "execution_count": 11,
   "metadata": {},
   "outputs": [],
   "source": []
  },
  {
   "cell_type": "code",
   "execution_count": 8,
   "metadata": {},
   "outputs": [],
   "source": []
  },
  {
   "cell_type": "code",
   "execution_count": 16,
   "metadata": {},
   "outputs": [],
   "source": [
    "dist_first = torch.tensor(\n",
    "        compute_geodesic_distmat(data['first']['verts'].numpy(), data['first']['faces'].numpy())    \n",
    "    )\n",
    "\n",
    "geo_err = geodist_metric.calculate_geodesic_error(\n",
    "    dist_first, data['first']['corr'], data['second']['corr'], p2p, return_mean=True\n",
    ")\n",
    "print(geo_err)"
   ]
  },
  {
   "cell_type": "code",
   "execution_count": 27,
   "metadata": {},
   "outputs": [],
   "source": [
    "import my_code.utils.plotting_utils as plotting_utils\n",
    "\n",
    "scene.geometry.clear()\n",
    "\n",
    "plotting_utils.plot_p2p_map(\n",
    "    scene,\n",
    "    \n",
    "    data['first']['verts'], data['first']['faces'],\n",
    "    data['second']['verts'], data['second']['faces'],\n",
    "    \n",
    "    \n",
    "    p2p,\n",
    "    axes_color_gradient=[0, 1],\n",
    "    base_cmap='hsv'\n",
    ")\n",
    "\n",
    "scene.show()"
   ]
  },
  {
   "cell_type": "code",
   "execution_count": 7,
   "metadata": {},
   "outputs": [],
   "source": [
    "import importlib\n",
    "importlib.reload(plotting_utils)"
   ]
  },
  {
   "cell_type": "code",
   "execution_count": 24,
   "metadata": {},
   "outputs": [],
   "source": [
    "data_i = pair_dataset[9]\n",
    "\n",
    "reg_first, mesh_aligned_first, mesh_fitted_first = get_reg(dataset_name, data_i['first']['name'])\n",
    "reg_second, mesh_aligned_second, mesh_fitted_second = get_reg(dataset_name, data_i['second']['name'])\n"
   ]
  },
  {
   "cell_type": "code",
   "execution_count": 25,
   "metadata": {},
   "outputs": [],
   "source": [
    "import my_code.utils.plotting_utils as plotting_utils\n",
    "\n",
    "scene.geometry.clear()\n",
    "\n",
    "plotting_utils.plot_p2p_map(\n",
    "    scene,\n",
    "    \n",
    "    # data['first']['verts'], data['first']['faces'],\n",
    "    # data['second']['verts'], data['second']['faces'],\n",
    "    # verts_ref, faces_ref,\n",
    "    \n",
    "    # mesh_aligned_first.vertices, mesh_aligned_first.faces,\n",
    "    # mesh_fitted_first.vertices, mesh_fitted_first.faces,\n",
    "    # reg_first,\n",
    "    \n",
    "    # second\n",
    "    mesh_aligned_second.vertices, mesh_aligned_second.faces,\n",
    "    mesh_fitted_second.vertices, mesh_fitted_second.faces,\n",
    "    reg_second,\n",
    "    \n",
    "    axes_color_gradient=[0, 1],\n",
    "    base_cmap='hsv'\n",
    ")\n",
    "\n",
    "scene.show()"
   ]
  },
  {
   "cell_type": "code",
   "execution_count": 67,
   "metadata": {},
   "outputs": [],
   "source": [
    "verts_ref.shape, reg_first.shape"
   ]
  },
  {
   "cell_type": "code",
   "execution_count": 12,
   "metadata": {},
   "outputs": [],
   "source": [
    "import my_code.datasets.preprocessing as preprocessing\n",
    "\n",
    "# reference mesh\n",
    "mesh_ref = trimesh.load('/home/s94zalek_hpc/baselines/NICP/output/1ljjfnbx/demo/FAUST_r_tr_reg_080/out_ss_cham_0.ply', process=False, validate=False)\n",
    "\n",
    "verts_ref = torch.tensor(mesh_ref.vertices, dtype=torch.float32)\n",
    "faces_ref = torch.tensor(mesh_ref.faces, dtype=torch.int64)\n",
    "\n",
    "verts_ref = preprocessing.normalize_face_area(verts_ref, faces_ref)\n",
    "\n",
    "dist_ref = torch.tensor(\n",
    "        compute_geodesic_distmat(verts_ref.numpy(), faces_ref.numpy())    \n",
    "    )"
   ]
  },
  {
   "cell_type": "code",
   "execution_count": 24,
   "metadata": {},
   "outputs": [],
   "source": [
    "print(reg_first.shape, reg_first.min(), reg_first.max())\n",
    "print(data['first']['corr'].shape, data['first']['corr'].min(), data['first']['corr'].max())"
   ]
  },
  {
   "cell_type": "code",
   "execution_count": 30,
   "metadata": {},
   "outputs": [],
   "source": [
    "dist_ref[reg_first_ref, reg_second_ref]"
   ]
  },
  {
   "cell_type": "code",
   "execution_count": 13,
   "metadata": {},
   "outputs": [],
   "source": [
    "reg_first_ref = reg_first[data['first']['corr']]\n",
    "reg_second_ref = reg_second[data['second']['corr']]\n",
    "\n",
    "geo_err = dist_ref[reg_first_ref][reg_second_ref].mean() * 100\n",
    "geo_err"
   ]
  },
  {
   "cell_type": "code",
   "execution_count": 35,
   "metadata": {},
   "outputs": [],
   "source": [
    "reg_first_ref.shape"
   ]
  },
  {
   "cell_type": "code",
   "execution_count": null,
   "metadata": {},
   "outputs": [],
   "source": [
    "import my_code.utils.plotting_utils as plotting_utils\n",
    "\n",
    "scene.geometry.clear()\n",
    "\n",
    "plotting_utils.plot_p2p_map(\n",
    "    scene,\n",
    "    \n",
    "    # data['second']['verts'], data['second']['faces'],\n",
    "    verts_ref, faces_ref,\n",
    "    data['first']['verts'], data['first']['faces'],\n",
    "    \n",
    "    reg_first_ref,\n",
    "    axes_color_gradient=[0, 1],\n",
    "    base_cmap='hsv'\n",
    ")\n",
    "\n",
    "scene.show()"
   ]
  },
  {
   "cell_type": "code",
   "execution_count": 51,
   "metadata": {},
   "outputs": [],
   "source": [
    "reg_first"
   ]
  },
  {
   "cell_type": "code",
   "execution_count": 52,
   "metadata": {},
   "outputs": [],
   "source": [
    "data['first']['corr'].min(), data['first']['corr'].max()"
   ]
  },
  {
   "cell_type": "code",
   "execution_count": 53,
   "metadata": {},
   "outputs": [],
   "source": [
    "data['first']['verts'].shape"
   ]
  }
 ],
 "metadata": {
  "kernelspec": {
   "display_name": "Python 3 (ipykernel)",
   "language": "python",
   "name": "python3"
  }
 },
 "nbformat": 4,
 "nbformat_minor": 2
}
