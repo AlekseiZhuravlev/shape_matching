{
 "cells": [
  {
   "cell_type": "code",
   "execution_count": 2,
   "metadata": {},
   "outputs": [],
   "source": [
    "import torch\n",
    "\n",
    "base_dir = '/lustre/mlnvme/data/s94zalek_hpc-shape_matching/SURREAL/train/SURREAL_augShapes_anisRemesh_signNet_64_remeshed_mass_6b_1ev_10_0.2_0.8/train'"
   ]
  },
  {
   "cell_type": "code",
   "execution_count": 3,
   "metadata": {},
   "outputs": [],
   "source": [
    "# read C_gt_yx.pt\n",
    "C_gt_yx = torch.load(base_dir + '/C_gt_yx.pt', mmap=True)\n",
    "evecs_cond_first = torch.load(base_dir + '/evecs_cond_first.pt', mmap=True)\n",
    "evecs_cond_second = torch.load(base_dir + '/evecs_cond_second.pt', mmap=True)"
   ]
  },
  {
   "cell_type": "code",
   "execution_count": 4,
   "metadata": {},
   "outputs": [],
   "source": [
    "C_gt_yx.shape"
   ]
  },
  {
   "cell_type": "code",
   "execution_count": 11,
   "metadata": {},
   "outputs": [],
   "source": [
    "import my_code.utils.plotting_utils as plotting_utils\n",
    "import matplotlib.pyplot as plt\n",
    "\n",
    "l = 0\n",
    "h = 48\n",
    "\n",
    "idx = 94\n",
    "\n",
    "fig, axs = plt.subplots(1, 3, figsize=(18, 7))\n",
    "\n",
    "plotting_utils.plot_Cxy(fig, axs[0], C_gt_yx[idx].reshape(64, 64),\n",
    "                        'C_gt_yx', l, h, show_grid=False, show_colorbar=False)\n",
    "plotting_utils.plot_Cxy(fig, axs[1], evecs_cond_first[idx].reshape(64, 64),\n",
    "                        'evecs_cond_first', l, h, show_grid=False, show_colorbar=False)\n",
    "plotting_utils.plot_Cxy(fig, axs[2], evecs_cond_second[idx].reshape(64, 64),\n",
    "                        'evecs_cond_second', l, h, show_grid=False, show_colorbar=False)\n",
    "\n",
    "plt.show()"
   ]
  },
  {
   "cell_type": "code",
   "execution_count": null,
   "metadata": {},
   "outputs": [],
   "source": [
    "32/48, 24 / 32"
   ]
  },
  {
   "cell_type": "code",
   "execution_count": 14,
   "metadata": {},
   "outputs": [],
   "source": [
    "6890*64*2*4*230000 / 1024**3 / 20"
   ]
  }
 ],
 "metadata": {
  "kernelspec": {
   "display_name": "Python 3 (ipykernel)",
   "language": "python",
   "name": "python3"
  }
 },
 "nbformat": 4,
 "nbformat_minor": 2
}
