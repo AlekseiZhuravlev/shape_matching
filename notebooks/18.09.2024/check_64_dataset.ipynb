{
 "cells": [
  {
   "cell_type": "code",
   "execution_count": 27,
   "metadata": {},
   "outputs": [],
   "source": [
    "import torch\n",
    "\n",
    "base_dir = '/lustre/mlnvme/data/s94zalek_hpc-shape_matching/SURREAL/train/SURREAL_augShapes_anisRemesh_signNet_64_remeshed_mass_6b_1ev_10_0.2_0.8/train'"
   ]
  },
  {
   "cell_type": "code",
   "execution_count": 28,
   "metadata": {},
   "outputs": [],
   "source": [
    "# read C_gt_yx.pt\n",
    "C_gt_yx = torch.load(base_dir + '/C_gt_yx.pt', mmap=True)\n",
    "evecs_cond_first = torch.load(base_dir + '/evecs_cond_first.pt', mmap=True)\n",
    "evecs_cond_second = torch.load(base_dir + '/evecs_cond_second.pt', mmap=True)"
   ]
  },
  {
   "cell_type": "code",
   "execution_count": null,
   "metadata": {},
   "outputs": [],
   "source": [
    "C_gt_yx.shape"
   ]
  },
  {
   "cell_type": "code",
   "execution_count": null,
   "metadata": {},
   "outputs": [],
   "source": [
    "import my_code.utils.plotting_utils as plotting_utils\n",
    "import matplotlib.pyplot as plt\n",
    "\n",
    "l = 0\n",
    "h = 24\n",
    "\n",
    "idx = 9400\n",
    "\n",
    "fig, axs = plt.subplots(1, 3, figsize=(18, 7))\n",
    "\n",
    "plotting_utils.plot_Cxy(fig, axs[0], C_gt_yx[idx].reshape(64, 64),\n",
    "                        'C_gt_yx', l, h, show_grid=False, show_colorbar=False)\n",
    "plotting_utils.plot_Cxy(fig, axs[1], evecs_cond_first[idx].reshape(64, 64),\n",
    "                        'evecs_cond_first', l, h, show_grid=False, show_colorbar=False)\n",
    "plotting_utils.plot_Cxy(fig, axs[2], evecs_cond_second[idx].reshape(64, 64),\n",
    "                        'evecs_cond_second', l, h, show_grid=False, show_colorbar=False)\n",
    "\n",
    "plt.show()"
   ]
  },
  {
   "cell_type": "code",
   "execution_count": null,
   "metadata": {},
   "outputs": [],
   "source": [
    "32/48, 24 / 32"
   ]
  },
  {
   "cell_type": "code",
   "execution_count": null,
   "metadata": {},
   "outputs": [],
   "source": [
    "# "
   ]
  }
 ],
 "metadata": {
  "kernelspec": {
   "display_name": "Python 3 (ipykernel)",
   "language": "python",
   "name": "python3"
  },
  "language_info": {
   "codemirror_mode": {
    "name": "ipython",
    "version": 3
   },
   "file_extension": ".py",
   "mimetype": "text/x-python",
   "name": "python",
   "nbconvert_exporter": "python",
   "pygments_lexer": "ipython3",
   "version": "3.8.19"
  }
 },
 "nbformat": 4,
 "nbformat_minor": 2
}
