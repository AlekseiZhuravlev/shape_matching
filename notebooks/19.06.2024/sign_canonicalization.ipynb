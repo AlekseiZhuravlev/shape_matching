{
 "cells": [
  {
   "cell_type": "code",
   "execution_count": 1,
   "metadata": {},
   "outputs": [],
   "source": [
    "import torch\n",
    "import numpy as np\n",
    "import matplotlib.pyplot as plt\n",
    "\n",
    "import trimesh\n",
    "\n",
    "scene = trimesh.Scene()"
   ]
  },
  {
   "cell_type": "code",
   "execution_count": 2,
   "metadata": {},
   "outputs": [
    {
     "name": "stdout",
     "output_type": "stream",
     "text": [
      "Jupyter environment detected. Enabling Open3D WebVisualizer.\n",
      "[Open3D INFO] WebRTC GUI backend enabled.\n",
      "[Open3D INFO] WebRTCWindowSystem: HTTP handshake server disabled.\n"
     ]
    },
    {
     "name": "stderr",
     "output_type": "stream",
     "text": [
      "Loading base dataset: 100%|███████████████████████████████████████████████████████████████████████████| 80/80 [00:16<00:00,  4.84it/s]\n",
      "Loading base dataset: 100%|███████████████████████████████████████████████████████████████████████████| 20/20 [00:03<00:00,  6.26it/s]\n"
     ]
    }
   ],
   "source": [
    "import my_code.diffusion_training.data_loading as data_loading\n",
    "\n",
    "train_dataset = data_loading.get_val_dataset(\n",
    "    'FAUST_orig', 'train', 32, canonicalize_fmap='sum'\n",
    "    )[1]\n",
    "test_dataset = data_loading.get_val_dataset(\n",
    "    'FAUST_orig', 'test', 32, canonicalize_fmap='sum'\n",
    ")[1]"
   ]
  },
  {
   "cell_type": "code",
   "execution_count": 3,
   "metadata": {},
   "outputs": [
    {
     "data": {
      "image/png": "[encoded data removed]",
      "text/plain": [
       "<Figure size 1000x500 with 2 Axes>"
      ]
     },
     "metadata": {},
     "output_type": "display_data"
    }
   ],
   "source": [
    "import my_code.plotting_utils as plotting_utils\n",
    "\n",
    "l = 0\n",
    "h = 32\n",
    "\n",
    "fig, axs = plt.subplots(1, 2, figsize=(10, 5))\n",
    "\n",
    "plotting_utils.plot_Cxy(fig, axs[0], train_dataset[78]['second']['C_gt_xy'][0],\n",
    "                        'C_gt_xy', l, h, show_grid=False, show_colorbar=False)\n",
    "plotting_utils.plot_Cxy(fig, axs[1], test_dataset[1]['second']['C_gt_xy'][0],\n",
    "                        'C_gt_xy', l, h, show_grid=False, show_colorbar=False)\n",
    "\n",
    "plt.show()"
   ]
  },
  {
   "cell_type": "code",
   "execution_count": 4,
   "metadata": {},
   "outputs": [],
   "source": [
    "def predict_sign_change(net, verts, faces, evecs_flip, evecs_cond):\n",
    "    \n",
    "    # normalize the evecs\n",
    "    evecs_flip = torch.nn.functional.normalize(evecs_flip, p=2, dim=1)\n",
    "    \n",
    "    if evecs_cond is not None:\n",
    "        evecs_cond = torch.nn.functional.normalize(evecs_cond, p=2, dim=1)\n",
    "        evecs_input = torch.cat([evecs_flip, evecs_cond], dim=-1)\n",
    "    else:\n",
    "        evecs_input = evecs_flip\n",
    "        \n",
    "    # process the flipped evecs\n",
    "    support_vector_flip = net(\n",
    "        verts=verts,\n",
    "        faces=faces,\n",
    "        feats=evecs_input,\n",
    "    ) # [1 x 6890 x 1]\n",
    "\n",
    "    # normalize the support vector\n",
    "    support_vector_norm = torch.nn.functional.normalize(support_vector_flip, p=2, dim=1)\n",
    "    \n",
    "    # multiply the support vector by the flipped evecs [1 x 6890 x 4].T @ [1 x 6890 x 4]\n",
    "    product_with_support = support_vector_norm.transpose(1, 2) @ evecs_flip\n",
    "\n",
    "    if product_with_support.shape[1] == product_with_support.shape[2]:\n",
    "        # take only diagonal elements\n",
    "        product_with_support = torch.diagonal(product_with_support, dim1=1, dim2=2)\n",
    "        \n",
    "    # get the sign of the support vector\n",
    "    sign_flip_predicted = product_with_support\n",
    " \n",
    "    return sign_flip_predicted, support_vector_norm"
   ]
  },
  {
   "cell_type": "code",
   "execution_count": 5,
   "metadata": {},
   "outputs": [],
   "source": [
    "import networks.diffusion_network as diffusion_network\n",
    "\n",
    "condition_dim = 0\n",
    "start_dim = 0\n",
    "feature_dim = 32\n",
    "\n",
    "\n",
    "device = 'cuda' if torch.cuda.is_available() else 'cpu'\n",
    "net = diffusion_network.DiffusionNet(\n",
    "    in_channels=feature_dim + condition_dim,\n",
    "    out_channels=feature_dim,\n",
    "    # hidden_channels=feature_dim // 2,\n",
    "    cache_dir=f'data_with_smpl_corr/FAUST_original/{200}',\n",
    "    input_type='wks',\n",
    "    ).to(device)\n",
    "\n",
    "opt = torch.optim.Adam(net.parameters(), lr=1e-3)\n"
   ]
  },
  {
   "cell_type": "code",
   "execution_count": null,
   "metadata": {},
   "outputs": [],
   "source": [
    "from tqdm import tqdm\n",
    "import matplotlib.pyplot as plt\n",
    "import pandas as pd\n",
    "\n",
    "\n",
    "loss_fn = torch.nn.MSELoss()\n",
    "losses = torch.tensor([])\n",
    "iterator = tqdm(range(30001))\n",
    "\n",
    "possible_shapes = [train_dataset[i]['second'] for i in range(len(train_dataset))]\n",
    "# possible_shapes = [train_dataset[i]['second'] for i in range(2)]\n",
    "                   \n",
    "for i in iterator:\n",
    "\n",
    "    ##############################################\n",
    "    # Select a shape\n",
    "    ##############################################\n",
    "    curr_idx = np.random.randint(0, len(possible_shapes))\n",
    "    \n",
    "    train_shape = possible_shapes[curr_idx]\n",
    "\n",
    "    verts = train_shape['verts'].unsqueeze(0).to(device)\n",
    "    faces = train_shape['faces'].unsqueeze(0).to(device)\n",
    "\n",
    "    evecs_orig = train_shape['evecs'][:, start_dim:start_dim+feature_dim].unsqueeze(0).to(device)\n",
    "\n",
    "    # evecs_cond = None\n",
    "    evecs_cond = train_shape['evecs'][:,\n",
    "        start_dim + feature_dim : start_dim + feature_dim + condition_dim].unsqueeze(0).to(device)\n",
    "\n",
    "    ##############################################\n",
    "    # Set the signs\n",
    "    ##############################################\n",
    "\n",
    "    # create a random combilation of +1 and -1, length = feature_dim\n",
    "    sign_flip_gt = torch.randint(0, 2, (feature_dim,)).float().to(device)\n",
    "    \n",
    "    sign_flip_gt[sign_flip_gt == 0] = -1\n",
    "    sign_flip_gt = sign_flip_gt.float().unsqueeze(0)\n",
    "\n",
    "    # multiply evecs [6890 x 16] by sign_flip [16]\n",
    "    evecs_flip = evecs_orig * sign_flip_gt\n",
    "    \n",
    "    \n",
    "    ##############################################\n",
    "    # predict the sign change\n",
    "    ##############################################\n",
    "    \n",
    "    sign_change_flipped = predict_sign_change(net, verts, faces, evecs_flip, \n",
    "                                              evecs_cond=evecs_cond)[0]\n",
    "    \n",
    "    # calculate the loss\n",
    "    loss = loss_fn(\n",
    "        sign_change_flipped.reshape(sign_change_flipped.shape[0], -1),\n",
    "        sign_flip_gt.reshape(sign_flip_gt.shape[0], -1)\n",
    "        )\n",
    "\n",
    "    opt.zero_grad()\n",
    "    loss.backward()\n",
    "    opt.step()\n",
    "    \n",
    "    losses = torch.cat([losses, torch.tensor([loss.item()])])\n",
    "    \n",
    "    # print mean of last 10 losses\n",
    "    iterator.set_description(f'loss={torch.mean(losses[-10:]):.3f}')\n",
    "    \n",
    "    # plot the losses every 1000 iterations\n",
    "    if i > 0 and i % (len(iterator) // 10) == 0:\n",
    "        pd.Series(losses.numpy()).rolling(10).mean().plot()\n",
    "        plt.yscale('log')\n",
    "        plt.show()\n"
   ]
  },
  {
   "cell_type": "code",
   "execution_count": 7,
   "metadata": {},
   "outputs": [
    {
     "name": "stderr",
     "output_type": "stream",
     "text": [
      "Mean incorrect signs 2.66 / 32: 100%|█████████████████████████████████████████████████████████████| 1001/1001 [00:25<00:00, 39.37it/s]\n"
     ]
    },
    {
     "name": "stdout",
     "output_type": "stream",
     "text": [
      "Results for 1001 test shapes\n",
      "Incorrect signs per shape: 2.66 / 32\n",
      "GT tensor([[ 1., -1., -1., -1.,  1., -1., -1., -1.,  1.,  1.,  1.,  1.,  1.,  1.,\n",
      "         -1.,  1.,  1., -1., -1., -1.,  1., -1.,  1., -1., -1., -1., -1.,  1.,\n",
      "          1.,  1., -1.,  1.]], device='cuda:0')\n",
      "PRED tensor([[ 1.0000, -0.9523, -0.8528, -0.8812,  0.9103, -0.8903, -0.7653, -0.6574,\n",
      "          0.7894,  0.8483,  0.3924,  0.6661,  0.6903,  0.1535, -0.6986,  0.5225,\n",
      "          0.4972, -0.7008, -0.6915, -0.2381, -0.0638, -0.2035,  0.4871, -0.1822,\n",
      "         -0.1582, -0.3300, -0.1937, -0.2357, -0.0747,  0.1837, -0.0361,  0.4951]],\n",
      "       device='cuda:0')\n",
      "Correct tensor([[ 1.,  1.,  1.,  1.,  1.,  1.,  1.,  1.,  1.,  1.,  1.,  1.,  1.,  1.,\n",
      "          1.,  1.,  1.,  1.,  1.,  1., -1.,  1.,  1.,  1.,  1.,  1.,  1., -1.,\n",
      "         -1.,  1.,  1.,  1.]], device='cuda:0')\n",
      "Incorrect signs 3 / 32\n"
     ]
    }
   ],
   "source": [
    "test_shapes_list = [test_dataset[i]['second'] for i in range(len(test_dataset))]\n",
    "                   \n",
    "iterator = tqdm(range(1001))\n",
    "\n",
    "incorrect_signs_list = torch.tensor([])\n",
    "for i in iterator:\n",
    "\n",
    "    ##############################################\n",
    "    # Select a shape\n",
    "    ##############################################\n",
    "    # test_shape = test_shapes_list[i]\n",
    "    \n",
    "    curr_idx = np.random.randint(0, len(test_shapes_list))   \n",
    "    test_shape = test_shapes_list[curr_idx]    \n",
    "\n",
    "    verts = test_shape['verts'].unsqueeze(0).to(device)\n",
    "    faces = test_shape['faces'].unsqueeze(0).to(device)\n",
    "\n",
    "    evecs_orig = test_shape['evecs'][:, start_dim:start_dim+feature_dim].unsqueeze(0).to(device)\n",
    "    evecs_cond = test_shape['evecs'][:,\n",
    "        start_dim + feature_dim : start_dim + feature_dim + condition_dim].unsqueeze(0).to(device)\n",
    "\n",
    "\n",
    "    ##############################################\n",
    "    # Set the signs\n",
    "    ##############################################\n",
    "\n",
    "    # create a random combilation of +1 and -1, length = feature_dim\n",
    "    sign_flip_gt = torch.randint(0, 2, (feature_dim,)).float().to(device)\n",
    "    \n",
    "    sign_flip_gt[sign_flip_gt == 0] = -1\n",
    "    sign_flip_gt = sign_flip_gt.float().unsqueeze(0)\n",
    "\n",
    "    # multiply evecs [6890 x 16] by sign_flip [16]\n",
    "    evecs_flip = evecs_orig * sign_flip_gt\n",
    "    \n",
    "    \n",
    "    ##############################################\n",
    "    # predict the sign change\n",
    "    ##############################################\n",
    "    \n",
    "    with torch.no_grad():\n",
    "        sign_flip_predicted, support_vector_norm = predict_sign_change(\n",
    "            net, verts, faces, evecs_flip, evecs_cond=evecs_cond)\n",
    "\n",
    "    sign_correct = sign_flip_predicted.sign() * sign_flip_gt.sign()\n",
    "    \n",
    "    # count the number of incorrect signs\n",
    "    count_incorrect_signs = (sign_correct < 0).int().sum()\n",
    "    # incorrect_signs_list.append(count_incorrect_signs)\n",
    "    incorrect_signs_list = torch.cat([incorrect_signs_list, torch.tensor([count_incorrect_signs])])\n",
    "    \n",
    "    \n",
    "    iterator.set_description(f'Mean incorrect signs {incorrect_signs_list.float().mean():.2f} / {feature_dim}')\n",
    "    \n",
    "    \n",
    "print(f'Results for {len(incorrect_signs_list)} test shapes')\n",
    "print(f'Incorrect signs per shape: {incorrect_signs_list.float().mean():.2f} / {feature_dim}')\n",
    "\n",
    "# print('Shape idx', curr_idx)\n",
    "print('GT', sign_flip_gt)\n",
    "print('PRED', sign_flip_predicted)\n",
    "print('Correct', sign_correct)\n",
    "print(f'Incorrect signs {torch.sum(sign_correct != 1)} / {feature_dim}')\n",
    "\n",
    "# plt.plot(support_vector_norm.squeeze().detach().cpu().numpy(), '.', alpha=0.1)\n",
    "# plt.ylim(-0.1, 0.1)\n",
    "# # plt.yscale('log')\n",
    "# plt.show()\n"
   ]
  },
  {
   "cell_type": "code",
   "execution_count": 8,
   "metadata": {},
   "outputs": [
    {
     "data": {
      "text/plain": [
       "<matplotlib.lines.Line2D at 0x14edb88d3bb0>"
      ]
     },
     "execution_count": 8,
     "metadata": {},
     "output_type": "execute_result"
    },
    {
     "data": {
      "image/png": "[encoded data removed]",
      "text/plain": [
       "<Figure size 640x480 with 1 Axes>"
      ]
     },
     "metadata": {},
     "output_type": "display_data"
    }
   ],
   "source": [
    "# plt.plot(sign_flip_gt.squeeze().detach().cpu().numpy(), '.')\n",
    "\n",
    "# marker color = blue if incorrect, red if correct\n",
    "\n",
    "color = np.where(sign_correct.squeeze().detach().cpu().numpy() == 1, 'red', 'blue')\n",
    "\n",
    "plt.scatter(np.arange(feature_dim), sign_flip_predicted.squeeze().detach().cpu().numpy(), c=color)\n",
    "\n",
    "plt.axhline(0, color='black', linewidth=0.5)\n",
    "# plt.plot(sign_correct.squeeze().detach().cpu().numpy(), '.')"
   ]
  },
  {
   "cell_type": "code",
   "execution_count": 9,
   "metadata": {},
   "outputs": [
    {
     "data": {
      "text/plain": [
       "tensor([2., 3., 7., 2., 5., 1., 3., 3., 6., 2., 6., 6., 6., 5., 3., 5., 3., 2.,\n",
       "        7., 2.])"
      ]
     },
     "execution_count": 9,
     "metadata": {},
     "output_type": "execute_result"
    }
   ],
   "source": [
    "incorrect_signs_list[:20]"
   ]
  },
  {
   "cell_type": "code",
   "execution_count": 11,
   "metadata": {},
   "outputs": [
    {
     "data": {
      "text/plain": [
       "torch.Size([1, 6890, 32])"
      ]
     },
     "execution_count": 11,
     "metadata": {},
     "output_type": "execute_result"
    }
   ],
   "source": [
    "evecs_flip.shape"
   ]
  },
  {
   "cell_type": "code",
   "execution_count": 9,
   "metadata": {},
   "outputs": [
    {
     "data": {
      "image/png": "[encoded data removed]",
      "text/plain": [
       "<Figure size 1000x500 with 3 Axes>"
      ]
     },
     "metadata": {},
     "output_type": "display_data"
    }
   ],
   "source": [
    "# evecs_orig, evecs_flip\n",
    "# sign_flip_gt, sign_flip_predicted\n",
    "\n",
    "# evecs_orig, evecs_flip * sign_flip_gt\n",
    "\n",
    "C_gt_xy = test_shape['C_gt_xy'][0]\n",
    "corr_second = test_shape['corr']\n",
    "corr_first = train_dataset[0]['first']['corr']\n",
    "evecs_first = train_dataset[0]['first']['evecs']\n",
    "\n",
    "\n",
    "C_xy_flip = torch.linalg.lstsq(\n",
    "    evecs_flip.cpu()[0, corr_second],\n",
    "    evecs_first[corr_first]\n",
    "    ).solution\n",
    "C_xy_pred = torch.linalg.lstsq(\n",
    "    evecs_flip.cpu()[0, corr_second] * torch.sign(sign_flip_predicted).cpu(),\n",
    "    evecs_first[corr_first]\n",
    "    ).solution\n",
    "\n",
    "\n",
    "l = 0\n",
    "h = 32\n",
    "\n",
    "\n",
    "fig, axs = plt.subplots(1, 3, figsize=(10, 5))\n",
    "\n",
    "plotting_utils.plot_Cxy(fig, axs[0], C_gt_xy, 'C_gt_xy', l, h, show_grid=False, show_colorbar=False)\n",
    "plotting_utils.plot_Cxy(fig, axs[1], C_xy_flip, 'C_xy_flip', l, h, show_grid=False, show_colorbar=False)\n",
    "plotting_utils.plot_Cxy(fig, axs[2], C_xy_pred, 'C_xy_pred', l, h, show_grid=False, show_colorbar=False)\n",
    "\n",
    "plt.show()"
   ]
  }
 ],
 "metadata": {
  "kernelspec": {
   "display_name": "Python 3 (ipykernel)",
   "language": "python",
   "name": "python3"
  },
  "language_info": {
   "codemirror_mode": {
    "name": "ipython",
    "version": 3
   },
   "file_extension": ".py",
   "mimetype": "text/x-python",
   "name": "python",
   "nbconvert_exporter": "python",
   "pygments_lexer": "ipython3",
   "version": "3.8.19"
  }
 },
 "nbformat": 4,
 "nbformat_minor": 2
}
