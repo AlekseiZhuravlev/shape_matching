{
 "cells": [
  {
   "cell_type": "code",
   "execution_count": 1,
   "metadata": {},
   "outputs": [],
   "source": [
    "import torch\n",
    "import numpy as np\n",
    "\n",
    "import trimesh\n",
    "\n",
    "scene = trimesh.Scene()"
   ]
  },
  {
   "cell_type": "code",
   "execution_count": 2,
   "metadata": {},
   "outputs": [
    {
     "name": "stdout",
     "output_type": "stream",
     "text": [
      "Jupyter environment detected. Enabling Open3D WebVisualizer.\n",
      "[Open3D INFO] WebRTC GUI backend enabled.\n",
      "[Open3D INFO] WebRTCWindowSystem: HTTP handshake server disabled.\n"
     ]
    },
    {
     "name": "stderr",
     "output_type": "stream",
     "text": [
      "Loading base dataset: 100%|███████████████████████████████████████████████████████████████████████| 80/80 [00:15<00:00,  5.15it/s]\n"
     ]
    }
   ],
   "source": [
    "import my_code.diffusion_training.data_loading as data_loading\n",
    "\n",
    "dataset = data_loading.get_val_dataset(\n",
    "    'FAUST_orig', 'train', 200\n",
    "    )[1]"
   ]
  },
  {
   "cell_type": "code",
   "execution_count": 12,
   "metadata": {},
   "outputs": [
    {
     "data": {
      "text/plain": [
       "<module 'networks.diffusion_network' from '/home/s94zalek_hpc/shape_matching/networks/diffusion_network.py'>"
      ]
     },
     "execution_count": 12,
     "metadata": {},
     "output_type": "execute_result"
    }
   ],
   "source": [
    "import importlib\n",
    "importlib.reload(diffusion_network)"
   ]
  },
  {
   "cell_type": "code",
   "execution_count": 47,
   "metadata": {},
   "outputs": [],
   "source": [
    "class RandomSignDataset(torch.utils.data.Dataset):\n",
    "    def __init__(self, verts, faces, evecs, n_random_signs):\n",
    "        self.verts = verts\n",
    "        self.faces = faces\n",
    "        self.evecs = evecs  \n",
    "        self.n_random_signs = n_random_signs\n",
    "        \n",
    "        # only signs for indices will be flipped\n",
    "        self.random_indices = np.random.randint(0, evecs.shape[1], n_random_signs)\n",
    "        \n",
    "\n",
    "    def __len__(self):\n",
    "        return self.n_random_signs\n",
    "\n",
    "    def __getitem__(self, idx):\n",
    "        sign_sequence = torch.randint(0, 2, (feature_dim,)).float()\n",
    "        sign_sequence[sign_sequence == 0] = -1\n",
    "        \n",
    "        evecs_flipped = self.evecs.clone()\n",
    "        evecs_flipped[:, self.random_indices] *= sign_sequence\n",
    "        \n",
    "        return evecs_flipped\n",
    "    \n",
    "    \n",
    "train_shape = dataset[0]['second']\n",
    "\n",
    "sign_dataset = RandomSignDataset(\n",
    "    train_shape['verts'],\n",
    "    train_shape['faces'],\n",
    "    train_shape['evecs'][:, :feature_dim],\n",
    "    n_random_signs=4\n",
    ")"
   ]
  },
  {
   "cell_type": "code",
   "execution_count": 42,
   "metadata": {},
   "outputs": [],
   "source": [
    "import networks.diffusion_network as diffusion_network\n",
    "\n",
    "\n",
    "\n",
    "condition_dim = 8\n",
    "\n",
    "device = 'cuda' if torch.cuda.is_available() else 'cpu'\n"
   ]
  },
  {
   "cell_type": "code",
   "execution_count": 18,
   "metadata": {},
   "outputs": [
    {
     "data": {
      "text/plain": [
       "505"
      ]
     },
     "execution_count": 18,
     "metadata": {},
     "output_type": "execute_result"
    }
   ],
   "source": [
    "# get number of model parameters\n",
    "n_params = sum(p.numel() for p in net.parameters())\n",
    "n_params"
   ]
  },
  {
   "cell_type": "code",
   "execution_count": 338,
   "metadata": {},
   "outputs": [
    {
     "name": "stdout",
     "output_type": "stream",
     "text": [
      "n parameters 882361960\n"
     ]
    }
   ],
   "source": [
    "class MLPEstimator(torch.nn.Module):\n",
    "    def __init__(self, n_verts, in_channels, out_channels):\n",
    "        super().__init__()\n",
    "        self.n_verts = n_verts\n",
    "        self.in_channels = in_channels\n",
    "        self.out_channels = out_channels\n",
    "        \n",
    "        self.layers = torch.nn.Sequential(\n",
    "            # torch.nn.Linear(n_verts * in_channels, n_verts * out_channels),\n",
    "            # torch.nn.ReLU(),\n",
    "            torch.nn.Linear(n_verts * in_channels, 1000),\n",
    "            torch.nn.Linear(1000, n_verts * out_channels),\n",
    "            torch.nn.ReLU(),\n",
    "        )\n",
    "        \n",
    "    def forward(self, verts, faces, feats):\n",
    "        x = feats\n",
    "        x = x.reshape(x.shape[0], self.n_verts * self.in_channels)\n",
    "        x = self.layers(x)\n",
    "        x = x.reshape(x.shape[0], self.n_verts, self.out_channels)\n",
    "        return x\n",
    "    \n",
    "    \n",
    "feature_dim = 64\n",
    "\n",
    "device = 'cuda' if torch.cuda.is_available() else 'cpu'\n",
    "net_mlp = MLPEstimator(\n",
    "        n_verts=6890,\n",
    "        in_channels=feature_dim,\n",
    "        out_channels=feature_dim,\n",
    "    ).to(device)\n",
    "\n",
    "# print n of parameters\n",
    "print('n parameters', sum(p.numel() for p in net_mlp.parameters()))\n",
    "\n",
    "opt = torch.optim.Adam(net_mlp.parameters(), lr=1e-3)"
   ]
  },
  {
   "cell_type": "code",
   "execution_count": 128,
   "metadata": {},
   "outputs": [],
   "source": [
    "def predict_sign_change(net, verts, faces, evecs_flip, evecs_cond):\n",
    "    \n",
    "    # normalize the evecs\n",
    "    evecs_flip = torch.nn.functional.normalize(evecs_flip, p=2, dim=1)\n",
    "    \n",
    "    if evecs_cond is not None:\n",
    "        evecs_cond = torch.nn.functional.normalize(evecs_cond, p=2, dim=1)\n",
    "        evecs_input = torch.cat([evecs_flip, evecs_cond], dim=-1)\n",
    "    else:\n",
    "        evecs_input = evecs_flip\n",
    "        \n",
    "    \n",
    "    # evecs_input = torch.nn.functional.normalize(evecs_input, p=2, dim=1)\n",
    "    \n",
    "    # process the flipped evecs\n",
    "    support_vector_flip = net(\n",
    "        verts=verts,\n",
    "        faces=faces,\n",
    "        feats=evecs_input,\n",
    "    ) # [1 x 6890 x 1]\n",
    "    \n",
    "    # apply sigmoid\n",
    "    # support_vector_flip_sigmoid = torch.sigmoid(support_vector_flip)\n",
    "    # support_vector_flip_sigmoid = torch.nn.functional.log_softmax(support_vector_flip, dim=1)\n",
    "    \n",
    "    # normalize the support vector\n",
    "    support_vector_norm = torch.nn.functional.normalize(support_vector_flip, p=2, dim=1)\n",
    "    \n",
    "    # multiply the support vector by the flipped evecs [1 x 6890 x 4].T @ [1 x 6890 x 4]\n",
    "    # product_with_support = support_vector_flip.transpose(1, 2) @ evecs_flip\n",
    "    product_with_support = support_vector_norm.transpose(1, 2) @ evecs_flip\n",
    "    \n",
    "    \n",
    "    # print('evecs_input', evecs_input)\n",
    "    # print('support_vector_flip', support_vector_flip)\n",
    "    # print('product_with_support', product_with_support)\n",
    "    \n",
    "    # print(product_with_support.shape)\n",
    "    \n",
    "    if product_with_support.shape[1] == product_with_support.shape[2]:\n",
    "        # product_with_support = torch.diag_embed(product_with_support)\n",
    "        # take only diagonal elements\n",
    "        product_with_support = torch.diagonal(product_with_support, dim1=1, dim2=2)\n",
    "        \n",
    "    # print(product_with_support.shape)\n",
    "    \n",
    "    # get the sign of the support vector\n",
    "    # sign_flip_predicted = torch.sign(product_with_support)\n",
    "    \n",
    "    # print(product_with_support)\n",
    "    # sign_flip_predicted = torch.tanh(product_with_support)\n",
    "    sign_flip_predicted = product_with_support\n",
    "    \n",
    "    # print(sign_flip_predicted.shape)\n",
    "    \n",
    "    return sign_flip_predicted"
   ]
  },
  {
   "cell_type": "code",
   "execution_count": 202,
   "metadata": {},
   "outputs": [],
   "source": [
    "feature_dim = 2\n",
    "net = diffusion_network.DiffusionNet(\n",
    "    in_channels=feature_dim,\n",
    "    out_channels=feature_dim,\n",
    "    cache_dir=f'data_with_smpl_corr/FAUST_original/{200}',\n",
    "    input_type='wks',\n",
    "    n_block=1,\n",
    "    hidden_channels=8,\n",
    "    ).to(device)\n",
    "\n",
    "opt = torch.optim.Adam(net.parameters(), lr=1e-3)\n"
   ]
  },
  {
   "cell_type": "code",
   "execution_count": null,
   "metadata": {},
   "outputs": [],
   "source": [
    "from tqdm import tqdm\n",
    "import matplotlib.pyplot as plt\n",
    "import pandas as pd\n",
    "\n",
    "\n",
    "train_shape = dataset[0]['second']\n",
    "\n",
    "verts = train_shape['verts'].unsqueeze(0).to(device)\n",
    "faces = train_shape['faces'].unsqueeze(0).to(device)\n",
    "\n",
    "evecs_orig = train_shape['evecs'][:, 30:30+feature_dim].unsqueeze(0).to(device)\n",
    "evecs_cond = train_shape['evecs'][:,\n",
    "    1+feature_dim:1+feature_dim+condition_dim\n",
    "    ].unsqueeze(0).to(device).abs()\n",
    "\n",
    "\n",
    "# loss_fn = torch.nn.BCEWithLogitsLoss()\n",
    "loss_fn = torch.nn.MSELoss()\n",
    "losses = torch.tensor([])\n",
    "iterator = tqdm(range(5001))\n",
    "\n",
    "\n",
    "for i in iterator:\n",
    "\n",
    "    # create a random combilation of +1 and -1, length = feature_dim\n",
    "    sign_flip_gt = torch.randint(0, 2, (feature_dim,)).float().to(device)\n",
    "    # sign_flip_gt = torch.zeros(feature_dim).to(device)\n",
    "    sign_flip_gt[sign_flip_gt == 0] = -1\n",
    "    sign_flip_gt = sign_flip_gt.float().unsqueeze(0)\n",
    "\n",
    "    # multiply evecs [6890 x 16] by sign_flip [16]\n",
    "    evecs_flip = evecs_orig * sign_flip_gt\n",
    "    \n",
    "    \n",
    "    # print(sign_flip_gt)\n",
    "    # print(evecs_orig[:, :5, :], evecs_flip[:, :5, :])\n",
    "    \n",
    "    \n",
    "    sign_change_flipped = predict_sign_change(net, verts, faces, evecs_flip, \n",
    "                                              evecs_cond=None)\n",
    "    \n",
    "    \n",
    "    # print(sign_change_flipped.shape)\n",
    "    \n",
    "    # break\n",
    "    \n",
    "    \n",
    "    \n",
    "    # sign_change_orig = predict_sign_change(net, verts, faces, evecs_orig, \n",
    "                                        #    evecs_cond=None)\n",
    "    \n",
    "    # print(sign_change_flipped.detach(), sign_change_orig.detach(), sign_flip_gt.detach())\n",
    "    # print(sign_change_flipped * sign_change_orig, sign_flip_gt.unsqueeze(0).unsqueeze(0))\n",
    "\n",
    "    # loss = loss_fn(\n",
    "    #     sign_change_flipped * sign_change_orig, sign_flip_gt.unsqueeze(0)\n",
    "    # )\n",
    "    \n",
    "    # loss = loss_fn(\n",
    "    #     sign_change_flipped, sign_flip_gt.unsqueeze(0)\n",
    "    # )\n",
    "    # loss = loss_fn(sign_change_flipped[0,0], torch.tensor(0, device=device).float())\n",
    "    loss = loss_fn(sign_change_flipped, sign_flip_gt)\n",
    "\n",
    "    opt.zero_grad()\n",
    "    loss.backward()\n",
    "    opt.step()\n",
    "    \n",
    "    losses = torch.cat([losses, torch.tensor([loss.item()])])\n",
    "    \n",
    "    # print mean of last 10 losses\n",
    "    iterator.set_description(f'loss={torch.mean(losses[-10:]):.3f}')\n",
    "    \n",
    "    \n",
    "# show as only dots without lines\n",
    "# plt.plot(losses, 'o', alpha=0.5)\n",
    "# plt.show()\n",
    "\n",
    "    if i > 0 and i % 1000 == 0:\n",
    "        pd.Series(losses.numpy()).rolling(10).mean().plot()\n",
    "        plt.yscale('log')\n",
    "        plt.show()\n"
   ]
  },
  {
   "cell_type": "code",
   "execution_count": null,
   "metadata": {},
   "outputs": [],
   "source": [
    "# Seems like the network is not learning at all\n",
    "# make it learn the single sign flip first\n",
    "\n",
    "\n",
    "# penalize the angle (so projection is as negative as possible)\n",
    "# turn on the original shape (commented out)"
   ]
  },
  {
   "cell_type": "code",
   "execution_count": 219,
   "metadata": {},
   "outputs": [
    {
     "name": "stdout",
     "output_type": "stream",
     "text": [
      "GT tensor([1., 1.], device='cuda:0')\n",
      "PRED tensor([[0.0736, 0.0243]], device='cuda:0')\n"
     ]
    },
    {
     "data": {
      "image/png": "[encoded data removed]",
      "text/plain": [
       "<Figure size 640x480 with 1 Axes>"
      ]
     },
     "metadata": {},
     "output_type": "display_data"
    }
   ],
   "source": [
    "sign_flip = torch.randint(0, 2, (feature_dim,)).float().to(device)\n",
    "sign_flip[sign_flip == 0] = -1\n",
    "\n",
    "\n",
    "# multiply evecs [6890 x 16] by sign_flip [16]\n",
    "evecs_flip = evecs_orig * sign_flip\n",
    "\n",
    "# normalize the evecs\n",
    "evecs_flip = torch.nn.functional.normalize(evecs_flip, p=2, dim=1)\n",
    "evecs_input = evecs_flip\n",
    "    \n",
    "with torch.no_grad():\n",
    "    # process the flipped evecs\n",
    "    support_vector_flip = net(\n",
    "        verts=verts,\n",
    "        faces=faces,\n",
    "        feats=evecs_input,\n",
    "    ) # [1 x 6890 x 1]\n",
    "\n",
    "# normalize the support vector\n",
    "support_vector_norm = torch.nn.functional.normalize(support_vector_flip, p=2, dim=1)\n",
    "\n",
    "# multiply the support vector by the flipped evecs [1 x 6890 x 4].T @ [1 x 6890 x 4]\n",
    "product_with_support = support_vector_norm.transpose(1, 2) @ evecs_flip\n",
    "\n",
    "if product_with_support.shape[1] == product_with_support.shape[2]:\n",
    "    # product_with_support = torch.diag_embed(product_with_support)\n",
    "    # take only diagonal elements\n",
    "    product_with_support = torch.diagonal(product_with_support, dim1=1, dim2=2)\n",
    "    \n",
    "\n",
    "sign_flip_predicted = product_with_support\n",
    "\n",
    "\n",
    "\n",
    "\n",
    "print('GT', sign_flip)\n",
    "print('PRED', sign_flip_predicted)\n",
    "plt.plot(support_vector_norm.squeeze().detach().cpu().numpy())\n",
    "# plt.yscale('log')\n",
    "plt.show()\n"
   ]
  },
  {
   "cell_type": "code",
   "execution_count": null,
   "metadata": {},
   "outputs": [],
   "source": [
    "support_vec_plot = support_vector_flip.squeeze().detach().cpu().numpy()\n",
    "\n",
    "# print indices of top 10 values and the values\n",
    "top_indices = np.argsort(np.abs(support_vec_plot))[-30:]\n",
    "print(top_indices)\n",
    "print(support_vec_plot[top_indices])\n",
    "\n",
    "scene.geometry.clear()\n",
    "\n",
    "mesh = trimesh.Trimesh(vertices=verts.squeeze().detach().cpu().numpy(), faces=faces.squeeze().detach().cpu().numpy())\n",
    "colors = np.ones((verts.shape[1], 4)) * 255\n",
    "colors[top_indices] = [255, 0, 0, 255]\n",
    "mesh.visual.vertex_colors = colors\n",
    "\n",
    "scene.add_geometry(mesh)\n",
    "\n",
    "scene.show()\n"
   ]
  },
  {
   "cell_type": "markdown",
   "metadata": {},
   "source": [
    "# MLP estimator"
   ]
  },
  {
   "cell_type": "code",
   "execution_count": 273,
   "metadata": {},
   "outputs": [],
   "source": [
    "feature_dim = 128\n",
    "\n",
    "device = 'cuda' if torch.cuda.is_available() else 'cpu'\n",
    "net_mlp = MLPEstimator(\n",
    "        n_verts=6890,\n",
    "        in_channels=feature_dim,\n",
    "        out_channels=feature_dim,\n",
    "    ).to(device)"
   ]
  },
  {
   "cell_type": "code",
   "execution_count": null,
   "metadata": {},
   "outputs": [],
   "source": [
    "train_shape = dataset[2]['second']\n",
    "\n",
    "verts = train_shape['verts'].unsqueeze(0).to(device)\n",
    "faces = train_shape['faces'].unsqueeze(0).to(device)\n",
    "\n",
    "evecs_orig = train_shape['evecs'][:, 1:1+feature_dim].unsqueeze(0).to(device)\n",
    "\n",
    "# evecs_orig is [1, 6890, 64]\n",
    "# randomly rearrange the 1st dimension\n",
    "evecs_orig = evecs_orig[:, torch.randperm(evecs_orig.shape[1]), :]\n",
    "\n",
    "with torch.no_grad():\n",
    "\n",
    "    sign_flip_gt = torch.randint(0, 2, (feature_dim,)).float().to(device)\n",
    "    sign_flip_gt[sign_flip_gt == 0] = -1\n",
    "\n",
    "    # multiply evecs [6890 x 16] by sign_flip [16]\n",
    "    evecs_flip = evecs_orig * sign_flip_gt\n",
    "\n",
    "\n",
    "    sign_change_flipped = predict_sign_change(net_mlp, verts, faces, evecs_flip, \n",
    "                                                evecs_cond=None)\n",
    "    sign_change_orig = predict_sign_change(net_mlp, verts, faces, evecs_orig, \n",
    "                                            evecs_cond=None)\n",
    "    \n",
    "    sign_diff_predicted = sign_change_flipped * sign_change_orig\n",
    "    error_with_gt = sign_diff_predicted - sign_flip_gt.unsqueeze(0)\n",
    "    n_incorrect = (error_with_gt.abs() / 2).sum()\n",
    "    print('incorrect', n_incorrect)\n",
    "    \n",
    "    if n_incorrect > 0:\n",
    "        print('Sign change flipped', sign_change_flipped)\n",
    "        print('Sign change orig', sign_change_orig)\n",
    "        print('GT', sign_flip_gt)\n",
    "        print('PRED', sign_diff_predicted)\n",
    "        print('ERROR', error_with_gt)\n",
    "        \n",
    "        # plt.plot(sign_diff_predicted.squeeze().detach().cpu().numpy())\n",
    "        # plt.show()\n",
    "\n",
    "# print('flipped', sign_change_flipped, 'orig', sign_change_orig)\n",
    "# print('pred', sign_change_flipped*sign_change_orig, 'gt', sign_flip_gt)\n",
    "# print('incorrect', ((sign_change_flipped * sign_change_orig - sign_flip_gt.unsqueeze(0)).abs() / 2).sum())"
   ]
  },
  {
   "cell_type": "markdown",
   "metadata": {},
   "source": [
    "# Try to manually find support vector"
   ]
  },
  {
   "cell_type": "code",
   "execution_count": null,
   "metadata": {},
   "outputs": [],
   "source": [
    "feature_dim = 3\n",
    "\n",
    "sign_flip = torch.randint(0, 2, (feature_dim,)).float().to(device)\n",
    "sign_flip[sign_flip == 0] = -1\n",
    "\n",
    "evecs_orig = train_shape['evecs'][:, 5: 5+ feature_dim].unsqueeze(0).to(device)\n",
    "\n",
    "# multiply evecs [6890 x 16] by sign_flip [16]\n",
    "evecs_flip = evecs_orig * sign_flip\n",
    "\n",
    "print('GT', sign_flip)\n",
    "\n",
    "\n",
    "\n",
    "with torch.no_grad():\n",
    "    # vertex_combinations\n",
    "    for i in range(0, evecs_orig.shape[1], 10):\n",
    "    # for i in range(0, 60, 10):\n",
    "        support_vector_flip = torch.zeros(1, evecs_orig.shape[1], 1).to(device)\n",
    "        support_vector_flip[:, i:i+10] = 1\n",
    "        \n",
    "        # print('support_vector_flip', support_vector_flip)\n",
    "        \n",
    "        # apply sigmoid\n",
    "        # support_vector_flip_sigmoid = torch.sigmoid(support_vector_flip)\n",
    "        \n",
    "        # print('support_vector_flip_sigmoid', support_vector_flip_sigmoid)\n",
    "\n",
    "        # multiply the support vector by the flipped evecs\n",
    "        product_with_support = support_vector_flip.transpose(1, 2) @ evecs_flip\n",
    "        \n",
    "        \n",
    "        \n",
    "        # print('product_with_support', product_with_support)\n",
    "\n",
    "        # get the sign of the support vector, use tanh\n",
    "        sign_flip_predicted = torch.tanh(product_with_support).squeeze().detach()\n",
    "        # print('sign_flip_predicted', sign_flip_predicted)\n",
    "        \n",
    "        if torch.allclose(sign_flip_predicted, sign_flip):\n",
    "            print(f'{i} OK')"
   ]
  },
  {
   "cell_type": "code",
   "execution_count": null,
   "metadata": {},
   "outputs": [],
   "source": [
    "# pass original and flipped evecs through the network\n",
    "# signs_gt = signs1 * signs2\n",
    "\n",
    "# either use 1 support vector per eigenvector, need to use the entire dataset\n",
    "# or some eigenvectors will not be aligned"
   ]
  },
  {
   "cell_type": "code",
   "execution_count": null,
   "metadata": {},
   "outputs": [],
   "source": [
    "plt.imshow(train_shape['C_gt_xy'][0][16:48, 16:48], vmin=-1, vmax=1, cmap='bwr')\n",
    "plt.show()"
   ]
  }
 ],
 "metadata": {
  "kernelspec": {
   "display_name": "Python 3 (ipykernel)",
   "language": "python",
   "name": "python3"
  },
  "language_info": {
   "codemirror_mode": {
    "name": "ipython",
    "version": 3
   },
   "file_extension": ".py",
   "mimetype": "text/x-python",
   "name": "python",
   "nbconvert_exporter": "python",
   "pygments_lexer": "ipython3",
   "version": "3.8.19"
  }
 },
 "nbformat": 4,
 "nbformat_minor": 2
}
