{
 "cells": [
  {
   "cell_type": "code",
   "execution_count": null,
   "metadata": {},
   "outputs": [],
   "source": [
    "from my_code.datasets.surreal_dataset_3dc import TemplateSurrealDataset3DC\n",
    "import numpy as np\n",
    "\n",
    "augmentations = {\n",
    "        \"remesh\": {\n",
    "            \"isotropic\": {\n",
    "                \"n_remesh_iters\": 10,\n",
    "                \"remesh_targetlen\": 1,\n",
    "                \"simplify_strength_min\": 0.2,\n",
    "                \"simplify_strength_max\": 0.8,\n",
    "            },\n",
    "            \"anisotropic\": {\n",
    "                \"probability\": 0.35,\n",
    "                    \n",
    "                \"n_remesh_iters\": 10,\n",
    "                \"fraction_to_simplify_min\": 0.2,\n",
    "                \"fraction_to_simplify_max\": 0.6,\n",
    "                \"simplify_strength_min\": 0.2,\n",
    "                \"simplify_strength_max\": 0.5,\n",
    "                \"weighted_by\": \"face_count\",\n",
    "            },\n",
    "            \"partial\": {\n",
    "                \"probability\": 1,\n",
    "                \"n_remesh_iters\": 10,\n",
    "                \"fraction_to_keep_min\": 0.4,\n",
    "                \"fraction_to_keep_max\": 0.5,\n",
    "                \"n_seed_samples\": [5, 25],\n",
    "                \"weighted_by\": \"face_count\",\n",
    "            },\n",
    "        },\n",
    "    }\n",
    "\n",
    "    \n",
    "\n",
    "test_dataset = TemplateSurrealDataset3DC(\n",
    "    shape_path='/lustre/mlnvme/data/s94zalek_hpc-shape_matching/mmap_datas_surreal_train.pth',\n",
    "    num_evecs=128,\n",
    "    cache_lb_dir=None,\n",
    "    return_evecs=True,\n",
    "    return_fmap=False,\n",
    "    mmap=True,\n",
    "    augmentations=augmentations,\n",
    "    template_path=f'/home/s94zalek_hpc/shape_matching/data/SURREAL_full/template/remeshed/template.off',\n",
    "    template_corr=np.loadtxt(\n",
    "        f'/home/s94zalek_hpc/shape_matching/data/SURREAL_full/template/remeshed/corr.txt',\n",
    "        dtype=np.int32) - 1,\n",
    "    \n",
    "    # template_corr=np.loadtxt(\n",
    "    #     f'/home/s94zalek_hpc/shape_matching/data/SURREAL_full/template/remeshed/corr_symmetric.txt',\n",
    "    #     dtype=np.int32) - 1,\n",
    "    \n",
    "    centering='bbox',\n",
    "    return_shot=True\n",
    ")   \n",
    "\n",
    "# print('!!! Using symmetric correspondence !!!')"
   ]
  },
  {
   "cell_type": "code",
   "execution_count": null,
   "metadata": {},
   "outputs": [],
   "source": [
    "from tqdm import tqdm\n",
    "\n",
    "for i in tqdm(range(6800, 7000)):\n",
    "    data_i = test_dataset[i]\n",
    "    \n",
    "    # if data_i is a tuple, stop\n",
    "    if isinstance(data_i, tuple):\n",
    "        break"
   ]
  },
  {
   "cell_type": "code",
   "execution_count": 4,
   "metadata": {},
   "outputs": [],
   "source": [
    "data_19 = test_dataset[19]"
   ]
  },
  {
   "cell_type": "code",
   "execution_count": null,
   "metadata": {},
   "outputs": [],
   "source": [
    "# for a number between 100 and 200, if 230000 is divisible by that number, print it\n",
    "\n",
    "for i in range(100, 230):\n",
    "    if 230000 % i == 0:\n",
    "        print(i)"
   ]
  }
 ],
 "metadata": {
  "kernelspec": {
   "display_name": "Python 3 (ipykernel)",
   "language": "python",
   "name": "python3"
  },
  "language_info": {
   "codemirror_mode": {
    "name": "ipython",
    "version": 3
   },
   "file_extension": ".py",
   "mimetype": "text/x-python",
   "name": "python",
   "nbconvert_exporter": "python",
   "pygments_lexer": "ipython3",
   "version": "3.8.20"
  }
 },
 "nbformat": 4,
 "nbformat_minor": 2
}
