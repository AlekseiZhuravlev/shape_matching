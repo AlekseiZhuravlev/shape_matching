{
 "cells": [
  {
   "cell_type": "code",
   "execution_count": 3,
   "metadata": {},
   "outputs": [],
   "source": [
    "config = {    \n",
    "    'dataset_base_dir': '/lustre/mlnvme/data/s94zalek_hpc-shape_matching/SURREAL/train',\n",
    "    'dataset_name': 'partial_0.8_5k_32_1',\n",
    "    \n",
    "    'fmap_direction': 'xy',\n",
    "    'fmap_type': 'orig',\n",
    "    'conditioning_types': {'evecs'},\n",
    "\n",
    "} "
   ]
  },
  {
   "cell_type": "code",
   "execution_count": 4,
   "metadata": {},
   "outputs": [],
   "source": [
    "from my_code.datasets.surreal_cached_train_dataset import SurrealTrainDataset\n",
    "\n",
    "dataset_train = SurrealTrainDataset(\n",
    "    # f'data/SURREAL_full/full_datasets/{config[\"dataset_name\"]}/train',\n",
    "    f'{config[\"dataset_base_dir\"]}/{config[\"dataset_name\"]}/train',\n",
    "    fmap_direction=config[\"fmap_direction\"],\n",
    "    fmap_input_type=config[\"fmap_type\"],\n",
    "    conditioning_types=config[\"conditioning_types\"],\n",
    "    mmap=True\n",
    "    )"
   ]
  },
  {
   "cell_type": "code",
   "execution_count": 7,
   "metadata": {},
   "outputs": [],
   "source": [
    "# dataset_train.fmaps, dataset_train.evecs_cond_first, dataset_train.evecs_cond_second \n",
    "\n",
    "# check if dataset_train.fmaps has NaN values\n",
    "import torch\n",
    "\n",
    "print('fmaps', torch.isnan(dataset_train.fmaps).any())\n",
    "print('evecs_cond_first', torch.isnan(dataset_train.evecs_cond_first).any())\n",
    "print('evecs_cond_second', torch.isnan(dataset_train.evecs_cond_second).any())"
   ]
  },
  {
   "cell_type": "code",
   "execution_count": null,
   "metadata": {},
   "outputs": [],
   "source": [
    "# which elements in evecs_cond_second are NaN\n",
    "\n",
    "nan_idx = torch.isnan(dataset_train.evecs_cond_second).nonzero()\n",
    "\n",
    "print('evecs_cond_second', nan_idx)\n",
    "\n",
    "# get the first indices of the elements in evecs_cond_second that are NaN\n",
    "\n",
    "nan_idx_unique = torch.unique(nan_idx[:, 0])\n",
    "\n",
    "print('evecs_cond_second', nan_idx_unique)"
   ]
  },
  {
   "cell_type": "code",
   "execution_count": 17,
   "metadata": {},
   "outputs": [],
   "source": [
    "import os\n",
    "\n",
    "def remove_nans(load_from, save_to):\n",
    "\n",
    "    tensor_names = ['C_gt_xy', 'C_gt_yx', 'evals_first', 'evals_second', 'evecs_cond_first', 'evecs_cond_second']\n",
    "    tensor_list = []\n",
    "    \n",
    "    for tensor_name in tensor_names:\n",
    "        tensor_i = torch.load(f'{load_from}/{tensor_name}.pt')\n",
    "        tensor_list.append(tensor_i)\n",
    "    \n",
    "    \n",
    "    # get the first indices of the elements in each tensor that are NaN\n",
    "    \n",
    "    nan_idxs = []\n",
    "    for tensor_i in tensor_list:\n",
    "        nan_idx = torch.isnan(tensor_i).nonzero()\n",
    "        nan_idx_unique = torch.unique(nan_idx[:, 0])\n",
    "        \n",
    "        if len(nan_idx_unique) > 0:\n",
    "            for i in range(len(nan_idx_unique)):\n",
    "                nan_idxs.append(nan_idx_unique[i].item())\n",
    "        \n",
    "    print('nan_idxs', len(nan_idxs), nan_idxs)\n",
    "        \n",
    "    if len(nan_idxs) == 0:\n",
    "        print('No NaNs found')\n",
    "        return\n",
    "        \n",
    "    idxs_normal = torch.tensor([i for i in range(len(tensor_list[0])) if i not in nan_idxs])\n",
    "    \n",
    "    print('idxs_normal', len(idxs_normal), idxs_normal)\n",
    "    \n",
    "    \n",
    "    os.makedirs(save_to, exist_ok=True)\n",
    "    for i in range(len(tensor_names)):\n",
    "        tensor_name = tensor_names[i]\n",
    "        tensor_i = tensor_list[i][idxs_normal]\n",
    "        \n",
    "        print(f\"Saving {tensor_name} with shape {tensor_i.shape}\")\n",
    "        \n",
    "        torch.save(tensor_i, f'{save_to}/{tensor_name}.pt')\n",
    "        \n",
    "\n",
    "remove_nans(load_from='/lustre/mlnvme/data/s94zalek_hpc-shape_matching/SURREAL/train/partial_0.8_5k_32_1/train',\n",
    "            save_to='/lustre/mlnvme/data/s94zalek_hpc-shape_matching/SURREAL/train/partial_0.8_5k_32_1_fixed/train')  \n",
    "    "
   ]
  }
 ],
 "metadata": {
  "kernelspec": {
   "display_name": "Python 3 (ipykernel)",
   "language": "python",
   "name": "python3"
  }
 },
 "nbformat": 4,
 "nbformat_minor": 2
}
