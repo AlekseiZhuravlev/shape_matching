{
 "cells": [
  {
   "cell_type": "code",
   "execution_count": 13,
   "metadata": {},
   "outputs": [],
   "source": [
    "import trimesh\n",
    "\n",
    "scene = trimesh.Scene()"
   ]
  },
  {
   "cell_type": "code",
   "execution_count": 14,
   "metadata": {},
   "outputs": [],
   "source": [
    "# read /home/s94zalek_hpc/shape_matching/data/SHREC16_test/null/off/david.off\n",
    "import os\n",
    "\n",
    "scene.geometry.clear()\n",
    "\n",
    "mesh_files = os.listdir('/home/s94zalek_hpc/shape_matching/data/SHREC16_test/null/off')\n",
    "\n",
    "for i, mesh_file in enumerate(mesh_files):\n",
    "    mesh = trimesh.load_mesh(f'/home/s94zalek_hpc/shape_matching/data/SHREC16_test/null/off/{mesh_file}', process=False)\n",
    "    \n",
    "    mesh.fix_normals()\n",
    "    # alternatively, validate=True when creating Trimesh object\n",
    "    \n",
    "    mesh.vertices += [i, 0, 0]\n",
    "    \n",
    "    scene.add_geometry(mesh)\n",
    "    \n",
    "scene.show()"
   ]
  },
  {
   "cell_type": "code",
   "execution_count": null,
   "metadata": {},
   "outputs": [],
   "source": [
    "# read /home/s94zalek_hpc/shape_matching/data/SHREC16_test/null/off/david.off\n",
    "import os\n",
    "\n",
    "scene.geometry.clear()\n",
    "\n",
    "mesh_files = sorted(os.listdir('/home/s94zalek_hpc/shape_matching/data/SHREC16_test/cuts/off'))\n",
    "# print(mesh_files)\n",
    "\n",
    "for i, mesh_file in enumerate(mesh_files):\n",
    "    \n",
    "    if 'david' not in mesh_file:\n",
    "        i -= 1\n",
    "        continue\n",
    "    \n",
    "    print(f'{i}) {mesh_file},', end=' ')\n",
    "    \n",
    "    mesh = trimesh.load_mesh(f'/home/s94zalek_hpc/shape_matching/data/SHREC16_test/cuts/off/{mesh_file}', process=True)\n",
    "    \n",
    "    mesh.fix_normals()\n",
    "    \n",
    "    mesh.vertices += [i, 0, 0]\n",
    "    \n",
    "    scene.add_geometry(mesh)\n",
    "    \n",
    "scene.show()"
   ]
  },
  {
   "cell_type": "code",
   "execution_count": 16,
   "metadata": {},
   "outputs": [],
   "source": [
    "import my_code.datasets.shape_dataset as shape_dataset\n",
    "\n",
    "dataset = shape_dataset.PairShrec16Dataset(\n",
    "    'data/SHREC16_test/',\n",
    "    categories=None,\n",
    "    cut_type='cuts', return_faces=True,\n",
    "    return_evecs=True, num_evecs=200,\n",
    "    return_corr=False, return_dist=False\n",
    ")"
   ]
  },
  {
   "cell_type": "code",
   "execution_count": null,
   "metadata": {},
   "outputs": [],
   "source": [
    "idx = 61\n",
    "\n",
    "data = dataset[idx]\n",
    "\n",
    "print(data['second']['name'])"
   ]
  },
  {
   "cell_type": "code",
   "execution_count": null,
   "metadata": {},
   "outputs": [],
   "source": [
    "import torch\n",
    "\n",
    "scene.geometry.clear()\n",
    "\n",
    "for evec_n in range(1, 9):\n",
    "    \n",
    "    mesh_1 = trimesh.Trimesh(data['first']['verts'] + torch.tensor([0, evec_n, 0]),\n",
    "                             data['first']['faces'],\n",
    "                            validate=True\n",
    "                            )\n",
    "\n",
    "    mesh_2 = trimesh.Trimesh(data['second']['verts'] + torch.tensor([1, evec_n, 0]),\n",
    "                             data['second']['faces'],\n",
    "                            validate=True\n",
    "                            )\n",
    "    # mesh_2.vertices += [1, 0, 0]\n",
    "\n",
    "\n",
    "\n",
    "\n",
    "    cmap_1 = trimesh.visual.color.interpolate(\n",
    "        torch.nn.functional.normalize(data['first']['evecs'][:, evec_n], p=2, dim=0),\n",
    "        'bwr')\n",
    "\n",
    "    cmap_2 = trimesh.visual.color.interpolate(\n",
    "        torch.nn.functional.normalize(data['second']['evecs'][:, evec_n], p=2, dim=0)\n",
    "        , 'bwr')\n",
    "\n",
    "\n",
    "    mesh_1.visual.vertex_colors = cmap_1[:len(mesh_1.vertices)]\n",
    "    mesh_2.visual.vertex_colors = cmap_2[:len(mesh_2.vertices)]\n",
    "\n",
    "\n",
    "    scene.add_geometry(mesh_1)\n",
    "    scene.add_geometry(mesh_2)\n",
    "\n",
    "scene.show()"
   ]
  },
  {
   "cell_type": "code",
   "execution_count": null,
   "metadata": {},
   "outputs": [],
   "source": []
  }
 ],
 "metadata": {
  "kernelspec": {
   "display_name": "Python 3 (ipykernel)",
   "language": "python",
   "name": "python3"
  },
  "language_info": {
   "codemirror_mode": {
    "name": "ipython",
    "version": 3
   },
   "file_extension": ".py",
   "mimetype": "text/x-python",
   "name": "python",
   "nbconvert_exporter": "python",
   "pygments_lexer": "ipython3",
   "version": "3.8.19"
  }
 },
 "nbformat": 4,
 "nbformat_minor": 2
}
