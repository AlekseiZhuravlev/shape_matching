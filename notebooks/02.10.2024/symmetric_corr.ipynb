{
 "cells": [
  {
   "cell_type": "code",
   "execution_count": 1,
   "metadata": {},
   "outputs": [],
   "source": [
    "import trimesh\n",
    "\n",
    "scene = trimesh.Scene()"
   ]
  },
  {
   "cell_type": "code",
   "execution_count": 4,
   "metadata": {},
   "outputs": [],
   "source": [
    "mesh_remeshed = trimesh.load_mesh('/home/s94zalek_hpc/shape_matching/data/SURREAL_full/template/remeshed/template.off')\n",
    "mesh_original = trimesh.load_mesh('/home/s94zalek_hpc/shape_matching/data/SURREAL_full/template/template.ply')\n",
    "\n",
    "# mesh_template.apply_transform(mesh_template.principal_inertia_transform)\n",
    "mesh_remeshed.apply_transform(mesh_remeshed.principal_inertia_transform)\n",
    "mesh_original.apply_transform(mesh_original.principal_inertia_transform)"
   ]
  },
  {
   "cell_type": "code",
   "execution_count": null,
   "metadata": {},
   "outputs": [],
   "source": [
    "import numpy as np\n",
    "\n",
    "scene.geometry.clear()\n",
    "\n",
    "\n",
    "scene.add_geometry(mesh_remeshed)\n",
    "scene.add_geometry(\n",
    "    trimesh.Trimesh(vertices=mesh_original.vertices + np.array([1, 0, 0]), faces=mesh_original.faces)\n",
    ")\n",
    "scene.show()"
   ]
  },
  {
   "cell_type": "code",
   "execution_count": 14,
   "metadata": {},
   "outputs": [],
   "source": [
    "import utils.fmap_util as fmap_util\n",
    "import torch\n",
    "\n",
    "mesh_reflected = mesh_original.copy()\n",
    "mesh_reflected.vertices[:, 1] *= -1\n",
    "\n",
    "# correspondence by a nearest neighbor search\n",
    "corr = fmap_util.nn_query(\n",
    "    torch.tensor(mesh_remeshed.vertices),\n",
    "    torch.tensor(mesh_original.vertices), \n",
    "    )\n",
    "\n",
    "corr_reflected = fmap_util.nn_query(\n",
    "    torch.tensor(mesh_remeshed.vertices),\n",
    "    torch.tensor(mesh_reflected.vertices), \n",
    "    )"
   ]
  },
  {
   "cell_type": "code",
   "execution_count": 16,
   "metadata": {},
   "outputs": [],
   "source": [
    "import my_code.utils.plotting_utils as plotting_utils\n",
    "\n",
    "scene.geometry.clear()\n",
    "\n",
    "plotting_utils.plot_p2p_map(\n",
    "    scene,\n",
    "    \n",
    "    torch.tensor(mesh_remeshed.vertices), torch.tensor(mesh_remeshed.faces),\n",
    "    torch.tensor(mesh_original.vertices), torch.tensor(mesh_original.faces),\n",
    "    corr_reflected,\n",
    "    axes_color_gradient=[1],\n",
    "    base_cmap='hsv'\n",
    ")\n",
    "\n",
    "scene.show()"
   ]
  },
  {
   "cell_type": "code",
   "execution_count": 17,
   "metadata": {},
   "outputs": [],
   "source": [
    "# save the reflected correspondence to /home/s94zalek_hpc/shape_matching/data/SURREAL_full/template/remeshed\n",
    "\n",
    "np.savetxt('/home/s94zalek_hpc/shape_matching/data/SURREAL_full/template/remeshed/corr_symmetric.txt', corr_reflected.numpy(), fmt='%d')"
   ]
  }
 ],
 "metadata": {
  "kernelspec": {
   "display_name": "Python 3 (ipykernel)",
   "language": "python",
   "name": "python3"
  }
 },
 "nbformat": 4,
 "nbformat_minor": 2
}
