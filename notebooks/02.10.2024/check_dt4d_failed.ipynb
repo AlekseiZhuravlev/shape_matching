{
 "cells": [
  {
   "cell_type": "code",
   "execution_count": 14,
   "metadata": {},
   "outputs": [],
   "source": [
    "import trimesh\n",
    "\n",
    "scene = trimesh.Scene()"
   ]
  },
  {
   "cell_type": "code",
   "execution_count": null,
   "metadata": {},
   "outputs": [],
   "source": [
    "import my_code.diffusion_training_sign_corr.data_loading as data_loading\n",
    "\n",
    "single_dataset, test_dataset = data_loading.get_val_dataset(\n",
    "    'DT4D_inter_pair', 'test', 200, preload=False, return_evecs=True\n",
    "    )"
   ]
  },
  {
   "cell_type": "code",
   "execution_count": null,
   "metadata": {},
   "outputs": [],
   "source": [
    "with open('/home/s94zalek_hpc/shape_matching/my_code/experiments/ddpm/'\n",
    "          # 'single_64_2-2ev_64-128-128_remeshed/eval/epoch_99/SHREC19_r_pair-test/taubin-5/log_taubin-5.txt', 'r') as f:\n",
    "        'single_64_1-2ev_64-128-128_remeshed_fixed/eval/epoch_99/DT4D_inter_pair-test/no_smoothing/log_no_smoothing.txt', 'r') as f:\n",
    "    lines = f.readlines()\n",
    "len(lines)\n",
    "\n",
    "# try with smoothing"
   ]
  },
  {
   "cell_type": "code",
   "execution_count": null,
   "metadata": {},
   "outputs": [],
   "source": [
    "pairzo_errs = []\n",
    "\n",
    "search_str = 'Geo error est pairzo mean: '\n",
    "\n",
    "example_str = 'Geo error est pairzo mean: 2.233'\n",
    "\n",
    "for line in lines:\n",
    "    if 'Geo error est pairzo mean: ' in line:\n",
    "        pairzo_errs.append(float(line.split(search_str)[1].strip()))\n",
    "        \n",
    "len(pairzo_errs)"
   ]
  },
  {
   "cell_type": "code",
   "execution_count": 6,
   "metadata": {},
   "outputs": [],
   "source": [
    "shape_ids_first = []\n",
    "shape_ids_second = []\n",
    "\n",
    "# for corr_file in test_dataset.corr_files:\n",
    "    # 'data/SHREC19_r/corres/12_1.map'\n",
    "    # id_1 = int(corr_file.split('/')[-1].split('_')[0]) - 1\n",
    "    # id_2 = int(corr_file.split('/')[-1].split('_')[1].split('.')[0]) - 1\n",
    "    \n",
    "    # shape_ids_first.append(id_1)\n",
    "    # shape_ids_second.append(id_2)\n",
    "    \n",
    "for combination in test_dataset.combinations:\n",
    "    shape_ids_first.append(combination[0])\n",
    "    shape_ids_second.append(combination[1])"
   ]
  },
  {
   "cell_type": "code",
   "execution_count": 8,
   "metadata": {},
   "outputs": [],
   "source": [
    "import torch\n",
    "\n",
    "# set to 0, for each unique shape id\n",
    "\n",
    "unique_shapes = set(shape_ids_first)\n",
    "\n",
    "errs_by_shape = torch.zeros(len(single_dataset))\n",
    "times_by_shape = torch.zeros(len(single_dataset))\n",
    "\n",
    "for i in range(len(shape_ids_first)):\n",
    "    # print(i)\n",
    "    errs_by_shape[shape_ids_first[i]] += pairzo_errs[i]\n",
    "    errs_by_shape[shape_ids_second[i]] += pairzo_errs[i]\n",
    "    \n",
    "    times_by_shape[shape_ids_first[i]] += 1\n",
    "    times_by_shape[shape_ids_second[i]] += 1\n",
    "    \n",
    "errs_by_shape /= times_by_shape    \n"
   ]
  },
  {
   "cell_type": "code",
   "execution_count": null,
   "metadata": {},
   "outputs": [],
   "source": [
    "import matplotlib.pyplot as plt\n",
    "\n",
    "fig, axs = plt.subplots(1, 2, figsize=(10, 4))\n",
    "\n",
    "axs[0].plot(errs_by_shape.numpy())\n",
    "axs[1].hist(errs_by_shape.numpy(), bins=50)\n",
    "\n",
    "# plt.label('Errors by shape, no smoothing')\n",
    "# make a title above all subplots\n",
    "fig.suptitle('Errors by shape, taubin-5')\n",
    "\n",
    "plt.show()"
   ]
  },
  {
   "cell_type": "code",
   "execution_count": null,
   "metadata": {},
   "outputs": [],
   "source": [
    "sorted_errs, sorted_ids = torch.sort(errs_by_shape, descending=True)\n",
    "\n",
    "print(sorted_errs)\n",
    "print(sorted_ids)\n",
    "\n",
    "# get the 10 worst shapes, without nans \n",
    "worst_shapes = sorted_ids[~torch.isnan(sorted_errs)][:40]\n",
    "print(worst_shapes)\n",
    "print(errs_by_shape[worst_shapes])\n"
   ]
  },
  {
   "cell_type": "code",
   "execution_count": null,
   "metadata": {},
   "outputs": [],
   "source": [
    "# add 4 random training shapes to trimesh scene\n",
    "\n",
    "# np.random.shuffle(train_shapes)\n",
    "scene.geometry.clear()\n",
    "\n",
    "# idx_train = errs_by_shape.argsort(descending=True)[1:]\n",
    "\n",
    "# for i, idx in enumerate(worst_shapes):\n",
    "for i, idx in enumerate([61]):\n",
    "    scene.add_geometry(trimesh.Trimesh(\n",
    "        vertices=single_dataset[idx]['verts'] + torch.tensor([i, 0, 0]),\n",
    "        faces=single_dataset[idx]['faces']))\n",
    "    \n",
    "axis = trimesh.creation.axis(axis_length=1)\n",
    "scene.add_geometry(axis)\n",
    "scene.show()"
   ]
  },
  {
   "cell_type": "markdown",
   "metadata": {},
   "source": [
    "# Try to smooth the mesh"
   ]
  },
  {
   "cell_type": "code",
   "execution_count": null,
   "metadata": {},
   "outputs": [],
   "source": [
    "mesh_65 = trimesh.Trimesh(vertices=single_dataset[65]['verts'], faces=single_dataset[65]['faces'])\n",
    "\n",
    "scene.geometry.clear()\n",
    "scene.add_geometry(mesh_65)\n",
    "scene.show()"
   ]
  },
  {
   "cell_type": "code",
   "execution_count": null,
   "metadata": {},
   "outputs": [],
   "source": [
    "import numpy as np\n",
    "\n",
    "mesh_65_smoothed = trimesh.Trimesh(vertices=single_dataset[65]['verts'], faces=single_dataset[65]['faces'])\n",
    "\n",
    "trimesh.smoothing.filter_laplacian(mesh_65_smoothed, lamb=0.5, iterations=20)\n",
    "# trimesh.smoothing.filter_taubin(mesh_65_smoothed, lamb=0.5, iterations=20)\n",
    "mesh_65_smoothed.vertices += np.array([1, 0, 0])\n",
    "\n",
    "scene.geometry.clear()\n",
    "axis = trimesh.creation.axis(axis_length=1)\n",
    "scene.add_geometry(axis)\n",
    "\n",
    "scene.add_geometry(mesh_65)\n",
    "scene.add_geometry(mesh_65_smoothed)\n",
    "\n",
    "scene.show()"
   ]
  }
 ],
 "metadata": {
  "kernelspec": {
   "display_name": "Python 3 (ipykernel)",
   "language": "python",
   "name": "python3"
  },
  "language_info": {
   "codemirror_mode": {
    "name": "ipython",
    "version": 3
   },
   "file_extension": ".py",
   "mimetype": "text/x-python",
   "name": "python",
   "nbconvert_exporter": "python",
   "pygments_lexer": "ipython3",
   "version": "3.8.19"
  }
 },
 "nbformat": 4,
 "nbformat_minor": 2
}
