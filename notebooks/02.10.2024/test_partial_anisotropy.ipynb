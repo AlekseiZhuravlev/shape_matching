{
 "cells": [
  {
   "cell_type": "code",
   "execution_count": 1,
   "metadata": {},
   "outputs": [],
   "source": [
    "import trimesh\n",
    "\n",
    "scene = trimesh.Scene()"
   ]
  },
  {
   "cell_type": "code",
   "execution_count": 20,
   "metadata": {},
   "outputs": [],
   "source": [
    "from my_code.datasets.surreal_dataset_3dc import TemplateSurrealDataset3DC\n",
    "import numpy as np\n",
    "\n",
    "augmentations = {\n",
    "    \"remesh\": {\n",
    "            \"isotropic\": {\n",
    "                \"n_remesh_iters\": 10,\n",
    "                \"remesh_targetlen\": 1,\n",
    "                \"simplify_strength_min\": 0.2,\n",
    "                \"simplify_strength_max\": 0.8,\n",
    "            },\n",
    "            \"anisotropic\": {\n",
    "                \"probability\": 1,\n",
    "                    \n",
    "                \"n_remesh_iters\": 10,\n",
    "                \"fraction_to_simplify_min\": 0.2,\n",
    "                \"fraction_to_simplify_max\": 0.6,\n",
    "                \"simplify_strength_min\": 0.1,\n",
    "                \"simplify_strength_max\": 0.3,\n",
    "                \"weighted_by\": \"face_count\",\n",
    "            },\n",
    "            \"partial\": {\n",
    "                \"probability\": 1,\n",
    "                \"n_remesh_iters\": 10,\n",
    "                \"fraction_to_keep_min\": 0.5,\n",
    "                \"fraction_to_keep_max\": 0.8,\n",
    "                \"n_seed_samples\": [1],\n",
    "                \"weighted_by\": \"face_count\",\n",
    "            },\n",
    "        },\n",
    "    }\n",
    "\n",
    "    \n",
    "\n",
    "test_dataset = TemplateSurrealDataset3DC(\n",
    "    shape_path='/lustre/mlnvme/data/s94zalek_hpc-shape_matching/mmap_datas_surreal_train.pth',\n",
    "    num_evecs=128,\n",
    "    cache_lb_dir=None,\n",
    "    return_evecs=True,\n",
    "    return_fmap=False,\n",
    "    mmap=True,\n",
    "    augmentations=augmentations,\n",
    "    template_path=f'/home/s94zalek_hpc/shape_matching/data/SURREAL_full/template/remeshed/template.off',\n",
    "    template_corr=np.loadtxt(\n",
    "        f'/home/s94zalek_hpc/shape_matching/data/SURREAL_full/template/remeshed/corr.txt',\n",
    "        dtype=np.int32) - 1\n",
    ")   "
   ]
  },
  {
   "cell_type": "code",
   "execution_count": 35,
   "metadata": {},
   "outputs": [],
   "source": [
    "import my_code.utils.plotting_utils as plotting_utils\n",
    "\n",
    "data = test_dataset[10]\n",
    "\n",
    "scene.geometry.clear()\n",
    "\n",
    "plotting_utils.plot_p2p_map(\n",
    "    scene,\n",
    "    \n",
    "    data['first']['verts'], data['first']['faces'],\n",
    "    data['second']['verts'], data['second']['faces'],\n",
    "    \n",
    "    \n",
    "    data['first']['corr'],\n",
    "    # p2p_est_second[2].cpu(),\n",
    "    axes_color_gradient=[0, 1],\n",
    "    base_cmap='hsv'\n",
    ")\n",
    "\n",
    "scene.show()"
   ]
  },
  {
   "cell_type": "code",
   "execution_count": null,
   "metadata": {},
   "outputs": [],
   "source": []
  }
 ],
 "metadata": {
  "kernelspec": {
   "display_name": "Python 3 (ipykernel)",
   "language": "python",
   "name": "python3"
  }
 },
 "nbformat": 4,
 "nbformat_minor": 2
}
