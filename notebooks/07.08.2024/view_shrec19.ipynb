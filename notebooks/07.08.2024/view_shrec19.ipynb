{
 "cells": [
  {
   "cell_type": "code",
   "execution_count": 13,
   "metadata": {},
   "outputs": [],
   "source": [
    "import torch\n",
    "import numpy as np\n",
    "import matplotlib.pyplot as plt\n",
    "\n",
    "import trimesh\n",
    "\n",
    "scene = trimesh.Scene()"
   ]
  },
  {
   "cell_type": "code",
   "execution_count": 16,
   "metadata": {},
   "outputs": [],
   "source": [
    "from my_code.datasets.surreal_dataset_3dc import TemplateSurrealDataset3DC\n",
    "import torch\n",
    "from tqdm import tqdm\n",
    "import time\n",
    "import my_code.diffusion_training_sign_corr.data_loading as data_loading\n",
    "\n",
    "\n",
    "train_dataset = data_loading.get_val_dataset(\n",
    "    'SHREC19', 'train', 128, preload=False, canonicalize_fmap=None, return_evecs=False\n",
    "    )[1]\n",
    "\n",
    "# test_dataset = data_loading.get_val_dataset(\n",
    "#     'FAUST_r', 'test', 128, canonicalize_fmap=None, preload=False\n",
    "# )[1]"
   ]
  },
  {
   "cell_type": "code",
   "execution_count": null,
   "metadata": {},
   "outputs": [],
   "source": [
    "scene.geometry.clear()\n",
    "\n",
    "for i, idx in enumerate([\n",
    "    # 0, 1, 2, 3, 7,\n",
    "    # 9, 14, 16, 18, 19,\n",
    "    # 20, 21, 24, 25, 28,\n",
    "    # 30, 35\n",
    "    ]):\n",
    "    data_i = train_dataset[idx]\n",
    "    verts = data_i['second']['verts']\n",
    "    faces = data_i['second']['faces']\n",
    "    \n",
    "    mesh = trimesh.Trimesh(vertices=verts + torch.tensor([i, 0, 0]), faces=faces)\n",
    "    scene.add_geometry(mesh)\n",
    "\n",
    "scene.show()"
   ]
  }
 ],
 "metadata": {
  "kernelspec": {
   "display_name": "Python 3 (ipykernel)",
   "language": "python",
   "name": "python3"
  },
  "language_info": {
   "codemirror_mode": {
    "name": "ipython",
    "version": 3
   },
   "file_extension": ".py",
   "mimetype": "text/x-python",
   "name": "python",
   "nbconvert_exporter": "python",
   "pygments_lexer": "ipython3",
   "version": "3.8.19"
  }
 },
 "nbformat": 4,
 "nbformat_minor": 2
}
