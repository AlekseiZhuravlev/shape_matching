{
 "cells": [
  {
   "cell_type": "code",
   "execution_count": null,
   "metadata": {},
   "outputs": [],
   "source": [
    "import trimesh\n",
    "\n",
    "scene = trimesh.Scene()\n",
    "\n",
    "# read /home/s94zalek_hpc/shape_matching/data/SURREAL_full/template/template.ply\n",
    "mesh = trimesh.load_mesh('/home/s94zalek_hpc/shape_matching/data/SURREAL_full/template/template.ply')\n",
    "# mesh.show()"
   ]
  },
  {
   "cell_type": "code",
   "execution_count": null,
   "metadata": {},
   "outputs": [],
   "source": [
    "# sum(mesh.area_faces)"
   ]
  },
  {
   "cell_type": "code",
   "execution_count": null,
   "metadata": {},
   "outputs": [],
   "source": [
    "scene.geometry.clear()\n",
    "\n",
    "# simplify the mesh\n",
    "mesh_simplified = mesh.simplify_quadric_decimation(int(len(mesh.faces) * 0.6))\n",
    "\n",
    "# shift the vertices by 1 on x axis and add to the scene\n",
    "mesh_simplified.vertices += [2, 0, 0]\n",
    "scene.add_geometry(mesh_simplified)\n",
    "\n",
    "mesh_orig_shifted = mesh.copy()\n",
    "mesh_orig_shifted.vertices += [1, 0, 0]\n",
    "\n",
    "scene.add_geometry(mesh_orig_shifted)\n",
    "scene.add_geometry(trimesh.creation.axis())\n",
    "\n",
    "scene.show()\n",
    "\n"
   ]
  },
  {
   "cell_type": "code",
   "execution_count": null,
   "metadata": {},
   "outputs": [],
   "source": [
    "import igl\n",
    "import numpy as np\n",
    "\n",
    "# apply qslim to simplify the mesh\n",
    "_, v, f, _, _ = igl.qslim(\n",
    "    np.array(mesh.vertices),\n",
    "    np.array(mesh.faces),\n",
    "    int(len(mesh.faces) * 0.6))\n",
    "\n",
    "mesh_qslim = trimesh.Trimesh(v + [3, 0, 0]\n",
    "                             , f)\n",
    "scene.add_geometry(mesh_qslim)\n"
   ]
  },
  {
   "cell_type": "code",
   "execution_count": null,
   "metadata": {},
   "outputs": [],
   "source": [
    "scene.show()"
   ]
  },
  {
   "cell_type": "code",
   "execution_count": null,
   "metadata": {},
   "outputs": [],
   "source": [
    "# read mesh /home/s94zalek_hpc/shape_matching/data/FAUST_r/off/tr_reg_000.off\n",
    "\n",
    "mesh_faust = trimesh.load_mesh('/home/s94zalek_hpc/shape_matching/data/FAUST_r/off/tr_reg_000.off')\n",
    "\n",
    "mesh_faust.vertices += [2, 0, 0]\n",
    "# scene.add_geometry(mesh_faust)\n",
    "\n",
    "# scene.show()"
   ]
  },
  {
   "cell_type": "markdown",
   "metadata": {},
   "source": [
    "# Meshlab"
   ]
  },
  {
   "cell_type": "code",
   "execution_count": null,
   "metadata": {},
   "outputs": [],
   "source": [
    "import pymeshlab\n",
    "\n",
    "ms = pymeshlab.MeshSet()"
   ]
  },
  {
   "cell_type": "code",
   "execution_count": null,
   "metadata": {},
   "outputs": [],
   "source": [
    "ms.clear()\n",
    "\n",
    "ms.load_new_mesh('/home/s94zalek_hpc/shape_matching/data/SURREAL_full/template/template.ply')\n",
    "\n",
    "v_before = ms.current_mesh().vertex_matrix()\n",
    "f_before = ms.current_mesh().face_matrix()\n",
    "\n",
    "ms.meshing_isotropic_explicit_remeshing(\n",
    "    iterations=10,\n",
    "    targetlen=pymeshlab.PercentageValue(0.5)\n",
    ")\n",
    "v_r = ms.current_mesh().vertex_matrix()\n",
    "f_r = ms.current_mesh().face_matrix()\n",
    "\n",
    "ms.meshing_decimation_quadric_edge_collapse(\n",
    "    targetfacenum=int(len(f_before) * 0.2),\n",
    "    # targetperc=0.7,\n",
    ")\n",
    "v_qec = ms.current_mesh().vertex_matrix()\n",
    "f_qec = ms.current_mesh().face_matrix()\n",
    "\n",
    "\n",
    "print('before', v_before.shape, f_before.shape)\n",
    "print('after remesh', v_r.shape, f_r.shape)\n",
    "print('after qec', v_qec.shape, f_qec.shape)"
   ]
  },
  {
   "attachments": {
    "image.png": {
     "image/png": "[encoded data removed]"
    }
   },
   "cell_type": "markdown",
   "metadata": {},
   "source": [
    "![image.png](attachment:image.png)"
   ]
  },
  {
   "cell_type": "code",
   "execution_count": null,
   "metadata": {},
   "outputs": [],
   "source": [
    "import numpy as np\n",
    "\n",
    "scene.geometry.clear()\n",
    "\n",
    "mesh_before = trimesh.Trimesh(v_before + [1, 0, 0], f_before)\n",
    "mesh_remeshed = trimesh.Trimesh(v_r + [2, 0, 0], f_r)\n",
    "mesh_remeshed_simple = trimesh.Trimesh(v_qec + [3, 0, 0], f_qec)\n",
    "\n",
    "scene.add_geometry(trimesh.creation.axis())\n",
    "\n",
    "# scene.add_geometry(mesh_orig_shifted)\n",
    "# scene.add_geometry(mesh_faust)\n",
    "\n",
    "scene.add_geometry(mesh_before)\n",
    "scene.add_geometry(mesh_remeshed)\n",
    "scene.add_geometry(mesh_remeshed_simple)\n",
    "\n",
    "scene.show()"
   ]
  },
  {
   "cell_type": "code",
   "execution_count": null,
   "metadata": {},
   "outputs": [],
   "source": [
    "scene.geometry.clear()\n",
    "# read and show /home/s94zalek_hpc/shape_matching/data_sign_training/train/SURREAL_train_remesh_10_0.75_rot_0_90_0_normal_True_noise_0.0_-0.05_0.05_lapl_mesh_scale_0.9_1.1/off/0008.off\n",
    "mesh_gen = trimesh.load_mesh('/home/s94zalek_hpc/shape_matching/data_sign_training/train/SURREAL_train_remesh_iters_10_simplify_0.20_0.80_rot_0_90_0_normal_True_noise_0.0_-0.05_0.05_lapl_mesh_scale_0.9_1.1/off/0183.off')\n",
    "\n",
    "print(mesh_gen.vertices.shape, mesh_gen.faces.shape)\n",
    "scene.add_geometry(mesh_gen)\n",
    "\n",
    "scene.show()"
   ]
  },
  {
   "cell_type": "markdown",
   "metadata": {},
   "source": [
    "# Anisotropic mesh"
   ]
  },
  {
   "cell_type": "code",
   "execution_count": null,
   "metadata": {},
   "outputs": [],
   "source": [
    "mesh_anis = trimesh.load_mesh('/home/s94zalek_hpc/shape_matching/data/FAUST_a/off/tr_reg_080.off')\n",
    "mesh_anis.show()"
   ]
  },
  {
   "cell_type": "code",
   "execution_count": null,
   "metadata": {},
   "outputs": [],
   "source": [
    "mesh_anis = trimesh.load_mesh('/home/s94zalek_hpc/shape_matching/data/FAUST_a/off/tr_reg_080.off')\n",
    "mesh_anis.vertices += [1, 0, 0]"
   ]
  },
  {
   "cell_type": "code",
   "execution_count": null,
   "metadata": {},
   "outputs": [],
   "source": [
    "# remesh the mesh\n",
    "ms.clear()\n",
    "# ms.load_new_mesh('/home/s94zalek_hpc/shape_matching/data/FAUST_a/off/tr_reg_080.off')\n",
    "\n",
    "# v_anis, f_anis = trimesh.remesh.subdivide_to_size(mesh_anis.vertices, mesh_anis.faces, max_edge=0.01)\n",
    "\n",
    "v_anis = mesh_anis.vertices\n",
    "f_anis = mesh_anis.faces\n",
    "ms.add_mesh(pymeshlab.Mesh(v_anis, f_anis))\n",
    "\n",
    "ms.meshing_isotropic_explicit_remeshing(\n",
    "    iterations=10,\n",
    "    targetlen=pymeshlab.PercentageValue(2.5)\n",
    ")\n",
    "# ms.meshing_decimation_quadric_edge_collapse(\n",
    "#     # targetperc=0.2,\n",
    "#     targetfacenum=3500\n",
    "# )\n",
    "# ms.meshing_surface_subdivision_butterfly()\n",
    "    # targetabstractminfacenum=len(ms.current_mesh().face_matrix()) * 0.5,\n",
    "    # targetabstractmaxfacenum= 200\n",
    "\n",
    "# ms.meshing_repair_non_manifold_vertices()\n",
    "# ms.meshing_repair_non_manifold_edges(method=0)\n",
    "\n",
    "# ms.compute_iso_parametrization()\n",
    "\n",
    "# ms.generate_resampled_uniform_mesh(\n",
    "#     cellsize=pymeshlab.PercentageValue(2)\n",
    "# )\n",
    "\n",
    "v_anis = ms.current_mesh().vertex_matrix()\n",
    "f_anis = ms.current_mesh().face_matrix()\n",
    "\n",
    "mesh_anis_remeshed = trimesh.Trimesh(v_anis + [1, 0, 0], f_anis)\n",
    "\n",
    "\n",
    "print('before', mesh_anis.vertices.shape, mesh_anis.faces.shape)\n",
    "print('after remesh', v_anis.shape, f_anis.shape)\n",
    "\n",
    "scene.geometry.clear()\n",
    "\n",
    "scene.add_geometry(trimesh.creation.axis())\n",
    "\n",
    "scene.add_geometry(mesh_anis)\n",
    "scene.add_geometry(mesh_anis_remeshed)\n",
    "scene.show()"
   ]
  },
  {
   "cell_type": "code",
   "execution_count": null,
   "metadata": {},
   "outputs": [],
   "source": [
    "ms.generate_convex_hull()\n",
    "v_hull = ms.current_mesh().vertex_matrix()\n",
    "f_hull = ms.current_mesh().face_matrix()\n",
    "\n",
    "mesh_hull = trimesh.Trimesh(v_hull + [3, 0, 0], f_hull)\n",
    "\n",
    "scene.geometry.clear()\n",
    "\n",
    "scene.add_geometry(trimesh.creation.axis())\n",
    "scene.add_geometry(mesh_anis)\n",
    "scene.add_geometry(mesh_hull)\n",
    "\n",
    "scene.show()"
   ]
  },
  {
   "cell_type": "code",
   "execution_count": null,
   "metadata": {},
   "outputs": [],
   "source": [
    "from my_code.datasets.surreal_dataset_3dc import TemplateSurrealDataset3DC\n",
    "\n",
    "augmentations = {\n",
    "    'remesh': {\n",
    "        'n_remesh_iters': 10,\n",
    "        'simplify_percent_min': 0.5,\n",
    "        'simplify_percent_max': 1.0,\n",
    "    }\n",
    "}\n",
    "\n",
    "dataset_aug = TemplateSurrealDataset3DC(\n",
    "    # shape_path=f'/home/s94zalek_hpc/3D-CODED/data/mmap_datas_surreal_train.pth',\n",
    "    shape_path='/lustre/mlnvme/data/s94zalek_hpc-shape_matching/mmap_datas_surreal_train.pth',\n",
    "    num_evecs=128,\n",
    "    use_cuda=False,\n",
    "    cache_lb_dir=None,\n",
    "    return_evecs=True,\n",
    "    mmap=True,\n",
    "    augmentations=augmentations\n",
    ") \n",
    "dataset_orig = TemplateSurrealDataset3DC(\n",
    "    # shape_path=f'/home/s94zalek_hpc/3D-CODED/data/mmap_datas_surreal_train.pth',\n",
    "    shape_path='/lustre/mlnvme/data/s94zalek_hpc-shape_matching/mmap_datas_surreal_train.pth',\n",
    "    num_evecs=128,\n",
    "    use_cuda=False,\n",
    "    cache_lb_dir=None,\n",
    "    return_evecs=True,\n",
    "    mmap=True,\n",
    "    augmentations=None\n",
    ") "
   ]
  },
  {
   "cell_type": "code",
   "execution_count": null,
   "metadata": {},
   "outputs": [],
   "source": [
    "import torch\n",
    "\n",
    "data_0 = dataset_aug[1990]\n",
    "mesh_0 = trimesh.Trimesh(data_0['second']['verts'], data_0['second']['faces'])\n",
    "\n",
    "data_0_orig = dataset_orig[1990]\n",
    "mesh_0_orig = trimesh.Trimesh(data_0_orig['second']['verts'] + torch.tensor([0.1, 0, 0]), data_0_orig['second']['faces'])\n",
    "\n",
    "data_1 = dataset_aug[16991]\n",
    "mesh_1 = trimesh.Trimesh(data_1['second']['verts'] + torch.tensor([1, 0, 0]), data_1['second']['faces'])\n",
    "\n",
    "data_1_orig = dataset_orig[16991]\n",
    "mesh_1_orig = trimesh.Trimesh(data_1_orig['second']['verts'] + torch.tensor([1.1, 0, 0]), data_1_orig['second']['faces'])\n",
    "\n",
    "scene.geometry.clear()\n",
    "\n",
    "scene.add_geometry(trimesh.creation.axis())\n",
    "scene.add_geometry(mesh_0)\n",
    "scene.add_geometry(mesh_0_orig)\n",
    "scene.add_geometry(mesh_1)\n",
    "scene.add_geometry(mesh_1_orig)\n",
    "\n",
    "scene.show()\n"
   ]
  },
  {
   "cell_type": "code",
   "execution_count": null,
   "metadata": {},
   "outputs": [],
   "source": [
    "import utils.fmap_util as fmap_util\n",
    "\n",
    "p2p = fmap_util.nn_query(\n",
    "    torch.tensor(mesh_1.vertices), \n",
    "    torch.tensor(mesh_1_orig.vertices),\n",
    "    )\n",
    "p2p"
   ]
  },
  {
   "cell_type": "code",
   "execution_count": null,
   "metadata": {},
   "outputs": [],
   "source": [
    "import my_code.utils.plotting_utils as plotting_utils\n",
    "\n",
    "# scene.geometry.clear()\n",
    "# scene = plotting_utils.plot_p2p_map(\n",
    "#     scene, \n",
    "#     mesh_1.vertices, mesh_1.faces, \n",
    "#     mesh_1_orig.vertices, mesh_1_orig.faces,\n",
    "#     p2p)\n",
    "    \n",
    "# scene.show()"
   ]
  },
  {
   "cell_type": "code",
   "execution_count": null,
   "metadata": {},
   "outputs": [],
   "source": [
    "import matplotlib.pyplot as plt\n",
    "\n",
    "fig, axs = plt.subplots(1, 3, figsize=(10, 5))\n",
    "\n",
    "plotting_utils.plot_Cxy(fig, axs[0], data_1['second']['C_gt_xy'],\n",
    "                        'with aug', 0, 32, show_grid=False, show_colorbar=False)\n",
    "plotting_utils.plot_Cxy(fig, axs[1], data_1_orig['second']['C_gt_xy'],\n",
    "                        'without aug', 0, 32, show_grid=False, show_colorbar=False)\n",
    "plotting_utils.plot_Cxy(fig, axs[2], data_1_orig['second']['C_gt_xy'].abs() - data_1['second']['C_gt_xy'].abs(),\n",
    "                        'without aug', 0, 32, show_grid=False, show_colorbar=False)\n",
    "plt.show()"
   ]
  },
  {
   "cell_type": "markdown",
   "metadata": {},
   "source": [
    "# Anisotropic remeshing "
   ]
  },
  {
   "cell_type": "code",
   "execution_count": null,
   "metadata": {},
   "outputs": [],
   "source": [
    "import pymeshlab\n",
    "\n",
    "ms = pymeshlab.MeshSet()"
   ]
  },
  {
   "cell_type": "code",
   "execution_count": null,
   "metadata": {},
   "outputs": [],
   "source": [
    "ms.clear()\n",
    "ms.load_new_mesh('/home/s94zalek_hpc/shape_matching/data/SURREAL_full/template/template.ply')"
   ]
  },
  {
   "cell_type": "code",
   "execution_count": null,
   "metadata": {},
   "outputs": [],
   "source": [
    "v_before = ms.current_mesh().vertex_matrix()\n",
    "f_before = ms.current_mesh().face_matrix()\n",
    "\n",
    "ms.meshing_isotropic_explicit_remeshing(\n",
    "    iterations=10,\n",
    "    targetlen=pymeshlab.PercentageValue(3),\n",
    ")\n",
    "v_r = ms.current_mesh().vertex_matrix()\n",
    "f_r = ms.current_mesh().face_matrix()\n",
    "\n",
    "print('before', v_before.shape, f_before.shape)\n",
    "print('after', v_r.shape, f_r.shape)"
   ]
  },
  {
   "cell_type": "code",
   "execution_count": null,
   "metadata": {},
   "outputs": [],
   "source": [
    "import numpy as np\n",
    "\n",
    "ms.set_selection_none()\n",
    "\n",
    "target_perc = 0.5\n",
    "\n",
    "mesh_r = trimesh.Trimesh(v_r, f_r)\n",
    "area_faces = mesh_r.area_faces\n",
    "total_area_faces = area_faces.sum()\n",
    "\n",
    "# choose a random face, with probability proportional to its area\n",
    "rand_idx = np.random.choice(len(area_faces), p=area_faces / total_area_faces)\n",
    "\n",
    "print(f\"Selected face {rand_idx} with area {area_faces[rand_idx] * 100:.4f}%\")\n",
    "\n",
    "ms.compute_selection_by_condition_per_face(\n",
    "    condselect= f'(fi == {rand_idx})'\n",
    ")\n",
    "# print(sum(ms.current_mesh().face_selection_array()))\n",
    "for dil_iter in range(100):\n",
    "    if sum(ms.current_mesh().face_selection_array()) >= len(ms.current_mesh().face_matrix()) * target_perc:\n",
    "        print(dil_iter)\n",
    "        break\n",
    "    # selected_area = sum(area_faces[ms.current_mesh().face_selection_array()])\n",
    "    # if selected_area >= total_area_faces * target_perc:\n",
    "    #     print(f\"Iteration {dil_iter}, selected area {selected_area / total_area_faces * 100:.2f}%\")\n",
    "    #     break\n",
    "    ms.apply_selection_dilatation()\n",
    "\n",
    "selected_faces = ms.current_mesh().face_selection_array()\n",
    "print(f\"Selected {sum(ms.current_mesh().face_selection_array())} faces out of {len(ms.current_mesh().face_matrix())}\")\n",
    "    \n",
    "ms.meshing_decimation_quadric_edge_collapse(\n",
    "    targetfacenum=int(sum(ms.current_mesh().face_selection_array()) * 0.2),\n",
    "    # targetperc=0.5,\n",
    "    selected=True\n",
    ")\n",
    "\n",
    "v_qec = ms.current_mesh().vertex_matrix()\n",
    "f_qec = ms.current_mesh().face_matrix()\n",
    "\n",
    "print('before', v_r.shape, f_r.shape)\n",
    "print('after remesh with anisotropy', v_qec.shape, f_qec.shape)\n"
   ]
  },
  {
   "cell_type": "code",
   "execution_count": null,
   "metadata": {},
   "outputs": [],
   "source": [
    "import importlib\n",
    "importlib.reload(remesh)"
   ]
  },
  {
   "cell_type": "code",
   "execution_count": null,
   "metadata": {},
   "outputs": [],
   "source": [
    "import my_code.sign_canonicalization.remesh as remesh\n",
    "\n",
    "v_qec, f_qec, v_r, f_r, selected_faces = remesh.remesh_simplify_anis(\n",
    "    verts=v_before,\n",
    "    faces=f_before,\n",
    "    n_remesh_iters=10,\n",
    "    fraction_to_simplify=0.5,\n",
    "    simplify_strength=0.2,\n",
    "    weighted_by='face_count',\n",
    ")"
   ]
  },
  {
   "cell_type": "code",
   "execution_count": null,
   "metadata": {},
   "outputs": [],
   "source": [
    "import torch\n",
    "\n",
    "mesh_before = trimesh.Trimesh(v_before + [1, 0, 0], f_before)\n",
    "mesh_remesh = trimesh.Trimesh(v_r + [2, 0, 0], f_r)\n",
    "mesh_after = trimesh.Trimesh(v_qec + [3, 0, 0], f_qec)\n",
    "# mesh_after = trimesh.Trimesh(v_qec + torch.tensor([3, 0, 0]), f_qec)\n",
    "\n",
    "# on mesh_remesh, highlight selected_faces\n",
    "mesh_remesh.visual.face_colors = np.array([[0, 0, 0, 255]] * len(mesh_remesh.faces))\n",
    "mesh_remesh.visual.face_colors[selected_faces] = [0, 255, 0, 255]\n",
    "\n",
    "\n",
    "scene.geometry.clear()\n",
    "\n",
    "scene.add_geometry(trimesh.creation.axis())\n",
    "scene.add_geometry(mesh_before)\n",
    "scene.add_geometry(mesh_remesh)\n",
    "scene.add_geometry(mesh_after)\n",
    "\n",
    "scene.show()"
   ]
  },
  {
   "cell_type": "code",
   "execution_count": null,
   "metadata": {},
   "outputs": [],
   "source": [
    "# base_dir = '/home/s94zalek_hpc/shape_matching/data_sign_training/train/SURREAL_anisRemesh_0.25/off'\n",
    "base_dir = '/home/s94zalek_hpc/shape_matching/data/FAUST_a/off'"
   ]
  },
  {
   "cell_type": "code",
   "execution_count": null,
   "metadata": {},
   "outputs": [],
   "source": [
    "# read 5 random meshes from the directory\n",
    "import os\n",
    "import numpy as np\n",
    "\n",
    "scene.geometry.clear()\n",
    "\n",
    "meshes = []\n",
    "for i in range(5):\n",
    "    file = np.random.choice(os.listdir(base_dir), replace=False)\n",
    "    mesh = trimesh.load_mesh(os.path.join(base_dir, file))\n",
    "    mesh.vertices += [i, 0, 0]\n",
    "    \n",
    "    edges_len = mesh.edges_unique_length\n",
    "    break\n",
    "    \n",
    "    scene.add_geometry(mesh)\n",
    "    \n",
    "scene.show()\n",
    "    "
   ]
  },
  {
   "cell_type": "markdown",
   "metadata": {},
   "source": [
    "# Edge lengths"
   ]
  },
  {
   "cell_type": "code",
   "execution_count": null,
   "metadata": {},
   "outputs": [],
   "source": [
    "import matplotlib.pyplot as plt\n",
    "# plt.hist(edges_len, bins=100)\n",
    "# plot cumulative probability density function\n",
    "plt.hist(edges_len, bins=100, cumulative=False, range=(0, 0.04), density=True)\n",
    "\n",
    "\n",
    "plt.show()"
   ]
  },
  {
   "cell_type": "code",
   "execution_count": null,
   "metadata": {},
   "outputs": [],
   "source": [
    "# read '/home/s94zalek_hpc/shape_matching/data/SURREAL_full/template/template.ply'\n",
    "\n",
    "mesh_template = trimesh.load_mesh('/home/s94zalek_hpc/shape_matching/data/SURREAL_full/template/template.ply')\n",
    "\n",
    "edges_len_template = mesh_template.edges_unique_length\n",
    "\n",
    "plt.hist(edges_len_template, bins=100, cumulative=False, range=(0, 0.04), density=True)\n",
    "\n",
    "plt.show()"
   ]
  },
  {
   "cell_type": "code",
   "execution_count": null,
   "metadata": {},
   "outputs": [],
   "source": [
    "import matplotlib.pyplot as plt\n",
    "\n",
    "mesh_remeshed = trimesh.Trimesh(v_r, f_r)\n",
    "edges_len_remeshed = mesh_remeshed.edges_unique_length\n",
    "\n",
    "plt.hist(edges_len_remeshed, bins=100, cumulative=False, range=(0, 0.04), density=True)\n",
    "\n",
    "plt.show()"
   ]
  },
  {
   "cell_type": "code",
   "execution_count": null,
   "metadata": {},
   "outputs": [],
   "source": [
    "mesh_remeshed_simplified = trimesh.Trimesh(v_qec, f_qec)\n",
    "edges_len_remeshed_simplified = mesh_remeshed_simplified.edges_unique_length\n",
    "\n",
    "plt.hist(edges_len_remeshed_simplified, bins=100, cumulative=False, range=(0, 0.08), density=True)\n",
    "\n",
    "plt.show()"
   ]
  }
 ],
 "metadata": {
  "kernelspec": {
   "display_name": "Python 3 (ipykernel)",
   "language": "python",
   "name": "python3"
  }
 },
 "nbformat": 4,
 "nbformat_minor": 2
}
