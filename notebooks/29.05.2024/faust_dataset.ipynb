{
 "cells": [
  {
   "cell_type": "code",
   "execution_count": 72,
   "metadata": {
    "metadata": {}
   },
   "outputs": [
    {
     "name": "stdout",
     "output_type": "stream",
     "text": [
      "/home/s94zalek/shape_matching\n"
     ]
    }
   ],
   "source": [
    "import sys\n",
    "sys.path.append('/home/s94zalek/shape_matching')\n",
    "\n",
    "# from datasets_code import build_dataloader, build_dataset\n",
    "# from utils.options import parse_options\n",
    "# from train import create_train_val_dataloader\n",
    "import torch\n",
    "import numpy as np\n",
    "\n",
    "import os\n",
    "os.chdir('/home/s94zalek/shape_matching')\n",
    "\n",
    "# print current working directory\n",
    "print(os.getcwd())"
   ]
  },
  {
   "cell_type": "code",
   "execution_count": 73,
   "metadata": {
    "metadata": {}
   },
   "outputs": [
    {
     "name": "stdout",
     "output_type": "stream",
     "text": [
      "Jupyter environment detected. Enabling Open3D WebVisualizer.\n",
      "[Open3D INFO] WebRTC GUI backend enabled.\n",
      "[Open3D INFO] WebRTCWindowSystem: HTTP handshake server disabled.\n"
     ]
    }
   ],
   "source": [
    "import datasets_code.shape_dataset as shape_dataset"
   ]
  },
  {
   "cell_type": "code",
   "execution_count": 81,
   "metadata": {
    "metadata": {}
   },
   "outputs": [
    {
     "name": "stderr",
     "output_type": "stream",
     "text": [
      "Constructing DatasetFromListOfDicts: 100%|████████████████████████████████████████████████████████████████████████| 80/80 [00:04<00:00, 18.77it/s]\n",
      "Calculating functional maps: 100%|███████████████████████████████████████████████████████████████████████████| 6400/6400 [00:15<00:00, 425.69it/s]\n"
     ]
    }
   ],
   "source": [
    "dataset_faust_single = shape_dataset.SingleFaustDataset(\n",
    "    data_root='data/FAUST_r',\n",
    "    phase='train',\n",
    "    return_faces=True,\n",
    "    return_evecs=True, num_evecs=32,\n",
    "    return_corr=True, return_dist=False\n",
    ")\n",
    "dataset_faust_pair = shape_dataset.PairFaustDataset(\n",
    "    data_root='data/FAUST_r',\n",
    "    phase='train',\n",
    "    return_faces=True,\n",
    "    return_evecs=True, num_evecs=32,\n",
    "    return_corr=True, return_dist=False\n",
    ")\n"
   ]
  },
  {
   "cell_type": "code",
   "execution_count": 80,
   "metadata": {
    "metadata": {}
   },
   "outputs": [],
   "source": [
    "import torch\n",
    "import yaml\n",
    "import torch\n",
    "\n",
    "from my_code.models.diag_conditional import DiagConditionedUnet\n",
    "\n",
    "exp_dir = '/home/s94zalek/shape_matching/my_code/experiments/test_32'\n",
    "\n",
    "with open(exp_dir + '/config.yaml', 'r') as f:\n",
    "    config = yaml.load(f, Loader=yaml.FullLoader)\n",
    "\n",
    "model = DiagConditionedUnet(config[\"model_params\"]).to('cuda')\n",
    "\n",
    "# load checkpoint_29.pt\n",
    "model.load_state_dict(torch.load(exp_dir + '/checkpoints/checkpoint_29.pt'))\n",
    "model = model.to('cuda')"
   ]
  },
  {
   "cell_type": "code",
   "execution_count": 88,
   "metadata": {
    "metadata": {}
   },
   "outputs": [],
   "source": [
    "class DatasetFromListOfDicts(torch.utils.data.Dataset):\n",
    "    def __init__(self, data_list):\n",
    "        self.data_list = data_list\n",
    "\n",
    "    def __getitem__(self, index):\n",
    "        return self.data_list[index]\n",
    "\n",
    "    def __len__(self):\n",
    "        return len(self.data_list)\n",
    "    \n",
    "\n",
    "subset_indices = list(range(0, 80))\n",
    "\n",
    "data_evals = []\n",
    "for i in subset_indices:\n",
    "    data_evals.append({\n",
    "        'first': {},\n",
    "        'second': {\n",
    "            'C_gt_xy': dataset_faust_pair[i]['second']['C_gt_xy'].unsqueeze(0), \n",
    "            'evals': dataset_faust_pair[i]['second']['evals'].unsqueeze(0)  \n",
    "        }\n",
    "    })\n",
    "    \n",
    "test_subset = DatasetFromListOfDicts(data_evals)"
   ]
  },
  {
   "cell_type": "code",
   "execution_count": 89,
   "metadata": {
    "metadata": {}
   },
   "outputs": [
    {
     "data": {
      "application/vnd.jupyter.widget-view+json": {
       "model_id": "69ec63f2ac4c423581a9420fa4d99a33",
       "version_major": 2,
       "version_minor": 0
      },
      "text/plain": [
       "Sampling test_loader...:   0%|          | 0/1 [00:00<?, ?it/s]"
      ]
     },
     "metadata": {},
     "output_type": "display_data"
    },
    {
     "data": {
      "application/vnd.jupyter.widget-view+json": {
       "model_id": "47ee43288ae54bdca79b79e83f240fa7",
       "version_major": 2,
       "version_minor": 0
      },
      "text/plain": [
       "Denoising...:   0%|          | 0/1000 [00:00<?, ?it/s]"
      ]
     },
     "metadata": {},
     "output_type": "display_data"
    }
   ],
   "source": [
    "from tqdm import tqdm\n",
    "from diffusers import DDPMScheduler\n",
    "import my_code.diffusion_training.sample_model as sample_model\n",
    "\n",
    "test_loader = torch.utils.data.DataLoader(\n",
    "    test_subset,\n",
    "    batch_size=len(test_subset), shuffle=False\n",
    "    )\n",
    "noise_scheduler = DDPMScheduler(num_train_timesteps=1000, beta_schedule='squaredcos_cap_v2',\n",
    "                                clip_sample=True)\n",
    "\n",
    "x_sampled = sample_model.sample(model, test_loader, noise_scheduler)"
   ]
  },
  {
   "cell_type": "code",
   "execution_count": null,
   "metadata": {
    "metadata": {}
   },
   "outputs": [],
   "source": [
    "import matplotlib.pyplot as plt\n",
    "\n",
    "fig, ax = plt.subplots(1, 4, figsize=(12, 5))\n",
    "\n",
    "ax_0 = ax[0].imshow(x_sampled[0, 0].cpu().numpy(), cmap='Greys')\n",
    "# plt.colorbar(ax_0, ax=ax[0])\n",
    "ax_1 = ax[1].imshow(x_sampled[1, 0].cpu().numpy(), cmap='Greys')\n",
    "# plt.colorbar(ax_1, ax=ax[1])\n",
    "ax_2 = ax[2].imshow(x_sampled[2, 0].cpu().numpy(), cmap='Greys')\n",
    "# plt.colorbar(ax_2, ax=ax[2])\n",
    "ax_3 = ax[3].imshow(x_sampled[3, 0].cpu().numpy(), cmap='Greys')\n",
    "# plt.colorbar(ax_3, ax=ax[3])\n",
    "\n",
    "plt.show()"
   ]
  },
  {
   "cell_type": "code",
   "execution_count": null,
   "metadata": {
    "metadata": {}
   },
   "outputs": [],
   "source": [
    "import trimesh\n",
    "\n",
    "scene = trimesh.Scene()\n",
    "\n",
    "template_mesh = trimesh.load('/home/s94zalek/shape_matching/data/SURREAL_full/template/template.ply')\n",
    "# add color\n",
    "template_mesh.visual.vertex_colors = np.array([0, 255, 0, 255], dtype=np.uint8)\n",
    "\n",
    "# normalize to unit sphere\n",
    "# template_mesh.vertices = template_mesh.vertices - np.mean(template_mesh.vertices, axis=0)\n",
    "# template_mesh.vertices = template_mesh.vertices / np.max(np.abs(template_mesh.vertices))\n",
    "\n",
    "scene.add_geometry(template_mesh)\n",
    "\n",
    "\n",
    "mesh_0 = trimesh.Trimesh(\n",
    "    vertices=dataset_faust_pair[subset_indices[0]]['second']['verts'].cpu().numpy() +\\\n",
    "        np.array([1, 0, 0]),\n",
    "    faces=dataset_faust_pair[subset_indices[0]]['second']['faces'].cpu().numpy(),\n",
    "    vertex_colors=np.array([255, 0, 0, 255], dtype=np.uint8))\n",
    "scene.add_geometry(mesh_0)\n",
    "\n",
    "mesh_scape = trimesh.Trimesh(\n",
    "    vertices=dataset_scape_pair[1]['second']['verts'],\n",
    "    faces=dataset_scape_pair[1]['second']['faces'],\n",
    "    vertex_colors=np.array([0, 0, 255, 255], dtype=np.uint8))\n",
    "\n",
    "# rotate the mesh by 90 degrees along y axis\n",
    "mesh_scape.apply_transform(trimesh.transformations.rotation_matrix(-np.pi/2, [0, 1, 0]))\n",
    "mesh_scape.vertices += np.array([2, 0, 0])\n",
    "scene.add_geometry(mesh_scape)\n",
    "\n",
    "    \n",
    "# add axis\n",
    "axis = trimesh.creation.axis(axis_length=1)\n",
    "scene.add_geometry(axis)\n",
    "\n",
    "scene.show()"
   ]
  },
  {
   "cell_type": "code",
   "execution_count": 120,
   "metadata": {
    "metadata": {}
   },
   "outputs": [
    {
     "data": {
      "text/plain": [
       "((6890, 3), (4999, 3))"
      ]
     },
     "execution_count": 120,
     "metadata": {},
     "output_type": "execute_result"
    }
   ],
   "source": [
    "template_mesh.vertices.shape, mesh_0.vertices.shape"
   ]
  },
  {
   "cell_type": "code",
   "execution_count": null,
   "metadata": {
    "metadata": {}
   },
   "outputs": [],
   "source": [
    "# align template mesh and mesh_0 with procrustes\n",
    "\n",
    "from scipy.spatial.transform import Rotation as R\n",
    "\n",
    "random_vertices_template = np.random.choice(template_mesh.vertices.shape[0], 4000, replace=False)\n",
    "random_vertices_mesh_0 = np.random.choice(mesh_0.vertices.shape[0], 4000, replace=False)\n",
    "\n",
    "# align template mesh and mesh_0 with procrustes\n",
    "transform_matrix, template_transformed, cost = trimesh.registration.procrustes(\n",
    "    template_mesh.vertices[random_vertices_template],\n",
    "    mesh_0.vertices[random_vertices_mesh_0],\n",
    "    reflection=False\n",
    "    )\n",
    "\n",
    "# apply 4x4 transformation matrix to template mesh\n",
    "template_vertices_transformed = trimesh.transform_points(template_mesh.vertices, transform_matrix)\n",
    "\n",
    "mesh_template_aligned = trimesh.Trimesh(\n",
    "    vertices = template_vertices_transformed,\n",
    "    faces = template_mesh.faces,\n",
    "    vertex_colors = np.array([0, 255, 0, 255], dtype=np.uint8)\n",
    ")\n",
    "\n",
    "scene_aligned = trimesh.Scene()\n",
    "scene_aligned.add_geometry(mesh_template_aligned)\n",
    "scene_aligned.add_geometry(mesh_0)\n",
    "\n",
    "# add axis\n",
    "axis = trimesh.creation.axis(axis_length=1)\n",
    "scene_aligned.add_geometry(axis)\n",
    "\n",
    "scene_aligned.show()"
   ]
  },
  {
   "cell_type": "code",
   "execution_count": null,
   "metadata": {
    "metadata": {}
   },
   "outputs": [],
   "source": [
    "def center(input_mesh):\n",
    "    \"\"\"\n",
    "    This function center the input mesh using it's bounding box\n",
    "    Input : mesh\n",
    "    output : centered mesh and translation vector\n",
    "    \"\"\"\n",
    "    bbox = np.array([[np.max(input_mesh.vertices[:,0]), np.max(input_mesh.vertices[:,1]), np.max(input_mesh.vertices[:,2])], [np.min(input_mesh.vertices[:,0]), np.min(input_mesh.vertices[:,1]), np.min(input_mesh.vertices[:,2])]])\n",
    "\n",
    "    translation = (bbox[0] + bbox[1]) / 2\n",
    "    points = input_mesh.vertices - translation\n",
    "    mesh = trimesh.Trimesh(vertices=points, faces=input_mesh.faces, process= False)\n",
    "    return mesh, translation\n",
    "\n",
    "def scale(input_mesh, mesh_ref):\n",
    "    \"\"\"\n",
    "    This function scales the input mesh to have the same volume as a reference mesh Intended to be used before a feed forward pass in pointNet\n",
    "    Input : file path\n",
    "    mesh_ref : reference mesh path\n",
    "    output : scaled mesh\n",
    "    \"\"\"\n",
    "    area = np.power(mesh_ref.volume / input_mesh.volume, 1.0/3)\n",
    "    mesh= trimesh.Trimesh( vertices =  input_mesh.vertices * area, faces= input_mesh.faces, process = False)\n",
    "    return mesh, area\n",
    "\n",
    "\n",
    "temlplate_centered, translation_template = center(template_mesh)\n",
    "mesh_0_centered, translation_mesh_0 = center(mesh_0)\n",
    "scape_centered, translation_scape = center(mesh_scape)\n",
    "\n",
    "template_scaled, scale_template = scale(temlplate_centered, mesh_0_centered)\n",
    "scape_scaled, scale_scape = scale(scape_centered, mesh_0_centered)\n",
    "\n",
    "scene.geometry.clear()\n",
    "\n",
    "template_scaled.visual.vertex_colors = np.array([0, 255, 0, 255], dtype=np.uint8)\n",
    "mesh_0_centered.visual.vertex_colors = np.array([255, 0, 0, 255], dtype=np.uint8)\n",
    "scape_scaled.visual.vertex_colors = np.array([0, 0, 255, 255], dtype=np.uint8)\n",
    "\n",
    "scene.add_geometry(template_scaled)\n",
    "scene.add_geometry(mesh_0_centered)\n",
    "scene.add_geometry(scape_scaled)\n",
    "\n",
    "# add axis\n",
    "scene.add_geometry(axis)\n",
    "\n",
    "scene.show()"
   ]
  },
  {
   "cell_type": "code",
   "execution_count": 183,
   "metadata": {
    "metadata": {}
   },
   "outputs": [],
   "source": [
    "from utils.fmap_util import nn_query\n",
    "\n",
    "p2p_template = nn_query(\n",
    "    torch.tensor(template_scaled.vertices),\n",
    "    torch.tensor(mesh_0_centered.vertices)\n",
    "    )\n",
    "p2p_mesh_0 = nn_query(\n",
    "    torch.tensor(mesh_0_centered.vertices),\n",
    "    torch.tensor(template_scaled.vertices)\n",
    "    )"
   ]
  },
  {
   "cell_type": "code",
   "execution_count": 185,
   "metadata": {
    "metadata": {}
   },
   "outputs": [
    {
     "data": {
      "text/plain": [
       "(tensor([   1,    0,  354,  ..., 4810, 3510, 3484]),\n",
       " tensor([   1,   71,   70,  ..., 4907, 4907, 4907]),\n",
       " tensor([4414, 1129, 1929,  ..., 3617,  173, 2482]))"
      ]
     },
     "execution_count": 185,
     "metadata": {},
     "output_type": "execute_result"
    }
   ],
   "source": [
    "p2p_template, p2p_mesh_0, dataset_faust_pair[subset_indices[0]]['second']['corr']"
   ]
  },
  {
   "cell_type": "code",
   "execution_count": 193,
   "metadata": {
    "metadata": {}
   },
   "outputs": [
    {
     "data": {
      "text/plain": [
       "(4999, 3)"
      ]
     },
     "execution_count": 193,
     "metadata": {},
     "output_type": "execute_result"
    }
   ],
   "source": [
    "mesh_0_colored.vertices.shape"
   ]
  },
  {
   "cell_type": "code",
   "execution_count": null,
   "metadata": {
    "metadata": {}
   },
   "outputs": [],
   "source": [
    "# add color map to template mesh\n",
    "\n",
    "scene.geometry.clear()\n",
    "\n",
    "# make a color map based on y coordinate\n",
    "cmap = trimesh.visual.color.interpolate(template_scaled.vertices[:, 1], 'jet')\n",
    "\n",
    "colored_template = trimesh.Trimesh(vertices=template_scaled.vertices + np.array([1, 0, 0]), faces=template_scaled.faces, vertex_colors=cmap)\n",
    "# add the first mesh\n",
    "scene.add_geometry(colored_template)\n",
    "\n",
    "# mesh_0_centered.visual.vertex_colors = cmap[p2p_template]\n",
    "# mesh_0_centered.visual.vertex_colors = cmap[dataset_faust_pair[subset_indices[0]]['second']['corr']]\n",
    "\n",
    "mesh_0_colored = trimesh.Trimesh(\n",
    "    vertices=mesh_0_centered.vertices,\n",
    "    faces=mesh_0_centered.faces,\n",
    "    vertex_colors=cmap[p2p_template[:len(mesh_0_centered.vertices)]]\n",
    ")\n",
    "\n",
    "# mesh_0_centered.visual.vertex_colors = cmap[]\n",
    "scene.add_geometry(mesh_0_colored)\n",
    "\n",
    "scene.show()"
   ]
  },
  {
   "cell_type": "code",
   "execution_count": 205,
   "metadata": {
    "metadata": {}
   },
   "outputs": [],
   "source": [
    "dataset_corr = dataset_faust_pair[subset_indices[0]]['second']['corr']\n",
    "# pad with zeros to match n of vertices on template mesh\n",
    "dataset_corr = torch.cat([dataset_corr, torch.zeros(template_scaled.vertices.shape[0] - dataset_corr.shape[0])]).int()"
   ]
  },
  {
   "cell_type": "code",
   "execution_count": 204,
   "metadata": {
    "metadata": {}
   },
   "outputs": [
    {
     "data": {
      "text/plain": [
       "tensor([4414., 1129., 1929.,  ...,    0.,    0.,    0.])"
      ]
     },
     "execution_count": 204,
     "metadata": {},
     "output_type": "execute_result"
    }
   ],
   "source": [
    "dataset_corr"
   ]
  },
  {
   "cell_type": "code",
   "execution_count": null,
   "metadata": {
    "metadata": {}
   },
   "outputs": [],
   "source": [
    "# add color map to template mesh\n",
    "\n",
    "scene.geometry.clear()\n",
    "\n",
    "# make a color map based on y coordinate\n",
    "cmap = trimesh.visual.color.interpolate(mesh_0_centered.vertices[:, 1], 'jet')\n",
    "\n",
    "mesh_0_colored = trimesh.Trimesh(\n",
    "    vertices=mesh_0_centered.vertices,\n",
    "    faces=mesh_0_centered.faces,\n",
    "    vertex_colors=cmap\n",
    ")\n",
    "scene.add_geometry(mesh_0_colored)\n",
    "\n",
    "\n",
    "colored_template = trimesh.Trimesh(\n",
    "    vertices=template_scaled.vertices + np.array([1, 0, 0]),\n",
    "    faces=template_scaled.faces,\n",
    "    vertex_colors=cmap[dataset_corr]\n",
    "    )\n",
    "# add the first mesh\n",
    "scene.add_geometry(colored_template)\n",
    "\n",
    "# mesh_0_centered.visual.vertex_colors = cmap[p2p_template]\n",
    "# mesh_0_centered.visual.vertex_colors = cmap[dataset_faust_pair[subset_indices[0]]['second']['corr']]\n",
    "\n",
    "\n",
    "scene.show()"
   ]
  },
  {
   "cell_type": "code",
   "execution_count": 180,
   "metadata": {
    "metadata": {}
   },
   "outputs": [
    {
     "name": "stderr",
     "output_type": "stream",
     "text": [
      "Constructing DatasetFromListOfDicts: 100%|████████████████████████████████████████████████████████████████████████| 51/51 [00:04<00:00, 10.86it/s]\n",
      "Calculating functional maps: 100%|███████████████████████████████████████████████████████████████████████████| 2601/2601 [00:06<00:00, 431.50it/s]\n"
     ]
    }
   ],
   "source": [
    "dataset_scape_pair = shape_dataset.PairScapeDataset(\n",
    "    data_root='data/SCAPE_r',\n",
    "    phase='train',\n",
    "    return_faces=True,\n",
    "    return_evecs=True, num_evecs=32,\n",
    "    return_corr=True, return_dist=False\n",
    ")\n"
   ]
  },
  {
   "cell_type": "code",
   "execution_count": null,
   "metadata": {
    "metadata": {}
   },
   "outputs": [],
   "source": [
    "scene.geometry.clear()\n",
    "\n",
    "for i in range(5):\n",
    "    mesh_scape = trimesh.Trimesh(\n",
    "        vertices=dataset_scape_pair[i]['second']['verts'].cpu().numpy() + np.array([i, 0, 0]),\n",
    "        faces=dataset_scape_pair[i]['second']['faces'].cpu().numpy(),\n",
    "        # vertex_colors=np.array([255, 0, 0, 255], dtype=np.uint8))\n",
    "    )\n",
    "    scene.add_geometry(mesh_scape)\n",
    "    \n",
    "scene.show()"
   ]
  },
  {
   "cell_type": "code",
   "execution_count": 235,
   "metadata": {
    "metadata": {}
   },
   "outputs": [],
   "source": [
    "data_scape_6 = dataset_scape_pair[6]['second']\n",
    "data_faust_0 = dataset_faust_pair[3]['second']\n",
    "# data_faust_0 = dataset_scape_pair[7]['second']"
   ]
  },
  {
   "cell_type": "code",
   "execution_count": 236,
   "metadata": {
    "metadata": {}
   },
   "outputs": [
    {
     "data": {
      "text/plain": [
       "torch.Size([5001])"
      ]
     },
     "execution_count": 236,
     "metadata": {},
     "output_type": "execute_result"
    }
   ],
   "source": [
    "import utils.fmap_util as fmap_util\n",
    "\n",
    "Cxy_est = torch.linalg.lstsq(\n",
    "    data_faust_0['evecs'][data_faust_0['corr']],\n",
    "    data_scape_6['evecs'][data_scape_6['corr']]\n",
    "    ).solution\n",
    "p2p_est = fmap_util.fmap2pointmap(\n",
    "    Cxy_est,\n",
    "    evecs_x=data_scape_6['evecs'],\n",
    "    evecs_y=data_faust_0['evecs'],\n",
    "    )\n",
    "\n",
    "p2p_est.shape"
   ]
  },
  {
   "cell_type": "code",
   "execution_count": 227,
   "metadata": {
    "metadata": {}
   },
   "outputs": [
    {
     "data": {
      "text/plain": [
       "(torch.Size([5000, 3]), torch.Size([4999, 3]))"
      ]
     },
     "execution_count": 227,
     "metadata": {},
     "output_type": "execute_result"
    }
   ],
   "source": [
    "data_scape_6['verts'].shape, data_faust_0['verts'].shape"
   ]
  },
  {
   "cell_type": "code",
   "execution_count": null,
   "metadata": {
    "metadata": {}
   },
   "outputs": [],
   "source": [
    "# add color map to template mesh\n",
    "\n",
    "scene.geometry.clear()\n",
    "\n",
    "# make a color map based on y coordinate\n",
    "cmap = trimesh.visual.color.interpolate(data_scape_6['verts'][:, 1], 'jet')\n",
    "\n",
    "mesh_scape = trimesh.Trimesh(\n",
    "    vertices=data_scape_6['verts'],\n",
    "    faces=data_scape_6['faces'],\n",
    "    vertex_colors=cmap\n",
    ")\n",
    "scene.add_geometry(mesh_scape)\n",
    "\n",
    "mesh_faust = trimesh.Trimesh(\n",
    "    vertices=data_faust_0['verts'] + np.array([1, 0, 0]),\n",
    "    faces=data_faust_0['faces'],\n",
    "    vertex_colors=cmap[p2p_est][:len(data_faust_0['verts'])]\n",
    ")\n",
    "scene.add_geometry(mesh_faust)\n",
    "\n",
    "scene.show()"
   ]
  },
  {
   "cell_type": "code",
   "execution_count": null,
   "metadata": {
    "metadata": {}
   },
   "outputs": [],
   "source": [
    "# open images 0 - 10 and show them in a grid\n",
    "# /home/s94zalek/shape_matching/data/FAUST_r/mesh_images/train/tr_reg_000.png\n",
    "\n",
    "import matplotlib.pyplot as plt\n",
    "\n",
    "fig, ax = plt.subplots(2, 5, figsize=(10, 5))\n",
    "\n",
    "for i in range(10):\n",
    "    img = plt.imread(f'/home/s94zalek/shape_matching/data/FAUST_r/mesh_images/train/tr_reg_{i:03d}.png')\n",
    "    ax[i // 5, i % 5].imshow(img)\n",
    "    # ax[i // 5, i % 5].axis('off')\n",
    "    \n",
    "plt.show()"
   ]
  },
  {
   "cell_type": "code",
   "execution_count": null,
   "metadata": {
    "metadata": {}
   },
   "outputs": [],
   "source": [
    "# now show 0 - 10 from here\n",
    "# /home/s94zalek/shape_matching/data/SCAPE_r/mesh_images/train/mesh000.png\n",
    "\n",
    "fig, ax = plt.subplots(2, 5, figsize=(10, 5))\n",
    "\n",
    "for i in range(10):\n",
    "    img = plt.imread(f'/home/s94zalek/shape_matching/data/SCAPE_r/mesh_images/train/mesh{i:03d}.png')\n",
    "    ax[i // 5, i % 5].imshow(img)\n",
    "    # ax[i // 5, i % 5].axis('off')\n",
    "    \n",
    "plt.show()"
   ]
  }
 ],
 "metadata": {
  "kernelspec": {
   "display_name": "Python 3 (ipykernel)",
   "language": "python",
   "name": "python3"
  }
 },
 "nbformat": 4,
 "nbformat_minor": 2
}
