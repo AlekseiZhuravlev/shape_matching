{
 "cells": [
  {
   "cell_type": "code",
   "execution_count": 90,
   "metadata": {
    "metadata": {}
   },
   "outputs": [
    {
     "name": "stdout",
     "output_type": "stream",
     "text": [
      "Jupyter environment detected. Enabling Open3D WebVisualizer.\n",
      "[Open3D INFO] WebRTC GUI backend enabled.\n",
      "[Open3D INFO] WebRTCWindowSystem: HTTP handshake server disabled.\n"
     ]
    }
   ],
   "source": [
    "import trimesh\n",
    "\n",
    "import torch\n",
    "from torch.utils.data import Dataset\n",
    "from tqdm import tqdm\n",
    "\n",
    "import sys\n",
    "sys.path.append('/home/s94zalek/shape_matching')\n",
    "\n",
    "import my_code.datasets.template_dataset as template_dataset\n",
    "import datasets_code.shape_dataset as shape_dataset"
   ]
  },
  {
   "cell_type": "code",
   "execution_count": 91,
   "metadata": {
    "metadata": {}
   },
   "outputs": [
    {
     "name": "stderr",
     "output_type": "stream",
     "text": [
      "Loading base dataset: 100%|███████████████████████████████████████████████████████████████████████████████████████| 80/80 [00:05<00:00, 15.05it/s]\n"
     ]
    }
   ],
   "source": [
    "dataset_faust_single = shape_dataset.SingleFaustDataset(\n",
    "        data_root='data/FAUST_original',\n",
    "        phase='train',\n",
    "        return_faces=True,\n",
    "        return_evecs=True, num_evecs=32,\n",
    "        return_corr=True, return_dist=False\n",
    "    )\n",
    "    \n",
    "dataset_template = template_dataset.TemplateDataset(\n",
    "    base_dataset=dataset_faust_single,\n",
    "    num_evecs=32\n",
    ")"
   ]
  },
  {
   "cell_type": "code",
   "execution_count": null,
   "metadata": {},
   "outputs": [],
   "source": [
    "scene = trimesh.Scene()"
   ]
  },
  {
   "cell_type": "code",
   "execution_count": null,
   "metadata": {
    "metadata": {}
   },
   "outputs": [],
   "source": [
    "import numpy as np\n",
    "\n",
    "scene.geometry.clear()\n",
    "\n",
    "data_0 = dataset_template[23]\n",
    "\n",
    "mesh_first = trimesh.Trimesh(vertices=data_0['first']['verts'], faces=data_0['first']['faces'])\n",
    "cmap = trimesh.visual.color.interpolate(mesh_first.vertices[:, 1], 'jet')\n",
    "mesh_first.visual.vertex_colors = cmap\n",
    "\n",
    "\n",
    "mesh_second = trimesh.Trimesh(vertices=data_0['second']['verts'] + np.array([1, 0, 0]), faces=data_0['second']['faces'],\n",
    "                              vertex_colors=cmap[data_0['second']['corr']])\n",
    "\n",
    "scene.add_geometry(mesh_first)\n",
    "scene.add_geometry(mesh_second)\n",
    "\n",
    "scene.show()"
   ]
  },
  {
   "cell_type": "code",
   "execution_count": 6,
   "metadata": {
    "metadata": {}
   },
   "outputs": [
    {
     "name": "stderr",
     "output_type": "stream",
     "text": [
      "Loading base dataset: 100%|███████████████████████████████████████████████████████████████████████████████████████| 80/80 [00:05<00:00, 15.59it/s]\n"
     ]
    },
    {
     "data": {
      "application/vnd.jupyter.widget-view+json": {
       "model_id": "e632a211d55d4fd8ac292f1a2bc8c65d",
       "version_major": 2,
       "version_minor": 0
      },
      "text/plain": [
       "Sampling test_loader...:   0%|          | 0/1 [00:00<?, ?it/s]"
      ]
     },
     "metadata": {},
     "output_type": "display_data"
    },
    {
     "data": {
      "application/vnd.jupyter.widget-view+json": {
       "model_id": "3cbbb07fc7e541bf980eccb5eabcf643",
       "version_major": 2,
       "version_minor": 0
      },
      "text/plain": [
       "Denoising...:   0%|          | 0/1000 [00:00<?, ?it/s]"
      ]
     },
     "metadata": {},
     "output_type": "display_data"
    },
    {
     "data": {
      "application/vnd.jupyter.widget-view+json": {
       "model_id": "e3188de5f1214f4582bfa44715827554",
       "version_major": 2,
       "version_minor": 0
      },
      "text/plain": [
       "Calculating metrics...:   0%|          | 0/79 [00:00<?, ?it/s]"
      ]
     },
     "metadata": {},
     "output_type": "display_data"
    },
    {
     "data": {
      "application/vnd.jupyter.widget-view+json": {
       "model_id": "eb2a37ebdfef463189a199ec5989bdaf",
       "version_major": 2,
       "version_minor": 0
      },
      "text/plain": [
       "Calculating metrics...:   0%|          | 0/79 [00:00<?, ?it/s]"
      ]
     },
     "metadata": {},
     "output_type": "display_data"
    },
    {
     "name": "stdout",
     "output_type": "stream",
     "text": [
      "AUC mean: 0.54\n",
      "\n",
      "GeoErr mean: 4.7\n",
      "\n",
      "GeoErr ratio mean: 1.46\n",
      "GeoErr ratio median: 1.36\n",
      "GeoErr ratio max: 2.45 min: 1.1\n",
      "\n",
      "MSE mean: 7.86\n",
      "MSE median: 7.17\n",
      "MSE max: 15.53 min: 2.75\n",
      "\n",
      "\n",
      "AUC mean_gt: 0.67\n",
      "\n",
      "GeoErr mean_gt: 3.3\n",
      "\n",
      "GeoErr ratio mean_gt: 1.0\n",
      "GeoErr ratio median_gt: 1.0\n",
      "GeoErr ratio max_gt: 1.0 min_gt: 1.0\n",
      "\n",
      "MSE mean_gt: 0.0\n",
      "MSE median_gt: 0.0\n",
      "MSE max_gt: 0.0 min_gt: 0.0\n"
     ]
    },
    {
     "data": {
      "image/png": "[encoded data removed]",
      "text/plain": [
       "<Figure size 600x400 with 1 Axes>"
      ]
     },
     "metadata": {},
     "output_type": "display_data"
    }
   ],
   "source": [
    "import os\n",
    "import sys\n",
    "sys.path.append('/home/s94zalek/shape_matching')\n",
    "\n",
    "# datasets\n",
    "from my_code.datasets.surreal_cached_train_dataset import SurrealTrainDataset\n",
    "from my_code.datasets.surreal_cached_test_dataset import SurrealTestDataset\n",
    "import my_code.diffusion_training.sample_model as sample_model\n",
    "import my_code.diffusion_training.evaluate_samples as evaluate_samples\n",
    "\n",
    "\n",
    "# models\n",
    "from my_code.models.diag_conditional import DiagConditionedUnet\n",
    "from diffusers import DDPMScheduler\n",
    "\n",
    "import yaml\n",
    "import torch\n",
    "from tqdm import tqdm\n",
    "import numpy as np\n",
    "import matplotlib.pyplot as plt\n",
    "\n",
    "\n",
    "\n",
    "def get_subset(dataset, subset_fraction):\n",
    "    \n",
    "    # get n random samples\n",
    "    n_samples = int(len(dataset) * subset_fraction)\n",
    "    subset_indices = torch.randperm(len(dataset))[:n_samples]\n",
    "    \n",
    "    # return the subset\n",
    "    return torch.utils.data.Subset(dataset, subset_indices), subset_indices\n",
    "\n",
    "\n",
    "def plot_pck(metrics, metrics_gt, title):\n",
    "    fig, ax = plt.subplots(1, 1, figsize=(6, 4))\n",
    "\n",
    "    thresholds = np.linspace(0., 0.1, 40)\n",
    "    ax.plot(thresholds, torch.mean(metrics['pcks'], axis=0), 'r-',\n",
    "            label=f'auc: {torch.mean(metrics[\"auc\"]):.2f}')\n",
    "    ax.plot(thresholds, torch.mean(metrics_gt['pcks'], axis=0), 'b-',\n",
    "            label=f'auc_gt: {torch.mean(metrics_gt[\"auc\"]):.2f}')\n",
    "    \n",
    "    \n",
    "    ax.set_xlim(0., 0.1)\n",
    "    ax.set_ylim(0, 1)\n",
    "    ax.set_xscale('linear')\n",
    "    ax.set_xticks([0.025, 0.05, 0.075, 0.1])\n",
    "    ax.grid()\n",
    "    ax.legend()\n",
    "    ax.set_title(title)\n",
    "    return fig\n",
    "\n",
    "\n",
    "def preprocess_metrics(metrics):\n",
    "    metrics_payload = {}\n",
    "    \n",
    "    metrics_payload['auc'] = round(metrics['auc'].mean(dim=0).item(), 2)\n",
    "    \n",
    "    metrics_payload['geo_err_mean'] = round(metrics['geo_err_est'].mean().item() * 100, 1)\n",
    "    metrics_payload['geo_err_ratio_mean'] = round(metrics['geo_err_ratio'].mean().item(), 2)\n",
    "    metrics_payload['geo_err_ratio_median'] = round(metrics['geo_err_ratio'].median().item(), 2)\n",
    "    metrics_payload['geo_err_ratio_max'] = round(metrics['geo_err_ratio'].max().item(), 2)\n",
    "    metrics_payload['geo_err_ratio_min'] = round(metrics['geo_err_ratio'].min().item(), 2)\n",
    "    \n",
    "    metrics_payload['mse_mean'] = round(metrics['mse_abs'].mean().item(), 2)\n",
    "    metrics_payload['mse_median'] = round(metrics['mse_abs'].median().item(), 2)\n",
    "    metrics_payload['mse_max'] = round(metrics['mse_abs'].max().item(), 2)\n",
    "    metrics_payload['mse_min'] = round(metrics['mse_abs'].min().item(), 2)\n",
    "    \n",
    "    return metrics_payload\n",
    "\n",
    "\n",
    "\n",
    "experiment_name = 'test_32'\n",
    "checkpoint_name = 'checkpoint_29'\n",
    "subset_fraction = 100\n",
    "dataset_name = 'faust'\n",
    "\n",
    "\n",
    "### config\n",
    "exp_base_folder = f'/home/s94zalek/shape_matching/my_code/experiments/{experiment_name}'\n",
    "with open(f'{exp_base_folder}/config.yaml', 'r') as f:\n",
    "    config = yaml.load(f, Loader=yaml.FullLoader)\n",
    "\n",
    "\n",
    "### model\n",
    "model = DiagConditionedUnet(config[\"model_params\"]).to('cuda')\n",
    "model.load_state_dict(torch.load(f\"{exp_base_folder}/checkpoints/{checkpoint_name}.pt\"))\n",
    "model = model.to('cuda')\n",
    "\n",
    "\n",
    "### dataset\n",
    "# dataset_base_folder = '/home/s94zalek/shape_matching/data/SURREAL_full/full_datasets'\n",
    "# test_dataset = SurrealTestDataset(f'{dataset_base_folder}/{config[\"dataset_name\"]}/test')\n",
    "\n",
    "\n",
    "\n",
    "\n",
    "import my_code.datasets.template_dataset as template_dataset\n",
    "import datasets_code.shape_dataset as shape_dataset\n",
    "\n",
    "dataset_faust_single = shape_dataset.SingleFaustDataset(\n",
    "    data_root='data/FAUST_original',\n",
    "    phase='train',\n",
    "    return_faces=True,\n",
    "    return_evecs=True, num_evecs=32,\n",
    "    return_corr=True, return_dist=False\n",
    ")\n",
    "\n",
    "test_dataset = template_dataset.TemplateDataset(\n",
    "    base_dataset=dataset_faust_single,\n",
    "    num_evecs=32\n",
    ")\n",
    "\n",
    "# print(test_dataset[10]['second']['C_gt_xy'].shape, test_dataset[10]['second']['evals'].shape, test_dataset[10]['first']['evals'].shape)\n",
    "# exit(0)\n",
    "\n",
    "\n",
    "\n",
    "\n",
    "subset_indices = list(range(len(test_dataset)))[1:]\n",
    "\n",
    "# return the subset\n",
    "test_dataset = torch.utils.data.Subset(test_dataset, subset_indices)\n",
    "\n",
    "\n",
    "\n",
    "\n",
    "# # optionally get a subset of the dataset\n",
    "# if subset_fraction != 100:\n",
    "#     test_dataset = get_subset(test_dataset, subset_fraction / 100)[0]\n",
    "\n",
    "# dataloader\n",
    "test_loader = torch.utils.data.DataLoader(\n",
    "    test_dataset,\n",
    "    batch_size=len(test_dataset), shuffle=False\n",
    "    )\n",
    "\n",
    "\n",
    "### sample the model\n",
    "noise_scheduler = DDPMScheduler(num_train_timesteps=1000, beta_schedule='squaredcos_cap_v2',\n",
    "                                clip_sample=True)\n",
    "x_sampled = sample_model.sample(model, test_loader, noise_scheduler)    \n",
    "\n",
    "\n",
    "### unnormalize the samples and assign gt signs\n",
    "x_gt = torch.stack([test_dataset[i]['second']['C_gt_xy'] for i in range(len(test_dataset))])\n",
    "\n",
    "fmap_sampled = []\n",
    "for i in range(len(x_sampled)):\n",
    "    fmap_i = x_sampled[i].cpu()\n",
    "\n",
    "    fmap_i = (fmap_i + 1) / 2\n",
    "    fmap_i = fmap_i * torch.sign(x_gt[i])\n",
    "\n",
    "    fmap_sampled.append(fmap_i)\n",
    "fmap_sampled = torch.stack(fmap_sampled)\n",
    "\n",
    "\n",
    "### calculate metrics\n",
    "metrics = evaluate_samples.calculate_metrics(\n",
    "    fmap_sampled,\n",
    "    test_dataset\n",
    ")\n",
    "metrics_gt = evaluate_samples.calculate_metrics(\n",
    "    x_gt,\n",
    "    test_dataset\n",
    ")\n",
    "\n",
    "metrics_payload = preprocess_metrics(metrics)\n",
    "metrics_payload_gt = preprocess_metrics(metrics_gt)\n",
    "\n",
    "fig = plot_pck(metrics, metrics_gt, title=f\"PCK on {dataset_name}_{subset_fraction}\")\n",
    "\n",
    "\n",
    "### save the metrics and samples\n",
    "save_folder = f\"{exp_base_folder}/evaluation\"\n",
    "os.makedirs(save_folder, exist_ok=True)\n",
    "\n",
    "# metrics\n",
    "with open(f\"{save_folder}/metrics_{dataset_name}_{subset_fraction}.yaml\", 'w') as f:\n",
    "    yaml.dump(metrics_payload, f, sort_keys=False)\n",
    "\n",
    "# samples, fmaps, pck plot\n",
    "torch.save(x_sampled, f\"{save_folder}/sampled_{dataset_name}_{subset_fraction}.pt\")\n",
    "torch.save(fmap_sampled, f\"{save_folder}/fmap_sampled_{dataset_name}_{subset_fraction}.pt\")\n",
    "plt.savefig(f\"{save_folder}/pck_{dataset_name}_{subset_fraction}.png\")\n",
    "\n",
    "\n",
    "### print the metrics\n",
    "print(f\"AUC mean: {metrics_payload['auc']}\\n\")\n",
    "print(f'GeoErr mean: {metrics_payload[\"geo_err_mean\"]}\\n')\n",
    "print(f\"GeoErr ratio mean: {metrics_payload['geo_err_ratio_mean']}\")\n",
    "print(f\"GeoErr ratio median: {metrics_payload['geo_err_ratio_median']}\")\n",
    "print(f'GeoErr ratio max: {metrics_payload[\"geo_err_ratio_max\"]}', f'min: {metrics_payload[\"geo_err_ratio_min\"]}\\n')\n",
    "print(f\"MSE mean: {metrics_payload['mse_mean']}\")\n",
    "print(f\"MSE median: {metrics_payload['mse_median']}\")\n",
    "print(f\"MSE max: {metrics_payload['mse_max']}\", f\"min: {metrics_payload['mse_min']}\")\n",
    "\n",
    "\n",
    "print(f\"\\n\\nAUC mean_gt: {metrics_payload_gt['auc']}\\n\")\n",
    "print(f'GeoErr mean_gt: {metrics_payload_gt[\"geo_err_mean\"]}\\n')\n",
    "print(f\"GeoErr ratio mean_gt: {metrics_payload_gt['geo_err_ratio_mean']}\")\n",
    "print(f\"GeoErr ratio median_gt: {metrics_payload_gt['geo_err_ratio_median']}\")\n",
    "print(f'GeoErr ratio max_gt: {metrics_payload_gt[\"geo_err_ratio_max\"]}', f'min_gt: {metrics_payload_gt[\"geo_err_ratio_min\"]}\\n')\n",
    "print(f\"MSE mean_gt: {metrics_payload_gt['mse_mean']}\")\n",
    "print(f\"MSE median_gt: {metrics_payload_gt['mse_median']}\")\n",
    "print(f\"MSE max_gt: {metrics_payload_gt['mse_max']}\", f\"min_gt: {metrics_payload_gt['mse_min']}\")"
   ]
  },
  {
   "cell_type": "code",
   "execution_count": 7,
   "metadata": {
    "metadata": {}
   },
   "outputs": [
    {
     "data": {
      "text/plain": [
       "tensor([2.2636, 2.1253, 2.0929, 1.7634, 1.8418, 2.2676, 1.9611, 2.4491, 1.8711,\n",
       "        1.3659, 1.2731, 1.6688, 1.8179, 1.1495, 1.3216, 1.3196, 1.4423, 1.1777,\n",
       "        1.4837, 1.7585, 1.6106, 1.5801, 1.5525, 1.5212, 1.3871, 1.5444, 1.3115,\n",
       "        1.3167, 1.3198, 1.7160, 1.2956, 1.4021, 1.2791, 1.2419, 1.6382, 1.4837,\n",
       "        1.1533, 1.1777, 1.2795, 1.1860, 1.3052, 1.4425, 1.4569, 1.1670, 1.2194,\n",
       "        1.3382, 1.3465, 1.3538, 1.2579, 1.6615, 1.2640, 1.9392, 1.6916, 1.4062,\n",
       "        1.3748, 1.2692, 1.4760, 1.4576, 1.2020, 1.2334, 1.2621, 1.3565, 1.4800,\n",
       "        1.2888, 1.3819, 1.8417, 1.3314, 1.3951, 1.3921, 1.1048, 1.2576, 1.2877,\n",
       "        1.2847, 1.1523, 1.1459, 1.1636, 1.2963, 1.1972, 1.2537])"
      ]
     },
     "execution_count": 7,
     "metadata": {},
     "output_type": "execute_result"
    }
   ],
   "source": [
    "metrics['geo_err_ratio']"
   ]
  }
 ],
 "metadata": {
  "kernelspec": {
   "display_name": "Python 3 (ipykernel)",
   "language": "python",
   "name": "python3"
  },
  "language_info": {
   "codemirror_mode": {
    "name": "ipython",
    "version": 3
   },
   "file_extension": ".py",
   "mimetype": "text/x-python",
   "name": "python",
   "nbconvert_exporter": "python",
   "pygments_lexer": "ipython3",
   "version": "3.8.19"
  }
 },
 "nbformat": 4,
 "nbformat_minor": 2
}
