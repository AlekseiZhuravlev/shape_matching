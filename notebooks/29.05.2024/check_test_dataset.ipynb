{
 "cells": [
  {
   "cell_type": "code",
   "execution_count": 1,
   "metadata": {
    "metadata": {}
   },
   "outputs": [],
   "source": [
    "import sys\n",
    "sys.path.append('/home/s94zalek/shape_matching/my_code/datasets')\n",
    "\n",
    "from surreal_cached_test_dataset import SurrealTestDataset\n",
    "from surreal_cached_train_dataset import SurrealTrainDataset"
   ]
  },
  {
   "cell_type": "code",
   "execution_count": 2,
   "metadata": {
    "metadata": {}
   },
   "outputs": [
    {
     "name": "stdout",
     "output_type": "stream",
     "text": [
      "Train dataset, functional map dimension: 32\n"
     ]
    }
   ],
   "source": [
    "base_folder = '/home/s94zalek/shape_matching/data/SURREAL_full/full_datasets/dataset_158_158_316_0_32_93'\n",
    "    \n",
    "train_dataset = SurrealTrainDataset(f\"{base_folder}/train\")\n",
    "test_dataset = SurrealTestDataset(f\"{base_folder}/test\")"
   ]
  },
  {
   "cell_type": "code",
   "execution_count": 3,
   "metadata": {
    "metadata": {}
   },
   "outputs": [],
   "source": [
    "import torch\n",
    "\n",
    "train_loader = torch.utils.data.DataLoader(train_dataset, batch_size=32, shuffle=True)\n",
    "test_loader = torch.utils.data.DataLoader(test_dataset, batch_size=32, shuffle=True)"
   ]
  },
  {
   "cell_type": "code",
   "execution_count": 4,
   "metadata": {
    "metadata": {}
   },
   "outputs": [],
   "source": [
    "train_batch = next(iter(train_loader))\n",
    "test_batch = next(iter(test_loader))"
   ]
  },
  {
   "cell_type": "code",
   "execution_count": 5,
   "metadata": {
    "metadata": {}
   },
   "outputs": [
    {
     "data": {
      "text/plain": [
       "(torch.Size([32, 1, 32, 32]), torch.Size([32, 1, 32]))"
      ]
     },
     "execution_count": 5,
     "metadata": {},
     "output_type": "execute_result"
    }
   ],
   "source": [
    "train_batch[0].shape, train_batch[1].shape"
   ]
  },
  {
   "cell_type": "code",
   "execution_count": 7,
   "metadata": {
    "metadata": {}
   },
   "outputs": [
    {
     "name": "stdout",
     "output_type": "stream",
     "text": [
      "first shape\n",
      "verts torch.Size([32, 6890, 3])\n",
      "faces torch.Size([32, 13776, 3])\n",
      "corr torch.Size([32, 6890])\n",
      "evecs torch.Size([32, 6890, 32])\n",
      "evecs_trans torch.Size([32, 32, 6890])\n",
      "evals torch.Size([32, 1, 32])\n",
      "mass torch.Size([32, 6890])\n",
      "second shape\n",
      "verts torch.Size([32, 6890, 3])\n",
      "faces torch.Size([32, 13776, 3])\n",
      "poses torch.Size([32, 72])\n",
      "betas torch.Size([32, 10])\n",
      "evecs torch.Size([32, 6890, 32])\n",
      "evecs_trans torch.Size([32, 32, 6890])\n",
      "evals torch.Size([32, 1, 32])\n",
      "mass torch.Size([32, 6890])\n",
      "corr torch.Size([32, 6890])\n",
      "C_gt_xy torch.Size([32, 1, 32, 32])\n",
      "C_gt_yx torch.Size([32, 1, 32, 32])\n"
     ]
    }
   ],
   "source": [
    "print('first shape')\n",
    "for key in test_batch['first'].keys():\n",
    "    print(key, test_batch['first'][key].shape)\n",
    "    \n",
    "print('second shape')\n",
    "for key in test_batch['second'].keys():\n",
    "    print(key, test_batch['second'][key].shape)"
   ]
  },
  {
   "cell_type": "code",
   "execution_count": 8,
   "metadata": {
    "metadata": {}
   },
   "outputs": [],
   "source": [
    "import trimesh\n",
    "\n",
    "scene = trimesh.Scene()"
   ]
  },
  {
   "cell_type": "code",
   "execution_count": null,
   "metadata": {
    "metadata": {}
   },
   "outputs": [],
   "source": [
    "from tqdm import tqdm\n",
    "import numpy as np\n",
    "\n",
    "scene.geometry.clear()\n",
    "\n",
    "random_indices = np.random.choice(len(test_dataset), 5, replace=False)\n",
    "print('Showing shapes with indices:', random_indices)\n",
    "\n",
    "\n",
    "scene.add_geometry(trimesh.Trimesh(\n",
    "    vertices=test_dataset[0]['first']['verts'] + np.array([-1, 0, 0]),\n",
    "    faces=test_dataset[0]['first']['faces']\n",
    "    ))\n",
    "\n",
    "for i, rand_idx in tqdm(enumerate(random_indices), total=len(random_indices)):\n",
    "    scene.add_geometry(trimesh.Trimesh(\n",
    "        vertices=test_dataset[rand_idx]['second']['verts'] + np.array([i, 0, 0]),\n",
    "        faces=test_dataset[rand_idx]['second']['faces']\n",
    "        ))\n",
    "    \n",
    "# add coordinate axis\n",
    "# scene.add_geometry(trimesh.creation.axis(axis_length=0.5))\n",
    "scene.show()"
   ]
  },
  {
   "cell_type": "code",
   "execution_count": 2,
   "metadata": {
    "metadata": {}
   },
   "outputs": [
    {
     "data": {
      "text/plain": [
       "{'experiment_name': 'test',\n",
       " 'dataset_name': 'dataset_158_158_316_0_32_93',\n",
       " 'n_epochs': 30,\n",
       " 'validate_every': 10,\n",
       " 'checkpoint_every': 10,\n",
       " 'batch_size': 128}"
      ]
     },
     "execution_count": 2,
     "metadata": {},
     "output_type": "execute_result"
    }
   ],
   "source": [
    "import yaml\n",
    "# create empty config file\n",
    "config = yaml.load('''\n",
    "experiment_name: 'test'\n",
    "dataset_name: 'dataset_158_158_316_0_32_93'\n",
    "\n",
    "n_epochs: 30\n",
    "\n",
    "validate_every: 10\n",
    "checkpoint_every: 10\n",
    "\n",
    "batch_size: 128\n",
    "\n",
    "''', Loader=yaml.FullLoader)\n",
    "\n",
    "config"
   ]
  }
 ],
 "metadata": {
  "kernelspec": {
   "display_name": "Python 3 (ipykernel)",
   "language": "python",
   "name": "python3"
  }
 },
 "nbformat": 4,
 "nbformat_minor": 2
}
