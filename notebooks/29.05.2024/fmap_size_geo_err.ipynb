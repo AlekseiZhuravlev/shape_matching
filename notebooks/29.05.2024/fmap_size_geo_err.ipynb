{
 "cells": [
  {
   "cell_type": "code",
   "execution_count": 1,
   "metadata": {
    "metadata": {}
   },
   "outputs": [
    {
     "name": "stderr",
     "output_type": "stream",
     "text": [
      "Generating male shapes: 100%|████████████████████████████████████████████████████████████████████████████████████████████| 8/8 [00:00<00:00,  9.07it/s]\n",
      "Generating female shapes: 100%|██████████████████████████████████████████████████████████████████████████████████████████| 8/8 [00:00<00:00,  9.22it/s]\n",
      "Generating male shapes: 100%|████████████████████████████████████████████████████████████████████████████████████████████| 8/8 [00:00<00:00,  9.28it/s]\n",
      "Generating female shapes: 100%|██████████████████████████████████████████████████████████████████████████████████████████| 8/8 [00:00<00:00,  9.31it/s]\n",
      "Generating male shapes: 100%|████████████████████████████████████████████████████████████████████████████████████████████| 8/8 [00:00<00:00,  9.02it/s]\n",
      "Generating female shapes: 100%|██████████████████████████████████████████████████████████████████████████████████████████| 8/8 [00:00<00:00,  9.09it/s]\n"
     ]
    }
   ],
   "source": [
    "from my_code.datasets.surreal_dataset import SingleSurrealDataset\n",
    "\n",
    "n_body_types_male=8\n",
    "n_body_types_female=8\n",
    "n_poses_straight=8\n",
    "n_poses_bent=0\n",
    "\n",
    "dataset_32 = SingleSurrealDataset(\n",
    "    n_body_types_male=n_body_types_male,\n",
    "    n_body_types_female=n_body_types_female,\n",
    "    n_poses_straight=n_poses_straight,\n",
    "    n_poses_bent=n_poses_bent,\n",
    "    num_evecs=32\n",
    ")\n",
    "dataset_64 = SingleSurrealDataset(\n",
    "    n_body_types_male=n_body_types_male,\n",
    "    n_body_types_female=n_body_types_female,\n",
    "    n_poses_straight=n_poses_straight,\n",
    "    n_poses_bent=n_poses_bent,\n",
    "    num_evecs=64\n",
    ")\n",
    "dataset_128 = SingleSurrealDataset(\n",
    "    n_body_types_male=n_body_types_male,\n",
    "    n_body_types_female=n_body_types_female,\n",
    "    n_poses_straight=n_poses_straight,\n",
    "    n_poses_bent=n_poses_bent,\n",
    "    num_evecs=128\n",
    ")"
   ]
  },
  {
   "cell_type": "code",
   "execution_count": 3,
   "metadata": {
    "metadata": {}
   },
   "outputs": [
    {
     "name": "stdout",
     "output_type": "stream",
     "text": [
      "0) 32: 170.22, 64: 117.52, 128: 50.17\n"
     ]
    },
    {
     "ename": "KeyboardInterrupt",
     "evalue": "",
     "output_type": "error",
     "traceback": [
      "\u001b[0;31m---------------------------------------------------------------------------\u001b[0m",
      "\u001b[0;31mKeyboardInterrupt\u001b[0m                         Traceback (most recent call last)",
      "Input \u001b[0;32mIn [3]\u001b[0m, in \u001b[0;36m<cell line: 4>\u001b[0;34m()\u001b[0m\n\u001b[1;32m      5\u001b[0m geo_err_32, _, _, _ \u001b[38;5;241m=\u001b[39m evaluate_samples\u001b[38;5;241m.\u001b[39mcompare_fmap_with_gt(\n\u001b[1;32m      6\u001b[0m     dataset_32[i][\u001b[38;5;124m'\u001b[39m\u001b[38;5;124msecond\u001b[39m\u001b[38;5;124m'\u001b[39m][\u001b[38;5;124m'\u001b[39m\u001b[38;5;124mC_gt_xy\u001b[39m\u001b[38;5;124m'\u001b[39m],\n\u001b[1;32m      7\u001b[0m     dataset_32[i][\u001b[38;5;124m'\u001b[39m\u001b[38;5;124mfirst\u001b[39m\u001b[38;5;124m'\u001b[39m],\n\u001b[1;32m      8\u001b[0m     dataset_32[i][\u001b[38;5;124m'\u001b[39m\u001b[38;5;124msecond\u001b[39m\u001b[38;5;124m'\u001b[39m],\n\u001b[1;32m      9\u001b[0m )\n\u001b[1;32m     10\u001b[0m geo_err_64, _, _, _ \u001b[38;5;241m=\u001b[39m evaluate_samples\u001b[38;5;241m.\u001b[39mcompare_fmap_with_gt(\n\u001b[1;32m     11\u001b[0m     dataset_64[i][\u001b[38;5;124m'\u001b[39m\u001b[38;5;124msecond\u001b[39m\u001b[38;5;124m'\u001b[39m][\u001b[38;5;124m'\u001b[39m\u001b[38;5;124mC_gt_xy\u001b[39m\u001b[38;5;124m'\u001b[39m],\n\u001b[1;32m     12\u001b[0m     dataset_64[i][\u001b[38;5;124m'\u001b[39m\u001b[38;5;124mfirst\u001b[39m\u001b[38;5;124m'\u001b[39m],\n\u001b[1;32m     13\u001b[0m     dataset_64[i][\u001b[38;5;124m'\u001b[39m\u001b[38;5;124msecond\u001b[39m\u001b[38;5;124m'\u001b[39m],\n\u001b[1;32m     14\u001b[0m )\n\u001b[1;32m     15\u001b[0m geo_err_128, _, _, _ \u001b[38;5;241m=\u001b[39m evaluate_samples\u001b[38;5;241m.\u001b[39mcompare_fmap_with_gt(\n\u001b[1;32m     16\u001b[0m     dataset_128[i][\u001b[38;5;124m'\u001b[39m\u001b[38;5;124msecond\u001b[39m\u001b[38;5;124m'\u001b[39m][\u001b[38;5;124m'\u001b[39m\u001b[38;5;124mC_gt_xy\u001b[39m\u001b[38;5;124m'\u001b[39m],\n\u001b[1;32m     17\u001b[0m     dataset_128[i][\u001b[38;5;124m'\u001b[39m\u001b[38;5;124mfirst\u001b[39m\u001b[38;5;124m'\u001b[39m],\n\u001b[0;32m---> 18\u001b[0m     \u001b[43mdataset_128\u001b[49m\u001b[43m[\u001b[49m\u001b[43mi\u001b[49m\u001b[43m]\u001b[49m[\u001b[38;5;124m'\u001b[39m\u001b[38;5;124msecond\u001b[39m\u001b[38;5;124m'\u001b[39m],\n\u001b[1;32m     19\u001b[0m )\n\u001b[1;32m     20\u001b[0m \u001b[38;5;28mprint\u001b[39m(\u001b[38;5;124mf\u001b[39m\u001b[38;5;124m'\u001b[39m\u001b[38;5;132;01m{\u001b[39;00mi\u001b[38;5;132;01m}\u001b[39;00m\u001b[38;5;124m) 32: \u001b[39m\u001b[38;5;132;01m{\u001b[39;00mgeo_err_32\u001b[38;5;241m.\u001b[39mabs()\u001b[38;5;241m.\u001b[39msum()\u001b[38;5;132;01m:\u001b[39;00m\u001b[38;5;124m.2f\u001b[39m\u001b[38;5;132;01m}\u001b[39;00m\u001b[38;5;124m, 64: \u001b[39m\u001b[38;5;132;01m{\u001b[39;00mgeo_err_64\u001b[38;5;241m.\u001b[39mabs()\u001b[38;5;241m.\u001b[39msum()\u001b[38;5;132;01m:\u001b[39;00m\u001b[38;5;124m.2f\u001b[39m\u001b[38;5;132;01m}\u001b[39;00m\u001b[38;5;124m, 128: \u001b[39m\u001b[38;5;132;01m{\u001b[39;00mgeo_err_128\u001b[38;5;241m.\u001b[39mabs()\u001b[38;5;241m.\u001b[39msum()\u001b[38;5;132;01m:\u001b[39;00m\u001b[38;5;124m.2f\u001b[39m\u001b[38;5;132;01m}\u001b[39;00m\u001b[38;5;124m'\u001b[39m)\n",
      "File \u001b[0;32m~/shape_matching/my_code/datasets/surreal_dataset.py:134\u001b[0m, in \u001b[0;36mSingleSurrealDataset.__getitem__\u001b[0;34m(self, index)\u001b[0m\n\u001b[1;32m    131\u001b[0m item[\u001b[38;5;124m'\u001b[39m\u001b[38;5;124mbetas\u001b[39m\u001b[38;5;124m'\u001b[39m] \u001b[38;5;241m=\u001b[39m \u001b[38;5;28mself\u001b[39m\u001b[38;5;241m.\u001b[39mshapes[\u001b[38;5;124m'\u001b[39m\u001b[38;5;124mbetas\u001b[39m\u001b[38;5;124m'\u001b[39m][index]\n\u001b[1;32m    133\u001b[0m \u001b[38;5;66;03m# get eigenfunctions/eigenvalues\u001b[39;00m\n\u001b[0;32m--> 134\u001b[0m item \u001b[38;5;241m=\u001b[39m \u001b[43mget_spectral_ops\u001b[49m\u001b[43m(\u001b[49m\u001b[43mitem\u001b[49m\u001b[43m,\u001b[49m\u001b[43m \u001b[49m\u001b[43mnum_evecs\u001b[49m\u001b[38;5;241;43m=\u001b[39;49m\u001b[38;5;28;43mself\u001b[39;49m\u001b[38;5;241;43m.\u001b[39;49m\u001b[43mnum_evecs\u001b[49m\u001b[43m,\u001b[49m\u001b[43m)\u001b[49m\n\u001b[1;32m    136\u001b[0m \u001b[38;5;66;03m# 1 to 1 correspondence\u001b[39;00m\n\u001b[1;32m    137\u001b[0m item[\u001b[38;5;124m'\u001b[39m\u001b[38;5;124mcorr\u001b[39m\u001b[38;5;124m'\u001b[39m] \u001b[38;5;241m=\u001b[39m torch\u001b[38;5;241m.\u001b[39mtensor(\u001b[38;5;28mlist\u001b[39m(\u001b[38;5;28mrange\u001b[39m(\u001b[38;5;28mlen\u001b[39m(item[\u001b[38;5;124m'\u001b[39m\u001b[38;5;124mverts\u001b[39m\u001b[38;5;124m'\u001b[39m]))))        \n",
      "File \u001b[0;32m~/shape_matching/my_code/datasets/surreal_dataset.py:24\u001b[0m, in \u001b[0;36mget_spectral_ops\u001b[0;34m(item, num_evecs, cache_dir)\u001b[0m\n\u001b[1;32m     22\u001b[0m \u001b[38;5;28;01mif\u001b[39;00m cache_dir \u001b[38;5;129;01mis\u001b[39;00m \u001b[38;5;129;01mnot\u001b[39;00m \u001b[38;5;28;01mNone\u001b[39;00m \u001b[38;5;129;01mand\u001b[39;00m \u001b[38;5;129;01mnot\u001b[39;00m os\u001b[38;5;241m.\u001b[39mpath\u001b[38;5;241m.\u001b[39misdir(cache_dir):\n\u001b[1;32m     23\u001b[0m     os\u001b[38;5;241m.\u001b[39mmakedirs(cache_dir)\n\u001b[0;32m---> 24\u001b[0m _, mass, L, evals, evecs, _, _ \u001b[38;5;241m=\u001b[39m \u001b[43mget_operators\u001b[49m\u001b[43m(\u001b[49m\u001b[43mitem\u001b[49m\u001b[43m[\u001b[49m\u001b[38;5;124;43m'\u001b[39;49m\u001b[38;5;124;43mverts\u001b[39;49m\u001b[38;5;124;43m'\u001b[39;49m\u001b[43m]\u001b[49m\u001b[43m,\u001b[49m\u001b[43m \u001b[49m\u001b[43mitem\u001b[49m\u001b[38;5;241;43m.\u001b[39;49m\u001b[43mget\u001b[49m\u001b[43m(\u001b[49m\u001b[38;5;124;43m'\u001b[39;49m\u001b[38;5;124;43mfaces\u001b[39;49m\u001b[38;5;124;43m'\u001b[39;49m\u001b[43m)\u001b[49m\u001b[43m,\u001b[49m\n\u001b[1;32m     25\u001b[0m \u001b[43m                                               \u001b[49m\u001b[43mk\u001b[49m\u001b[38;5;241;43m=\u001b[39;49m\u001b[43mnum_evecs\u001b[49m\u001b[43m,\u001b[49m\n\u001b[1;32m     26\u001b[0m \u001b[43m                                               \u001b[49m\u001b[43mcache_dir\u001b[49m\u001b[38;5;241;43m=\u001b[39;49m\u001b[43mcache_dir\u001b[49m\u001b[43m)\u001b[49m\n\u001b[1;32m     27\u001b[0m evecs_trans \u001b[38;5;241m=\u001b[39m evecs\u001b[38;5;241m.\u001b[39mT \u001b[38;5;241m*\u001b[39m mass[\u001b[38;5;28;01mNone\u001b[39;00m]\n\u001b[1;32m     28\u001b[0m item[\u001b[38;5;124m'\u001b[39m\u001b[38;5;124mevecs\u001b[39m\u001b[38;5;124m'\u001b[39m] \u001b[38;5;241m=\u001b[39m evecs[:, :num_evecs]\n",
      "File \u001b[0;32m~/shape_matching/utils/geometry_util.py:726\u001b[0m, in \u001b[0;36mget_operators\u001b[0;34m(verts, faces, k, normals, cache_dir, overwrite_cache)\u001b[0m\n\u001b[1;32m    722\u001b[0m             \u001b[38;5;28;01mbreak\u001b[39;00m\n\u001b[1;32m    724\u001b[0m \u001b[38;5;28;01mif\u001b[39;00m \u001b[38;5;129;01mnot\u001b[39;00m found:\n\u001b[1;32m    725\u001b[0m     \u001b[38;5;66;03m# recompute\u001b[39;00m\n\u001b[0;32m--> 726\u001b[0m     frames, mass, L, evals, evecs, gradX, gradY \u001b[38;5;241m=\u001b[39m \u001b[43mcompute_operators\u001b[49m\u001b[43m(\u001b[49m\u001b[43mverts\u001b[49m\u001b[43m,\u001b[49m\u001b[43m \u001b[49m\u001b[43mfaces\u001b[49m\u001b[43m,\u001b[49m\u001b[43m \u001b[49m\u001b[43mk\u001b[49m\u001b[43m,\u001b[49m\u001b[43m \u001b[49m\u001b[43mnormals\u001b[49m\u001b[43m)\u001b[49m\n\u001b[1;32m    728\u001b[0m     dtype_np \u001b[38;5;241m=\u001b[39m np\u001b[38;5;241m.\u001b[39mfloat32\n\u001b[1;32m    730\u001b[0m     \u001b[38;5;66;03m# save\u001b[39;00m\n",
      "File \u001b[0;32m~/shape_matching/utils/geometry_util.py:627\u001b[0m, in \u001b[0;36mcompute_operators\u001b[0;34m(verts, faces, k, normals)\u001b[0m\n\u001b[1;32m    625\u001b[0m \u001b[38;5;28;01melse\u001b[39;00m:\n\u001b[1;32m    626\u001b[0m     edges \u001b[38;5;241m=\u001b[39m torch\u001b[38;5;241m.\u001b[39mtensor(np\u001b[38;5;241m.\u001b[39mstack((inds_row, inds_col), axis\u001b[38;5;241m=\u001b[39m\u001b[38;5;241m0\u001b[39m), device\u001b[38;5;241m=\u001b[39mdevice, dtype\u001b[38;5;241m=\u001b[39mfaces\u001b[38;5;241m.\u001b[39mdtype)\n\u001b[0;32m--> 627\u001b[0m     edge_vecs \u001b[38;5;241m=\u001b[39m \u001b[43medge_tangent_vectors\u001b[49m\u001b[43m(\u001b[49m\u001b[43mverts\u001b[49m\u001b[43m,\u001b[49m\u001b[43m \u001b[49m\u001b[43mframes\u001b[49m\u001b[43m,\u001b[49m\u001b[43m \u001b[49m\u001b[43medges\u001b[49m\u001b[43m)\u001b[49m\n\u001b[1;32m    628\u001b[0m     grad_mat_np \u001b[38;5;241m=\u001b[39m build_grad(verts_np, torch2np(edges), torch2np(edge_vecs))\n\u001b[1;32m    630\u001b[0m \u001b[38;5;66;03m# split complex gradient into two real sparse matrices (PyTorch doesn't like complex sparse matrix)\u001b[39;00m\n",
      "File \u001b[0;32m~/shape_matching/utils/geometry_util.py:404\u001b[0m, in \u001b[0;36medge_tangent_vectors\u001b[0;34m(verts, frames, edges)\u001b[0m\n\u001b[1;32m    401\u001b[0m basisX \u001b[38;5;241m=\u001b[39m frames[edges[\u001b[38;5;241m0\u001b[39m, :], \u001b[38;5;241m0\u001b[39m, :]\n\u001b[1;32m    402\u001b[0m basisY \u001b[38;5;241m=\u001b[39m frames[edges[\u001b[38;5;241m0\u001b[39m, :], \u001b[38;5;241m1\u001b[39m, :]\n\u001b[0;32m--> 404\u001b[0m compX \u001b[38;5;241m=\u001b[39m \u001b[43mdot\u001b[49m\u001b[43m(\u001b[49m\u001b[43medge_vecs\u001b[49m\u001b[43m,\u001b[49m\u001b[43m \u001b[49m\u001b[43mbasisX\u001b[49m\u001b[43m)\u001b[49m\n\u001b[1;32m    405\u001b[0m compY \u001b[38;5;241m=\u001b[39m dot(edge_vecs, basisY)\n\u001b[1;32m    406\u001b[0m edge_tangent \u001b[38;5;241m=\u001b[39m torch\u001b[38;5;241m.\u001b[39mstack((compX, compY), dim\u001b[38;5;241m=\u001b[39m\u001b[38;5;241m-\u001b[39m\u001b[38;5;241m1\u001b[39m)\n",
      "File \u001b[0;32m~/shape_matching/utils/geometry_util.py:96\u001b[0m, in \u001b[0;36mdot\u001b[0;34m(a, b, keepdim)\u001b[0m\n\u001b[1;32m     85\u001b[0m \u001b[38;5;250m\u001b[39m\u001b[38;5;124;03m\"\"\"\u001b[39;00m\n\u001b[1;32m     86\u001b[0m \u001b[38;5;124;03mCompute the dot product between vector a and vector b in last dimension\u001b[39;00m\n\u001b[1;32m     87\u001b[0m \n\u001b[0;32m   (...)\u001b[0m\n\u001b[1;32m     93\u001b[0m \u001b[38;5;124;03m    (torch.Tensor): dot product between a and b [N] or [N, 1].\u001b[39;00m\n\u001b[1;32m     94\u001b[0m \u001b[38;5;124;03m\"\"\"\u001b[39;00m\n\u001b[1;32m     95\u001b[0m \u001b[38;5;28;01massert\u001b[39;00m a\u001b[38;5;241m.\u001b[39mshape \u001b[38;5;241m==\u001b[39m b\u001b[38;5;241m.\u001b[39mshape\n\u001b[0;32m---> 96\u001b[0m \u001b[38;5;28;01mreturn\u001b[39;00m \u001b[43mtorch\u001b[49m\u001b[38;5;241;43m.\u001b[39;49m\u001b[43msum\u001b[49m\u001b[43m(\u001b[49m\u001b[43ma\u001b[49m\u001b[43m \u001b[49m\u001b[38;5;241;43m*\u001b[39;49m\u001b[43m \u001b[49m\u001b[43mb\u001b[49m\u001b[43m,\u001b[49m\u001b[43m \u001b[49m\u001b[43mdim\u001b[49m\u001b[38;5;241;43m=\u001b[39;49m\u001b[38;5;241;43m-\u001b[39;49m\u001b[38;5;241;43m1\u001b[39;49m\u001b[43m,\u001b[49m\u001b[43m \u001b[49m\u001b[43mkeepdim\u001b[49m\u001b[38;5;241;43m=\u001b[39;49m\u001b[43mkeepdim\u001b[49m\u001b[43m)\u001b[49m\n",
      "\u001b[0;31mKeyboardInterrupt\u001b[0m: "
     ]
    }
   ],
   "source": [
    "import my_code.diffusion_training.evaluate_samples as evaluate_samples\n",
    "from tqdm import tqdm\n",
    "\n",
    "for i in range(10):\n",
    "    geo_err_32, _, _, _ = evaluate_samples.compare_fmap_with_gt(\n",
    "        dataset_32[i]['second']['C_gt_xy'],\n",
    "        dataset_32[i]['first'],\n",
    "        dataset_32[i]['second'],\n",
    "    )\n",
    "    geo_err_64, _, _, _ = evaluate_samples.compare_fmap_with_gt(\n",
    "        dataset_64[i]['second']['C_gt_xy'],\n",
    "        dataset_64[i]['first'],\n",
    "        dataset_64[i]['second'],\n",
    "    )\n",
    "    geo_err_128, _, _, _ = evaluate_samples.compare_fmap_with_gt(\n",
    "        dataset_128[i]['second']['C_gt_xy'],\n",
    "        dataset_128[i]['first'],\n",
    "        dataset_128[i]['second'],\n",
    "    )\n",
    "    print(f'{i}) 32: {geo_err_32.abs().sum():.2f}, 64: {geo_err_64.abs().sum():.2f}, 128: {geo_err_128.abs().sum():.2f}')\n",
    "    "
   ]
  },
  {
   "cell_type": "code",
   "execution_count": null,
   "metadata": {
    "metadata": {}
   },
   "outputs": [
    {
     "name": "stdout",
     "output_type": "stream",
     "text": [
      "Jupyter environment detected. Enabling Open3D WebVisualizer.\n",
      "[Open3D INFO] WebRTC GUI backend enabled.\n",
      "[Open3D INFO] WebRTCWindowSystem: HTTP handshake server disabled.\n",
      "/home/s94zalek/shape_matching\n"
     ]
    }
   ],
   "source": [
    "import sys\n",
    "sys.path.append('/home/s94zalek/shape_matching')\n",
    "\n",
    "from datasets_code import build_dataloader, build_dataset\n",
    "from utils.options import parse_options\n",
    "from train import create_train_val_dataloader\n",
    "import torch\n",
    "import numpy as np\n",
    "\n",
    "import os\n",
    "os.chdir('/home/s94zalek/shape_matching')\n",
    "\n",
    "# print current working directory\n",
    "print(os.getcwd())"
   ]
  },
  {
   "cell_type": "code",
   "execution_count": null,
   "metadata": {
    "metadata": {}
   },
   "outputs": [
    {
     "name": "stdout",
     "output_type": "stream",
     "text": [
      "Backend DataParallel.\n",
      "Path already exists. Rename it to /home/s94zalek/shape_matching/results/faust_archived_20240602_164306\n"
     ]
    },
    {
     "name": "stderr",
     "output_type": "stream",
     "text": [
      "Constructing DatasetFromListOfDicts: 100%|█████████████████████████████████████████████████████████████████████████████| 80/80 [00:03<00:00, 24.77it/s]\n",
      "Calculating functional maps: 100%|█████████████████████████████████████████████████████████████████████████████████| 6400/6400 [01:10<00:00, 91.20it/s]\n",
      "Constructing DatasetFromListOfDicts: 100%|█████████████████████████████████████████████████████████████████████████████| 20/20 [00:02<00:00,  8.06it/s]\n",
      "Calculating functional maps: 100%|███████████████████████████████████████████████████████████████████████████████████| 400/400 [00:04<00:00, 99.85it/s]\n",
      "Constructing DatasetFromListOfDicts: 100%|█████████████████████████████████████████████████████████████████████████████| 20/20 [00:00<00:00, 29.75it/s]\n",
      "Calculating functional maps: 100%|██████████████████████████████████████████████████████████████████████████████████| 400/400 [00:03<00:00, 101.77it/s]\n"
     ]
    }
   ],
   "source": [
    "import os\n",
    "\n",
    "# root_path = osp.abspath(osp.join(__file__, osp.pardir))\n",
    "root_path = '/home/s94zalek/shape_matching'\n",
    "\n",
    "opt = parse_options(root_path, is_train=False, use_argparse=False,\n",
    "                    opt_path = 'options/train/faust.yaml')\n",
    "\n",
    "opt['root_path'] = root_path\n",
    "opt['dist'] = False\n",
    "\n",
    "opt['datasets']['train_dataset']['return_corr'] = True\n",
    "opt['datasets']['train_dataset']['return_dist'] = False\n",
    "opt['datasets']['test_dataset']['return_dist'] = False\n",
    "\n",
    "# create train and validation dataloaders\n",
    "result = create_train_val_dataloader(opt)\n",
    "train_loader, train_sampler, val_loader, total_epochs, total_iters = result\n",
    "\n",
    "test_set = build_dataset(opt['datasets']['test_dataset'])\n",
    "test_loader = build_dataloader(\n",
    "test_set, opt['datasets']['test_dataset'], phase='val', num_gpu=opt['num_gpu'], dist=opt['dist'], sampler=None, seed=opt['manual_seed'])\n"
   ]
  },
  {
   "cell_type": "code",
   "execution_count": null,
   "metadata": {
    "metadata": {}
   },
   "outputs": [],
   "source": [
    "train_set_faust = train_loader.dataset"
   ]
  },
  {
   "cell_type": "code",
   "execution_count": null,
   "metadata": {
    "metadata": {}
   },
   "outputs": [
    {
     "ename": "NameError",
     "evalue": "name 'train_set_faust' is not defined",
     "output_type": "error",
     "traceback": [
      "\u001b[0;31m---------------------------------------------------------------------------\u001b[0m",
      "\u001b[0;31mNameError\u001b[0m                                 Traceback (most recent call last)",
      "Input \u001b[0;32mIn [17]\u001b[0m, in \u001b[0;36m<cell line: 24>\u001b[0;34m()\u001b[0m\n\u001b[1;32m     23\u001b[0m pck_list \u001b[38;5;241m=\u001b[39m []\n\u001b[1;32m     24\u001b[0m \u001b[38;5;28;01mfor\u001b[39;00m i \u001b[38;5;129;01min\u001b[39;00m \u001b[38;5;28mrange\u001b[39m(\u001b[38;5;241m4\u001b[39m, \u001b[38;5;241m100\u001b[39m, \u001b[38;5;241m10\u001b[39m):\n\u001b[0;32m---> 26\u001b[0m     data_200_faust \u001b[38;5;241m=\u001b[39m \u001b[43mtrain_set_faust\u001b[49m[i]\n\u001b[1;32m     27\u001b[0m     data_32_faust \u001b[38;5;241m=\u001b[39m reduce_fmap_dimension(data_200_faust, \u001b[38;5;241m32\u001b[39m)\n\u001b[1;32m     28\u001b[0m     data_64_faust \u001b[38;5;241m=\u001b[39m reduce_fmap_dimension(data_200_faust, \u001b[38;5;241m64\u001b[39m)\n",
      "\u001b[0;31mNameError\u001b[0m: name 'train_set_faust' is not defined"
     ]
    }
   ],
   "source": [
    "import my_code.diffusion_training.evaluate_samples as evaluate_samples\n",
    "\n",
    "def reduce_fmap_dimension(data_full, target_dim):\n",
    "    return {\n",
    "        'first': {\n",
    "            'verts': data_full['first']['verts'],\n",
    "            'corr': data_full['first']['corr'],\n",
    "            'evecs': data_full['first']['evecs'][:, :target_dim],\n",
    "            'evals': data_full['first']['evals'][:target_dim],\n",
    "            'evecs_trans': data_full['first']['evecs_trans'][:target_dim, :],\n",
    "        },\n",
    "        'second': {\n",
    "            'verts': data_full['second']['verts'],\n",
    "            'corr': data_full['second']['corr'],\n",
    "            'evecs': data_full['second']['evecs'][:, :target_dim],\n",
    "            'evals': data_full['second']['evals'][:target_dim],\n",
    "            'evecs_trans': data_full['second']['evecs_trans'][:target_dim, :],\n",
    "            'C_gt_xy': data_full['second']['C_gt_xy'][:target_dim, :target_dim]\n",
    "        }\n",
    "    }\n",
    "\n",
    "auc_list = []\n",
    "pck_list = []\n",
    "for i in range(4, 100, 10):\n",
    "    \n",
    "    data_200_faust = train_set_faust[i]\n",
    "    data_32_faust = reduce_fmap_dimension(data_200_faust, 32)\n",
    "    data_64_faust = reduce_fmap_dimension(data_200_faust, 64)\n",
    "    data_128_faust = reduce_fmap_dimension(data_200_faust, 128)\n",
    "    \n",
    "    geo_err_32, _, _, _ = evaluate_samples.compare_fmap_with_gt(\n",
    "        data_32_faust['second']['C_gt_xy'],\n",
    "        data_32_faust['first'],\n",
    "        data_32_faust['second'],\n",
    "    )\n",
    "    geo_err_64, _, _, _ = evaluate_samples.compare_fmap_with_gt(\n",
    "        data_64_faust['second']['C_gt_xy'],\n",
    "        data_64_faust['first'],\n",
    "        data_64_faust['second'],\n",
    "    )\n",
    "    geo_err_128, _, _, _ = evaluate_samples.compare_fmap_with_gt(\n",
    "        data_128_faust['second']['C_gt_xy'],\n",
    "        data_128_faust['first'],\n",
    "        data_128_faust['second'],\n",
    "    )\n",
    "    \n",
    "    auc, pcks, thresholds = geodist_metric.plot_pck(geo_err_64.numpy(), threshold=0.1, steps=40, show_figure=False)\n",
    "    auc_list.append(auc)\n",
    "    pck_list.append(pcks)\n",
    "    \n",
    "    print(f'{i}) 32: {geo_err_32.abs().sum():.2f}, 64: {geo_err_64.abs().sum():.2f}, 128: {geo_err_128.abs().sum():.2f}')\n",
    "    "
   ]
  },
  {
   "cell_type": "code",
   "execution_count": null,
   "metadata": {
    "metadata": {}
   },
   "outputs": [
    {
     "data": {
      "text/plain": [
       "(0.8483451282051281,\n",
       " array([0.26228, 0.30008, 0.30852, 0.33654, 0.37718, 0.43546, 0.50488,\n",
       "        0.5985 , 0.69152, 0.7666 , 0.8249 , 0.86648, 0.89408, 0.91318,\n",
       "        0.92784, 0.9391 , 0.94892, 0.95792, 0.9652 , 0.97104, 0.97746,\n",
       "        0.9828 , 0.98776, 0.99292, 0.99562, 0.9975 , 0.9984 , 0.99896,\n",
       "        0.99928, 0.99942, 0.99952, 0.9996 , 0.9996 , 0.9996 , 0.9996 ,\n",
       "        0.9996 , 0.9996 , 0.99962, 0.99968, 0.99968]))"
      ]
     },
     "execution_count": 39,
     "metadata": {},
     "output_type": "execute_result"
    }
   ],
   "source": [
    "np.mean(auc_list, axis=0), np.mean(pck_list, axis=0)"
   ]
  },
  {
   "cell_type": "code",
   "execution_count": null,
   "metadata": {
    "metadata": {}
   },
   "outputs": [
    {
     "ename": "NameError",
     "evalue": "name 'auc_list' is not defined",
     "output_type": "error",
     "traceback": [
      "\u001b[0;31m---------------------------------------------------------------------------\u001b[0m",
      "\u001b[0;31mNameError\u001b[0m                                 Traceback (most recent call last)",
      "Input \u001b[0;32mIn [16]\u001b[0m, in \u001b[0;36m<cell line: 1>\u001b[0;34m()\u001b[0m\n\u001b[0;32m----> 1\u001b[0m torch\u001b[38;5;241m.\u001b[39mtensor(\u001b[43mauc_list\u001b[49m)\n",
      "\u001b[0;31mNameError\u001b[0m: name 'auc_list' is not defined"
     ]
    }
   ],
   "source": [
    "torch.tensor(auc_list)"
   ]
  },
  {
   "cell_type": "code",
   "execution_count": null,
   "metadata": {
    "metadata": {}
   },
   "outputs": [
    {
     "data": {
      "text/plain": [
       "<module 'metrics.geodist_metric' from '/home/s94zalek/shape_matching/metrics/geodist_metric.py'>"
      ]
     },
     "execution_count": 34,
     "metadata": {},
     "output_type": "execute_result"
    }
   ],
   "source": [
    "import importlib\n",
    "importlib.reload(geodist_metric)"
   ]
  },
  {
   "cell_type": "code",
   "execution_count": null,
   "metadata": {
    "metadata": {}
   },
   "outputs": [
    {
     "data": {
      "image/png": "[encoded data removed]",
      "text/plain": [
       "<Figure size 640x480 with 1 Axes>"
      ]
     },
     "metadata": {},
     "output_type": "display_data"
    }
   ],
   "source": [
    "import metrics.geodist_metric as geodist_metric\n",
    "import matplotlib.pyplot as plt\n",
    "\n",
    "\n",
    "fig, ax = plt.subplots(1, 1)\n",
    "\n",
    "for n_evecs, geo_err in [(32, geo_err_32), (64, geo_err_64), (128, geo_err_128)]:\n",
    "    auc, pcks, thresholds = geodist_metric.plot_pck(geo_err.numpy(), threshold=0.1, steps=40, show_figure=False)\n",
    "    ax.plot(thresholds, pcks, label=f'{n_evecs}, auc={auc:.2f}')\n",
    "# auc, pcks, thresholds = geodist_metric.plot_pck(geo_err_32.numpy(), threshold=0.1, steps=40, show_figure=False)\n",
    "# ax.plot(thresholds, pcks, 'r-', label=f'32, auc={auc:.2f}')\n",
    "\n",
    "ax.plot(thresholds, np.mean(pck_list, axis=0), 'k-', label=f'average')\n",
    "\n",
    "ax.set_xlim(0., 0.1)\n",
    "ax.set_ylim(0, 1)\n",
    "\n",
    "ax.set_xscale('linear')\n",
    "ax.set_xticks([0.025, 0.05, 0.075, 0.1])\n",
    "\n",
    "ax.grid()\n",
    "ax.legend()\n",
    "\n",
    "fig.show()"
   ]
  },
  {
   "cell_type": "code",
   "execution_count": null,
   "metadata": {
    "metadata": {}
   },
   "outputs": [
    {
     "data": {
      "text/plain": [
       "0.7532128205128203"
      ]
     },
     "execution_count": 23,
     "metadata": {},
     "output_type": "execute_result"
    }
   ],
   "source": [
    "auc"
   ]
  }
 ],
 "metadata": {
  "kernelspec": {
   "display_name": "Python 3 (ipykernel)",
   "language": "python",
   "name": "python3"
  },
  "language_info": {
   "codemirror_mode": {
    "name": "ipython",
    "version": 3
   },
   "file_extension": ".py",
   "mimetype": "text/x-python",
   "name": "python",
   "nbconvert_exporter": "python",
   "pygments_lexer": "ipython3",
   "version": "3.8.19"
  }
 },
 "nbformat": 4,
 "nbformat_minor": 2
}
