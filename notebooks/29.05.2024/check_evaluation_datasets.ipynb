{
 "cells": [
  {
   "cell_type": "code",
   "execution_count": 3,
   "metadata": {
    "metadata": {}
   },
   "outputs": [],
   "source": [
    "import trimesh\n",
    "\n",
    "scene = trimesh.scene.Scene()"
   ]
  },
  {
   "cell_type": "code",
   "execution_count": null,
   "metadata": {
    "metadata": {}
   },
   "outputs": [],
   "source": [
    "# load file /home/s94zalek/transmatching/evaluation/datasets/shrec19/data/000/A.off\n",
    "\n",
    "scene.geometry.clear()\n",
    "\n",
    "mesh = trimesh.load_mesh('/home/s94zalek/transmatching/evaluation/datasets/shrec19/data/000/A.off')\n",
    "scene.add_geometry(mesh)\n",
    "\n",
    "# load file /home/s94zalek/transmatching/evaluation/datasets/shrec19/data/000/B.off\n",
    "\n",
    "mesh = trimesh.load_mesh('/home/s94zalek/transmatching/evaluation/datasets/shrec19/data/000/B.off')\n",
    "mesh.vertices += [1, 0, 0]\n",
    "scene.add_geometry(mesh)\n",
    "\n",
    "scene.show()"
   ]
  },
  {
   "cell_type": "code",
   "execution_count": null,
   "metadata": {
    "metadata": {}
   },
   "outputs": [],
   "source": [
    "'/home/s94zalek/transmatching/evaluation/datasets/shrec19/origin_shrec/mat/1.ply'\n",
    "\n",
    "scene.geometry.clear()\n",
    "\n",
    "mesh = trimesh.load_mesh('/home/s94zalek/transmatching/evaluation/datasets/shrec19/origin_shrec/mat/1.ply')\n",
    "scene.add_geometry(mesh)\n",
    "\n",
    "# load file /home/s94zalek/transmatching/evaluation/datasets/shrec19/origin_shrec/mat/2.ply\n",
    "\n",
    "mesh = trimesh.load_mesh('/home/s94zalek/transmatching/evaluation/datasets/shrec19/origin_shrec/mat/2.ply')\n",
    "mesh.vertices += [1, 0, 0]\n",
    "scene.add_geometry(mesh)\n",
    "\n",
    "scene.show()"
   ]
  },
  {
   "cell_type": "code",
   "execution_count": null,
   "metadata": {
    "metadata": {}
   },
   "outputs": [],
   "source": [
    "# read /home/s94zalek/transmatching/evaluation/datasets/shrec19/origin_shrec/mat/2.mat\n",
    "\n",
    "import scipy.io\n",
    "\n",
    "mat = scipy.io.loadmat('/home/s94zalek/transmatching/evaluation/datasets/shrec19/origin_shrec/mat/1.mat')\n",
    "\n",
    "# for key in mat:\n",
    "#     print(f'### {key}: {mat[key]}')\n",
    "\n",
    "print(mat.keys())\n",
    "print(mat['smpl_matches'].shape)"
   ]
  },
  {
   "cell_type": "code",
   "execution_count": null,
   "metadata": {
    "metadata": {}
   },
   "outputs": [],
   "source": [
    "# read /home/s94zalek/transmatching/evaluation/datasets/shrec19/SHREC19_matching_humans/mat/1.mat\n",
    "\n",
    "mat_inside = scipy.io.loadmat('/home/s94zalek/transmatching/evaluation/datasets/shrec19/SHREC19_matching_humans/mat/1.mat')\n",
    "\n",
    "print(mat_inside.keys())\n",
    "print(mat_inside['smpl_matches'].shape)"
   ]
  },
  {
   "cell_type": "code",
   "execution_count": null,
   "metadata": {
    "metadata": {}
   },
   "outputs": [],
   "source": [
    "# read /home/s94zalek/transmatching/evaluation/datasets/faust_1k_s2t/12ktemplate.ply\n",
    "\n",
    "scene.geometry.clear()\n",
    "\n",
    "mesh = trimesh.load_mesh('/home/s94zalek/transmatching/evaluation/datasets/faust_1k_s2t/12ktemplate.ply')\n",
    "scene.add_geometry(mesh)\n",
    "\n",
    "scene.show()"
   ]
  },
  {
   "cell_type": "code",
   "execution_count": null,
   "metadata": {
    "metadata": {}
   },
   "outputs": [],
   "source": [
    "# read /home/s94zalek/transmatching/evaluation/datasets/faust_s2t/1k_to_faust_matchings.mat\n",
    "\n",
    "mat = scipy.io.loadmat('/home/s94zalek/transmatching/evaluation/datasets/faust_s2t/1k_to_faust_matchings.mat')\n",
    "\n",
    "for key in mat:\n",
    "    print(f'### {key}')\n",
    "\n",
    "mat['idx_rem'].shape"
   ]
  },
  {
   "cell_type": "code",
   "execution_count": null,
   "metadata": {
    "metadata": {}
   },
   "outputs": [],
   "source": [
    "# read /home/s94zalek/transmatching/evaluation/datasets/faust_1k_noise/FAUST_noise_0.01.mat\n",
    "\n",
    "mat = scipy.io.loadmat('/home/s94zalek/transmatching/evaluation/datasets/faust_1k_noise/FAUST_noise_0.01.mat')\n",
    "\n",
    "# print(mat.keys())\n",
    "# for key in mat:\n",
    "#     print(f'### {key}: {mat[key]}')\n",
    "# mat['vertices_clean'].shape"
   ]
  },
  {
   "cell_type": "code",
   "execution_count": null,
   "metadata": {
    "metadata": {}
   },
   "outputs": [],
   "source": [
    "# read /home/s94zalek/shape_matching/data/D-FAUST/registrations_m.hdf5\n",
    "\n",
    "import h5py\n",
    "\n",
    "f = h5py.File('/home/s94zalek/shape_matching/data/D-FAUST/registrations_m.hdf5', 'r')\n",
    "\n",
    "# for key in f:\n",
    "#     print(f'### {key}: {f[key]}')\n",
    "\n",
    "# print(f['50002_chicken_wings'][:, :, 0].shape)\n",
    "\n",
    "scene.geometry.clear()\n",
    "\n",
    "mesh = trimesh.Trimesh(vertices=f['50002_chicken_wings'][:, :, 90], faces=f['faces'])\n",
    "\n",
    "scene.add_geometry(mesh)\n",
    "\n",
    "scene.show()"
   ]
  },
  {
   "cell_type": "code",
   "execution_count": null,
   "metadata": {
    "metadata": {}
   },
   "outputs": [],
   "source": [
    "import os\n",
    "import json\n",
    "import numpy as np\n",
    "from tqdm import tqdm\n",
    "\n",
    "faust_base = '/home/s94zalek/transmatching/evaluation/datasets/faust_s2t/data'\n",
    "# faust_original = '/home/s94zalek/transmatching/evaluation/datasets/faust_original'\n",
    "faust_original = '/home/s94zalek/shape_matching/data/FAUST_original/off'\n",
    "faust_original_corres = '/home/s94zalek/shape_matching/data/FAUST_original/corres'\n",
    "os.makedirs(faust_original, exist_ok=True)\n",
    "os.makedirs(faust_original_corres, exist_ok=True)\n",
    "\n",
    "faust_dict = {}\n",
    "\n",
    "n_verts = 6890\n",
    "n_faces = 13776\n",
    "\n",
    "for folder in tqdm(os.listdir(faust_base), desc='Loading FAUST'):\n",
    "    with open(f'{faust_base}/{folder}/meta.json', 'r') as f:\n",
    "        meta = json.load(f)\n",
    "    \n",
    "    mesh_b = trimesh.load_mesh(f'{faust_base}/{folder}/B.off', process=False)\n",
    "    assert mesh_b.vertices.shape[0] == n_verts\n",
    "    assert mesh_b.faces.shape[0] == n_faces\n",
    "    \n",
    "    faust_dict[meta['id']['B']] = mesh_b\n",
    "    \n",
    "\n",
    "corres = np.array([i for i in range(n_verts)]) + 1\n",
    "for mesh_name in tqdm(sorted(faust_dict.keys()), desc='Saving FAUST original'):\n",
    "    # save mesh to faust_original\n",
    "    mesh = faust_dict[mesh_name]\n",
    "    mesh.export(f'{faust_original}/{mesh_name[:-4]}.off')\n",
    "    \n",
    "    \n",
    "    with open(f'{faust_original_corres}/{mesh_name[:-4]}.vts', 'w') as f:\n",
    "        np.savetxt(f, corres, fmt='%d', delimiter='\\n')"
   ]
  },
  {
   "cell_type": "code",
   "execution_count": null,
   "metadata": {
    "metadata": {}
   },
   "outputs": [],
   "source": [
    "shrec_base = '/home/s94zalek/transmatching/evaluation/datasets/shrec19/SHREC19_matching_humans/mat'\n",
    "shrec_original_off = '/home/s94zalek/shape_matching/data/SHREC19_original/off'\n",
    "shrec_original_corres = '/home/s94zalek/shape_matching/data/SHREC19_original/corres'\n",
    "\n",
    "os.makedirs(shrec_original_off, exist_ok=True)\n",
    "os.makedirs(shrec_original_corres, exist_ok=True)\n",
    "\n",
    "\n",
    "for file in tqdm(os.listdir(shrec_base), desc='Loading SHREC19'):\n",
    "    mat = scipy.io.loadmat(f'{shrec_base}/{file}')\n",
    "    \n",
    "    # shape_df = mat['Shape_df']\n",
    "    name = mat['name']\n",
    "    smpl_matches = mat['smpl_matches']\n",
    "    \n",
    "    vert = mat['Shape_df'][0][0][0]\n",
    "    triv = mat['Shape_df'][0][0][1]\n",
    "    \n",
    "    mesh = trimesh.Trimesh(vertices=vert, faces=triv, process=False)\n",
    "    \n",
    "    assert mesh.vertices.shape[0] == vert.shape[0]\n",
    "    assert mesh.faces.shape[0] == triv.shape[0]\n",
    "    \n",
    "    mesh.export(f'{shrec_original_off}/{file[:-4]}.off')\n",
    "    \n",
    "    with open(f'{shrec_original_corres}/{file[:-4]}.vts', 'w') as f:\n",
    "        np.savetxt(f, smpl_matches, fmt='%d', delimiter='\\n')\n",
    "    \n",
    "    \n",
    "    \n",
    "\n",
    "\n",
    "# mat_inside = scipy.io.loadmat('/home/s94zalek/transmatching/evaluation/datasets/shrec19/SHREC19_matching_humans/mat/1.mat')\n",
    "\n",
    "# print(mat_inside.keys())\n",
    "# print('Shape_df', 'name')\n",
    "# print(mat_inside['name'])\n",
    "\n",
    "# vert = mat_inside['Shape_df'][0][0][0]\n",
    "# triv = mat_inside['Shape_df'][0][0][1]\n",
    "# n_verts = mat_inside['Shape_df'][0][0][2]\n",
    "# n_faces = mat_inside['Shape_df'][0][0][3]\n",
    "\n",
    "# # print(mat_inside['Shape_df'][0][0][0])\n",
    "\n",
    "# print('vert', vert.shape)\n",
    "# print('triv', triv.shape)\n",
    "# print('n_verts', n_verts)\n",
    "# print('n_faces', n_faces)\n",
    "# print(mat_inside['smpl_matches'].shape, mat_inside['smpl_matches'].min(), mat_inside['smpl_matches'].max())"
   ]
  },
  {
   "cell_type": "code",
   "execution_count": 10,
   "metadata": {
    "metadata": {}
   },
   "outputs": [
    {
     "name": "stdout",
     "output_type": "stream",
     "text": [
      "poses.shape (6990, 72) betas.shape (6990, 10)\n"
     ]
    }
   ],
   "source": [
    "# read /home/s94zalek/shape_matching/data/SURREAL_full/full_datasets/dataset_158_158_316_0_32_93/test/second/poses.npy\n",
    "import numpy as np\n",
    "\n",
    "poses = np.load('/home/s94zalek/shape_matching/data/SURREAL_full/full_datasets/dataset_158_158_316_0_32_93/test/second/poses.npy')\n",
    "betas = np.load('/home/s94zalek/shape_matching/data/SURREAL_full/full_datasets/dataset_158_158_316_0_32_93/test/second/betas.npy')\n",
    "\n",
    "verts = np.load('/home/s94zalek/shape_matching/data/SURREAL_full/full_datasets/dataset_158_158_316_0_32_93/test/second/verts.npy')\n",
    "faces = np.load('/home/s94zalek/shape_matching/data/SURREAL_full/full_datasets/dataset_158_158_316_0_32_93/test/second/faces.npy')\n",
    "\n",
    "print('poses.shape', poses.shape, 'betas.shape', betas.shape)"
   ]
  },
  {
   "cell_type": "code",
   "execution_count": 12,
   "metadata": {
    "metadata": {}
   },
   "outputs": [
    {
     "data": {
      "text/plain": [
       "array([ 0.27407107,  0.04282999, -0.11409264], dtype=float32)"
      ]
     },
     "execution_count": 12,
     "metadata": {},
     "output_type": "execute_result"
    }
   ],
   "source": [
    "pose_0[15]"
   ]
  },
  {
   "cell_type": "code",
   "execution_count": 23,
   "metadata": {
    "metadata": {}
   },
   "outputs": [],
   "source": [
    "import sys\n",
    "sys.path.append('/home/s94zalek/shape_matching/my_code/datasets/')\n",
    "\n",
    "from smpl_webuser.serialization import load_model\n",
    "\n",
    "\n",
    "m_male = load_model(\"/home/s94zalek/shape_matching/data/SURREAL_full/smpl/models/basicmodel_m_lbs_10_207_0_v1.0.0.pkl\")"
   ]
  },
  {
   "cell_type": "code",
   "execution_count": 38,
   "metadata": {
    "metadata": {}
   },
   "outputs": [],
   "source": [
    "\n",
    "## Assign gaussian pose\n",
    "m_male.pose[:] = poses[0]\n",
    "m_male.betas[:] = betas[0]\n",
    "# m.pose[0:3]=0\n",
    "    \n",
    "point_set = m_male.r.astype(np.float32)\n",
    "joints = m_male.J_transformed.r.astype(np.float32)\n",
    "\n",
    "#normalize\n",
    "centroid = np.expand_dims(np.mean(point_set[:,0:3], axis = 0), 0) #Useless because dataset has been normalised already\n",
    "point_set[:,0:3] = point_set[:,0:3] - centroid\n",
    "joints[:,0:3] = joints[:,0:3] - centroid\n",
    "\n",
    "# print(dir(m_male))\n",
    "# print(m_male.J, m_male.J_transformed)\n",
    "\n",
    "# print(point_set.shape, point_set)"
   ]
  },
  {
   "cell_type": "code",
   "execution_count": null,
   "metadata": {
    "metadata": {}
   },
   "outputs": [],
   "source": [
    "# plot joints and point_set in 3D\n",
    "\n",
    "scene.geometry.clear()\n",
    "\n",
    "pcl_joints = trimesh.points.PointCloud(joints, colors=[255, 0, 0], size=100)\n",
    "pcl_verts = trimesh.points.PointCloud(point_set, colors=[0, 0, 255], size=100)\n",
    "\n",
    "scene.add_geometry(pcl_joints)\n",
    "scene.add_geometry(pcl_verts)\n",
    "\n",
    "scene.show()"
   ]
  },
  {
   "cell_type": "code",
   "execution_count": null,
   "metadata": {},
   "outputs": [],
   "source": [
    "pr"
   ]
  },
  {
   "cell_type": "code",
   "execution_count": null,
   "metadata": {
    "metadata": {}
   },
   "outputs": [],
   "source": [
    "\n",
    "\n",
    "# rearrange the coordinate axes\n",
    "# pose_0 = pose_0[:, [1, 2, 0]]\n",
    "\n",
    "# plot 3D points\n",
    "\n",
    "scene.geometry.clear()\n",
    "\n",
    "pcl = trimesh.PointCloud(vertices=verts[0][:24], colors=[0, 0, 255], size=100)\n",
    "mesh = trimesh.Trimesh(vertices=verts[0], faces=faces[0])\n",
    "\n",
    "# scene.add_geometry(mesh)\n",
    "scene.add_geometry(pcl)\n",
    "\n",
    "\n",
    "scene.show()"
   ]
  }
 ],
 "metadata": {
  "kernelspec": {
   "display_name": "Python 3 (ipykernel)",
   "language": "python",
   "name": "python3"
  }
 },
 "nbformat": 4,
 "nbformat_minor": 2
}
