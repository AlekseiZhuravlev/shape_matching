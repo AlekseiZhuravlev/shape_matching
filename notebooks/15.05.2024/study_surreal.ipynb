{
 "cells": [
  {
   "cell_type": "code",
   "execution_count": null,
   "metadata": {
    "metadata": {}
   },
   "outputs": [],
   "source": [
    "# read files /home/s94zalek/Diff-FMAPs-PyTorch/data/12k_shapes_train.npy\n",
    "import numpy as np\n",
    "\n",
    "# load data\n",
    "shapes_train = np.load('/home/s94zalek/Diff-FMAPs-PyTorch/data/12k_shapes_train.npy', allow_pickle=True)\n",
    "shapes_test = np.load('/home/s94zalek/Diff-FMAPs-PyTorch/data/12k_shapes_test.npy', allow_pickle=True)\n",
    "\n",
    "# read /home/s94zalek/Diff-FMAPs-PyTorch/data/12ktemplate.ply\n",
    "\n",
    "import trimesh\n",
    "template = trimesh.load('/home/s94zalek/Diff-FMAPs-PyTorch/data/12ktemplate.ply')\n",
    "\n",
    "# read /home/s94zalek/Diff-FMAPs-PyTorch/data/FAUST_noise_0.01.mat\n",
    "import scipy.io\n",
    "faust_noise = scipy.io.loadmat('/home/s94zalek/Diff-FMAPs-PyTorch/data/FAUST_noise_0.01.mat')"
   ]
  },
  {
   "cell_type": "markdown",
   "metadata": {},
   "source": [
    "# Template shape"
   ]
  },
  {
   "cell_type": "code",
   "execution_count": null,
   "metadata": {
    "metadata": {}
   },
   "outputs": [],
   "source": [
    "import torch\n",
    "import trimesh\n",
    "import numpy as np\n",
    "\n",
    "scene = trimesh.Scene()\n",
    "# scene.add_geometry(template)\n",
    "# scene.show()"
   ]
  },
  {
   "cell_type": "markdown",
   "metadata": {},
   "source": [
    "# Train dataset"
   ]
  },
  {
   "cell_type": "code",
   "execution_count": 39,
   "metadata": {
    "metadata": {}
   },
   "outputs": [
    {
     "name": "stderr",
     "output_type": "stream",
     "text": [
      "Generating male shapes: 100%|██████████████████████████████████████████████████████████████████████████████████████████| 16/16 [00:06<00:00,  2.35it/s]\n",
      "Generating female shapes: 100%|████████████████████████████████████████████████████████████████████████████████████████| 16/16 [00:06<00:00,  2.37it/s]\n"
     ]
    }
   ],
   "source": [
    "from datasets_code.surreal_full import SingleSurrealDataset\n",
    "\n",
    "n_body_types_male=16\n",
    "n_body_types_female=16\n",
    "n_poses_straight=32\n",
    "n_poses_bent=0\n",
    "num_evecs=32\n",
    "\n",
    "dataset = SingleSurrealDataset(\n",
    "    n_body_types_male=n_body_types_male,\n",
    "    n_body_types_female=n_body_types_female,\n",
    "    n_poses_straight=n_poses_straight,\n",
    "    n_poses_bent=n_poses_bent,\n",
    "    num_evecs=num_evecs\n",
    ")"
   ]
  },
  {
   "cell_type": "code",
   "execution_count": null,
   "metadata": {
    "metadata": {}
   },
   "outputs": [],
   "source": [
    "from tqdm import tqdm\n",
    "\n",
    "scene.geometry.clear()\n",
    "\n",
    "for i in tqdm(range(5)):\n",
    "    scene.add_geometry(trimesh.Trimesh(\n",
    "        vertices=dataset[i]['second']['verts'] + np.array([i, 0, 0]),\n",
    "        faces=dataset[i]['second']['faces']\n",
    "        ))\n",
    "    \n",
    "# add coordinate axis\n",
    "scene.add_geometry(trimesh.creation.axis(axis_length=0.5))\n",
    "scene.show()"
   ]
  },
  {
   "cell_type": "code",
   "execution_count": null,
   "metadata": {
    "metadata": {}
   },
   "outputs": [],
   "source": [
    "# plot the first shape as point cloud\n",
    "\n",
    "def points_to_spheres(points, radius=1):\n",
    "    \"\"\"\n",
    "    Convert points into spheres for notebook-friendly display\n",
    "    \"\"\"\n",
    "    return [\n",
    "        trimesh.primitives.Sphere(radius=radius, center=pt) for pt in points\n",
    "    ]\n",
    "    \n",
    "def plot_lb_evecs(scene, data, evec_idx, offset):\n",
    "    mesh = trimesh.Trimesh(vertices=data['verts'] + np.array([offset, 0, 0]), faces=data['faces'])\n",
    "    \n",
    "    # L, M = robust_laplacian.mesh_laplacian(data['verts'].numpy(), data['faces'].numpy())\n",
    "\n",
    "    # # Compute some eigenvectors\n",
    "    # n_eig = 50\n",
    "    # evals, evecs = sla.eigsh(L, n_eig, M, sigma=1e-8) \n",
    "    \n",
    "    evecs = data['evecs'] \n",
    "    \n",
    "    cmap = trimesh.visual.color.interpolate(evecs[:, evec_idx], 'bwr')\n",
    "    mesh.visual.vertex_colors = cmap\n",
    "    \n",
    "    scene.add_geometry(mesh)\n",
    "\n",
    "\n",
    "scene.geometry.clear()\n",
    "\n",
    "evec_idx = 20\n",
    "\n",
    "data_0 = dataset[25]\n",
    "data_1 = dataset[26]\n",
    "data_2 = dataset[27]\n",
    "\n",
    "plot_lb_evecs(scene,\n",
    "              data_0['first'],\n",
    "              evec_idx = evec_idx,\n",
    "              offset = 0)\n",
    "plot_lb_evecs(scene,\n",
    "              data_0['second'],\n",
    "              evec_idx = evec_idx,\n",
    "              offset = 1)\n",
    "plot_lb_evecs(scene,\n",
    "              data_1['second'],\n",
    "              evec_idx = evec_idx,\n",
    "              offset = 2)\n",
    "plot_lb_evecs(scene,\n",
    "                data_2['second'],\n",
    "                evec_idx = evec_idx,\n",
    "                offset = 3)\n",
    "scene.show()"
   ]
  },
  {
   "cell_type": "markdown",
   "metadata": {},
   "source": [
    "# Check for intrinsic correspondence"
   ]
  },
  {
   "cell_type": "code",
   "execution_count": null,
   "metadata": {},
   "outputs": [],
   "source": [
    "scene.geometry.clear()\n",
    "\n",
    "# cmap = trimesh.visual.color.interpolate(np.linspace(0, 1, len(data_y['verts'][0])), 'jet')\n",
    "\n",
    "data_x = shapes_train[10]\n",
    "data_y = shapes_train[107]\n",
    "\n",
    "# make a color map based on y coordinate\n",
    "cmap = trimesh.visual.color.interpolate(template.vertices[:, 1], 'jet')\n",
    "\n",
    "\n",
    "# add the first mesh\n",
    "mesh1 = trimesh.Trimesh(vertices=data_x, faces=template.faces)\n",
    "mesh1.visual.vertex_colors = cmap\n",
    "scene.add_geometry(mesh1)\n",
    "\n",
    "mesh2 = trimesh.Trimesh(vertices=data_y + np.array([1, 0, 0]), faces=template.faces)\n",
    "mesh2.visual.vertex_colors = cmap[:len(mesh2.vertices)]\n",
    "scene.add_geometry(mesh2)\n",
    "\n",
    "\n",
    "# display the scene\n",
    "scene.show('notebook')"
   ]
  },
  {
   "cell_type": "markdown",
   "metadata": {},
   "source": [
    "# Study functional maps"
   ]
  },
  {
   "cell_type": "code",
   "execution_count": null,
   "metadata": {
    "metadata": {}
   },
   "outputs": [],
   "source": [
    "import matplotlib.pyplot as plt\n",
    "import numpy as np\n",
    "\n",
    "def plot_Cxy(figure, axis, Cxy_plt, title, min_dim, max_dim):\n",
    "    \n",
    "    axis_plot = axis.imshow(Cxy_plt[min_dim:max_dim, min_dim:max_dim], cmap='bwr', vmin=-1, vmax=1)\n",
    "    figure.colorbar(axis_plot, ax=axis)\n",
    "    \n",
    "    axis.set_title(f'{title}: {min_dim}-{max_dim}')\n",
    "\n",
    "    axis.set_xticks(np.arange(-0.5, max_dim - min_dim, 1.0))\n",
    "    axis.set_yticks(np.arange(-0.5, max_dim - min_dim, 1.0))     \n",
    "    # axis.grid(which='both')\n",
    "    \n",
    "    axis.set_xticklabels([])\n",
    "    axis.set_yticklabels([])\n",
    "   \n",
    "\n",
    "fig, ax = plt.subplots(1, 3, figsize=(15, 5))\n",
    "plot_Cxy(fig, ax[0], data_0['C_gt_xy'], 'C_0', 0, 50)\n",
    "plot_Cxy(fig, ax[1], data_1['C_gt_xy'], 'C_1', 0, 50)\n",
    "plot_Cxy(fig, ax[2], data_2['C_gt_xy'], 'C_2', 0, 50)"
   ]
  },
  {
   "cell_type": "code",
   "execution_count": null,
   "metadata": {
    "metadata": {}
   },
   "outputs": [],
   "source": [
    "fig, ax = plt.subplots(1, 3, figsize=(15, 5))\n",
    "\n",
    "min_idx = 0\n",
    "max_idx = 200\n",
    "\n",
    "ax[0].plot(data_0['first']['evals'][min_idx:max_idx], '-', label='0', color='black')\n",
    "ax[0].plot(data_0['second']['evals'][min_idx:max_idx], '-', label='1', color='red')\n",
    "# ax[0].set_yscale('log')\n",
    "ax[0].set_title('Eigenvalues t - 0')\n",
    "ax[0].legend()\n",
    "\n",
    "ax[1].plot(data_0['first']['evals'][min_idx:max_idx], '-', label='0', color='black')\n",
    "ax[1].plot(data_1['second']['evals'][min_idx:max_idx], '-', label='2', color='green')\n",
    "# ax[1].set_yscale('log')\n",
    "ax[1].set_title('Eigenvalues t - 1')\n",
    "ax[1].legend()\n",
    "\n",
    "ax[2].plot(data_0['first']['evals'][min_idx:max_idx], '-', label='1', color='black')\n",
    "ax[2].plot(data_2['second']['evals'][min_idx:max_idx], '-', label='2', color='blue')\n",
    "# ax[2].set_yscale('log')\n",
    "ax[2].set_title('Eigenvalues t - 2')\n",
    "ax[2].legend()\n",
    "\n",
    "plt.show()"
   ]
  },
  {
   "cell_type": "code",
   "execution_count": null,
   "metadata": {
    "metadata": {}
   },
   "outputs": [],
   "source": [
    "\n",
    "fig, ax = plt.subplots(1, 3, figsize=(15, 5))\n",
    "\n",
    "ax[0].plot(\n",
    "    (data_0['second']['evals'][min_idx:max_idx] - data_0['first']['evals'][min_idx:max_idx])**2,\n",
    "    '-', label='0 - t', color='red', )\n",
    "ax[0].legend()\n",
    "\n",
    "ax[1].plot(\n",
    "    (data_1['second']['evals'][min_idx:max_idx] - data_0['first']['evals'][min_idx:max_idx])**2,\n",
    "    '-', label='1 - t', color='green')\n",
    "ax[1].legend()\n",
    "\n",
    "ax[2].plot(\n",
    "    (data_2['second']['evals'][min_idx:max_idx] - data_0['first']['evals'][min_idx:max_idx])**2,\n",
    "    '-', label='2 - t', color='blue')\n",
    "ax[2].legend()\n",
    "\n",
    "\n",
    "plt.show()"
   ]
  },
  {
   "cell_type": "code",
   "execution_count": null,
   "metadata": {
    "metadata": {}
   },
   "outputs": [],
   "source": [
    "from tqdm import tqdm\n",
    "\n",
    "eigenvalues = []\n",
    "fmaps = []\n",
    "\n",
    "for i in tqdm(range(len(dataset))):\n",
    "    data = dataset[i]\n",
    "    eigenvalues.append(data['second']['evals'])\n",
    "    \n",
    "    fmap = data['C_gt_xy']\n",
    "    fmaps.append(fmap)"
   ]
  },
  {
   "cell_type": "code",
   "execution_count": null,
   "metadata": {
    "metadata": {}
   },
   "outputs": [],
   "source": [
    "eigenvalues_np = np.stack(eigenvalues)\n",
    "fmaps_np = np.stack(fmaps)\n",
    "\n",
    "eigenvalues_np.shape, fmaps_np.shape"
   ]
  },
  {
   "cell_type": "code",
   "execution_count": null,
   "metadata": {
    "metadata": {}
   },
   "outputs": [],
   "source": [
    "from sklearn.decomposition import PCA\n",
    "from sklearn.manifold import TSNE\n",
    "from sklearn.preprocessing import StandardScaler\n",
    "\n",
    "pca = PCA(n_components=10)\n",
    "tsne = TSNE(n_components=2)\n",
    "scaler = StandardScaler()\n",
    "\n",
    "evals_scaled = scaler.fit_transform(eigenvalues_np[:, :])\n",
    "pca_evals = pca.fit_transform(evals_scaled)\n",
    "tsne_evals = tsne.fit_transform(pca_evals)\n"
   ]
  },
  {
   "cell_type": "code",
   "execution_count": null,
   "metadata": {
    "metadata": {}
   },
   "outputs": [],
   "source": [
    "import seaborn as sns\n",
    "import pandas as pd\n",
    "\n",
    "body_types = [i // 30 for i in range(len(dataset))]\n",
    "poses = [i % 30 for i in range(len(dataset))]\n",
    "\n",
    "criterion = body_types\n",
    "\n",
    "point_size = 5\n",
    "\n",
    "fig, ax = plt.subplots(1, 2, figsize=(15, 5))\n",
    "ax[0].scatter(tsne_evals[:, 0], tsne_evals[:, 1], c=criterion, cmap='tab20', s=point_size)\n",
    "ax[0].set_title('t-SNE')\n",
    "\n",
    "variance_ratio = pca.explained_variance_ratio_\n",
    "ax[1].plot(variance_ratio)\n",
    "ax[1].set_title('PCA explained variance ratio')\n",
    "\n",
    "\n",
    "pca_df = pd.DataFrame(pca_evals[:1000, :3])\n",
    "pca_df['criterion'] = criterion[:1000]\n",
    "\n",
    "sns.pairplot(pca_df,\n",
    "             diag_kind='kde', plot_kws={'s': point_size},\n",
    "             hue='criterion', palette='tab20')\n",
    "\n"
   ]
  },
  {
   "cell_type": "code",
   "execution_count": null,
   "metadata": {
    "metadata": {}
   },
   "outputs": [],
   "source": [
    "fmaps_scaled = scaler.fit_transform(np.abs(fmaps_np[:, :, :]).reshape(len(fmaps_np), -1))\n",
    "# fmaps_scaled = scaler.fit_transform(\n",
    "#     np.matmul(fmaps_np[:, :30, :30].transpose(0, 2, 1), fmaps_np[:, :30, :30]).reshape(len(fmaps_np), -1)\n",
    "#     )\n",
    "pca_fmaps = pca.fit_transform(fmaps_scaled)\n",
    "tsne_fmaps = tsne.fit_transform(pca_fmaps)"
   ]
  },
  {
   "cell_type": "code",
   "execution_count": null,
   "metadata": {
    "metadata": {}
   },
   "outputs": [],
   "source": [
    "import seaborn as sns\n",
    "import pandas as pd\n",
    "\n",
    "max_points = 300\n",
    "\n",
    "body_types = [i // 30 for i in range(len(dataset))]\n",
    "poses = [i % 30 for i in range(len(dataset))]\n",
    "gender = [i // (30*15) for i in range(len(dataset))]\n",
    "\n",
    "criterion = body_types[:max_points]\n",
    "\n",
    "point_size = 15\n",
    "\n",
    "fig, ax = plt.subplots(1, 2, figsize=(15, 5))\n",
    "ax[0].scatter(tsne_fmaps[:max_points, 0], tsne_fmaps[:max_points, 1],\n",
    "              c=body_types[:max_points], cmap='tab20', s=point_size)\n",
    "ax[0].set_title('t-SNE body_types')\n",
    "\n",
    "ax[1].scatter(tsne_fmaps[:max_points, 0], tsne_fmaps[:max_points, 1],\n",
    "              c=poses[:max_points], cmap='tab20', s=point_size)\n",
    "ax[1].set_title('t-SNE poses')\n",
    "\n",
    "pca_df = pd.DataFrame(pca_fmaps[:max_points, :4])\n",
    "pca_df['criterion'] = criterion[:max_points]\n",
    "\n",
    "sns.pairplot(pca_df,\n",
    "             diag_kind='kde', plot_kws={'s': point_size},\n",
    "             hue='criterion', palette='tab20')\n",
    "\n"
   ]
  },
  {
   "cell_type": "code",
   "execution_count": null,
   "metadata": {
    "metadata": {}
   },
   "outputs": [],
   "source": [
    "ev_file = np.loadtxt('/home/s94zalek/shape_matching/data/SURREAL_full/eigenvalues/train/eigenvalues.txt')\n",
    "fmap_file = np.loadtxt('/home/s94zalek/shape_matching/data/SURREAL_full/functional_maps/train/functional_maps.txt')\n",
    "ev_file.shape, fmap_file.shape"
   ]
  },
  {
   "cell_type": "code",
   "execution_count": null,
   "metadata": {},
   "outputs": [],
   "source": [
    "fmap_file[0].reshape(50, 50)"
   ]
  },
  {
   "cell_type": "code",
   "execution_count": null,
   "metadata": {
    "metadata": {}
   },
   "outputs": [],
   "source": [
    "np.abs(fmaps_np[0] - fmap_file[0].flatten().reshape(50, 50)).sum()"
   ]
  }
 ],
 "metadata": {
  "kernelspec": {
   "display_name": "Python 3 (ipykernel)",
   "language": "python",
   "name": "python3"
  },
  "language_info": {
   "codemirror_mode": {
    "name": "ipython",
    "version": 3
   },
   "file_extension": ".py",
   "mimetype": "text/x-python",
   "name": "python",
   "nbconvert_exporter": "python",
   "pygments_lexer": "ipython3",
   "version": "3.8.19"
  }
 },
 "nbformat": 4,
 "nbformat_minor": 2
}
