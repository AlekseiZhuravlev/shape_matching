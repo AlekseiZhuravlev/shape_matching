{
 "cells": [
  {
   "cell_type": "code",
   "execution_count": null,
   "metadata": {},
   "outputs": [],
   "source": [
    "# TODO\n",
    "\n",
    "# load the test dataset with evecs\n",
    "# think how to have shapes/poses not present in training set\n",
    "\n",
    "# put conditional generation in a separate notebook\n",
    "# put the functions to .py file\n",
    "\n",
    "# get the p2p map from fmap and calculate the geodesic error\n",
    "# evaluate 2 types of conditional diffusion"
   ]
  },
  {
   "cell_type": "code",
   "execution_count": 1,
   "metadata": {
    "metadata": {}
   },
   "outputs": [
    {
     "name": "stdout",
     "output_type": "stream",
     "text": [
      "Using device: cuda\n"
     ]
    }
   ],
   "source": [
    "import torch\n",
    "import torchvision\n",
    "from torch import nn\n",
    "from torch.nn import functional as F\n",
    "from torch.utils.data import DataLoader\n",
    "from diffusers import DDPMScheduler, UNet2DModel\n",
    "from matplotlib import pyplot as plt\n",
    "from tqdm.auto import tqdm\n",
    "import numpy as np\n",
    "\n",
    "device = 'cuda' if torch.cuda.is_available() else 'cpu'\n",
    "print(f'Using device: {device}')"
   ]
  },
  {
   "cell_type": "code",
   "execution_count": 2,
   "metadata": {
    "metadata": {}
   },
   "outputs": [
    {
     "name": "stdout",
     "output_type": "stream",
     "text": [
      "Fmap dim: 28\n",
      "Training dataset size: 56250 Validation dataset size: 6250\n"
     ]
    },
    {
     "data": {
      "text/plain": [
       "(torch.Size([1, 28, 28]), torch.Size([1, 28]))"
      ]
     },
     "execution_count": 2,
     "metadata": {},
     "output_type": "execute_result"
    }
   ],
   "source": [
    "import sys\n",
    "sys.path.append('/home/s94zalek/shape_matching')\n",
    "\n",
    "from my_code.datasets.surreal_cached_train_dataset import SurrealTrainDataset\n",
    "\n",
    "\n",
    "full_dataset = SurrealTrainDataset('/home/s94zalek/shape_matching/data/SURREAL_full/incomplete_datasets/125_125_250_0_28')\n",
    "\n",
    "# select 90% of the dataset for training and 10% for validation\n",
    "train_size = int(0.9 * len(full_dataset))\n",
    "val_size = len(full_dataset) - train_size\n",
    "\n",
    "print(f'Training dataset size: {train_size}', f'Validation dataset size: {val_size}')\n",
    "\n",
    "train_dataset, val_dataset = torch.utils.data.random_split(full_dataset, [train_size, val_size])\n",
    "\n",
    "train_dataloader = DataLoader(train_dataset, batch_size=128, shuffle=True)\n",
    "test_dataloader = DataLoader(val_dataset, batch_size=128, shuffle=True)\n",
    "\n",
    "train_dataset[0][0].shape, train_dataset[0][1].shape"
   ]
  },
  {
   "cell_type": "code",
   "execution_count": 3,
   "metadata": {
    "metadata": {}
   },
   "outputs": [],
   "source": [
    "class DiagConditionedUnet(nn.Module):\n",
    "  def __init__(self):\n",
    "    super().__init__()\n",
    "\n",
    "    # Self.model is an unconditional UNet with extra input channels to accept the conditioning information (the class embedding)\n",
    "    self.model = UNet2DModel(\n",
    "        sample_size=28,           # the target image resolution\n",
    "        in_channels=2, # Additional input channels for class cond.\n",
    "        out_channels=1,           # the number of output channels\n",
    "        layers_per_block=2,       # how many ResNet layers to use per UNet block\n",
    "        block_out_channels=(32, 64, 64),\n",
    "        down_block_types=(\n",
    "            \"DownBlock2D\",        # a regular ResNet downsampling block\n",
    "            \"AttnDownBlock2D\",    # a ResNet downsampling block with spatial self-attention\n",
    "            \"AttnDownBlock2D\",\n",
    "        ),\n",
    "        up_block_types=(\n",
    "            \"AttnUpBlock2D\",\n",
    "            \"AttnUpBlock2D\",      # a ResNet upsampling block with spatial self-attention\n",
    "            \"UpBlock2D\",          # a regular ResNet upsampling block\n",
    "          ),\n",
    "    )\n",
    "\n",
    "  # Our forward method now takes the class labels as an additional argument\n",
    "  def forward(self, sample, timestep, conditioning):\n",
    "\n",
    "    conditioning_diag = torch.diag_embed(conditioning) # (bs, 28, 28\n",
    "\n",
    "    # Net input is now x and class cond concatenated together along dimension 1\n",
    "    net_input = torch.cat((sample, conditioning_diag), 1) # (bs, 5, 28, 28)\n",
    "\n",
    "    # Feed this to the UNet alongside the timestep and return the prediction\n",
    "    return self.model(net_input, timestep) # (bs, 1, 28, 28)\n"
   ]
  },
  {
   "cell_type": "code",
   "execution_count": 4,
   "metadata": {
    "metadata": {}
   },
   "outputs": [
    {
     "data": {
      "application/vnd.jupyter.widget-view+json": {
       "model_id": "7deec06ea5504b92a76e68431ac25778",
       "version_major": 2,
       "version_minor": 0
      },
      "text/plain": [
       "  0%|          | 0/25 [00:00<?, ?it/s]"
      ]
     },
     "metadata": {},
     "output_type": "display_data"
    },
    {
     "data": {
      "image/png": "[encoded data removed]",
      "text/plain": [
       "<Figure size 640x480 with 1 Axes>"
      ]
     },
     "metadata": {},
     "output_type": "display_data"
    }
   ],
   "source": [
    "import my_code.diffusion_training.train_model as train_model\n",
    "\n",
    "model_diag_conditional = DiagConditionedUnet().to(device)\n",
    "\n",
    "noise_scheduler = DDPMScheduler(num_train_timesteps=1000, beta_schedule='squaredcos_cap_v2',\n",
    "                                clip_sample=True)\n",
    "\n",
    "\n",
    "model_diag_conditional, losses_diag_cond = train_model.train(\n",
    "    model=model_diag_conditional, n_epochs=25, loss_fn=nn.MSELoss(), is_unconditional=False,\n",
    "    train_dataloader=train_dataloader, noise_scheduler=noise_scheduler\n",
    "    )\n",
    "\n",
    "plt.plot(losses_diag_cond)\n",
    "plt.yscale('log')\n",
    "\n",
    "plt.show()\n",
    "  "
   ]
  },
  {
   "cell_type": "code",
   "execution_count": 5,
   "metadata": {
    "metadata": {}
   },
   "outputs": [
    {
     "ename": "TypeError",
     "evalue": "'module' object is not callable",
     "output_type": "error",
     "traceback": [
      "\u001b[0;31m---------------------------------------------------------------------------\u001b[0m",
      "\u001b[0;31mTypeError\u001b[0m                                 Traceback (most recent call last)",
      "Input \u001b[0;32mIn [5]\u001b[0m, in \u001b[0;36m<cell line: 31>\u001b[0;34m()\u001b[0m\n\u001b[1;32m     27\u001b[0m     \u001b[38;5;28;01mreturn\u001b[39;00m \u001b[38;5;28mself\u001b[39m\u001b[38;5;241m.\u001b[39mmodel(sample, timestep, encoder_hidden_states\u001b[38;5;241m=\u001b[39mconditioning)\n\u001b[1;32m     29\u001b[0m model_encoder_conditional \u001b[38;5;241m=\u001b[39m EncoderConditionedUnet()\u001b[38;5;241m.\u001b[39mto(device)\n\u001b[0;32m---> 31\u001b[0m model_encoder_conditional, losses_encoder_cond \u001b[38;5;241m=\u001b[39m \u001b[43mtrain_model\u001b[49m\u001b[43m(\u001b[49m\n\u001b[1;32m     32\u001b[0m \u001b[43m    \u001b[49m\u001b[43mmodel\u001b[49m\u001b[38;5;241;43m=\u001b[39;49m\u001b[43mmodel_encoder_conditional\u001b[49m\u001b[43m,\u001b[49m\u001b[43m \u001b[49m\u001b[43mn_epochs\u001b[49m\u001b[38;5;241;43m=\u001b[39;49m\u001b[38;5;241;43m25\u001b[39;49m\u001b[43m,\u001b[49m\u001b[43m \u001b[49m\u001b[43mloss_fn\u001b[49m\u001b[38;5;241;43m=\u001b[39;49m\u001b[43mnn\u001b[49m\u001b[38;5;241;43m.\u001b[39;49m\u001b[43mMSELoss\u001b[49m\u001b[43m(\u001b[49m\u001b[43m)\u001b[49m\u001b[43m,\u001b[49m\u001b[43m \u001b[49m\u001b[43mis_unconditional\u001b[49m\u001b[38;5;241;43m=\u001b[39;49m\u001b[38;5;28;43;01mFalse\u001b[39;49;00m\n\u001b[1;32m     33\u001b[0m \u001b[43m    \u001b[49m\u001b[43m)\u001b[49m\n\u001b[1;32m     35\u001b[0m plt\u001b[38;5;241m.\u001b[39mplot(losses_encoder_cond)\n\u001b[1;32m     36\u001b[0m plt\u001b[38;5;241m.\u001b[39myscale(\u001b[38;5;124m'\u001b[39m\u001b[38;5;124mlog\u001b[39m\u001b[38;5;124m'\u001b[39m)\n",
      "\u001b[0;31mTypeError\u001b[0m: 'module' object is not callable"
     ]
    }
   ],
   "source": [
    "from diffusers import UNet2DConditionModel\n",
    "\n",
    "class EncoderConditionedUnet(nn.Module):\n",
    "  def __init__(self):\n",
    "    super().__init__()\n",
    "\n",
    "    self.model = UNet2DConditionModel(\n",
    "            sample_size=28,           # the target image resolution\n",
    "            in_channels=1, # Additional input channels for class cond.\n",
    "            out_channels=1,           # the number of output channels\n",
    "            layers_per_block=2,       # how many ResNet layers to use per UNet block\n",
    "            block_out_channels=(32, 64, 64),\n",
    "            down_block_types=(\n",
    "                \"DownBlock2D\",        # a regular ResNet downsampling block\n",
    "                \"AttnDownBlock2D\",    # a ResNet downsampling block with spatial self-attention\n",
    "                \"AttnDownBlock2D\",\n",
    "            ),\n",
    "            up_block_types=(\n",
    "                \"AttnUpBlock2D\",\n",
    "                \"AttnUpBlock2D\",      # a ResNet upsampling block with spatial self-attention\n",
    "                \"UpBlock2D\",          # a regular ResNet upsampling block\n",
    "              ),\n",
    "            encoder_hid_dim=28,\n",
    "        ).to(device)\n",
    "    \n",
    "  def forward(self, sample, timestep, conditioning):\n",
    "    return self.model(sample, timestep, encoder_hidden_states=conditioning)\n",
    "\n",
    "model_encoder_conditional = EncoderConditionedUnet().to(device)\n",
    "\n",
    "model_encoder_conditional, losses_encoder_cond = train_model(\n",
    "    model=model_encoder_conditional, n_epochs=25, loss_fn=nn.MSELoss(), is_unconditional=False\n",
    "    )\n",
    "\n",
    "plt.plot(losses_encoder_cond)\n",
    "plt.yscale('log')\n",
    "\n",
    "plt.show()"
   ]
  },
  {
   "cell_type": "code",
   "execution_count": null,
   "metadata": {},
   "outputs": [],
   "source": []
  }
 ],
 "metadata": {
  "kernelspec": {
   "display_name": "Python 3 (ipykernel)",
   "language": "python",
   "name": "python3"
  }
 },
 "nbformat": 4,
 "nbformat_minor": 2
}
