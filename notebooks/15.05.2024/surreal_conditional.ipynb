{
 "cells": [
  {
   "cell_type": "code",
   "execution_count": null,
   "metadata": {},
   "outputs": [],
   "source": [
    "# TODO\n",
    "\n",
    "# load the test dataset with evecs\n",
    "# think how to have shapes/poses not present in training set\n",
    "\n",
    "# put conditional generation in a separate notebook\n",
    "# put the functions to .py file\n",
    "\n",
    "# get the p2p map from fmap and calculate the geodesic error\n",
    "# evaluate 2 types of conditional diffusion"
   ]
  }
 ],
 "metadata": {
  "language_info": {
   "name": "python"
  }
 },
 "nbformat": 4,
 "nbformat_minor": 2
}
