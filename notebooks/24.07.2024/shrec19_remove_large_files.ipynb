{
 "cells": [
  {
   "cell_type": "code",
   "execution_count": 6,
   "metadata": {},
   "outputs": [
    {
     "name": "stdout",
     "output_type": "stream",
     "text": [
      "1.off - 0.33 MB\n",
      "2.off - 1.09 MB\n",
      "3.off - 4.55 MB\n",
      "4.off - 1.16 MB\n",
      "5.off - 4.56 MB\n",
      "6.off - 4.55 MB\n",
      "7.off - 1.14 MB\n",
      "8.off - 4.56 MB\n",
      "9.off - 1.10 MB\n",
      "10.off - 4.55 MB\n",
      "11.off - 3.25 MB\n",
      "12.off - 3.25 MB\n",
      "13.off - 3.25 MB\n",
      "14.off - 1.09 MB\n",
      "15.off - 1.02 MB\n",
      "16.off - 0.45 MB\n",
      "17.off - 0.45 MB\n",
      "18.off - 0.35 MB\n",
      "19.off - 0.35 MB\n",
      "20.off - 1.93 MB\n",
      "21.off - 2.02 MB\n",
      "22.off - 0.90 MB\n",
      "23.off - 0.90 MB\n",
      "24.off - 0.90 MB\n",
      "25.off - 3.94 MB\n",
      "26.off - 0.71 MB\n",
      "28.off - 3.95 MB\n",
      "29.off - 0.90 MB\n",
      "30.off - 3.43 MB\n",
      "31.off - 3.94 MB\n",
      "32.off - 3.95 MB\n",
      "33.off - 0.90 MB\n",
      "34.off - 0.90 MB\n",
      "35.off - 0.90 MB\n",
      "36.off - 0.90 MB\n",
      "37.off - 0.90 MB\n",
      "38.off - 0.90 MB\n",
      "39.off - 0.90 MB\n",
      "41.off - 0.48 MB\n",
      "44.off - 0.48 MB\n"
     ]
    }
   ],
   "source": [
    "import os\n",
    "\n",
    "base_folder = '/home/s94zalek_hpc/shape_matching/data_with_smpl_corr/SHREC19_original/off'\n",
    "\n",
    "# for each file in base_folder, print its size\n",
    "for root, dirs, files in os.walk(base_folder):\n",
    "    \n",
    "    # sort files according to number in filename\n",
    "    files = sorted(files, key=lambda x: int(x.split('.')[0]))\n",
    "    \n",
    "    for file in files:\n",
    "        file_path = os.path.join(root, file)\n",
    "        file_size = os.path.getsize(file_path) / 1024 / 1024\n",
    "        \n",
    "        # if file_size > \n",
    "        print(f'{file} - {file_size:.2f} MB')"
   ]
  }
 ],
 "metadata": {
  "kernelspec": {
   "display_name": "Python 3 (ipykernel)",
   "language": "python",
   "name": "python3"
  },
  "language_info": {
   "codemirror_mode": {
    "name": "ipython",
    "version": 3
   },
   "file_extension": ".py",
   "mimetype": "text/x-python",
   "name": "python",
   "nbconvert_exporter": "python",
   "pygments_lexer": "ipython3",
   "version": "3.8.19"
  }
 },
 "nbformat": 4,
 "nbformat_minor": 2
}
