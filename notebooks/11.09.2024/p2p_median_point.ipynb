{
 "cells": [
  {
   "cell_type": "code",
   "execution_count": 29,
   "metadata": {},
   "outputs": [],
   "source": [
    "from utils.shape_util import read_shape, compute_geodesic_distmat, write_off\n",
    "import torch\n",
    "import trimesh\n",
    "\n",
    "mesh = trimesh.load('/home/s94zalek_hpc/shape_matching/data/FAUST_r/off/tr_reg_008.off')\n",
    "\n",
    "dist_x = torch.tensor(\n",
    "                compute_geodesic_distmat(mesh.vertices, mesh.faces)    \n",
    "            )"
   ]
  },
  {
   "cell_type": "code",
   "execution_count": 20,
   "metadata": {},
   "outputs": [],
   "source": [
    "probalities.sum()"
   ]
  },
  {
   "cell_type": "code",
   "execution_count": 30,
   "metadata": {},
   "outputs": [],
   "source": [
    "# randomly sample 20 vertices, normally distributed, with mean = index 200\n",
    "\n",
    "import numpy as np\n",
    "import torch\n",
    "\n",
    "# sample 20 vertices\n",
    "num_samples = 50\n",
    "\n",
    "probalities = (1 / (100*dist_x[200] + 1e-3)) / (1 / (100*dist_x[200] + 1e-3)).sum()\n",
    "# normally distributed, mean = \n",
    "\n",
    "vertex_indices = np.random.choice(mesh.vertices.shape[0], num_samples, replace=False,\n",
    "                                  p=probalities.numpy())"
   ]
  },
  {
   "cell_type": "code",
   "execution_count": null,
   "metadata": {},
   "outputs": [],
   "source": [
    "mesh.visual.vertex_colors = [255, 255, 255, 255] #* mesh.vertices.shape[0]\n",
    "mesh.visual.vertex_colors[vertex_indices] = [255, 0, 0, 255]\n",
    "\n",
    "mesh.visual.vertex_colors[200] = [255, 255, 0, 255]\n",
    "\n",
    "mesh.show()"
   ]
  },
  {
   "cell_type": "code",
   "execution_count": 32,
   "metadata": {},
   "outputs": [],
   "source": [
    "geo_dists_points = dist_x[vertex_indices][:, vertex_indices]\n",
    "# [300, 300]\n",
    "\n",
    "# dists_sorted, idx_sorted = geo_dists_points.sum(axis=1).sort(descending=False)\n",
    "\n",
    "# remove 10% of the points with the highest sum of geodesic distances\n",
    "# idx_no_outliers = idx_sorted[:int(0.9 * num_samples)]\n",
    "\n",
    "# recalculate the geodesic distances\n",
    "# geo_dists_points_no_outliers = dist_x[idx_no_outliers][:, idx_no_outliers]\n",
    "\n",
    "# find index of minimum geo_dists_points.sum(axis=1)\n",
    "idx_median = vertex_indices[\n",
    "    torch.argmin(geo_dists_points.sum(axis=1))\n",
    "]\n",
    "idx_median\n",
    "\n",
    "# print(geo_dists_points.shape)\n",
    "# print(torch.argmin(geo_dists_points.sum(axis=1)))\n",
    "\n",
    "# idx_median = vertex_indices[idx_no_outliers[\n",
    "#     torch.argmin(geo_dists_points_no_outliers.sum(axis=1))\n",
    "# ]]"
   ]
  },
  {
   "cell_type": "code",
   "execution_count": null,
   "metadata": {},
   "outputs": [],
   "source": [
    "# mesh.visual.vertex_colors = [255, 255, 255, 255] #* mesh.vertices.shape[0]\n",
    "# mesh.visual.vertex_colors[vertex_indices] = [255, 0, 0, 255]\n",
    "\n",
    "# mesh.visual.vertex_colors[200] = [255, 255, 0, 255]\n",
    "mesh.visual.vertex_colors[idx_median] = [0, 0, 0, 0]\n",
    "\n",
    "\n",
    "mesh.show()"
   ]
  },
  {
   "cell_type": "code",
   "execution_count": 36,
   "metadata": {},
   "outputs": [],
   "source": [
    "vertex_indices.shape"
   ]
  },
  {
   "cell_type": "code",
   "execution_count": 40,
   "metadata": {},
   "outputs": [],
   "source": [
    "dist_x[vertex_indices][:, vertex_indices].shape"
   ]
  },
  {
   "cell_type": "code",
   "execution_count": 47,
   "metadata": {},
   "outputs": [],
   "source": [
    "dists_to_median = dist_x[vertex_indices][:, vertex_indices][torch.argmin(geo_dists_points.sum(axis=1))]"
   ]
  },
  {
   "cell_type": "code",
   "execution_count": 49,
   "metadata": {},
   "outputs": [],
   "source": [
    "# calculate the standard deviation of the distances to the median, mean is 0\n",
    "torch.sqrt(\n",
    "    torch.sum(\n",
    "        dists_to_median.square()\n",
    "        ) / num_samples\n",
    "    )"
   ]
  },
  {
   "cell_type": "code",
   "execution_count": 50,
   "metadata": {},
   "outputs": [],
   "source": [
    "torch.sqrt(\n",
    "    torch.mean(\n",
    "        dists_to_median.square()\n",
    "        )\n",
    "    )"
   ]
  }
 ],
 "metadata": {
  "kernelspec": {
   "display_name": "Python 3 (ipykernel)",
   "language": "python",
   "name": "python3"
  }
 },
 "nbformat": 4,
 "nbformat_minor": 2
}
