{
 "cells": [
  {
   "cell_type": "code",
   "execution_count": 19,
   "metadata": {},
   "outputs": [],
   "source": [
    "import yaml \n",
    "\n",
    "with open('/home/s94zalek_hpc/shape_matching/my_code/experiments/ddpm/pair_5_xy_distributed/config.yaml') as f:\n",
    "    full_config = yaml.load(f, Loader=yaml.FullLoader)"
   ]
  },
  {
   "cell_type": "code",
   "execution_count": 23,
   "metadata": {},
   "outputs": [],
   "source": [
    "# previous config\n",
    "# ddpm_config = {\n",
    "#     'model_params': {\n",
    "#         'sample_size': 32,\n",
    "#         'in_channels': 3,\n",
    "#         'out_channels': 1,\n",
    "#         'layers_per_block': 2,\n",
    "#         'block_out_channels': (32, 64, 64),\n",
    "#         'down_block_types': (\n",
    "#             \"DownBlock2D\",\n",
    "#             \"AttnDownBlock2D\",\n",
    "#             \"AttnDownBlock2D\",\n",
    "#         ),\n",
    "#         'up_block_types': (\n",
    "#             \"AttnUpBlock2D\",\n",
    "#             \"AttnUpBlock2D\",\n",
    "#             \"UpBlock2D\",\n",
    "#         ),\n",
    "#     },\n",
    "# } \n",
    " \n",
    "# ddpm_config = {\n",
    "#     'model_params': {\n",
    "#         'sample_size': 32,\n",
    "#         'in_channels': 3,\n",
    "#         'out_channels': 1,\n",
    "#         'layers_per_block': 2,\n",
    "#         'block_out_channels': (\n",
    "#             # 64, 64,\n",
    "#             128, 128,\n",
    "#             256, 256,\n",
    "#             # 512, 512\n",
    "#             ),\n",
    "#         'down_block_types': (\n",
    "#             # \"DownBlock2D\",\n",
    "#             # \"DownBlock2D\",\n",
    "#             \"DownBlock2D\",\n",
    "#             \"DownBlock2D\",\n",
    "#             \"AttnDownBlock2D\",\n",
    "#             \"DownBlock2D\",\n",
    "#         ),\n",
    "#         'up_block_types': (\n",
    "#             \"UpBlock2D\",\n",
    "#             \"AttnUpBlock2D\",\n",
    "#             \"UpBlock2D\",\n",
    "#             \"UpBlock2D\",\n",
    "#             # \"UpBlock2D\",\n",
    "#             # \"UpBlock2D\",\n",
    "#         ),\n",
    "#     }\n",
    "# }\n",
    "\n",
    "ddpm_config = {\n",
    "    'model_params': {\n",
    "        'sample_size': 32,\n",
    "        'in_channels': 3,\n",
    "        'out_channels': 1,\n",
    "        'layers_per_block': 2,\n",
    "        'block_out_channels': (64, 128, 128, 256),\n",
    "        'down_block_types': (\n",
    "            \"DownBlock2D\",\n",
    "            \"AttnDownBlock2D\",\n",
    "            \"AttnDownBlock2D\",\n",
    "            \"AttnDownBlock2D\",\n",
    "        ),\n",
    "        'up_block_types': (\n",
    "            \"AttnUpBlock2D\",\n",
    "            \"AttnUpBlock2D\",\n",
    "            \"AttnUpBlock2D\",\n",
    "            \"UpBlock2D\",\n",
    "        ),\n",
    "    },\n",
    "} "
   ]
  },
  {
   "cell_type": "code",
   "execution_count": 24,
   "metadata": {},
   "outputs": [],
   "source": [
    "from my_code.models.diag_conditional import DiagConditionedUnet\n",
    "\n",
    "model = DiagConditionedUnet(ddpm_config[\"model_params\"])"
   ]
  },
  {
   "cell_type": "code",
   "execution_count": null,
   "metadata": {},
   "outputs": [],
   "source": [
    "import numpy as np\n",
    "\n",
    "# get the number of trainable parameters\n",
    "model_parameters = filter(lambda p: p.requires_grad, model.parameters())\n",
    "params = sum([np.prod(p.size()) for p in model_parameters])\n",
    "print(params)\n"
   ]
  },
  {
   "cell_type": "markdown",
   "metadata": {},
   "source": [
    "old: 1,707,585\n",
    "\n",
    "full large: 113,670,913\n",
    "\n",
    "full 4 layers 128 - 256: 28,480,001\n",
    "\n",
    "32-64-64-128: 4,729,089\n",
    "\n",
    "64-64-128-128: 7,548,801"
   ]
  },
  {
   "cell_type": "markdown",
   "metadata": {},
   "source": [
    "# Compare with DiffusionNet"
   ]
  },
  {
   "cell_type": "code",
   "execution_count": 13,
   "metadata": {},
   "outputs": [],
   "source": [
    "import networks.diffusion_network as diffusion_network\n",
    "\n",
    "diff_net = diffusion_network.DiffusionNet(\n",
    "    **full_config['sign_net']['net_params']\n",
    "    )"
   ]
  },
  {
   "cell_type": "code",
   "execution_count": null,
   "metadata": {},
   "outputs": [],
   "source": [
    "# get the number of trainable parameters\n",
    "model_parameters = filter(lambda p: p.requires_grad, diff_net.parameters())\n",
    "params = sum([np.prod(p.size()) for p in model_parameters])\n",
    "print(params)"
   ]
  },
  {
   "cell_type": "code",
   "execution_count": 53,
   "metadata": {},
   "outputs": [],
   "source": [
    "from utils.shape_util import read_shape, compute_geodesic_distmat, write_off\n",
    "import torch\n",
    "import trimesh\n",
    "\n",
    "mesh = trimesh.load('/home/s94zalek_hpc/shape_matching/data/FAUST_r/off/tr_reg_008.off')\n",
    "\n",
    "dist_x = torch.tensor(\n",
    "                compute_geodesic_distmat(mesh.vertices, mesh.faces)    \n",
    "            )\n",
    "\n",
    "dist_x_cdist = torch.cdist(\n",
    "    torch.tensor(mesh.vertices), \n",
    "    torch.tensor(mesh.vertices))"
   ]
  },
  {
   "cell_type": "code",
   "execution_count": null,
   "metadata": {},
   "outputs": [],
   "source": [
    "(dist_x - dist_x_cdist).max()"
   ]
  },
  {
   "cell_type": "markdown",
   "metadata": {},
   "source": [
    "# UV coordinates"
   ]
  },
  {
   "cell_type": "code",
   "execution_count": 64,
   "metadata": {},
   "outputs": [],
   "source": [
    "import xatlas\n",
    "\n",
    "atlas = xatlas.Atlas()\n",
    "\n",
    "atlas.add_mesh(mesh.vertices, mesh.faces)\n",
    "\n",
    "# Optionally parametrize the generation with\n",
    "# `xatlas.ChartOptions` and `xatlas.PackOptions`.\n",
    "atlas.generate()\n",
    "\n",
    "vmapping1, indices1, uvs1 = atlas[0]"
   ]
  },
  {
   "cell_type": "code",
   "execution_count": null,
   "metadata": {},
   "outputs": [],
   "source": [
    "uvs1.shape"
   ]
  },
  {
   "cell_type": "code",
   "execution_count": null,
   "metadata": {},
   "outputs": [],
   "source": [
    "vmapping1, indices1, uvs1"
   ]
  },
  {
   "cell_type": "code",
   "execution_count": null,
   "metadata": {},
   "outputs": [],
   "source": [
    "# plot the uv mapping\n",
    "import matplotlib.pyplot as plt\n",
    "\n",
    "# plt.scatter(uvs1[:, 0], uvs1[:, 1])\n",
    "\n",
    "# only show vertices 0-100 from the original mesh\n",
    "\n",
    "\n",
    "plt.show()"
   ]
  },
  {
   "cell_type": "code",
   "execution_count": null,
   "metadata": {},
   "outputs": [],
   "source": [
    "atlas = xatlas.Atlas()\n",
    "\n",
    "atlas.add_mesh(mesh1.vertices, mesh1.faces)\n",
    "atlas.add_mesh(mesh2.vertices, mesh2.faces)\n",
    "\n",
    "# Optionally parametrize the generation with\n",
    "# `xatlas.ChartOptions` and `xatlas.PackOptions`.\n",
    "atlas.generate()\n",
    "\n",
    "vmapping1, indices1, uvs1 = atlas[0]"
   ]
  },
  {
   "cell_type": "code",
   "execution_count": 71,
   "metadata": {},
   "outputs": [],
   "source": [
    "# read /home/s94zalek_hpc/shape_matching/figures/texture.png\n",
    "\n",
    "import PIL\n",
    "\n",
    "\n",
    "texture = PIL.Image.open('/home/s94zalek_hpc/shape_matching/figures/texture.png')\n",
    "\n",
    "mesh_unwrapped = mesh.unwrap(texture)"
   ]
  },
  {
   "cell_type": "code",
   "execution_count": null,
   "metadata": {},
   "outputs": [],
   "source": [
    "mesh_unwrapped.show()"
   ]
  },
  {
   "cell_type": "code",
   "execution_count": 18,
   "metadata": {},
   "outputs": [],
   "source": [
    "import accelerate\n",
    "import yaml\n",
    "\n",
    "from my_code.models.diag_conditional import DiagConditionedUnet\n",
    "\n",
    "# read /home/s94zalek_hpc/shape_matching/my_code/experiments/ddpm/pair_5_xy_64_64_128_128/config.yaml\n",
    "with open('/home/s94zalek_hpc/shape_matching/my_code/experiments/ddpm/pair_5_xy_64_64_128_128/config.yaml') as f:\n",
    "    config = yaml.load(f, Loader=yaml.FullLoader)\n",
    "\n",
    "model = DiagConditionedUnet(config[\"model_params\"])\n",
    "\n",
    "exp_base_folder = '/home/s94zalek_hpc/shape_matching/my_code/experiments/ddpm/pair_5_xy_64_64_128_128'\n",
    "checkpoint_name = 'epoch_99'\n",
    "\n",
    "if \"accelerate\" in config and config[\"accelerate\"]:\n",
    "    accelerate.load_checkpoint_in_model(model, f\"{exp_base_folder}/checkpoints/{checkpoint_name}/model.safetensors\")"
   ]
  }
 ],
 "metadata": {
  "kernelspec": {
   "display_name": "Python 3 (ipykernel)",
   "language": "python",
   "name": "python3"
  },
  "language_info": {
   "codemirror_mode": {
    "name": "ipython",
    "version": 3
   },
   "file_extension": ".py",
   "mimetype": "text/x-python",
   "name": "python",
   "nbconvert_exporter": "python",
   "pygments_lexer": "ipython3",
   "version": "3.8.19"
  }
 },
 "nbformat": 4,
 "nbformat_minor": 2
}
