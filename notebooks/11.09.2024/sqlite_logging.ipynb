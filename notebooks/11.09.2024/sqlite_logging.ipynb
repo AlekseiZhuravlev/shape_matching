{
 "cells": [
  {
   "cell_type": "code",
   "execution_count": 5,
   "metadata": {},
   "outputs": [],
   "source": [
    "import sqlite3\n",
    "con = sqlite3.connect(\"/home/s94zalek_hpc/shape_matching/my_code/experiments/ddpm/log_p2p_median.db\")\n",
    "cur = con.cursor()\n"
   ]
  },
  {
   "cell_type": "code",
   "execution_count": 6,
   "metadata": {},
   "outputs": [],
   "source": [
    "cur.execute(\"CREATE TABLE ddpm(experiment_name, checkpoint_name, smoothing, dataset_name, split, p2p_median, zoomout_mean, zoomout_median, pred_mean, pred_median)\")"
   ]
  },
  {
   "cell_type": "code",
   "execution_count": 11,
   "metadata": {},
   "outputs": [],
   "source": [
    "con.close()"
   ]
  },
  {
   "cell_type": "code",
   "execution_count": 8,
   "metadata": {},
   "outputs": [],
   "source": [
    "import torch\n",
    "\n",
    "err_list = torch.tensor([1, 2, 3, 4, 5, 6, 7, 8, 9, 10], dtype=torch.float32)"
   ]
  },
  {
   "cell_type": "code",
   "execution_count": 9,
   "metadata": {},
   "outputs": [],
   "source": [
    "data = [\n",
    "    (\"test\", 'chkpt_99', 'no', 'FAUST_orig_pair', 'test',\n",
    "     10,\n",
    "     err_list.mean().item(), err_list.median().item(),\n",
    "     err_list.mean().item(), err_list.median().item()),\n",
    "]\n",
    "cur.executemany(\"INSERT INTO ddpm VALUES(?, ?, ?, ?, ?, ?, ?, ?, ?, ?)\", data)\n",
    "con.commit() "
   ]
  },
  {
   "cell_type": "code",
   "execution_count": 10,
   "metadata": {},
   "outputs": [],
   "source": [
    "cur.execute(\"SELECT * FROM ddpm\").fetchall()"
   ]
  },
  {
   "cell_type": "code",
   "execution_count": 6,
   "metadata": {},
   "outputs": [],
   "source": []
  },
  {
   "cell_type": "code",
   "execution_count": 14,
   "metadata": {},
   "outputs": [],
   "source": [
    "import pandas as pd\n",
    "import sqlite3\n",
    "\n",
    "with sqlite3.connect(\"/home/s94zalek_hpc/shape_matching/my_code/experiments/ddpm/log_p2p_median.db\") as con:\n",
    "    df = pd.read_sql_query(\"SELECT * FROM ddpm\", con)"
   ]
  },
  {
   "cell_type": "code",
   "execution_count": 15,
   "metadata": {},
   "outputs": [],
   "source": [
    "df.sort_values(['dataset_name', 'experiment_name'], ascending=True)"
   ]
  },
  {
   "cell_type": "code",
   "execution_count": 44,
   "metadata": {},
   "outputs": [],
   "source": [
    "# cur.executemany(\n",
    "#     \"SELECT * FROM ddpm WHERE experiment_name=? AND checkpoint_name=? AND smoothing=? AND dataset_name=? AND split=?\",\n",
    "#     [('pair_10_xy_distributed',\n",
    "#       'epoch_99',\n",
    "#       'no',\n",
    "#       'FAUST_a_pair',\n",
    "#       'test'\n",
    "#       )]).fetchone()\n",
    "\n",
    "if cur.execute(f\"SELECT * FROM ddpm WHERE experiment_name='pair_10_xy_distributed' AND checkpoint_name='epoch_99' AND dataset_name='FAUST_orig_pair' AND split='test' AND smoothing='no'\").fetchall():\n",
    "    cur.execute(f\"DELETE FROM ddpm WHERE experiment_name='pair_10_xy_distributed' AND checkpoint_name='epoch_99' AND dataset_name='FAUST_orig_pair' AND split='test' AND smoothing='no'\")\n",
    "        "
   ]
  },
  {
   "cell_type": "code",
   "execution_count": 62,
   "metadata": {},
   "outputs": [],
   "source": [
    "con.close()"
   ]
  }
 ],
 "metadata": {
  "kernelspec": {
   "display_name": "Python 3 (ipykernel)",
   "language": "python",
   "name": "python3"
  }
 },
 "nbformat": 4,
 "nbformat_minor": 2
}
