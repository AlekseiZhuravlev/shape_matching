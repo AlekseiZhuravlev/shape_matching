{
 "cells": [
  {
   "cell_type": "code",
   "execution_count": 3,
   "metadata": {},
   "outputs": [],
   "source": [
    "import trimesh\n",
    "\n",
    "scene = trimesh.Scene()"
   ]
  },
  {
   "cell_type": "code",
   "execution_count": 1,
   "metadata": {},
   "outputs": [
    {
     "name": "stdout",
     "output_type": "stream",
     "text": [
      "Jupyter environment detected. Enabling Open3D WebVisualizer.\n",
      "[Open3D INFO] WebRTC GUI backend enabled.\n",
      "[Open3D INFO] WebRTCWindowSystem: HTTP handshake server disabled.\n"
     ]
    }
   ],
   "source": [
    "import my_code.diffusion_training_sign_corr.data_loading as data_loading\n",
    "\n",
    "single_dataset, test_dataset = data_loading.get_val_dataset(\n",
    "    'SHREC19_r_pair', 'test', 200, preload=False, return_evecs=True\n",
    "    )"
   ]
  },
  {
   "cell_type": "code",
   "execution_count": null,
   "metadata": {},
   "outputs": [],
   "source": [
    "import torch\n",
    "\n",
    "data = test_dataset[289]\n",
    "\n",
    "scene.geometry.clear()\n",
    "\n",
    "mesh_first = trimesh.Trimesh(\n",
    "    vertices=data['first']['verts'],\n",
    "    faces=data['first']['faces']\n",
    "    )\n",
    "mesh_second = trimesh.Trimesh(\n",
    "    vertices=data['second']['verts'] + torch.tensor([1, 0, 0]), \n",
    "    faces=data['second']['faces']\n",
    "    )\n",
    "\n",
    "scene.add_geometry(mesh_first)\n",
    "scene.add_geometry(mesh_second)\n",
    "\n",
    "scene.show()"
   ]
  }
 ],
 "metadata": {
  "kernelspec": {
   "display_name": "Python 3 (ipykernel)",
   "language": "python",
   "name": "python3"
  },
  "language_info": {
   "codemirror_mode": {
    "name": "ipython",
    "version": 3
   },
   "file_extension": ".py",
   "mimetype": "text/x-python",
   "name": "python",
   "nbconvert_exporter": "python",
   "pygments_lexer": "ipython3",
   "version": "3.8.19"
  }
 },
 "nbformat": 4,
 "nbformat_minor": 2
}
