{
 "cells": [
  {
   "cell_type": "code",
   "execution_count": 5,
   "metadata": {},
   "outputs": [],
   "source": [
    "import trimesh\n",
    "scene = trimesh.Scene()"
   ]
  },
  {
   "cell_type": "code",
   "execution_count": 3,
   "metadata": {},
   "outputs": [],
   "source": [
    "import my_code.datasets.surreal_pair_dataset as surreal_pair_dataset\n",
    "\n",
    "import importlib\n",
    "importlib.reload(surreal_pair_dataset)\n",
    "\n",
    "import torch\n",
    "\n",
    "augmentations = {\n",
    "    'remesh': {\n",
    "        'n_remesh_iters': 10,\n",
    "        'simplify_strength_min': 0.2,\n",
    "        'simplify_strength_max': 0.8,\n",
    "        'remesh_targetlen': 1,\n",
    "    }\n",
    "}\n",
    "\n",
    "dataset_single = surreal_pair_dataset.SingleSurrealDataset(\n",
    "    shape_path='/lustre/mlnvme/data/s94zalek_hpc-shape_matching/mmap_datas_surreal_train.pth',\n",
    "    num_evecs=128,\n",
    "    use_cuda=False,\n",
    "    cache_lb_dir=None,\n",
    "    return_evecs=True,\n",
    "    mmap=True,\n",
    "    augmentations=augmentations\n",
    ")    \n",
    "\n",
    "dataset_pair = surreal_pair_dataset.PairSurrealDataset(\n",
    "    dataset_single,\n",
    ")"
   ]
  },
  {
   "cell_type": "code",
   "execution_count": 15,
   "metadata": {},
   "outputs": [],
   "source": [
    "data_10_11 = dataset_pair[20110, 124540]"
   ]
  },
  {
   "cell_type": "code",
   "execution_count": 16,
   "metadata": {},
   "outputs": [],
   "source": [
    "import utils.fmap_util as fmap_util\n",
    "\n",
    "p2p = fmap_util.fmap2pointmap(\n",
    "    data_10_11['second']['C_gt_xy'],\n",
    "    data_10_11['first']['evecs'],\n",
    "    data_10_11['second']['evecs'],\n",
    ")"
   ]
  },
  {
   "cell_type": "code",
   "execution_count": null,
   "metadata": {},
   "outputs": [],
   "source": [
    "import my_code.utils.plotting_utils as plotting_utils\n",
    "\n",
    "scene.geometry.clear()\n",
    "\n",
    "# p2p = data_10_11['second']['corr'][data_10_11['first']['corr']]\n",
    "\n",
    "plotting_utils.plot_p2p_map(\n",
    "    scene,\n",
    "    data_10_11['first']['verts'], data_10_11['first']['faces'],\n",
    "    data_10_11['second']['verts'], data_10_11['second']['faces'],\n",
    "    p2p,\n",
    "    )\n",
    "    \n",
    "scene.show()"
   ]
  },
  {
   "cell_type": "code",
   "execution_count": null,
   "metadata": {},
   "outputs": [],
   "source": [
    "import matplotlib.pyplot as plt\n",
    "\n",
    "l = 0\n",
    "h = 64\n",
    "\n",
    "fig, axs = plt.subplots(1, 1, figsize=(5, 5))\n",
    "\n",
    "plotting_utils.plot_Cxy(fig, axs, data_10_11['second']['C_gt_xy'], 'C_gt_xy',\n",
    "                        l, h, show_grid=False, show_colorbar=False)\n",
    "\n",
    "plt.show()"
   ]
  }
 ],
 "metadata": {
  "kernelspec": {
   "display_name": "Python 3 (ipykernel)",
   "language": "python",
   "name": "python3"
  }
 },
 "nbformat": 4,
 "nbformat_minor": 2
}
