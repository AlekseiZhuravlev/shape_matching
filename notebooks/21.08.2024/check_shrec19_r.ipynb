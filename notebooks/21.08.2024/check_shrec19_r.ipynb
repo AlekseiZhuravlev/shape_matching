{
 "cells": [
  {
   "cell_type": "code",
   "execution_count": null,
   "metadata": {},
   "outputs": [],
   "source": [
    "import trimesh\n",
    "import numpy as np\n",
    "\n",
    "scene = trimesh.Scene()"
   ]
  },
  {
   "cell_type": "code",
   "execution_count": null,
   "metadata": {},
   "outputs": [],
   "source": [
    "import torch\n",
    "import my_code.diffusion_training_sign_corr.data_loading as data_loading\n",
    "\n",
    "test_dataset = data_loading.get_val_dataset(\n",
    "    'SHREC19_r', 'test', 128, canonicalize_fmap=None, preload=False, return_evecs=True\n",
    "    )[0]     "
   ]
  },
  {
   "cell_type": "code",
   "execution_count": null,
   "metadata": {},
   "outputs": [],
   "source": [
    "scene.geometry.clear()\n",
    "\n",
    "for i, idx in enumerate(range(30, 43)):\n",
    "    data_idx = test_dataset[idx]\n",
    "    \n",
    "    mesh = trimesh.Trimesh(\n",
    "        vertices=data_idx['verts'] + torch.tensor([i, 0, 0]),\n",
    "        faces=data_idx['faces']\n",
    "        )\n",
    "    scene.add_geometry(mesh)\n",
    "    \n",
    "scene.show()"
   ]
  },
  {
   "cell_type": "code",
   "execution_count": null,
   "metadata": {},
   "outputs": [],
   "source": [
    "test_dataset.off_files"
   ]
  }
 ],
 "metadata": {
  "kernelspec": {
   "display_name": "Python 3 (ipykernel)",
   "language": "python",
   "name": "python3"
  }
 },
 "nbformat": 4,
 "nbformat_minor": 2
}
