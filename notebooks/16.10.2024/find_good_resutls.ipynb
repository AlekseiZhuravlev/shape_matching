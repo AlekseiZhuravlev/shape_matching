{
 "cells": [
  {
   "cell_type": "code",
   "execution_count": null,
   "metadata": {},
   "outputs": [],
   "source": [
    "# read the file /home/s94zalek_hpc/shape_matching/my_code/experiments/ddpm/partial_anisRemesh_shot_lambda_0.01_anisRemesh_holes_partial_0.8_xy/eval/epoch_95/SHREC16_holes_pair_noSingle-test/no_smoothing/log_no_smoothing.txt\n",
    "\n",
    "with open('/home/s94zalek_hpc/shape_matching/my_code/experiments/ddpm/partial_anisRemesh_shot_lambda_0.01_anisRemesh_holes_partial_0.8_xy/eval/epoch_95/SHREC16_holes_pair_noSingle-test/no_smoothing/log_no_smoothing.txt', 'r') as f:\n",
    "    lines = f.readlines()\n",
    "\n",
    "len(lines)"
   ]
  },
  {
   "cell_type": "code",
   "execution_count": null,
   "metadata": {},
   "outputs": [],
   "source": [
    "# find lines like 'Geo error median pairzo: 18.37' and get the number\n",
    "\n",
    "geo_error = []\n",
    "for line in lines:\n",
    "    if 'Geo error median pairzo' in line:\n",
    "        geo_error.append(float(line.split(':')[-1].strip()))\n",
    "        \n",
    "len(geo_error)"
   ]
  },
  {
   "cell_type": "code",
   "execution_count": null,
   "metadata": {},
   "outputs": [],
   "source": [
    "# find lines which start with e.g. '1:', like '2: david, holes_david_shape_11', get the name\n",
    "\n",
    "file_names = []\n",
    "\n",
    "for number in range(len(geo_error)):\n",
    "    for line in lines:\n",
    "        if str(number) + ':' in line:\n",
    "            file_names.append(line.split(',')[1].strip())\n",
    "            break\n",
    "        \n",
    "len(file_names)"
   ]
  },
  {
   "cell_type": "code",
   "execution_count": null,
   "metadata": {},
   "outputs": [],
   "source": [
    "import trimesh\n",
    "from tqdm import tqdm\n",
    "\n",
    "face_areas = []\n",
    "\n",
    "for mesh_file in tqdm(file_names):\n",
    "    \n",
    "    mesh = trimesh.load_mesh(\n",
    "        f'/home/s94zalek_hpc/shape_matching/data/SHREC16_test/holes/off/{mesh_file}.off',\n",
    "                             process=False, validate=True)\n",
    "    \n",
    "    # print(f'area_faces: {mesh.area_faces.sum()}')\n",
    "    \n",
    "    face_areas.append(mesh.area_faces.sum())\n",
    "    \n",
    "face_areas\n",
    "    "
   ]
  },
  {
   "cell_type": "code",
   "execution_count": null,
   "metadata": {},
   "outputs": [],
   "source": [
    "import numpy as np\n",
    "\n",
    "print(f'no zoomout: {np.mean(geo_error[:101])}')\n",
    "print(f'zoomout: {np.mean(geo_error[101:])}')"
   ]
  },
  {
   "cell_type": "code",
   "execution_count": null,
   "metadata": {},
   "outputs": [],
   "source": [
    "import matplotlib.pyplot as plt\n",
    "\n",
    "fig, ax = plt.subplots(1, 2, figsize=(10, 4))\n",
    "\n",
    "ax[0].scatter(face_areas, geo_error[:101])\n",
    "ax[0].set_yscale('log')\n",
    "ax[0].set_title('no zoomout')\n",
    "\n",
    "ax[1].scatter(face_areas, geo_error[101:])\n",
    "ax[1].set_yscale('log')\n",
    "ax[1].set_title('zoomout')\n",
    "plt.show()"
   ]
  },
  {
   "cell_type": "code",
   "execution_count": null,
   "metadata": {},
   "outputs": [],
   "source": [
    "# get indices where geo_error[101:] is < 10\n",
    "best_meshes = [i for i, error in enumerate(geo_error[101:]) if error < 20]\n",
    "best_meshes"
   ]
  },
  {
   "cell_type": "code",
   "execution_count": null,
   "metadata": {},
   "outputs": [],
   "source": [
    "[face_areas[i] for i in best_meshes]"
   ]
  },
  {
   "cell_type": "code",
   "execution_count": 42,
   "metadata": {},
   "outputs": [],
   "source": [
    "scene = trimesh.Scene()"
   ]
  },
  {
   "cell_type": "code",
   "execution_count": null,
   "metadata": {},
   "outputs": [],
   "source": [
    "scene.geometry.clear()\n",
    "\n",
    "for curr_idx, i in enumerate(best_meshes):\n",
    "    \n",
    "    mesh_file = file_names[i]\n",
    "    \n",
    "    mesh = trimesh.load_mesh(\n",
    "        f'/home/s94zalek_hpc/shape_matching/data/SHREC16_test/holes/off/{mesh_file}.off',\n",
    "                             process=False, validate=True)\n",
    "    \n",
    "    mesh.vertices += np.array([curr_idx, 0, 0])\n",
    "    \n",
    "    scene.add_geometry(mesh)\n",
    "    \n",
    "scene.show()\n",
    "    "
   ]
  },
  {
   "cell_type": "code",
   "execution_count": null,
   "metadata": {},
   "outputs": [],
   "source": [
    "worst_meshes = [i for i, error in enumerate(geo_error[101:]) if error > 20]\n",
    "len(worst_meshes)"
   ]
  },
  {
   "cell_type": "code",
   "execution_count": null,
   "metadata": {},
   "outputs": [],
   "source": [
    "scene.geometry.clear()\n",
    "\n",
    "for curr_idx, i in enumerate(worst_meshes):\n",
    "    \n",
    "    mesh_file = file_names[i]\n",
    "    \n",
    "    mesh = trimesh.load_mesh(\n",
    "        f'/home/s94zalek_hpc/shape_matching/data/SHREC16_test/holes/off/{mesh_file}.off',\n",
    "                             process=False, validate=True)\n",
    "    \n",
    "    mesh.vertices += np.array([curr_idx, 0, 0])\n",
    "    \n",
    "    scene.add_geometry(mesh)\n",
    "    \n",
    "scene.show()\n",
    "    "
   ]
  },
  {
   "cell_type": "code",
   "execution_count": 88,
   "metadata": {},
   "outputs": [],
   "source": [
    "base_dir = '/home/s94zalek_hpc/shape_matching/SLURM_logs'\n",
    "\n",
    "# remove all files from base_dir that start with 'cache_surreal'\n",
    "import os\n",
    "\n",
    "for file in os.listdir(base_dir):\n",
    "    if file.startswith('cache_surreal'):\n",
    "        # print(file)\n",
    "        os.remove(os.path.join(base_dir, file)) "
   ]
  }
 ],
 "metadata": {
  "kernelspec": {
   "display_name": "Python 3 (ipykernel)",
   "language": "python",
   "name": "python3"
  }
 },
 "nbformat": 4,
 "nbformat_minor": 2
}
