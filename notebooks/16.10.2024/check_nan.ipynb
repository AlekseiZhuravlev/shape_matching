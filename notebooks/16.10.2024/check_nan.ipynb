{
 "cells": [
  {
   "cell_type": "code",
   "execution_count": 64,
   "metadata": {},
   "outputs": [],
   "source": [
    "import os \n",
    "import torch\n",
    "\n",
    "base_dir = '/lustre/mlnvme/data/s94zalek_hpc-shape_matching/SURREAL/train/SURREAL_128_1-1-2-2ev_template_remeshed_augShapes/train'\n",
    "\n"
   ]
  },
  {
   "cell_type": "code",
   "execution_count": 65,
   "metadata": {},
   "outputs": [],
   "source": [
    "# for each .pt file in the directory, read it and check for nan values\n",
    "for file in os.listdir(base_dir):\n",
    "    if file.endswith('.pt'):\n",
    "        print(file)\n",
    "        data = torch.load(os.path.join(base_dir, file), mmap=True)\n",
    "        # print(data)\n",
    "        print(torch.isnan(data).any())\n",
    "        print(torch.isinf(data).any())\n",
    "        print(data.size())\n",
    "        \n",
    "        print(data.min(), data.max())\n",
    "        \n",
    "        print('\\n')"
   ]
  },
  {
   "cell_type": "code",
   "execution_count": 66,
   "metadata": {},
   "outputs": [],
   "source": [
    "# get C_gt_xy\n",
    "C_gt_xy = torch.load('/lustre/mlnvme/data/s94zalek_hpc-shape_matching/SURREAL/train/SURREAL_128_1-1-2-2ev_template_remeshed_augShapes/train/C_gt_xy.pt')"
   ]
  },
  {
   "cell_type": "code",
   "execution_count": 69,
   "metadata": {},
   "outputs": [],
   "source": [
    "# get the index of the minimum value in C_gt_xy, shape is [230000, 32, 32], without flattening\n",
    "idx_min = torch.argmin(C_gt_xy)\n",
    "\n",
    "# the unflattened version\n",
    "idx_min_unflattened = torch.unravel_index(idx_min, C_gt_xy.size())\n",
    "print(idx_min_unflattened, idx_min)"
   ]
  },
  {
   "cell_type": "code",
   "execution_count": 71,
   "metadata": {},
   "outputs": [],
   "source": [
    "import my_code.utils.plotting_utils as plotting_utils\n",
    "import matplotlib.pyplot as plt\n",
    "import torch\n",
    "\n",
    "l = 0\n",
    "h = 64\n",
    "\n",
    "fig, axs = plt.subplots(1, 2, figsize=(15, 4))\n",
    "\n",
    "plotting_utils.plot_Cxy(fig, axs[0],  C_gt_xy[idx_min_unflattened[0]],\n",
    "                        'before', l, h, show_grid=False, show_colorbar=False)\n",
    "plt.show()"
   ]
  },
  {
   "cell_type": "code",
   "execution_count": 77,
   "metadata": {},
   "outputs": [],
   "source": [
    "# get a sample optimizer\n",
    "optimizer = torch.optim.Adam([torch.tensor([1.0])], lr=1e-3)\n",
    "\n",
    "cosine_lr = torch.optim.lr_scheduler.CosineAnnealingLR(optimizer, T_max=1000, eta_min=0, last_epoch=-1)"
   ]
  },
  {
   "cell_type": "code",
   "execution_count": 91,
   "metadata": {},
   "outputs": [],
   "source": [
    "from diffusers.optimization import get_cosine_schedule_with_warmup\n",
    "\n",
    "cosine_lr = get_cosine_schedule_with_warmup(\n",
    "    optimizer=optimizer,\n",
    "    num_warmup_steps=100,\n",
    "    num_training_steps=1000,\n",
    ")"
   ]
  },
  {
   "cell_type": "code",
   "execution_count": 92,
   "metadata": {},
   "outputs": [],
   "source": [
    "# plot the learning rate\n",
    "import matplotlib.pyplot as plt\n",
    "\n",
    "lrs = []\n",
    "for epoch in range(1000):\n",
    "    cosine_lr.step()\n",
    "    lrs.append(optimizer.param_groups[0]['lr'])\n",
    "    \n",
    "plt.plot(lrs)\n",
    "plt.show()"
   ]
  },
  {
   "cell_type": "code",
   "execution_count": 93,
   "metadata": {},
   "outputs": [],
   "source": [
    "# get the size of this file in mega bytes: /home/s94zalek_hpc/shape_matching/data/SHREC19_r/diffusion/0f616c57e8c496fcdce20f60a6224bc6dc7256ac_0.npz\n",
    "\n",
    "import os\n",
    "\n",
    "file_path = '/home/s94zalek_hpc/shape_matching/data/SHREC19_r/diffusion/0f616c57e8c496fcdce20f60a6224bc6dc7256ac_0.npz'\n",
    "\n",
    "file_size = os.path.getsize(file_path) / (1024 * 1024)\n",
    "print(file_size)"
   ]
  }
 ],
 "metadata": {
  "kernelspec": {
   "display_name": "Python 3 (ipykernel)",
   "language": "python",
   "name": "python3"
  }
 },
 "nbformat": 4,
 "nbformat_minor": 2
}
