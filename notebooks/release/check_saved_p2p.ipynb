{
 "cells": [
  {
   "cell_type": "code",
   "execution_count": 210,
   "metadata": {},
   "outputs": [],
   "source": [
    "import trimesh\n",
    "\n",
    "scene = trimesh.Scene()"
   ]
  },
  {
   "cell_type": "code",
   "execution_count": 254,
   "metadata": {},
   "outputs": [],
   "source": [
    "import my_code.diffusion_training_sign_corr.data_loading as data_loading\n",
    "import yaml\n",
    "from tqdm import tqdm\n",
    "\n",
    "\n",
    "\n",
    "single_dataset, pair_dataset = data_loading.get_val_dataset(\n",
    "    'SCAPE_a_pair', 'test', 128, preload=False, return_evecs=True, centering='bbox'\n",
    ")"
   ]
  },
  {
   "cell_type": "code",
   "execution_count": null,
   "metadata": {},
   "outputs": [],
   "source": [
    "# read /lustre/mlnvme/data/s94zalek_hpc-shape_matching/ddpm_checkpoints/single_64_1-2ev_64-128-128_remeshed_fixed/eval/epoch_99/SHREC19_r_pair-test/no_smoothing/2024-11-03_21-44-05/pairwise_results.yaml\n",
    "\n",
    "with open('/lustre/mlnvme/data/s94zalek_hpc-shape_matching/ddpm_checkpoints/single_64_1-2ev_64-128-128_remeshed_fixed/eval/epoch_99/SHREC19_r_pair-test/no_smoothing/2024-11-03_21-44-05/pairwise_results.yaml', 'r') as f:\n",
    "    p2p_saved = yaml.load(f, Loader=yaml.FullLoader)\n",
    "    \n",
    "p2p_saved"
   ]
  },
  {
   "cell_type": "code",
   "execution_count": 255,
   "metadata": {},
   "outputs": [],
   "source": [
    "import torch\n",
    "\n",
    "indx = 1\n",
    "data_i = pair_dataset[indx]\n",
    "p2p_i = p2p_saved[indx]\n",
    "p2p_pairzo = torch.tensor(p2p_i['p2p_median_pairzo'])\n",
    "\n",
    "print(p2p_i['geo_err_median_pairzo'])"
   ]
  },
  {
   "cell_type": "code",
   "execution_count": 237,
   "metadata": {},
   "outputs": [],
   "source": [
    "mesh_1 = trimesh.Trimesh(data_i['first']['verts'], data_i['first']['faces'])\n",
    "mesh_2 = trimesh.Trimesh(data_i['second']['verts'], data_i['second']['faces'])\n",
    "\n",
    "print(mesh_1.area_faces.sum(), mesh_2.area_faces.sum())"
   ]
  },
  {
   "cell_type": "code",
   "execution_count": 261,
   "metadata": {},
   "outputs": [],
   "source": [
    "# read /home/s94zalek_hpc/baselines/Spatially-and-Spectrally-Consistent-Deep-Functional-Maps/data/results/SCAPE_a/p2p_21/0_1.txt\n",
    "import numpy as np\n",
    "\n",
    "p2p_pairzo = np.loadtxt('/home/s94zalek_hpc/baselines/Spatially-and-Spectrally-Consistent-Deep-Functional-Maps/data/results/SCAPE_a/p2p_21/0_1.txt')\n",
    "p2p_pairzo = torch.tensor(p2p_pairzo, dtype=torch.int32)"
   ]
  },
  {
   "cell_type": "code",
   "execution_count": 260,
   "metadata": {},
   "outputs": [],
   "source": [
    "p2p_pairzo"
   ]
  },
  {
   "cell_type": "code",
   "execution_count": null,
   "metadata": {},
   "outputs": [],
   "source": [
    "import my_code.utils.plotting_utils as plotting_utils\n",
    "\n",
    "scene.geometry.clear()\n",
    "\n",
    "plotting_utils.plot_p2p_map(\n",
    "    scene,\n",
    "    \n",
    "    \n",
    "    data_i['first']['verts'], data_i['first']['faces'],\n",
    "    data_i['second']['verts'], data_i['second']['faces'],\n",
    "    p2p_pairzo,\n",
    "    axes_color_gradient=[0, 1],\n",
    "    base_cmap='hsv'\n",
    ")\n",
    "\n",
    "scene.show()"
   ]
  },
  {
   "cell_type": "code",
   "execution_count": 264,
   "metadata": {},
   "outputs": [],
   "source": [
    "import itertools\n",
    "\n",
    "list(itertools.combinations(range(3), 2))"
   ]
  },
  {
   "cell_type": "code",
   "execution_count": 239,
   "metadata": {},
   "outputs": [],
   "source": [
    "import metrics.geodist_metric as geodist_metric\n",
    "from utils.shape_util import compute_geodesic_distmat\n",
    "\n",
    "dist_x = torch.tensor(\n",
    "    compute_geodesic_distmat(data_i['first']['verts'].numpy(), data_i['first']['faces'].numpy())    \n",
    ")"
   ]
  },
  {
   "cell_type": "code",
   "execution_count": 240,
   "metadata": {},
   "outputs": [],
   "source": [
    "corr_first = data_i['first']['corr']\n",
    "corr_second = data_i['second']['corr']\n",
    "\n",
    "geo_err = geodist_metric.calculate_geodesic_error(\n",
    "    dist_x, corr_first.cpu(), corr_second.cpu(), p2p_pairzo, return_mean=True\n",
    ")\n",
    "geo_err * 100"
   ]
  },
  {
   "cell_type": "code",
   "execution_count": 241,
   "metadata": {},
   "outputs": [],
   "source": [
    "dist_x.shape"
   ]
  },
  {
   "cell_type": "code",
   "execution_count": 242,
   "metadata": {},
   "outputs": [],
   "source": [
    "p2p_pairzo.shape"
   ]
  },
  {
   "cell_type": "code",
   "execution_count": 243,
   "metadata": {},
   "outputs": [],
   "source": [
    "print(corr_first.shape, corr_second.shape)\n",
    "print(corr_first, corr_second)"
   ]
  },
  {
   "cell_type": "code",
   "execution_count": 244,
   "metadata": {},
   "outputs": [],
   "source": [
    "data_i['first']['verts'].shape, data_i['second']['verts'].shape"
   ]
  },
  {
   "cell_type": "code",
   "execution_count": 245,
   "metadata": {},
   "outputs": [],
   "source": [
    "dist_x[p2p_pairzo[corr_second], corr_first].mean()"
   ]
  },
  {
   "cell_type": "code",
   "execution_count": 252,
   "metadata": {},
   "outputs": [],
   "source": [
    "# read /home/s94zalek_hpc/baselines/Spatially-and-Spectrally-Consistent-Deep-Functional-Maps/data/results/Phi/Phi_tr_reg_080.mat\n",
    "\n",
    "\n",
    "import scipy.io as sio\n",
    "\n",
    "mat = sio.loadmat('/home/s94zalek_hpc/baselines/Spatially-and-Spectrally-Consistent-Deep-Functional-Maps/data/results/C/C_tr_reg_080_tr_reg_081.mat')\n",
    "mat"
   ]
  },
  {
   "cell_type": "code",
   "execution_count": 253,
   "metadata": {},
   "outputs": [],
   "source": [
    "mat['C'].shape"
   ]
  }
 ],
 "metadata": {
  "kernelspec": {
   "display_name": "Python 3 (ipykernel)",
   "language": "python",
   "name": "python3"
  }
 },
 "nbformat": 4,
 "nbformat_minor": 2
}
