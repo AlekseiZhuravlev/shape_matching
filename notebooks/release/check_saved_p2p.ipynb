{
 "cells": [
  {
   "cell_type": "code",
   "execution_count": null,
   "metadata": {},
   "outputs": [],
   "source": [
    "import trimesh\n",
    "\n",
    "scene = trimesh.Scene()"
   ]
  },
  {
   "cell_type": "code",
   "execution_count": null,
   "metadata": {},
   "outputs": [],
   "source": [
    "import numpy as np\n",
    "import trimesh.scene\n",
    "import trimesh.scene.lighting\n",
    "\n",
    "def interpolate_colors(values, cmap, dtype=np.uint8):\n",
    "    # make input always float\n",
    "    values = np.asanyarray(values, dtype=np.float64).ravel()\n",
    "    # scale values to 0.0 - 1.0 and get colors\n",
    "    colors = cmap((values - values.min()) / values.ptp())\n",
    "    # convert to 0-255 RGBA\n",
    "    rgba = trimesh.visual.color.to_rgba(colors, dtype=dtype)\n",
    "    \n",
    "    return rgba\n",
    "\n",
    "\n",
    "def plot_p2p_map(scene, verts_x, faces_x, verts_y, faces_y, p2p, axes_color_gradient=[0, 1],\n",
    "                 base_cmap='jet'):\n",
    "    \n",
    "    # assert axes_color_gradient is a list or tuple\n",
    "    assert isinstance(axes_color_gradient, (list, tuple)), \"axes_color_gradient must be a list or tuple\"\n",
    "    assert verts_y.shape[0] == len(p2p), f\"verts_y {verts_y.shape} and p2p {p2p.shape} must have the same length\"\n",
    "    \n",
    "    \n",
    "    ##################################################\n",
    "    # color gradient\n",
    "    ##################################################\n",
    "    \n",
    "    coords_x_norm = torch.zeros_like(verts_x)\n",
    "    for i in range(3):\n",
    "        coords_x_norm[:, i] = (verts_x[:, i] - verts_x[:, i].min()) / (verts_x[:, i].max() - verts_x[:, i].min())\n",
    "\n",
    "    coords_interpolated = torch.zeros(verts_x.shape[0])\n",
    "    for i in axes_color_gradient:\n",
    "        coords_interpolated += coords_x_norm[:, i]\n",
    "        \n",
    "    if type(base_cmap) == str:\n",
    "        cmap = trimesh.visual.color.interpolate(coords_interpolated, base_cmap)\n",
    "    else:\n",
    "        cmap = interpolate_colors(coords_interpolated, base_cmap)\n",
    "        \n",
    "    cmap2 = cmap[p2p].clip(0, 255)\n",
    "    \n",
    "    \n",
    "    ##################################################\n",
    "    # material\n",
    "    ##################################################\n",
    "    \n",
    "    \n",
    "    # diffuse material\n",
    "    material=trimesh.visual.material.SimpleMaterial(\n",
    "        image=None,\n",
    "        diffuse=[245] * 4,\n",
    "        smooth=True\n",
    "    )\n",
    "    \n",
    "    ##################################################\n",
    "    # Lights\n",
    "    ##################################################\n",
    "    \n",
    "    # add a light to the scene\n",
    "    scene.lights=[\n",
    "            trimesh.scene.lighting.DirectionalLight(\n",
    "                color=[1.0, 1.0, 1.0]\n",
    "            ),\n",
    "\n",
    "        ]\n",
    "    \n",
    "    ##################################################\n",
    "    # add the meshes\n",
    "    ################################################\n",
    "\n",
    "    # 1\n",
    "    mesh1 = trimesh.Trimesh(vertices=verts_x + np.array([1, 0, 0]), faces=faces_x, validate=True)\n",
    "    mesh1.visual.material = material\n",
    "    mesh1.visual.vertex_colors = cmap[:len(mesh1.vertices)].clip(0, 255)\n",
    "           \n",
    "    # 2\n",
    "    mesh2 = trimesh.Trimesh(vertices=verts_y, faces=faces_y, validate=True)\n",
    "    mesh2.visual.material = material\n",
    "    mesh2.visual.vertex_colors = cmap2[:len(mesh2.vertices)]\n",
    "    \n",
    "    \n",
    "    \n",
    "    \n",
    "    trimesh.smoothing.filter_taubin(mesh1, iterations=3)\n",
    "    trimesh.smoothing.filter_taubin(mesh2, iterations=3)\n",
    "    \n",
    "    scene.add_geometry(mesh1)\n",
    "    scene.add_geometry(mesh2)\n",
    "    \n",
    "    # scene.add_geometry(trimesh.creation.axis(origin_size=0.05))\n",
    "\n",
    "    return scene"
   ]
  },
  {
   "cell_type": "code",
   "execution_count": null,
   "metadata": {},
   "outputs": [],
   "source": [
    "import my_code.diffusion_training_sign_corr.data_loading as data_loading\n",
    "import yaml\n",
    "import json\n",
    "from tqdm import tqdm\n",
    "\n",
    "\n",
    "\n",
    "single_dataset, pair_dataset = data_loading.get_val_dataset(\n",
    "    'DT4D_intra_pair', 'test', 128, preload=False, return_evecs=True, centering='bbox'\n",
    ")"
   ]
  },
  {
   "cell_type": "code",
   "execution_count": null,
   "metadata": {},
   "outputs": [],
   "source": [
    "pair_dataset[252]['second']['id']"
   ]
  },
  {
   "cell_type": "code",
   "execution_count": null,
   "metadata": {},
   "outputs": [],
   "source": [
    "single_dataset.off_files[29]"
   ]
  },
  {
   "cell_type": "code",
   "execution_count": null,
   "metadata": {},
   "outputs": [],
   "source": [
    "# read /lustre/mlnvme/data/s94zalek_hpc-shape_matching/ddpm_checkpoints/single_64_1-2ev_64-128-128_remeshed_fixed/eval/epoch_99/SHREC19_r_pair-test/no_smoothing/2024-11-03_21-44-05/pairwise_results.yaml\n",
    "\n",
    "with open('/lustre/mlnvme/data/s94zalek_hpc-shape_matching/ddpm_checkpoints/single_template_remeshed/eval/checkpoint_99.pt/DT4D_intra_pair-test/no_smoothing/2024-11-10_21-20-05/pairwise_results.json', 'r') as f:\n",
    "    # p2p_saved = yaml.load(f, Loader=yaml.FullLoader)\n",
    "    p2p_saved = json.load(f)\n",
    "    \n",
    "p2p_saved"
   ]
  },
  {
   "cell_type": "code",
   "execution_count": null,
   "metadata": {},
   "outputs": [],
   "source": [
    "p2p_saved[0].keys()"
   ]
  },
  {
   "cell_type": "code",
   "execution_count": null,
   "metadata": {},
   "outputs": [],
   "source": []
  },
  {
   "cell_type": "code",
   "execution_count": null,
   "metadata": {},
   "outputs": [],
   "source": [
    "\n",
    "print(geo_err_list[idxs_geo_err[:10]])"
   ]
  },
  {
   "cell_type": "code",
   "execution_count": null,
   "metadata": {},
   "outputs": [],
   "source": [
    "import torch\n",
    "\n",
    "geo_err_list = torch.tensor([p2p_saved[i]['geo_err_median_pairzo'] for i in range(len(p2p_saved))])\n",
    "idxs_geo_err = torch.argsort(geo_err_list, descending=True)\n",
    "\n",
    "\n",
    "\n",
    "indx = idxs_geo_err[15]\n",
    "data_i = pair_dataset[indx]\n",
    "p2p_i = p2p_saved[indx]\n",
    "p2p_pairzo = torch.tensor(p2p_i['p2p_median_pairzo'])\n",
    "\n",
    "\n",
    "mesh_1 = trimesh.Trimesh(data_i['first']['verts'], data_i['first']['faces'])\n",
    "mesh_2 = trimesh.Trimesh(data_i['second']['verts'], data_i['second']['faces'])\n",
    "\n",
    "\n",
    "print(p2p_i['geo_err_median_pairzo'])"
   ]
  },
  {
   "cell_type": "code",
   "execution_count": null,
   "metadata": {},
   "outputs": [],
   "source": [
    "import my_code.utils.plotting_utils as plotting_utils\n",
    "import plotly.express as px\n",
    "import plotly.express as px\n",
    "import matplotlib.pyplot as plt\n",
    "import matplotlib.colors as mcolors\n",
    "\n",
    "\n",
    "SAMPLES = 200\n",
    "ice = px.colors.sample_colorscale(\n",
    "    # px.colors.cyclical.IceFire,\n",
    "    # px.colors.cyclical.HSV,\n",
    "    px.colors.sequential.Jet,\n",
    "    SAMPLES)\n",
    "rgb = [px.colors.unconvert_from_RGB_255(px.colors.unlabel_rgb(c)) for c in ice]\n",
    "\n",
    "cmap = mcolors.ListedColormap(rgb, name='Ice', N=SAMPLES)\n",
    "\n",
    "\n",
    "scene.geometry.clear()\n",
    "\n",
    "plot_p2p_map(\n",
    "    scene,\n",
    "    \n",
    "    \n",
    "    data_i['first']['verts'], data_i['first']['faces'],\n",
    "    data_i['second']['verts'], data_i['second']['faces'],\n",
    "    p2p_pairzo,\n",
    "    axes_color_gradient=[0, 1],\n",
    "    base_cmap=cmap\n",
    ")\n",
    "\n",
    "# scene.set_camera(\n",
    "#     angles=[15, 0, 0],\n",
    "#     distance=0.0,\n",
    "#     center=[0, , 1.5],\n",
    "#     resolution=[1920, 1080]\n",
    "# )\n",
    "\n",
    "scene.show()"
   ]
  },
  {
   "cell_type": "code",
   "execution_count": null,
   "metadata": {},
   "outputs": [],
   "source": [
    "import itertools\n",
    "\n",
    "list(itertools.combinations(range(3), 2))"
   ]
  },
  {
   "cell_type": "code",
   "execution_count": null,
   "metadata": {},
   "outputs": [],
   "source": [
    "import metrics.geodist_metric as geodist_metric\n",
    "from utils.shape_util import compute_geodesic_distmat\n",
    "\n",
    "dist_x = torch.tensor(\n",
    "    compute_geodesic_distmat(data_i['first']['verts'].numpy(), data_i['first']['faces'].numpy())    \n",
    ")"
   ]
  },
  {
   "cell_type": "code",
   "execution_count": null,
   "metadata": {},
   "outputs": [],
   "source": [
    "corr_first = data_i['first']['corr']\n",
    "corr_second = data_i['second']['corr']\n",
    "\n",
    "geo_err = geodist_metric.calculate_geodesic_error(\n",
    "    dist_x, corr_first.cpu(), corr_second.cpu(), p2p_pairzo, return_mean=True\n",
    ")\n",
    "geo_err * 100"
   ]
  },
  {
   "cell_type": "code",
   "execution_count": null,
   "metadata": {},
   "outputs": [],
   "source": [
    "dist_x.shape"
   ]
  },
  {
   "cell_type": "code",
   "execution_count": null,
   "metadata": {},
   "outputs": [],
   "source": [
    "p2p_pairzo.shape"
   ]
  },
  {
   "cell_type": "code",
   "execution_count": null,
   "metadata": {},
   "outputs": [],
   "source": [
    "print(corr_first.shape, corr_second.shape)\n",
    "print(corr_first, corr_second)"
   ]
  },
  {
   "cell_type": "code",
   "execution_count": null,
   "metadata": {},
   "outputs": [],
   "source": [
    "data_i['first']['verts'].shape, data_i['second']['verts'].shape"
   ]
  },
  {
   "cell_type": "code",
   "execution_count": null,
   "metadata": {},
   "outputs": [],
   "source": [
    "dist_x[p2p_pairzo[corr_second], corr_first].mean()"
   ]
  },
  {
   "cell_type": "code",
   "execution_count": null,
   "metadata": {},
   "outputs": [],
   "source": [
    "# read /home/s94zalek_hpc/baselines/Spatially-and-Spectrally-Consistent-Deep-Functional-Maps/data/results/Phi/Phi_tr_reg_080.mat\n",
    "\n",
    "\n",
    "import scipy.io as sio\n",
    "\n",
    "mat = sio.loadmat('/home/s94zalek_hpc/baselines/Spatially-and-Spectrally-Consistent-Deep-Functional-Maps/data/results/C/C_tr_reg_080_tr_reg_081.mat')\n",
    "mat"
   ]
  },
  {
   "cell_type": "code",
   "execution_count": null,
   "metadata": {},
   "outputs": [],
   "source": [
    "mat['C'].shape"
   ]
  },
  {
   "cell_type": "code",
   "execution_count": null,
   "metadata": {},
   "outputs": [],
   "source": [
    "# read /home/s94zalek_hpc/baselines/Spatially-and-Spectrally-Consistent-Deep-Functional-Maps/data/results/SCAPE_a/p2p_21/0_1.txt\n",
    "import numpy as np\n",
    "\n",
    "p2p_pairzo = np.loadtxt('/home/s94zalek_hpc/baselines/Spatially-and-Spectrally-Consistent-Deep-Functional-Maps/data/results/SCAPE_a/p2p_21/0_1.txt')\n",
    "p2p_pairzo = torch.tensor(p2p_pairzo, dtype=torch.int32)"
   ]
  },
  {
   "cell_type": "code",
   "execution_count": 9,
   "metadata": {},
   "outputs": [],
   "source": [
    "import torch\n",
    "\n",
    "p2p_median_second = torch.tensor(p2p_saved[594]['p2p_median_second'])"
   ]
  },
  {
   "cell_type": "code",
   "execution_count": null,
   "metadata": {},
   "outputs": [],
   "source": [
    "import my_code.utils.plotting_utils as plotting_utils\n",
    "import plotly.express as px\n",
    "import plotly.express as px\n",
    "import matplotlib.pyplot as plt\n",
    "import matplotlib.colors as mcolors\n",
    "\n",
    "data_i = pair_dataset[594]\n",
    "\n",
    "template = '/home/s94zalek_hpc/shape_matching/data/SURREAL_full/template/remeshed/template.off'\n",
    "\n",
    "template_mesh = trimesh.load(template, process=False)\n",
    "\n",
    "SAMPLES = 200\n",
    "ice = px.colors.sample_colorscale(\n",
    "    # px.colors.cyclical.IceFire,\n",
    "    # px.colors.cyclical.HSV,\n",
    "    px.colors.sequential.Jet,\n",
    "    SAMPLES)\n",
    "rgb = [px.colors.unconvert_from_RGB_255(px.colors.unlabel_rgb(c)) for c in ice]\n",
    "\n",
    "cmap = mcolors.ListedColormap(rgb, name='Ice', N=SAMPLES)\n",
    "\n",
    "\n",
    "scene.geometry.clear()\n",
    "\n",
    "plot_p2p_map(\n",
    "    scene,\n",
    "    \n",
    "    \n",
    "    # data_i['first']['verts'], data_i['first']['faces'],\n",
    "    data_i['second']['verts'], data_i['second']['faces'],\n",
    "    torch.tensor(template_mesh.vertices), torch.tensor(template_mesh.faces),\n",
    "    p2p_median_second,\n",
    "    axes_color_gradient=[0, 1],\n",
    "    base_cmap=cmap\n",
    ")\n",
    "\n",
    "scene.show()"
   ]
  }
 ],
 "metadata": {
  "kernelspec": {
   "display_name": "Python 3 (ipykernel)",
   "language": "python",
   "name": "python3"
  },
  "language_info": {
   "codemirror_mode": {
    "name": "ipython",
    "version": 3
   },
   "file_extension": ".py",
   "mimetype": "text/x-python",
   "name": "python",
   "nbconvert_exporter": "python",
   "pygments_lexer": "ipython3",
   "version": "3.8.19"
  }
 },
 "nbformat": 4,
 "nbformat_minor": 2
}
