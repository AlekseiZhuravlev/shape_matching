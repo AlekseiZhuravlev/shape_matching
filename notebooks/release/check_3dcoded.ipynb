{
 "cells": [
  {
   "cell_type": "code",
   "execution_count": 87,
   "metadata": {},
   "outputs": [],
   "source": [
    "import trimesh\n",
    "\n",
    "scene = trimesh.Scene()"
   ]
  },
  {
   "cell_type": "code",
   "execution_count": null,
   "metadata": {},
   "outputs": [],
   "source": [
    "mesh = trimesh.load(\n",
    "    '/home/s94zalek_hpc/baselines/3D-CODED/checkpoints/_081FinalReconstruction.ply'\n",
    ")\n",
    "scene.geometry.clear()\n",
    "scene.add_geometry(mesh)\n",
    "\n",
    "scene.show()"
   ]
  },
  {
   "cell_type": "code",
   "execution_count": 94,
   "metadata": {},
   "outputs": [],
   "source": [
    "import numpy as np\n",
    "\n",
    "# corr_xyz = np.load_txt('/home/s94zalek_hpc/baselines/3D-CODED/checkpoints/080_081.txt')\n",
    "corr_xyz = np.loadtxt('/home/s94zalek_hpc/baselines/3D-CODED/checkpoints/080_081.txt')\n",
    "corr_xyz"
   ]
  },
  {
   "cell_type": "code",
   "execution_count": 95,
   "metadata": {},
   "outputs": [],
   "source": [
    "# plot the point cloud\n",
    "import matplotlib.pyplot as plt\n",
    "from mpl_toolkits.mplot3d import Axes3D\n",
    "\n",
    "fig = plt.figure()\n",
    "\n",
    "ax = fig.add_subplot(111, projection='3d')\n",
    "\n",
    "ax.scatter(corr_xyz[:, 0], corr_xyz[:, 1], corr_xyz[:, 2])\n",
    "\n",
    "plt.show()"
   ]
  },
  {
   "cell_type": "code",
   "execution_count": 198,
   "metadata": {},
   "outputs": [],
   "source": [
    "import utils.fmap_util as fmap_util\n",
    "import torch\n",
    "\n",
    "mesh_1 = trimesh.load(\n",
    "    '/home/s94zalek_hpc/shape_matching/data/FAUST_r/off/tr_reg_080.off',\n",
    "    process=False\n",
    ")\n",
    "mesh_2 = trimesh.load(\n",
    "    '/home/s94zalek_hpc/shape_matching/data/FAUST_r/off/tr_reg_081.off',\n",
    "    process=False\n",
    ")\n",
    "\n",
    "p2p = fmap_util.nn_query(\n",
    "    torch.tensor(mesh_2.vertices),\n",
    "    torch.tensor(corr_xyz)\n",
    "    )\n",
    "p2p\n"
   ]
  },
  {
   "cell_type": "code",
   "execution_count": 267,
   "metadata": {},
   "outputs": [],
   "source": [
    "import pickle\n",
    "\n",
    "# read /home/s94zalek_hpc/baselines/SimplifiedFmapsLearning/res_cache/train_faust/test_faust_24-11-04_14-34-11/maps/tr_reg_080-tr_reg_080.p\n",
    "with open('/home/s94zalek_hpc/baselines/SimplifiedFmapsLearning/res_cache/train_faust/test_faust_24-11-04_14-40-34/maps/tr_reg_080-tr_reg_081.p', 'rb') as f:\n",
    "    fmaps_1 = pickle.load(f)\n",
    "    \n",
    "fmaps_1"
   ]
  },
  {
   "cell_type": "code",
   "execution_count": 199,
   "metadata": {},
   "outputs": [],
   "source": [
    "p2p_saved = torch.tensor(np.loadtxt(\n",
    "    '/home/s94zalek_hpc/baselines/transmatching/evaluation/predictions/FAUST_r_pair/our(ckp=s2s_weighted_bary,refine=False,area_norm=True)/001/pred_matching_A_to_B.txt'\n",
    "), dtype=torch.long)\n",
    "\n",
    "# compare that all elements in p2p_saved are the same as in p2p\n",
    "(p2p_saved == p2p).int().sum() "
   ]
  },
  {
   "cell_type": "code",
   "execution_count": 200,
   "metadata": {},
   "outputs": [],
   "source": [
    "p2p_saved"
   ]
  },
  {
   "cell_type": "code",
   "execution_count": null,
   "metadata": {},
   "outputs": [],
   "source": [
    "import my_code.utils.plotting_utils as plotting_utils\n",
    "\n",
    "scene.geometry.clear()\n",
    "\n",
    "plotting_utils.plot_p2p_map(\n",
    "    scene,\n",
    "    \n",
    "    torch.tensor(mesh_2.vertices), torch.tensor(mesh_2.faces),\n",
    "    torch.tensor(mesh_1.vertices), torch.tensor(mesh_1.faces),\n",
    "    p2p_saved,\n",
    "    axes_color_gradient=[0, 1],\n",
    "    base_cmap='hsv'\n",
    ")\n",
    "\n",
    "scene.show()"
   ]
  },
  {
   "cell_type": "code",
   "execution_count": null,
   "metadata": {},
   "outputs": [],
   "source": []
  }
 ],
 "metadata": {
  "kernelspec": {
   "display_name": "Python 3 (ipykernel)",
   "language": "python",
   "name": "python3"
  }
 },
 "nbformat": 4,
 "nbformat_minor": 2
}
