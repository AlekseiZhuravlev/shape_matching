{
 "cells": [
  {
   "cell_type": "code",
   "execution_count": 53,
   "metadata": {
    "metadata": {}
   },
   "outputs": [
    {
     "name": "stdout",
     "output_type": "stream",
     "text": [
      "hello world\n"
     ]
    }
   ],
   "source": [
    "print('hello world')"
   ]
  },
  {
   "cell_type": "code",
   "execution_count": 56,
   "metadata": {
    "metadata": {}
   },
   "outputs": [
    {
     "name": "stdout",
     "output_type": "stream",
     "text": [
      "/home/s94zalek/shape_matching\n"
     ]
    }
   ],
   "source": [
    "import sys\n",
    "sys.path.append('/home/s94zalek/shape_matching')\n",
    "\n",
    "from datasets_code import build_dataloader, build_dataset\n",
    "from utils.options import parse_options\n",
    "from train import create_train_val_dataloader\n",
    "import torch\n",
    "import numpy as np\n",
    "\n",
    "import os\n",
    "os.chdir('/home/s94zalek/shape_matching')\n",
    "\n",
    "# print current working directory\n",
    "print(os.getcwd())"
   ]
  },
  {
   "cell_type": "code",
   "execution_count": 57,
   "metadata": {
    "metadata": {}
   },
   "outputs": [
    {
     "name": "stdout",
     "output_type": "stream",
     "text": [
      "Backend DataParallel.\n",
      "Path already exists. Rename it to /home/s94zalek/shape_matching/results/faust_archived_20240510_153944\n"
     ]
    },
    {
     "name": "stderr",
     "output_type": "stream",
     "text": [
      "Constructing DatasetFromListOfDicts: 100%|█████████████████████████████████████████████████████████████████████████████| 80/80 [00:04<00:00, 16.92it/s]\n",
      "Calculating functional maps: 100%|████████████████████████████████████████████████████████████████████████████████| 6400/6400 [01:03<00:00, 100.69it/s]\n",
      "Constructing DatasetFromListOfDicts: 100%|█████████████████████████████████████████████████████████████████████████████| 20/20 [00:01<00:00, 18.06it/s]\n",
      "Calculating functional maps: 100%|███████████████████████████████████████████████████████████████████████████████████| 400/400 [00:04<00:00, 99.26it/s]\n",
      "Constructing DatasetFromListOfDicts: 100%|█████████████████████████████████████████████████████████████████████████████| 20/20 [00:00<00:00, 30.10it/s]\n",
      "Calculating functional maps: 100%|██████████████████████████████████████████████████████████████████████████████████| 400/400 [00:03<00:00, 102.84it/s]\n"
     ]
    }
   ],
   "source": [
    "import os\n",
    "\n",
    "# root_path = osp.abspath(osp.join(__file__, osp.pardir))\n",
    "root_path = '/home/s94zalek/shape_matching'\n",
    "\n",
    "opt = parse_options(root_path, is_train=False, use_argparse=False,\n",
    "                    opt_path = 'options/train/faust.yaml')\n",
    "\n",
    "opt['root_path'] = root_path\n",
    "opt['dist'] = False\n",
    "\n",
    "opt['datasets']['train_dataset']['return_corr'] = True\n",
    "opt['datasets']['train_dataset']['return_dist'] = False\n",
    "opt['datasets']['test_dataset']['return_dist'] = False\n",
    "\n",
    "# create train and validation dataloaders\n",
    "result = create_train_val_dataloader(opt)\n",
    "train_loader, train_sampler, val_loader, total_epochs, total_iters = result\n",
    "\n",
    "test_set = build_dataset(opt['datasets']['test_dataset'])\n",
    "test_loader = build_dataloader(\n",
    "test_set, opt['datasets']['test_dataset'], phase='val', num_gpu=opt['num_gpu'], dist=opt['dist'], sampler=None, seed=opt['manual_seed'])\n"
   ]
  },
  {
   "cell_type": "code",
   "execution_count": null,
   "metadata": {},
   "outputs": [],
   "source": [
    "import trimesh\n",
    "\n",
    "scene = trimesh.Scene()"
   ]
  },
  {
   "cell_type": "code",
   "execution_count": null,
   "metadata": {},
   "outputs": [],
   "source": [
    "# !python preprocess.py --data_root data/TOPKIDS/ --no_normalize --no_dist --n_eig 200"
   ]
  },
  {
   "cell_type": "code",
   "execution_count": null,
   "metadata": {},
   "outputs": [],
   "source": [
    "# add random sampler to test_loader\n",
    "test_loader.dataset.sampler = 'random'"
   ]
  },
  {
   "cell_type": "code",
   "execution_count": null,
   "metadata": {},
   "outputs": [],
   "source": [
    "from tqdm import tqdm\n",
    "\n",
    "# data_x = test_set[15]['first']\n",
    "# data_y = test_set[15]['second']\n",
    "\n",
    "# get 15th element from test dataloader\n",
    "for i, data in enumerate(tqdm(test_loader)):\n",
    "    if i == 10:\n",
    "        data_x = data['first']\n",
    "        data_y = data['second']\n",
    "        break\n",
    "\n",
    "list(data_x.keys())"
   ]
  },
  {
   "cell_type": "code",
   "execution_count": null,
   "metadata": {},
   "outputs": [],
   "source": [
    "scene.geometry.clear()\n",
    "\n",
    "mesh1 = trimesh.Trimesh(vertices=data_x['verts'][0].cpu().numpy(), faces=data_x['faces'][0].cpu().numpy())\n",
    "scene.add_geometry(mesh1)\n",
    "\n",
    "mesh2 = trimesh.Trimesh(vertices=data_y['verts'][0].cpu().numpy() + np.array([1, 0, 0]), faces=data_y['faces'][0].cpu().numpy())\n",
    "scene.add_geometry(mesh2)\n",
    "\n",
    "scene.show()"
   ]
  },
  {
   "cell_type": "code",
   "execution_count": null,
   "metadata": {},
   "outputs": [],
   "source": [
    "print('data_x', data_x['name'], 'data_y', data_y['name'])\n",
    "\n",
    "Pxy = -torch.ones(data_x['verts'].shape[1], dtype=torch.int64)\n",
    "print('Pxy.shape', Pxy.shape)\n",
    "Pxy[data_x['corr']] = data_y['corr']\n",
    "\n",
    "Pyx = -torch.ones(data_y['verts'].shape[1], dtype=torch.int64)\n",
    "print('Pyx.shape', Pyx.shape)\n",
    "Pyx[data_y['corr']] = data_x['corr']\n",
    "\n",
    "# check \n",
    "range_1_len = torch.arange(data_x['verts'].shape[1])\n",
    "print('Pxy', Pxy[:20])\n",
    "print('Pyx', Pyx[:20])\n",
    "print(torch.cat((range_1_len.view(-1, 1), Pxy.view(-1, 1)), dim=1)[:20])"
   ]
  },
  {
   "cell_type": "code",
   "execution_count": null,
   "metadata": {},
   "outputs": [],
   "source": [
    "# print number of unique elements in Pxy and count of each element, sorted by count\n",
    "unique, counts = Pxy.unique(return_counts=True)\n",
    "\n",
    "# print the values sorted by count\n",
    "print('unique', unique[torch.argsort(counts, descending=True)])\n",
    "print('counts', counts[torch.argsort(counts, descending=True)])"
   ]
  },
  {
   "cell_type": "markdown",
   "metadata": {},
   "source": [
    "# Are raw meshes aligned?"
   ]
  },
  {
   "cell_type": "code",
   "execution_count": null,
   "metadata": {},
   "outputs": [],
   "source": [
    "import trimesh\n",
    "import numpy as np\n",
    "\n",
    "# clear the scene\n",
    "scene.geometry.clear()\n",
    "\n",
    "# cmap = trimesh.visual.color.interpolate(np.linspace(0, 1, len(data_y['verts'][0])), 'jet')\n",
    "\n",
    "# make a color map based on y coordinate\n",
    "cmap = trimesh.visual.color.interpolate(data_x['verts'][0][:, 1], 'jet')\n",
    "\n",
    "\n",
    "# add the first mesh\n",
    "mesh1 = trimesh.Trimesh(vertices=data_x['verts'][0].cpu().numpy(), faces=data_x['faces'][0].cpu().numpy())\n",
    "mesh1.visual.vertex_colors = cmap[:len(mesh1.vertices)]\n",
    "scene.add_geometry(mesh1)\n",
    "\n",
    "mesh2 = trimesh.Trimesh(vertices=data_y['verts'][0].cpu().numpy() + np.array([1, 0, 0]), faces=data_y['faces'][0].cpu().numpy())\n",
    "mesh2.visual.vertex_colors = cmap[:len(mesh2.vertices)]\n",
    "scene.add_geometry(mesh2)\n",
    "\n",
    "# print('distance between vertices in dataset and vertices in mesh object:',\n",
    "#       (data_x['verts'][0].numpy() - mesh1.vertices).sum()\n",
    "#       )\n",
    "\n",
    "# display the scene\n",
    "scene.show('notebook')"
   ]
  },
  {
   "cell_type": "markdown",
   "metadata": {},
   "source": [
    "# After applying correspondences"
   ]
  },
  {
   "cell_type": "code",
   "execution_count": null,
   "metadata": {},
   "outputs": [],
   "source": [
    "def index_with_P(tensor_to_index, P):\n",
    "    # assert tensor_to_index.shape[0] == P.shape[0], f'tensor_to_index.shape {tensor_to_index.shape} != P.shape {P.shape}'\n",
    "    \n",
    "    indexed_tensor = tensor_to_index[P]\n",
    "    \n",
    "    # replace values where P = -1 with zeros\n",
    "    if type(indexed_tensor) == torch.Tensor:\n",
    "        backend = torch \n",
    "    elif type(indexed_tensor) == np.ndarray:\n",
    "        backend = np\n",
    "    else:\n",
    "        raise ValueError(f'Unknown type of indexed_tensor {type(indexed_tensor)}')\n",
    "    \n",
    "    indexed_tensor[P == -1] = backend.zeros_like(indexed_tensor[P == -1])\n",
    "    return indexed_tensor\n",
    "    "
   ]
  },
  {
   "cell_type": "markdown",
   "metadata": {},
   "source": [
    "# X -> Y\n"
   ]
  },
  {
   "cell_type": "code",
   "execution_count": null,
   "metadata": {},
   "outputs": [],
   "source": [
    "#########################################\n",
    "# X -> Y\n",
    "#########################################\n",
    "\n",
    "scene.geometry.clear()\n",
    "\n",
    "cmap = trimesh.visual.color.interpolate(data_x['verts'][0][:, 1], 'jet')\n",
    "\n",
    "\n",
    "# add the first mesh\n",
    "mesh1 = trimesh.Trimesh(vertices=data_x['verts'][0].cpu().numpy(), faces=data_x['faces'][0].cpu().numpy())\n",
    "mesh1.visual.vertex_colors = cmap[:len(mesh1.vertices)]\n",
    "scene.add_geometry(mesh1)\n",
    "\n",
    "\n",
    "\n",
    "mesh2 = trimesh.Trimesh(vertices=data_y['verts'][0].cpu().numpy() + np.array([1, 0, 0]), faces=data_y['faces'][0].cpu().numpy())\n",
    "\n",
    "# cmap2 = cmap[Pyx][:len(mesh2.vertices)]\n",
    "cmap2 = index_with_P(cmap, Pyx)[:len(mesh2.vertices)]\n",
    "print(cmap2.shape, len(mesh2.vertices))\n",
    "\n",
    "mesh2.visual.vertex_colors = cmap2\n",
    "scene.add_geometry(mesh2)\n",
    "\n",
    "scene.show()"
   ]
  },
  {
   "cell_type": "markdown",
   "metadata": {},
   "source": [
    "# Y -> X"
   ]
  },
  {
   "cell_type": "code",
   "execution_count": null,
   "metadata": {},
   "outputs": [],
   "source": [
    "#########################################\n",
    "# Y -> X\n",
    "#########################################\n",
    "\n",
    "scene.geometry.clear()\n",
    "\n",
    "cmap2 = trimesh.visual.color.interpolate(data_y['verts'][0][:, 1], 'hsv')\n",
    "\n",
    "\n",
    "# add the second mesh\n",
    "mesh2 = trimesh.Trimesh(vertices=data_y['verts'][0].cpu().numpy() + np.array([1, 0, 0]), faces=data_y['faces'][0].cpu().numpy())\n",
    "mesh2.visual.vertex_colors = cmap2[:len(mesh2.vertices)]\n",
    "scene.add_geometry(mesh2)\n",
    "\n",
    "# add the first mesh\n",
    "mesh1 = trimesh.Trimesh(vertices=data_x['verts'][0].cpu().numpy(), faces=data_x['faces'][0].cpu().numpy())\n",
    "cmap = index_with_P(cmap2, Pxy)\n",
    "mesh1.visual.vertex_colors = cmap[:len(mesh1.vertices)]\n",
    "scene.add_geometry(mesh1)\n",
    "\n",
    "scene.show()"
   ]
  },
  {
   "cell_type": "markdown",
   "metadata": {},
   "source": [
    "# Are eigenfunctions orthogonal?"
   ]
  },
  {
   "cell_type": "code",
   "execution_count": null,
   "metadata": {},
   "outputs": [],
   "source": [
    "phi_T_phi = data_x['evecs_trans'][0] @ data_x['evecs'][0]\n",
    "phi_phi_T = data_x['evecs'][0] @ data_x['evecs_trans'][0]\n",
    "\n",
    "print('Shape X')\n",
    "print('phi.shape', data_x['evecs'][0].shape)\n",
    "print('phi_T_phi.shape:', phi_T_phi.shape, ', dist(phi_T @ phi, I):', (phi_T_phi - torch.eye(phi_T_phi.shape[0])).abs().sum())\n",
    "print('phi_phi_T.shape:', phi_phi_T.shape, ', dist(phi @ phi_T, I):', (phi_phi_T - torch.eye(phi_phi_T.shape[0])).abs().sum())\n",
    "\n",
    "\n",
    "# do the same for y\n",
    "phi_T_phi = data_y['evecs_trans'][0] @ data_y['evecs'][0]\n",
    "phi_phi_T = data_y['evecs'][0] @ data_y['evecs_trans'][0]\n",
    "\n",
    "print()\n",
    "print('Shape Y')\n",
    "print('phi.shape', data_y['evecs'][0].shape)\n",
    "print('phi_T_phi.shape:', phi_T_phi.shape, ', dist(phi_T @ phi, I):', (phi_T_phi - torch.eye(phi_T_phi.shape[0])).abs().sum())\n",
    "print('phi_phi_T.shape:', phi_phi_T.shape, ', dist(phi @ phi_T, I):', (phi_phi_T - torch.eye(phi_phi_T.shape[0])).abs().sum())\n"
   ]
  },
  {
   "cell_type": "markdown",
   "metadata": {},
   "source": [
    "# Calculate the functional map"
   ]
  },
  {
   "cell_type": "code",
   "execution_count": null,
   "metadata": {},
   "outputs": [],
   "source": [
    "phi_x = data_x['evecs'][0]\n",
    "phi_x_T = data_x['evecs_trans'][0]\n",
    "phi_y = data_y['evecs'][0]\n",
    "phi_y_T = data_y['evecs_trans'][0]\n",
    "\n",
    "Cxy_indexing_zeros = phi_y_T @ index_with_P(phi_x, Pyx)\n",
    "Cyx_indexing_zeros = phi_x_T @ index_with_P(phi_y, Pxy)\n",
    "\n",
    "# print('index_with_P(phi_x, Pyx).shape', index_with_P(phi_x, Pyx).shape)\n",
    "# print('index_with_P(phi_x, Pyx)', index_with_P(phi_x, Pyx)[:10])\n",
    "\n",
    "# print('Cxy.shape', Cxy.shape)\n",
    "# print('Cxy', Cxy[:10])\n",
    "\n",
    "# print('Cyx.shape', Cyx.shape)\n",
    "# print('Cyx', Cyx[:10])"
   ]
  },
  {
   "cell_type": "code",
   "execution_count": null,
   "metadata": {},
   "outputs": [],
   "source": [
    "import matplotlib.pyplot as plt\n",
    "\n",
    "fig, ax = plt.subplots(1, 2, figsize=(15, 5))\n",
    "\n",
    "# Cxy\n",
    "Cxy_plot = ax[0].imshow(Cxy_indexing_zeros.cpu().numpy(), cmap='bwr', vmin=-1, vmax=1)\n",
    "# ax[0].axis('off')\n",
    "ax[0].set_title('Cxy_indexing_zeros')\n",
    "cbar = plt.colorbar(Cxy_plot)\n",
    "cbar.set_label('Cxy')\n",
    "\n",
    "# Cyx\n",
    "Cyx_plot = ax[1].imshow(Cyx_indexing_zeros.cpu().numpy(), cmap='bwr', vmin=-1, vmax=1)\n",
    "# ax[1].axis('off')\n",
    "ax[1].set_title('Cyx_indexing_zeros')\n",
    "cbar = plt.colorbar(Cyx_plot)\n",
    "cbar.set_label('Cyx')\n",
    "\n",
    "plt.show()"
   ]
  },
  {
   "cell_type": "markdown",
   "metadata": {},
   "source": [
    "# Check for orthogonality"
   ]
  },
  {
   "cell_type": "code",
   "execution_count": null,
   "metadata": {},
   "outputs": [],
   "source": [
    "print('dist(Cyx @ Cxy, I)', ((Cyx_indexing_zeros @ Cxy_indexing_zeros) - torch.eye(Cxy_indexing_zeros.shape[0])).abs().sum())\n",
    "print('dist(Cxy @ Cyx, I)', ((Cxy_indexing_zeros @ Cyx_indexing_zeros) - torch.eye(Cxy_indexing_zeros.shape[0])).abs().sum())\n",
    "print('dist(Cxy @ Cxy.T, I)', ((Cxy_indexing_zeros @ Cxy_indexing_zeros.T) - torch.eye(Cxy_indexing_zeros.shape[0])).abs().sum())\n",
    "print('dist(Cyx @ Cyx.T, I)', ((Cyx_indexing_zeros @ Cyx_indexing_zeros.T) - torch.eye(Cxy_indexing_zeros.shape[0])).abs().sum())"
   ]
  },
  {
   "cell_type": "markdown",
   "metadata": {},
   "source": [
    "# Another method"
   ]
  },
  {
   "cell_type": "code",
   "execution_count": null,
   "metadata": {},
   "outputs": [],
   "source": [
    "print(\"data_y['corr']\", data_y['corr'].shape)\n",
    "print(\"phi_y_T\", phi_y_T.shape)\n",
    "print(\"phi_y_T[:, data_y['corr'].squeeze(0)]\", phi_y_T[:, data_y['corr'].squeeze(0)].shape)\n",
    "print(torch.all(phi_y_T.transpose(0, 1)[data_y['corr']].transpose(1, 2) == phi_y_T[:, data_y['corr'].squeeze(0)].unsqueeze(0)))"
   ]
  },
  {
   "cell_type": "code",
   "execution_count": null,
   "metadata": {},
   "outputs": [],
   "source": [
    "phi_x.shape"
   ]
  },
  {
   "cell_type": "code",
   "execution_count": null,
   "metadata": {},
   "outputs": [],
   "source": [
    "phi_y[data_y['corr']].shape, phi_x.shape"
   ]
  },
  {
   "cell_type": "code",
   "execution_count": null,
   "metadata": {},
   "outputs": [],
   "source": [
    "C_gt_xy_pinv = (torch.pinverse(phi_y[data_y['corr']]) @ phi_x[data_x['corr']])[0]\n",
    "C_gt_yx_pinv = (torch.pinverse(phi_x[data_x['corr']]) @ phi_y[data_y['corr']])[0]\n",
    "\n",
    "C_gt_xy_lstsq = torch.linalg.lstsq(phi_y[data_y['corr']], phi_x[data_x['corr']]).solution[0]\n",
    "C_gt_yx_lstsq = torch.linalg.lstsq(phi_x[data_x['corr']], phi_y[data_y['corr']]).solution[0]\n",
    "\n",
    "C_gt_xy_index = (phi_y_T.transpose(0, 1)[data_y['corr']].transpose(1, 2) @ phi_x[data_x['corr']])[0]\n",
    "C_gt_yx_index = (phi_x_T.transpose(0, 1)[data_x['corr']].transpose(1, 2) @ phi_y[data_y['corr']])[0]\n",
    "\n",
    "print('XY: pseudoinverse - indexing', (C_gt_xy_pinv - C_gt_xy_index).sum())\n",
    "print('YX: pseudoinverse - indexing', (C_gt_yx_pinv - C_gt_yx_index).sum())\n",
    "\n",
    "print('XY: pseudoinverse - lstsq', (C_gt_xy_pinv - C_gt_xy_lstsq).sum())\n",
    "print('YX: pseudoinverse - lstsq', (C_gt_yx_pinv - C_gt_yx_lstsq).sum())\n",
    "\n",
    "C_gt_xy = C_gt_xy_lstsq\n",
    "C_gt_yx = C_gt_yx_lstsq"
   ]
  },
  {
   "cell_type": "code",
   "execution_count": null,
   "metadata": {},
   "outputs": [],
   "source": [
    "# C_gt_xy = (phi_y[data_y['corr']].transpose(2, 1) @ phi_x[data_x['corr']])[0]\n",
    "# C_gt_yx = (phi_x[data_x['corr']].transpose(2, 1) @ phi_y[data_y['corr']])[0]\n",
    "\n",
    "\n",
    "\n",
    "# calculate distance to Cxy and Cyx\n",
    "print('dist(Cxy, C_gt_xy):', (Cxy_indexing_zeros - C_gt_xy).abs().mean())\n",
    "print('dist(Cyx, C_gt_yx):', (Cyx_indexing_zeros - C_gt_yx).abs().mean())\n",
    "\n",
    "print('Cxy.shape', C_gt_xy.shape)\n",
    "\n",
    "# check orthogonality for C_gt_xy and C_gt_yx\n",
    "val = (C_gt_xy @ C_gt_xy.T - torch.eye(C_gt_xy.shape[0])).abs()\n",
    "print(f'AbsErr(Cxy @ Cxy_T, I), sum: {val.sum().item():.4f}, mean: {val.mean().item():.4f}')\n",
    "\n",
    "val = (C_gt_yx @ C_gt_yx.T - torch.eye(C_gt_yx.shape[0])).abs()\n",
    "print(f'AbsErr(Cyx @ Cyx_T, I), sum: {val.sum().item():.4f}, mean: {val.mean().item():.4f}')\n",
    "\n",
    "val = (C_gt_xy @ C_gt_yx - torch.eye(C_gt_xy.shape[0])).abs()\n",
    "print(f'AbsErr(Cxy @ Cyx, I), sum: {val.sum().item():.4f}, mean: {val.mean().item():.4f}')\n",
    "\n",
    "val = (C_gt_yx @ C_gt_xy - torch.eye(C_gt_yx.shape[0])).abs()\n",
    "print(f'AbsErr(Cyx @ Cxy, I), sum: {val.sum().item():.4f}, mean: {val.mean().item():.4f}')\n",
    "\n",
    "# plot them\n",
    "fig, ax = plt.subplots(1, 2, figsize=(15, 5))\n",
    "\n",
    "# C_gt_xy\n",
    "C_gt_xy_plot = ax[0].imshow(C_gt_xy.cpu().numpy(), cmap='bwr', vmin=-1, vmax=1)\n",
    "plt.colorbar(C_gt_xy_plot)\n",
    "# ax[0].axis('off')\n",
    "# ax[0].set_title('C_xy pinv')\n",
    "ax[0].set_title('C_xy')\n",
    "\n",
    "# C_gt_yx\n",
    "C_gt_yx_plot = ax[1].imshow(C_gt_yx.cpu().numpy(), cmap='bwr', vmin=-1, vmax=1)\n",
    "plt.colorbar(C_gt_yx_plot)\n",
    "# ax[1].axis('off')\n",
    "# ax[1].set_title('C_yx pinv')\n",
    "ax[1].set_title('C_yx')\n",
    "\n",
    "plt.show()"
   ]
  },
  {
   "cell_type": "code",
   "execution_count": null,
   "metadata": {},
   "outputs": [],
   "source": [
    "print(\"torch.pinverse(phi_y[data_y['corr']]).sum()\", torch.pinverse(phi_y[data_y['corr']]).sum())\n",
    "print(\"phi_x[data_x['corr']].sum()\", phi_x[data_x['corr']].sum())\n",
    "\n",
    "print(\"torch.pinverse(phi_x[data_x['corr']]).sum()\", torch.pinverse(phi_x[data_x['corr']]).sum())\n",
    "print(\"phi_y[data_y['corr']].sum()\", phi_y[data_y['corr']].sum())\n"
   ]
  },
  {
   "cell_type": "code",
   "execution_count": null,
   "metadata": {},
   "outputs": [],
   "source": [
    "# use the second method\n",
    "Cxy = C_gt_xy_lstsq\n",
    "Cyx = C_gt_yx_lstsq"
   ]
  },
  {
   "cell_type": "markdown",
   "metadata": {},
   "source": [
    "# Get the P2P map back"
   ]
  },
  {
   "cell_type": "code",
   "execution_count": null,
   "metadata": {},
   "outputs": [],
   "source": [
    "Pyx_after = phi_y @ Cxy @ phi_x_T\n",
    "Pxy_after = phi_x @ Cyx @ phi_y_T"
   ]
  },
  {
   "cell_type": "code",
   "execution_count": null,
   "metadata": {},
   "outputs": [],
   "source": [
    "#########################################\n",
    "# X -> Y\n",
    "#########################################\n",
    "\n",
    "scene.geometry.clear()\n",
    "\n",
    "cmap = trimesh.visual.color.interpolate(data_x['verts'][0][:, 1], 'jet')\n",
    "\n",
    "# add the first mesh\n",
    "mesh1 = trimesh.Trimesh(vertices=data_x['verts'][0].cpu().numpy(), faces=data_x['faces'][0].cpu().numpy())\n",
    "mesh1.visual.vertex_colors = cmap[:len(mesh1.vertices)]\n",
    "scene.add_geometry(mesh1)\n",
    "\n",
    "\n",
    "mesh2 = trimesh.Trimesh(vertices=data_y['verts'][0].cpu().numpy() + np.array([1, 0, 0]), faces=data_y['faces'][0].cpu().numpy())\n",
    "\n",
    "print(cmap.shape)\n",
    "\n",
    "cmap2 = Pyx_after @ (cmap.astype(np.float32) / 255)\n",
    "\n",
    "cmap2 = (torch.abs(cmap2).numpy() * 255).clip(0, 255).astype(np.uint8)\n",
    "# cmap2[:, 3] = 255\n",
    "\n",
    "# cmap2 = index_with_P(cmap, Pyx)[:len(mesh2.vertices)]\n",
    "# print(cmap2.shape, len(mesh2.vertices))\n",
    "\n",
    "mesh2.visual.vertex_colors = cmap2[:len(mesh2.vertices)]\n",
    "scene.add_geometry(mesh2)\n",
    "\n",
    "scene.show()"
   ]
  },
  {
   "cell_type": "code",
   "execution_count": null,
   "metadata": {},
   "outputs": [],
   "source": [
    "#########################################\n",
    "# Y -> X\n",
    "#########################################\n",
    "\n",
    "scene.geometry.clear()\n",
    "\n",
    "cmap2 = trimesh.visual.color.interpolate(data_y['verts'][0][:, 1], 'hsv')\n",
    "\n",
    "\n",
    "# add the second mesh\n",
    "mesh2 = trimesh.Trimesh(vertices=data_y['verts'][0].cpu().numpy() + np.array([1, 0, 0]), faces=data_y['faces'][0].cpu().numpy())\n",
    "mesh2.visual.vertex_colors = cmap2[:len(mesh2.vertices)]\n",
    "scene.add_geometry(mesh2)\n",
    "\n",
    "# add the first mesh\n",
    "mesh1 = trimesh.Trimesh(vertices=data_x['verts'][0].cpu().numpy(), faces=data_x['faces'][0].cpu().numpy())\n",
    "\n",
    "cmap = Pxy_after @ (cmap2.astype(np.float32) / 255)\n",
    "cmap = (torch.abs(cmap).numpy() * 255).clip(0, 255).astype(np.uint8)\n",
    "cmap2[:, 3] = 255\n",
    "\n",
    "mesh1.visual.vertex_colors = cmap[:len(mesh1.vertices)]\n",
    "\n",
    "scene.add_geometry(mesh1)\n",
    "\n",
    "scene.show()"
   ]
  },
  {
   "cell_type": "markdown",
   "metadata": {},
   "source": [
    "# Hard correspondence matrix"
   ]
  },
  {
   "cell_type": "code",
   "execution_count": null,
   "metadata": {},
   "outputs": [],
   "source": [
    "from utils.fmap_util import nn_query, fmap2pointmap\n",
    "\n",
    "p2p_yx = fmap2pointmap(Cxy, phi_x, phi_y)\n",
    "p2p_xy = fmap2pointmap(Cyx, phi_y, phi_x)"
   ]
  },
  {
   "cell_type": "code",
   "execution_count": null,
   "metadata": {},
   "outputs": [],
   "source": [
    "#########################################\n",
    "# X -> Y\n",
    "#########################################\n",
    "\n",
    "scene.geometry.clear()\n",
    "\n",
    "cmap = trimesh.visual.color.interpolate(data_x['verts'][0][:, 1], 'jet')\n",
    "\n",
    "# add the first mesh\n",
    "mesh1 = trimesh.Trimesh(vertices=data_x['verts'][0].cpu().numpy(), faces=data_x['faces'][0].cpu().numpy())\n",
    "mesh1.visual.vertex_colors = cmap[:len(mesh1.vertices)]\n",
    "scene.add_geometry(mesh1)\n",
    "\n",
    "\n",
    "mesh2 = trimesh.Trimesh(vertices=data_y['verts'][0].cpu().numpy() + np.array([1, 0, 0]), faces=data_y['faces'][0].cpu().numpy())\n",
    "\n",
    "print(cmap.shape)\n",
    "\n",
    "# cmap2 = Pyx_after @ (cmap.astype(np.float32) / 255)\n",
    "\n",
    "# cmap2 = (torch.abs(cmap2).numpy() * 255).clip(0, 255).astype(np.uint8)\n",
    "# cmap2[:, 3] = 255\n",
    "\n",
    "cmap2 = index_with_P(cmap, p2p_yx)[:len(mesh2.vertices)]\n",
    "print(cmap2.shape, len(mesh2.vertices))\n",
    "\n",
    "mesh2.visual.vertex_colors = cmap2[:len(mesh2.vertices)]\n",
    "scene.add_geometry(mesh2)\n",
    "\n",
    "scene.show()"
   ]
  },
  {
   "cell_type": "code",
   "execution_count": null,
   "metadata": {},
   "outputs": [],
   "source": [
    "#########################################\n",
    "# Y -> X\n",
    "#########################################\n",
    "\n",
    "scene.geometry.clear()\n",
    "\n",
    "cmap2 = trimesh.visual.color.interpolate(data_y['verts'][0][:, 1], 'hsv')\n",
    "\n",
    "\n",
    "# add the second mesh\n",
    "mesh2 = trimesh.Trimesh(vertices=data_y['verts'][0].cpu().numpy() + np.array([1, 0, 0]), faces=data_y['faces'][0].cpu().numpy())\n",
    "mesh2.visual.vertex_colors = cmap2[:len(mesh2.vertices)]\n",
    "scene.add_geometry(mesh2)\n",
    "\n",
    "# add the first mesh\n",
    "mesh1 = trimesh.Trimesh(vertices=data_x['verts'][0].cpu().numpy(), faces=data_x['faces'][0].cpu().numpy())\n",
    "\n",
    "# cmap = Pxy_after @ (cmap2.astype(np.float32) / 255)\n",
    "# cmap = (torch.abs(cmap).numpy() * 255).clip(0, 255).astype(np.uint8)\n",
    "# cmap2[:, 3] = 255\n",
    "\n",
    "cmap = index_with_P(cmap2, p2p_xy)[:len(mesh1.vertices)]\n",
    "\n",
    "mesh1.visual.vertex_colors = cmap[:len(mesh1.vertices)]\n",
    "\n",
    "scene.add_geometry(mesh1)\n",
    "\n",
    "scene.show()"
   ]
  },
  {
   "cell_type": "markdown",
   "metadata": {},
   "source": [
    "# Texture transfer"
   ]
  },
  {
   "cell_type": "code",
   "execution_count": null,
   "metadata": {},
   "outputs": [],
   "source": [
    "import utils.texture_util as texture_util\n",
    "\n",
    "uv1 = texture_util.generate_tex_coords(data_x['verts'][0].cpu().numpy())\n",
    "uv2_after = Pyx_after @ uv1\n",
    "uv2_before = index_with_P(uv1, Pyx)"
   ]
  },
  {
   "cell_type": "code",
   "execution_count": null,
   "metadata": {},
   "outputs": [],
   "source": [
    "#########################################\n",
    "# X -> Y\n",
    "#########################################\n",
    "\n",
    "scene.geometry.clear()\n",
    "\n",
    "# read /home/s94zalek_hpc/shape_matching/figures/texture.png with PIL\n",
    "from PIL import Image\n",
    "\n",
    "texture_img = Image.open('/home/s94zalek_hpc/shape_matching/figures/texture.png')\n",
    "\n",
    "# create material\n",
    "material=trimesh.visual.material.SimpleMaterial(\n",
    "        image=texture_img,\n",
    "        diffuse=[255, 255, 255, 255],\n",
    "    )\n",
    "\n",
    "# add the first mesh\n",
    "mesh1 = trimesh.Trimesh(vertices=data_x['verts'][0].cpu().numpy(), faces=data_x['faces'][0].cpu().numpy())\n",
    "\n",
    "texture_visuals = trimesh.visual.texture.TextureVisuals(\n",
    "    uv=uv1[:len(mesh1.vertices)],\n",
    "    material=material\n",
    ")\n",
    "\n",
    "mesh1.visual = texture_visuals\n",
    "\n",
    "scene.add_geometry(mesh1)\n",
    "\n",
    "\n",
    "# correspondence we got from the functional map\n",
    "mesh2_after = trimesh.Trimesh(vertices=data_y['verts'][0].cpu().numpy() + np.array([1, 0, 0]), faces=data_y['faces'][0].cpu().numpy())\n",
    "\n",
    "texture_visuals_after = trimesh.visual.texture.TextureVisuals(\n",
    "    uv=uv2_after[:len(mesh2_after.vertices)],\n",
    "    material=material\n",
    ")\n",
    "mesh2_after.visual = texture_visuals_after\n",
    "\n",
    "scene.add_geometry(mesh2_after)\n",
    "\n",
    "scene.show()"
   ]
  },
  {
   "cell_type": "code",
   "execution_count": null,
   "metadata": {},
   "outputs": [],
   "source": []
  },
  {
   "cell_type": "code",
   "execution_count": null,
   "metadata": {},
   "outputs": [],
   "source": []
  }
 ],
 "metadata": {
  "kernelspec": {
   "display_name": "Python 3 (ipykernel)",
   "language": "python",
   "name": "python3"
  },
  "language_info": {
   "codemirror_mode": {
    "name": "ipython",
    "version": 3
   },
   "file_extension": ".py",
   "mimetype": "text/x-python",
   "name": "python",
   "nbconvert_exporter": "python",
   "pygments_lexer": "ipython3",
   "version": "3.8.19"
  }
 },
 "nbformat": 4,
 "nbformat_minor": 2
}
