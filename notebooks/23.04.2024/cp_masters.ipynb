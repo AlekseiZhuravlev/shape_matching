{
 "cells": [
  {
   "cell_type": "code",
   "execution_count": 7,
   "metadata": {},
   "outputs": [
    {
     "name": "stdout",
     "output_type": "stream",
     "text": [
      "Number of courses to get 88 CP:\n",
      "6 CP: 2, 9 CP: 8, 4 CP: 1\n",
      "6 CP: 5, 9 CP: 6, 4 CP: 1\n",
      "6 CP: 8, 9 CP: 4, 4 CP: 1\n",
      "6 CP: 11, 9 CP: 2, 4 CP: 1\n"
     ]
    }
   ],
   "source": [
    "max_6 = 15\n",
    "max_9 = 10\n",
    "max_4 = 2\n",
    "\n",
    "need_total = 88\n",
    "\n",
    "print(f'Number of courses to get {need_total} CP:')\n",
    "for n6 in range(1, max_6+1):\n",
    "    for n9 in range(1, max_9+1):\n",
    "        for n4 in range(1, max_4+1):\n",
    "            if n6*6 + n9*9 + n4*4 == need_total:\n",
    "                print(f'6 CP: {n6}, 9 CP: {n9}, 4 CP: {n4}')"
   ]
  },
  {
   "cell_type": "code",
   "execution_count": 6,
   "metadata": {},
   "outputs": [
    {
     "name": "stdout",
     "output_type": "stream",
     "text": [
      "Number of courses to get 83 CP:\n",
      "6 CP: 2, 9 CP: 7, 4 CP: 2\n",
      "6 CP: 5, 9 CP: 5, 4 CP: 2\n",
      "6 CP: 8, 9 CP: 3, 4 CP: 2\n",
      "6 CP: 11, 9 CP: 1, 4 CP: 2\n"
     ]
    }
   ],
   "source": [
    "need_total = 83\n",
    "\n",
    "print(f'Number of courses to get {need_total} CP:')\n",
    "for n6 in range(1, max_6+1):\n",
    "    for n9 in range(1, max_9+1):\n",
    "        for n4 in range(1, max_4+1):\n",
    "            if n6*6 + n9*9 + n4*4 == need_total:\n",
    "                print(f'6 CP: {n6}, 9 CP: {n9}, 4 CP: {n4}')"
   ]
  },
  {
   "cell_type": "code",
   "execution_count": null,
   "metadata": {},
   "outputs": [],
   "source": [
    "# I have now\n",
    "# 6 CP: 7\n",
    "# 9 CP: 4\n",
    "# 4 CP: 2 (or 1)"
   ]
  }
 ],
 "metadata": {
  "kernelspec": {
   "display_name": "Python 3 (ipykernel)",
   "language": "python",
   "name": "python3"
  }
 },
 "nbformat": 4,
 "nbformat_minor": 2
}
