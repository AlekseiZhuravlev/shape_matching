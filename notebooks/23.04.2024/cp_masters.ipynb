{
 "cells": [
  {
   "cell_type": "markdown",
   "metadata": {},
   "source": [
    "My courses\n",
    "- 9 CP - 3 x 1.3, 1 x 1.0 = 36 CP\n",
    "- 6 CP - 6 x 1.3 = 36 CP\n",
    "- 5 CP - 1 x 1.3 = 5 CP\n",
    "- 4 CP - 1 x 1.3, 2 x 1.7 = 4 or 8 CP\n",
    "\n",
    "81 CP x 1.3\n",
    "8 CP x 1.7"
   ]
  },
  {
   "cell_type": "code",
   "execution_count": 21,
   "metadata": {
    "metadata": {}
   },
   "outputs": [
    {
     "name": "stdout",
     "output_type": "stream",
     "text": [
      "Number of courses to get 88 CP:\n",
      "6 CP: 8, 9 CP: 3, 4 CP: 2, 5 CP: 1\n",
      "6 CP: 8, 9 CP: 4, 4 CP: 1, 5 CP: 0\n"
     ]
    }
   ],
   "source": [
    "max_6 = 9\n",
    "max_9 = 4\n",
    "max_4 = 3\n",
    "max_5 = 1\n",
    "\n",
    "need_total = 88\n",
    "\n",
    "print(f'Number of courses to get {need_total} CP:')\n",
    "for n6 in range(1, max_6+1):\n",
    "    for n9 in range(1, max_9+1):\n",
    "        for n4 in range(1, max_4+1):\n",
    "            for n5 in range(0, max_5+1):\n",
    "                if n6*6 + n9*9 + n4*4 + n5*5 == need_total:\n",
    "                    print(f'6 CP: {n6}, 9 CP: {n9}, 4 CP: {n4}, 5 CP: {n5}')\n",
    "            # if n6*6 + n9*9 + n4*4 == need_total:\n",
    "            #     print(f'6 CP: {n6}, 9 CP: {n9}, 4 CP: {n4}')"
   ]
  },
  {
   "cell_type": "code",
   "execution_count": 22,
   "metadata": {
    "metadata": {}
   },
   "outputs": [
    {
     "name": "stdout",
     "output_type": "stream",
     "text": [
      "Number of courses to get 89 CP:\n",
      "6 CP: 6, 9 CP: 4, 4 CP: 3, 5 CP: 1\n",
      "6 CP: 9, 9 CP: 2, 4 CP: 3, 5 CP: 1\n",
      "6 CP: 9, 9 CP: 3, 4 CP: 2, 5 CP: 0\n"
     ]
    }
   ],
   "source": [
    "max_6 = 9\n",
    "max_9 = 4\n",
    "max_4 = 3\n",
    "max_5 = 1\n",
    "\n",
    "need_total = 89\n",
    "\n",
    "print(f'Number of courses to get {need_total} CP:')\n",
    "for n6 in range(1, max_6+1):\n",
    "    for n9 in range(1, max_9+1):\n",
    "        for n4 in range(1, max_4+1):\n",
    "            for n5 in range(0, max_5+1):\n",
    "                if n6*6 + n9*9 + n4*4 + n5*5 == need_total:\n",
    "                    print(f'6 CP: {n6}, 9 CP: {n9}, 4 CP: {n4}, 5 CP: {n5}')\n",
    "            # if n6*6 + n9*9 + n4*4 == need_total:\n",
    "            #     print(f'6 CP: {n6}, 9 CP: {n9}, 4 CP: {n4}')"
   ]
  },
  {
   "cell_type": "code",
   "execution_count": 23,
   "metadata": {
    "metadata": {}
   },
   "outputs": [
    {
     "name": "stdout",
     "output_type": "stream",
     "text": [
      "Number of courses to get 90 CP:\n",
      "6 CP: 7, 9 CP: 4, 4 CP: 3, 5 CP: 0\n",
      "6 CP: 9, 9 CP: 3, 4 CP: 1, 5 CP: 1\n"
     ]
    }
   ],
   "source": [
    "max_6 = 9\n",
    "max_9 = 4\n",
    "max_4 = 3\n",
    "max_5 = 1\n",
    "\n",
    "need_total = 90\n",
    "\n",
    "print(f'Number of courses to get {need_total} CP:')\n",
    "for n6 in range(1, max_6+1):\n",
    "    for n9 in range(1, max_9+1):\n",
    "        for n4 in range(1, max_4+1):\n",
    "            for n5 in range(0, max_5+1):\n",
    "                if n6*6 + n9*9 + n4*4 + n5*5 == need_total:\n",
    "                    print(f'6 CP: {n6}, 9 CP: {n9}, 4 CP: {n4}, 5 CP: {n5}')\n",
    "            # if n6*6 + n9*9 + n4*4 == need_total:\n",
    "            #     print(f'6 CP: {n6}, 9 CP: {n9}, 4 CP: {n4}')"
   ]
  },
  {
   "cell_type": "code",
   "execution_count": 24,
   "metadata": {
    "metadata": {}
   },
   "outputs": [
    {
     "name": "stdout",
     "output_type": "stream",
     "text": [
      "Number of courses to get 91 CP:\n",
      "6 CP: 7, 9 CP: 4, 4 CP: 2, 5 CP: 1\n"
     ]
    }
   ],
   "source": [
    "max_6 = 9\n",
    "max_9 = 4\n",
    "max_4 = 3\n",
    "max_5 = 1\n",
    "\n",
    "need_total = 91\n",
    "\n",
    "print(f'Number of courses to get {need_total} CP:')\n",
    "for n6 in range(1, max_6+1):\n",
    "    for n9 in range(1, max_9+1):\n",
    "        for n4 in range(1, max_4+1):\n",
    "            for n5 in range(0, max_5+1):\n",
    "                if n6*6 + n9*9 + n4*4 + n5*5 == need_total:\n",
    "                    print(f'6 CP: {n6}, 9 CP: {n9}, 4 CP: {n4}, 5 CP: {n5}')\n",
    "            # if n6*6 + n9*9 + n4*4 == need_total:\n",
    "            #     print(f'6 CP: {n6}, 9 CP: {n9}, 4 CP: {n4}')"
   ]
  },
  {
   "cell_type": "code",
   "execution_count": null,
   "metadata": {},
   "outputs": [],
   "source": [
    "# I have now\n",
    "# 6 CP: 7\n",
    "# 9 CP: 4\n",
    "# 4 CP: 2 (or 1)"
   ]
  }
 ],
 "metadata": {
  "kernelspec": {
   "display_name": "Python 3 (ipykernel)",
   "language": "python",
   "name": "python3"
  },
  "language_info": {
   "codemirror_mode": {
    "name": "ipython",
    "version": 3
   },
   "file_extension": ".py",
   "mimetype": "text/x-python",
   "name": "python",
   "nbconvert_exporter": "python",
   "pygments_lexer": "ipython3",
   "version": "3.8.19"
  }
 },
 "nbformat": 4,
 "nbformat_minor": 2
}
