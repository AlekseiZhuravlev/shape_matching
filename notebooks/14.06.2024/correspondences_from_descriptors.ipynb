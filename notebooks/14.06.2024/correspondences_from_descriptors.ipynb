{
 "cells": [
  {
   "cell_type": "code",
   "execution_count": 1,
   "metadata": {},
   "outputs": [],
   "source": [
    "import sys\n",
    "sys.path.append('/home/s94zalek_hpc/shape_matching')\n",
    "\n",
    "import torch\n",
    "\n",
    "sys.path.append('/home/s94zalek_hpc/shape_matching/pyFM_fork')\n",
    "import pyFM\n",
    "\n",
    "import numpy as np\n",
    "\n",
    "from pyFM.mesh import TriMesh\n",
    "from pyFM.functional import FunctionalMapping\n",
    "\n",
    "import trimesh\n",
    "\n",
    "scene = trimesh.Scene()"
   ]
  },
  {
   "cell_type": "code",
   "execution_count": 4,
   "metadata": {},
   "outputs": [
    {
     "name": "stderr",
     "output_type": "stream",
     "text": [
      "Loading base dataset: 100%|███████████████████████████████████████████████████████████████████████████████████████| 80/80 [00:20<00:00,  3.99it/s]\n"
     ]
    }
   ],
   "source": [
    "import my_code.diffusion_training.data_loading as data_loading\n",
    "\n",
    "test_dataset = data_loading.get_val_dataset(\n",
    "    'FAUST_orig', 'train', 200\n",
    "    )[1]"
   ]
  },
  {
   "cell_type": "code",
   "execution_count": 5,
   "metadata": {},
   "outputs": [],
   "source": [
    "from pyFM.mesh import TriMesh\n",
    "\n",
    "data_10 = test_dataset[15]\n",
    "\n",
    "mesh1 = TriMesh(\n",
    "    data_10['first']['verts'],\n",
    "    data_10['first']['faces'],\n",
    "    center=True, area_normalize=True\n",
    "    ).process(k=150, intrinsic=True)\n",
    "\n",
    "mesh2 = TriMesh(\n",
    "    data_10['second']['verts'],\n",
    "    data_10['second']['faces'],\n",
    "    center=True, area_normalize=True\n",
    "    ).process(k=150, intrinsic=True)\n",
    "\n",
    "mesh1_geo = mesh1.get_geodesic()\n",
    "mesh2_geo = mesh2.get_geodesic()"
   ]
  },
  {
   "cell_type": "code",
   "execution_count": 61,
   "metadata": {},
   "outputs": [
    {
     "data": {
      "text/plain": [
       "array([0.        , 0.0113947 , 0.01180185, 0.00998994, 0.01930558,\n",
       "       0.02143227, 0.02016001, 0.02093965, 0.04879107, 0.05484311])"
      ]
     },
     "execution_count": 61,
     "metadata": {},
     "output_type": "execute_result"
    }
   ],
   "source": [
    "# torch.cdist(torch.tensor(mesh1.vertices), torch.tensor(mesh1.vertices)).numpy(), mesh1_geo\n",
    "# torch.cdist(data_10['first']['verts'], data_10['first']['verts']), mesh1_geo\n",
    "\n",
    "# torch.cdist(data_10['first']['verts'], data_10['first']['verts']).max()\n",
    "\n",
    "mesh1_geo[0][:10]"
   ]
  },
  {
   "cell_type": "code",
   "execution_count": 8,
   "metadata": {},
   "outputs": [],
   "source": [
    "from pyFM.signatures.WKS_functions import mesh_WKS\n",
    "from pyFM.signatures.HKS_functions import mesh_HKS\n",
    "from pyFM.spectral.nn_utils import knn_query\n",
    "\n",
    "wks_descr1 = mesh_WKS(mesh1, num_E=100, k=100)\n",
    "wks_descr2 = mesh_WKS(mesh2, num_E=100, k=100)\n",
    "\n",
    "hks_descr1 = mesh_HKS(mesh1, num_T=100, k=100)\n",
    "hks_descr2 = mesh_HKS(mesh2, num_T=100, k=100)\n",
    "\n",
    "# WKS initialisation\n",
    "p2p_21_wks = knn_query(wks_descr1, wks_descr2, k=1) # (n2,) initialisation with 1-NN\n",
    "\n",
    "# HKS initialisation\n",
    "p2p_21_hks = knn_query(hks_descr1, hks_descr2, k=1) # (n2,) initialisation with 1-NN"
   ]
  },
  {
   "cell_type": "code",
   "execution_count": 20,
   "metadata": {},
   "outputs": [
    {
     "name": "stdout",
     "output_type": "stream",
     "text": [
      "Equal indices: [ 249  414  768  972  974  976  977  981 1143 1472 3208 3372 3383 3384\n",
      " 3387 3394 3399 3402 4456 4575 4596 4603 4642 4744 4853 5001 5011 5365\n",
      " 6283 6608 6770 6799 6817]\n",
      "Corresponding values: [ 414  414 1236 4988 4988 4477 4477 4477 4989 1075 3324 3440 3465 3454\n",
      " 3465 3454 3403 3440 4988 1155 1076 1076 1076 5365 5010 1076 5010 5010\n",
      " 4741 3324 3403 3403 3374]\n"
     ]
    }
   ],
   "source": [
    "# print indices where p2p_21_wks and p2p_21_hks are equal\n",
    "idx_equal = np.where(p2p_21_wks == p2p_21_hks)[0]\n",
    "corr_values = p2p_21_wks[idx_equal]\n",
    "\n",
    "print('Equal indices:', idx_equal)\n",
    "print('Corresponding values:', corr_values)\n"
   ]
  },
  {
   "cell_type": "code",
   "execution_count": 19,
   "metadata": {},
   "outputs": [
    {
     "data": {
      "text/plain": [
       "(33, 6890)"
      ]
     },
     "execution_count": 19,
     "metadata": {},
     "output_type": "execute_result"
    }
   ],
   "source": [
    "mesh2_geo[idx_equal[i]].shape"
   ]
  },
  {
   "cell_type": "code",
   "execution_count": 23,
   "metadata": {},
   "outputs": [
    {
     "name": "stdout",
     "output_type": "stream",
     "text": [
      "Distances mean: 0.353800, median: 0.085387\n"
     ]
    }
   ],
   "source": [
    "distances = []\n",
    "\n",
    "for i in range(len(idx_equal)):\n",
    "    geo_dist = mesh1_geo[idx_equal[i]][corr_values[i]]\n",
    "    distances.append(geo_dist)\n",
    "    # print('Geodesic distance:', geo_dist)\n",
    "    \n",
    "print(f'Distances mean: {np.mean(distances):3f}, median: {np.median(distances):3f}')"
   ]
  },
  {
   "cell_type": "code",
   "execution_count": 39,
   "metadata": {},
   "outputs": [],
   "source": [
    "closest_verts_by_descriptors = []\n",
    "for i in range(len(p2p_21_hks)):\n",
    "    payload = {\n",
    "        'vertex1': i,\n",
    "        'vertex2': p2p_21_hks[i],\n",
    "        'wks_diff_min': np.linalg.norm(wks_descr1[i] - wks_descr2[p2p_21_hks[i]]),\n",
    "        'hks_diff_min': np.linalg.norm(hks_descr1[i] - hks_descr2[p2p_21_hks[i]]),\n",
    "    }\n",
    "    payload['total_diff'] = payload['wks_diff_min'] + payload['hks_diff_min']\n",
    "    \n",
    "    closest_verts_by_descriptors.append(payload)\n",
    "    \n",
    "closest_verts_by_descriptors = sorted(closest_verts_by_descriptors, key=lambda x: x['total_diff'])"
   ]
  },
  {
   "cell_type": "code",
   "execution_count": 45,
   "metadata": {},
   "outputs": [],
   "source": [
    "distances = []\n",
    "\n",
    "for i in range(len(closest_verts_by_descriptors)):\n",
    "    geo_dist = mesh2_geo[closest_verts_by_descriptors[i]['vertex1']][closest_verts_by_descriptors[i]['vertex2']]\n",
    "                                                                     \n",
    "    closest_verts_by_descriptors[i]['geo_dist'] = geo_dist\n",
    "                                                                     \n",
    "    # distances.append(geo_dist)\n",
    "    # print('Geodesic distance:', geo_dist)\n",
    "    \n",
    "# print(f'Distances mean: {np.mean(distances):3f}, median: {np.median(distances):3f}')\n"
   ]
  },
  {
   "cell_type": "code",
   "execution_count": 63,
   "metadata": {},
   "outputs": [
    {
     "name": "stdout",
     "output_type": "stream",
     "text": [
      "mean 0.07159305002843927\n",
      "median 0.06842663636065116\n"
     ]
    }
   ],
   "source": [
    "print('mean', np.mean([x['geo_dist'] for x in closest_verts_by_descriptors[:5]]))\n",
    "print('median', np.median([x['geo_dist'] for x in closest_verts_by_descriptors[:5]]))"
   ]
  }
 ],
 "metadata": {
  "kernelspec": {
   "display_name": "Python 3 (ipykernel)",
   "language": "python",
   "name": "python3"
  }
 },
 "nbformat": 4,
 "nbformat_minor": 2
}
