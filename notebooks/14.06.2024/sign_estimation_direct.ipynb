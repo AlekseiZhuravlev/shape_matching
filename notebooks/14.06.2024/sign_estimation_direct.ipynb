{
 "cells": [
  {
   "cell_type": "code",
   "execution_count": 1,
   "metadata": {},
   "outputs": [],
   "source": [
    "import sys\n",
    "sys.path.append('/home/s94zalek_hpc/shape_matching')\n",
    "\n",
    "import torch\n",
    "\n",
    "sys.path.append('/home/s94zalek_hpc/shape_matching/pyFM_fork')\n",
    "import pyFM\n",
    "\n",
    "import numpy as np\n",
    "\n",
    "from pyFM.mesh import TriMesh\n",
    "from pyFM.functional import FunctionalMapping\n",
    "\n",
    "import trimesh\n",
    "\n",
    "scene = trimesh.Scene()"
   ]
  },
  {
   "cell_type": "code",
   "execution_count": 2,
   "metadata": {},
   "outputs": [
    {
     "name": "stdout",
     "output_type": "stream",
     "text": [
      "Jupyter environment detected. Enabling Open3D WebVisualizer.\n",
      "[Open3D INFO] WebRTC GUI backend enabled.\n",
      "[Open3D INFO] WebRTCWindowSystem: HTTP handshake server disabled.\n"
     ]
    },
    {
     "name": "stderr",
     "output_type": "stream",
     "text": [
      "Loading base dataset: 100%|████████████████████████████████████████████████████████████████████████████████████████████| 80/80 [00:15<00:00,  5.13it/s]\n"
     ]
    }
   ],
   "source": [
    "import my_code.diffusion_training.data_loading as data_loading\n",
    "\n",
    "test_dataset = data_loading.get_val_dataset(\n",
    "    'FAUST_r', 'train', 200\n",
    "    )[1]"
   ]
  },
  {
   "cell_type": "code",
   "execution_count": 3,
   "metadata": {},
   "outputs": [],
   "source": [
    "data_10 = test_dataset[15]"
   ]
  },
  {
   "cell_type": "code",
   "execution_count": 4,
   "metadata": {},
   "outputs": [],
   "source": [
    "from pyFM.mesh import TriMesh\n",
    "\n",
    "mesh1 = TriMesh(\n",
    "    data_10['first']['verts'],\n",
    "    data_10['first']['faces'],\n",
    "    center=True, area_normalize=True\n",
    "    ).process(k=150, intrinsic=True)\n",
    "\n",
    "mesh2 = TriMesh(\n",
    "    data_10['second']['verts'],\n",
    "    data_10['second']['faces'],\n",
    "    center=True, area_normalize=True\n",
    "    ).process(k=150, intrinsic=True)"
   ]
  },
  {
   "cell_type": "code",
   "execution_count": 5,
   "metadata": {},
   "outputs": [],
   "source": [
    "mesh1_geo = mesh1.get_geodesic()\n",
    "mesh2_geo = mesh2.get_geodesic()"
   ]
  },
  {
   "cell_type": "markdown",
   "metadata": {},
   "source": [
    "# Visualize vertex 0"
   ]
  },
  {
   "cell_type": "code",
   "execution_count": null,
   "metadata": {},
   "outputs": [],
   "source": [
    "import trimesh.visual\n",
    "\n",
    "\n",
    "mesh1_trimesh = trimesh.Trimesh(\n",
    "    vertices=mesh1.vertices,\n",
    "    faces=mesh1.faces\n",
    "    )\n",
    "cmap = trimesh.visual.color.interpolate(mesh1_trimesh.vertices[:, 1], 'jet')\n",
    "cmap[0] = np.zeros_like(cmap[0])\n",
    "\n",
    "mesh1_trimesh.visual.vertex_colors = cmap\n",
    "\n",
    "mesh2_trimesh = trimesh.Trimesh(\n",
    "    vertices=mesh2.vertices + np.array([1, 0, 0]),\n",
    "    faces=mesh2.faces\n",
    "    )\n",
    "\n",
    "scene.geometry.clear()\n",
    "\n",
    "scene.add_geometry(mesh1_trimesh)\n",
    "scene.add_geometry(mesh2_trimesh)\n",
    "\n",
    "scene.show()"
   ]
  },
  {
   "cell_type": "code",
   "execution_count": 24,
   "metadata": {},
   "outputs": [
    {
     "name": "stdout",
     "output_type": "stream",
     "text": [
      "Distance to anchor, sum: 1.54, mean: 0.031\n",
      "Closest [  67 1330   70    1   73   15 2380 1328  117  153   27   69   68  135\n",
      "  108   14  154 1805   13  150 1329  114   37  152   45 2381  120 1807\n",
      "   72 1806  138  123 2558   75   44  101   74   46  121 2598  118 2564\n",
      "   98 2596 4299 1800 2613 1799  107 2638]\n",
      "Distances [0.009 0.009 0.009 0.01  0.012 0.013 0.016 0.018 0.018 0.019 0.02  0.02\n",
      " 0.021 0.023 0.023 0.025 0.025 0.026 0.026 0.027 0.027 0.03  0.031 0.032\n",
      " 0.032 0.032 0.033 0.034 0.034 0.035 0.035 0.036 0.037 0.038 0.039 0.039\n",
      " 0.039 0.04  0.041 0.042 0.042 0.043 0.044 0.045 0.046 0.047 0.047 0.048\n",
      " 0.048 0.048]\n"
     ]
    }
   ],
   "source": [
    "# get 20 closest vertices on mesh1 using geodesic distance\n",
    "\n",
    "anchor_vertex = 0\n",
    "n_closest_vertices = 50\n",
    "\n",
    "# get 20 closest vertices on mesh1 using geodesic distance\n",
    "geo_dist_anchor = mesh2_geo[anchor_vertex]\n",
    "closest_vertices = np.argsort(geo_dist_anchor)[1:n_closest_vertices + 1]\n",
    "\n",
    "distances_to_anchor = geo_dist_anchor[closest_vertices]\n",
    "print(f'Distance to anchor, sum: {distances_to_anchor.sum():.2f}, mean: {distances_to_anchor.mean():.3f}')\n",
    "\n",
    "print('Closest', closest_vertices)\n",
    "\n",
    "# round to 3 decimal places\n",
    "print('Distances', np.round(distances_to_anchor, 3))"
   ]
  },
  {
   "cell_type": "markdown",
   "metadata": {},
   "source": [
    "# Visuzalize anchor vertex and its neighbors"
   ]
  },
  {
   "cell_type": "code",
   "execution_count": null,
   "metadata": {},
   "outputs": [],
   "source": [
    "import trimesh.visual\n",
    "\n",
    "\n",
    "mesh1_trimesh = trimesh.Trimesh(\n",
    "    vertices=mesh1.vertices,\n",
    "    faces=mesh1.faces\n",
    "    )\n",
    "\n",
    "mesh2_trimesh = trimesh.Trimesh(\n",
    "    vertices=mesh2.vertices + np.array([1, 0, 0]),\n",
    "    faces=mesh2.faces\n",
    "    )\n",
    "\n",
    "cmap = trimesh.visual.color.interpolate(mesh2_trimesh.vertices[:, 1], 'jet')\n",
    "cmap[anchor_vertex] = np.ones_like(cmap[anchor_vertex]) * 255\n",
    "\n",
    "for i in closest_vertices:\n",
    "    cmap[i] = np.zeros_like(cmap[i])\n",
    "\n",
    "mesh2_trimesh.visual.vertex_colors = cmap\n",
    "\n",
    "scene.geometry.clear()\n",
    "\n",
    "scene.add_geometry(mesh1_trimesh)\n",
    "scene.add_geometry(mesh2_trimesh)\n",
    "\n",
    "scene.show()"
   ]
  },
  {
   "cell_type": "code",
   "execution_count": 36,
   "metadata": {},
   "outputs": [],
   "source": [
    "import utils.fmap_util as fmap_util\n",
    "\n",
    "fmap_dim = 16\n",
    "\n",
    "C_gt_xy = data_10['second']['C_gt_xy'][0][:fmap_dim, :fmap_dim]\n",
    "data_x = data_10['first']\n",
    "data_y = data_10['second']\n",
    "\n",
    "p2p_gt = fmap_util.fmap2pointmap(\n",
    "    C12=C_gt_xy,\n",
    "    evecs_x=data_x['evecs'][:, :fmap_dim],\n",
    "    evecs_y=data_y['evecs'][:, :fmap_dim],\n",
    "    )"
   ]
  },
  {
   "cell_type": "code",
   "execution_count": 35,
   "metadata": {},
   "outputs": [
    {
     "name": "stdout",
     "output_type": "stream",
     "text": [
      "Distance to anchor, sum: 10.10, mean: 0.202, median: 0.021\n",
      "closest_to_mesh1 tensor([6800, 6766, 6766, 6800, 6766, 6800, 6766, 6766, 3399, 6766, 6765, 6800,\n",
      "        3399, 6800, 6766, 6800, 6766, 6766, 6765, 6765, 6766, 3399, 6766, 6766,\n",
      "        6734, 6800, 6765, 3399, 6765, 6766, 6766, 6765, 3399, 6765, 6734, 6766,\n",
      "        6765, 6734, 6765, 6766, 6766, 6766, 6765, 6766, 3401, 6765, 3401, 3399,\n",
      "        6765, 6766])\n",
      "distances [0.    0.021 0.021 0.    0.021 0.    0.021 0.021 1.181 0.021 0.016 0.\n",
      " 1.181 0.    0.021 0.    0.021 0.021 0.016 0.016 0.021 1.181 0.021 0.021\n",
      " 0.015 0.    0.016 1.181 0.016 0.021 0.021 0.016 1.181 0.016 0.015 0.021\n",
      " 0.016 0.015 0.016 0.021 0.021 0.021 0.016 0.021 1.182 0.016 1.182 1.181\n",
      " 0.016 0.021]\n"
     ]
    }
   ],
   "source": [
    "anchor_to_mesh1 = p2p_gt[anchor_vertex]\n",
    "closest_to_mesh1 = p2p_gt[closest_vertices]\n",
    "\n",
    "distances_to_anchor_p2p = mesh1_geo[anchor_to_mesh1][closest_to_mesh1]\n",
    "\n",
    "print(f'Distance to anchor, sum: {distances_to_anchor_p2p.sum():.2f}, mean: {distances_to_anchor_p2p.mean():.3f}, median: {np.median(distances_to_anchor_p2p):.3f}')\n",
    "print('closest_to_mesh1', closest_to_mesh1)\n",
    "print('distances', np.round(distances_to_anchor_p2p, 3))\n"
   ]
  },
  {
   "cell_type": "markdown",
   "metadata": {},
   "source": [
    "# How does changing the sign of eigenfunction change the functional map?"
   ]
  },
  {
   "cell_type": "code",
   "execution_count": 25,
   "metadata": {},
   "outputs": [
    {
     "name": "stdout",
     "output_type": "stream",
     "text": [
      "random_sign 8\n",
      "Nonzero elements 70 / 256\n"
     ]
    },
    {
     "data": {
      "image/png": "[encoded data removed]",
      "text/plain": [
       "<Figure size 1000x500 with 3 Axes>"
      ]
     },
     "metadata": {},
     "output_type": "display_data"
    }
   ],
   "source": [
    "import matplotlib.pyplot as plt\n",
    "\n",
    "fmap_dim = 16\n",
    "\n",
    "C_gt_xy = data_10['second']['C_gt_xy'][0][:fmap_dim, :fmap_dim]\n",
    "data_x = data_10['first']\n",
    "data_y = data_10['second']\n",
    "\n",
    "\n",
    "evecs_x_flip = data_x['evecs'][:, :fmap_dim].clone()\n",
    "\n",
    "# change random sign to -1\n",
    "random_sign = torch.randint(0, fmap_dim, (1,)).item()\n",
    "print('random_sign', random_sign)\n",
    "evecs_x_flip[:, random_sign] *= -1\n",
    "\n",
    "C_gt_xy_flip = torch.linalg.lstsq(\n",
    "    data_y['evecs'][:, :fmap_dim][data_y['corr']],\n",
    "    evecs_x_flip[data_x['corr']]\n",
    "    ).solution\n",
    "\n",
    "fig, axs = plt.subplots(1, 3, figsize=(10, 5))\n",
    "\n",
    "axs[0].imshow(C_gt_xy, cmap='bwr', vmin=-1, vmax=1)\n",
    "axs[0].set_title('C_gt_xy')\n",
    "\n",
    "axs[1].imshow(C_gt_xy_flip, cmap='bwr', vmin=-1, vmax=1)\n",
    "axs[1].set_title('C_gt_xy_flip')\n",
    "\n",
    "sign_change = torch.sign(C_gt_xy) * torch.sign(C_gt_xy_flip)\n",
    "sign_change[C_gt_xy.abs() < 0.05] = 0\n",
    "\n",
    "print(f'Nonzero elements {(C_gt_xy.abs() > 0.05).int().sum()} / {C_gt_xy.numel()}')\n",
    "\n",
    "axs[2].imshow(sign_change, cmap='bwr', vmin=-1, vmax=1)\n",
    "axs[2].set_title('Signs')\n",
    "\n",
    "plt.show()\n"
   ]
  },
  {
   "cell_type": "code",
   "execution_count": null,
   "metadata": {},
   "outputs": [],
   "source": [
    "total = 0\n",
    "\n",
    "for side in range(1, 64):\n",
    "    iter_per_side = 2**(int(side / 2))\n",
    "    total += iter_per_side\n",
    "    \n",
    "    print(f'{side}) +{iter_per_side} ={total}')"
   ]
  },
  {
   "cell_type": "markdown",
   "metadata": {},
   "source": [
    "# Full pipeline"
   ]
  },
  {
   "cell_type": "code",
   "execution_count": 6,
   "metadata": {},
   "outputs": [],
   "source": [
    "import utils.fmap_util as fmap_util\n",
    "\n",
    "def get_distance_to_anchor(Cxy, evecs_x, evecs_y, anchor_vertex_list, closest_vertices_list, mesh_geo):\n",
    "\n",
    "    p2p_gt = fmap_util.fmap2pointmap(\n",
    "        C12=Cxy,\n",
    "        evecs_x=evecs_x,\n",
    "        evecs_y=evecs_y,\n",
    "        )\n",
    "\n",
    "    distance_sum = 0\n",
    "    for i in range(len(anchor_vertex_list)):\n",
    "        anchor_vertex = anchor_vertex_list[i]\n",
    "        closest_vertices = closest_vertices_list[i]\n",
    "\n",
    "        anchor_to_mesh = p2p_gt[anchor_vertex]\n",
    "        closest_to_mesh = p2p_gt[closest_vertices]\n",
    "\n",
    "        distances_to_anchor_p2p = mesh_geo[anchor_to_mesh][closest_to_mesh]\n",
    "        \n",
    "        distance_sum += distances_to_anchor_p2p.sum()\n",
    "        \n",
    "    return distance_sum\n"
   ]
  },
  {
   "cell_type": "code",
   "execution_count": 22,
   "metadata": {},
   "outputs": [
    {
     "name": "stdout",
     "output_type": "stream",
     "text": [
      "Using 100 anchor vertices and 50 closest vertices\n",
      "Distance to anchor, sum: 157.15\n"
     ]
    }
   ],
   "source": [
    "anchor_vertex_list = list(range(0, 5000, 50))\n",
    "n_closest_vertices = 50\n",
    "\n",
    "print(f'Using {len(anchor_vertex_list)} anchor vertices and {n_closest_vertices} closest vertices')\n",
    "\n",
    "closest_vertices_list = []\n",
    "\n",
    "# get closest vertices on mesh2 using geodesic distance\n",
    "\n",
    "min_distance_sum = 0\n",
    "for i in range(len(anchor_vertex_list)):\n",
    "    anchor_vertex = anchor_vertex_list[i]\n",
    "    geo_dist_anchor = mesh2_geo[anchor_vertex]\n",
    "    closest_vertices = np.argsort(geo_dist_anchor)[1:n_closest_vertices + 1]\n",
    "    closest_vertices_list.append(closest_vertices)\n",
    "    \n",
    "    distances_to_anchor_gt = geo_dist_anchor[closest_vertices]\n",
    "    min_distance_sum += distances_to_anchor_gt.sum()\n",
    "    \n",
    "print(f'Distance to anchor, sum: {min_distance_sum:.2f}')"
   ]
  },
  {
   "cell_type": "code",
   "execution_count": 45,
   "metadata": {},
   "outputs": [
    {
     "name": "stdout",
     "output_type": "stream",
     "text": [
      "166.70989493992622\n"
     ]
    }
   ],
   "source": [
    "fmap_dim = 11\n",
    "\n",
    "C_gt_xy = data_10['second']['C_gt_xy'][0][:fmap_dim, :fmap_dim]\n",
    "data_x = data_10['first']\n",
    "data_y = data_10['second']\n",
    "\n",
    "print(get_distance_to_anchor(\n",
    "    C_gt_xy, \n",
    "    data_x['evecs'][:, :fmap_dim],\n",
    "    data_y['evecs'][:, :fmap_dim], \n",
    "    anchor_vertex_list, \n",
    "    closest_vertices_list, \n",
    "    mesh1_geo))"
   ]
  },
  {
   "cell_type": "code",
   "execution_count": 46,
   "metadata": {},
   "outputs": [
    {
     "name": "stdout",
     "output_type": "stream",
     "text": [
      "n_nonzero tensor(19)\n",
      "524288\n"
     ]
    },
    {
     "name": "stderr",
     "output_type": "stream",
     "text": [
      "Lowest distance: 123.72: 100%|█████████████████████████████████████████████████████████████████████████████████████| 5000/5000 [03:09<00:00, 26.44it/s]"
     ]
    },
    {
     "name": "stdout",
     "output_type": "stream",
     "text": [
      "tensor(3427)\n"
     ]
    },
    {
     "name": "stderr",
     "output_type": "stream",
     "text": [
      "\n"
     ]
    }
   ],
   "source": [
    "import itertools\n",
    "from tqdm import tqdm\n",
    "\n",
    "# start with absolute values\n",
    "C_xy_init = C_gt_xy.abs().clone()\n",
    "\n",
    "# assert torch.allclose(C_xy_init.reshape(-1).reshape(fmap_dim, fmap_dim), C_xy_init)\n",
    "C_xy_init = C_xy_init.reshape(-1)\n",
    "\n",
    "# count elements with abs > 0.05\n",
    "n_nonzero = (C_xy_init > 0.1).int().sum()\n",
    "indices_nonzero = torch.nonzero(C_xy_init > 0.1).squeeze()\n",
    "\n",
    "print('n_nonzero', n_nonzero)\n",
    "\n",
    "# create n_nonzero permutations of - signs\n",
    "sign_combinations = list(itertools.product([-1, 1], repeat=n_nonzero))\n",
    "\n",
    "\n",
    "print(len(sign_combinations))\n",
    "\n",
    "# copy C_xy_init sign_combinations times and assign signs from sign_combinations to nonzero elements\n",
    "C_xy_candidates = C_xy_init.repeat(len(sign_combinations), 1)\n",
    "for i, signs in enumerate(sign_combinations):\n",
    "    C_xy_candidates[i, indices_nonzero] *= torch.tensor(signs)\n",
    "    \n",
    "distances_list = []\n",
    "lowest_distance = 1e9\n",
    "\n",
    "iterator = tqdm(C_xy_candidates[:5000])\n",
    "for C_xy in iterator:\n",
    "    C_xy = C_xy.reshape(fmap_dim, fmap_dim)\n",
    "    \n",
    "    distance_curr = get_distance_to_anchor(\n",
    "        C_xy, \n",
    "        data_x['evecs'][:, :fmap_dim],\n",
    "        data_y['evecs'][:, :fmap_dim], \n",
    "        anchor_vertex_list, \n",
    "        closest_vertices_list, \n",
    "        mesh1_geo)\n",
    "    \n",
    "    if distance_curr < lowest_distance:\n",
    "        lowest_distance = distance_curr\n",
    "        iterator.set_description(f'Lowest distance: {lowest_distance:.2f}')\n",
    "    \n",
    "    distances_list.append(distance_curr)\n",
    "    \n",
    "# get index of the best candidate\n",
    "best_idx = torch.tensor(distances_list).argmin()\n",
    "print(best_idx)\n",
    "\n"
   ]
  },
  {
   "cell_type": "code",
   "execution_count": 47,
   "metadata": {},
   "outputs": [],
   "source": [
    "lowest_distance_indices = torch.tensor(distances_list).argsort()"
   ]
  },
  {
   "cell_type": "code",
   "execution_count": 48,
   "metadata": {},
   "outputs": [
    {
     "name": "stdout",
     "output_type": "stream",
     "text": [
      "123.7171203980392 126.63723901256706\n"
     ]
    }
   ],
   "source": [
    "print(distances_list[lowest_distance_indices[0]], distances_list[lowest_distance_indices[1]])"
   ]
  },
  {
   "cell_type": "code",
   "execution_count": 49,
   "metadata": {},
   "outputs": [
    {
     "name": "stdout",
     "output_type": "stream",
     "text": [
      "(-1, -1, -1, -1, -1, -1, -1, 1, 1, -1, 1, -1, 1, 1, -1, -1, -1, 1, 1)\n",
      "(-1, -1, -1, -1, -1, -1, -1, 1, 1, 1, 1, -1, 1, 1, -1, -1, -1, 1, 1)\n"
     ]
    },
    {
     "data": {
      "image/png": "[encoded data removed]",
      "text/plain": [
       "<Figure size 1000x500 with 3 Axes>"
      ]
     },
     "metadata": {},
     "output_type": "display_data"
    }
   ],
   "source": [
    "import matplotlib.pyplot as plt\n",
    "\n",
    "fig, axs = plt.subplots(1, 3, figsize=(10, 5))\n",
    "\n",
    "axs[0].imshow(C_gt_xy, cmap='bwr', vmin=-1, vmax=1)\n",
    "\n",
    "axs[1].imshow(C_xy_candidates[lowest_distance_indices[0]].reshape(fmap_dim, fmap_dim), cmap='bwr', vmin=-1, vmax=1)\n",
    "\n",
    "axs[2].imshow(C_xy_candidates[lowest_distance_indices[1]].reshape(fmap_dim, fmap_dim), cmap='bwr', vmin=-1, vmax=1)\n",
    "\n",
    "\n",
    "print(sign_combinations[lowest_distance_indices[0]])\n",
    "print(sign_combinations[lowest_distance_indices[1]])\n",
    "plt.show()\n"
   ]
  }
 ],
 "metadata": {
  "kernelspec": {
   "display_name": "Python 3 (ipykernel)",
   "language": "python",
   "name": "python3"
  }
 },
 "nbformat": 4,
 "nbformat_minor": 2
}
