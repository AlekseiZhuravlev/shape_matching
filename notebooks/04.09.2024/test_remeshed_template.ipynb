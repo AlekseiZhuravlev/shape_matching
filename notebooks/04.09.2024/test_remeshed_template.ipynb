{
 "cells": [
  {
   "cell_type": "code",
   "execution_count": null,
   "metadata": {},
   "outputs": [],
   "source": [
    "import torch\n",
    "\n",
    "rand_tensor = torch.rand(12000, 4, 32, 32)"
   ]
  },
  {
   "cell_type": "code",
   "execution_count": null,
   "metadata": {},
   "outputs": [],
   "source": [
    "# print the size of the tensor in gigabytes\n",
    "print(rand_tensor.element_size() * rand_tensor.nelement() / 1024**3)"
   ]
  },
  {
   "cell_type": "code",
   "execution_count": null,
   "metadata": {},
   "outputs": [],
   "source": [
    "import trimesh\n",
    "\n",
    "scene = trimesh.Scene()"
   ]
  },
  {
   "cell_type": "code",
   "execution_count": null,
   "metadata": {},
   "outputs": [],
   "source": [
    "template_3dc = trimesh.load_mesh('/home/s94zalek_hpc/shape_matching/data/SURREAL_full/template/3DC/template.ply')\n",
    "template_3dc.export('/home/s94zalek_hpc/shape_matching/data/SURREAL_full/template/original/template.off')"
   ]
  },
  {
   "cell_type": "code",
   "execution_count": null,
   "metadata": {},
   "outputs": [],
   "source": [
    "import torch\n",
    "\n",
    "template_original = trimesh.load_mesh('/home/s94zalek_hpc/shape_matching/data/SURREAL_full/template/original/template.off')\n",
    "\n",
    "verts_orig = torch.tensor(template_original.vertices, dtype=torch.float32)\n",
    "faces_orig = torch.tensor(template_original.faces, dtype=torch.int32)\n",
    "\n",
    "scene.geometry.clear()\n",
    "\n",
    "scene.add_geometry(trimesh.creation.axis(origin_size=0.1))\n",
    "scene.add_geometry(template_original)\n",
    "\n",
    "scene.show()"
   ]
  },
  {
   "cell_type": "code",
   "execution_count": null,
   "metadata": {},
   "outputs": [],
   "source": [
    "import numpy as np\n",
    "\n",
    "corr_orig = torch.tensor(list(range(len(verts_orig)))) + 1\n",
    "# save corr_orig as a .txt file to /home/s94zalek_hpc/shape_matching/data/SURREAL_full/template/original\n",
    "np.savetxt('/home/s94zalek_hpc/shape_matching/data/SURREAL_full/template/original/corr.txt', corr_orig.numpy(), fmt='%d')"
   ]
  },
  {
   "cell_type": "code",
   "execution_count": null,
   "metadata": {},
   "outputs": [],
   "source": [
    "# read /home/s94zalek_hpc/shape_matching/data/SURREAL_full/template/original/corr_orig.txt as torch tensor\n",
    "corr_orig = torch.tensor(np.loadtxt('/home/s94zalek_hpc/shape_matching/data/SURREAL_full/template/original/corr_orig.txt'), dtype=torch.int32)\n",
    "corr_orig -= 1\n",
    "corr_orig"
   ]
  },
  {
   "cell_type": "markdown",
   "metadata": {},
   "source": [
    "# Remesh"
   ]
  },
  {
   "cell_type": "code",
   "execution_count": null,
   "metadata": {},
   "outputs": [],
   "source": [
    "import my_code.sign_canonicalization.remesh as remesh\n",
    "import utils.fmap_util as fmap_util\n",
    "import torch\n",
    "\n",
    "verts_r, faces_r = remesh.remesh_simplify_iso(\n",
    "    verts=template_original.vertices,\n",
    "    faces=template_original.faces,\n",
    "    n_remesh_iters=10,\n",
    "    remesh_targetlen=1,\n",
    "    simplify_strength=1,\n",
    "    )\n",
    "corr_r = fmap_util.nn_query(\n",
    "    verts_r,\n",
    "    verts_orig, \n",
    "    )\n",
    "\n",
    "template_remeshed = trimesh.Trimesh(\n",
    "    vertices=verts_r,\n",
    "    faces=faces_r\n",
    "    )\n",
    "\n",
    "scene.geometry.clear()\n",
    "scene.add_geometry(trimesh.creation.axis(origin_size=0.1))\n",
    "\n",
    "# scene.add_geometry(template_original)\n",
    "scene.add_geometry(template_remeshed)\n",
    "\n",
    "scene.show()"
   ]
  },
  {
   "cell_type": "code",
   "execution_count": null,
   "metadata": {},
   "outputs": [],
   "source": [
    "# save the template to /home/s94zalek_hpc/shape_matching/data/SURREAL_full/template/remeshed, along with the correspondence\n",
    "template_remeshed.export('/home/s94zalek_hpc/shape_matching/data/SURREAL_full/template/remeshed/template.off')\n",
    "np.savetxt('/home/s94zalek_hpc/shape_matching/data/SURREAL_full/template/remeshed/corr.txt', corr_r.numpy() + 1, fmt='%d')\n"
   ]
  },
  {
   "cell_type": "code",
   "execution_count": null,
   "metadata": {},
   "outputs": [],
   "source": [
    "import my_code.utils.plotting_utils as plotting_utils\n",
    "\n",
    "scene.geometry.clear()\n",
    "plotting_utils.plot_p2p_map(\n",
    "    scene,\n",
    "    verts_r, faces_r,\n",
    "    verts_orig, faces_orig,\n",
    "    corr_r,\n",
    "    )\n",
    "scene.show()\n",
    "    "
   ]
  },
  {
   "cell_type": "markdown",
   "metadata": {},
   "source": [
    "# Remesh and simplify"
   ]
  },
  {
   "cell_type": "code",
   "execution_count": null,
   "metadata": {},
   "outputs": [],
   "source": [
    "import my_code.sign_canonicalization.remesh as remesh\n",
    "import utils.fmap_util as fmap_util\n",
    "import torch\n",
    "\n",
    "verts_rs, faces_rs = remesh.remesh_simplify_iso(\n",
    "    verts=verts_orig,\n",
    "    faces=faces_orig,\n",
    "    n_remesh_iters=10,\n",
    "    remesh_targetlen=1,\n",
    "    simplify_strength=0.4,\n",
    "    )\n",
    "corr_rs = fmap_util.nn_query(\n",
    "    verts_rs,\n",
    "    verts_orig, \n",
    "    )\n",
    "\n",
    "template_remeshed_simpl = trimesh.Trimesh(\n",
    "    vertices=verts_rs,\n",
    "    faces=faces_rs\n",
    "    )\n",
    "\n",
    "scene.geometry.clear()\n",
    "scene.add_geometry(trimesh.creation.axis(origin_size=0.1))\n",
    "\n",
    "# scene.add_geometry(template_original)\n",
    "# scene.add_geometry(template_remeshed)\n",
    "scene.add_geometry(template_remeshed_simpl)\n",
    "\n",
    "scene.show()"
   ]
  },
  {
   "cell_type": "code",
   "execution_count": null,
   "metadata": {},
   "outputs": [],
   "source": [
    "import my_code.utils.plotting_utils as plotting_utils\n",
    "\n",
    "scene.geometry.clear()\n",
    "plotting_utils.plot_p2p_map(\n",
    "    scene,\n",
    "    verts_rs, faces_rs,\n",
    "    verts_orig, faces_orig,\n",
    "    corr_rs,\n",
    "    )\n",
    "scene.show()\n",
    "    "
   ]
  },
  {
   "cell_type": "code",
   "execution_count": null,
   "metadata": {},
   "outputs": [],
   "source": [
    "template_remeshed_simpl.export(\n",
    "    '/home/s94zalek_hpc/shape_matching/data/SURREAL_full/template/remeshed_simplified/template.off'\n",
    "    )\n",
    "np.savetxt(\n",
    "    '/home/s94zalek_hpc/shape_matching/data/SURREAL_full/template/remeshed_simplified/corr.txt',\n",
    "    corr_rs.numpy() + 1, fmt='%d')\n"
   ]
  },
  {
   "cell_type": "markdown",
   "metadata": {},
   "source": [
    "# Remesh and Smooth"
   ]
  },
  {
   "cell_type": "code",
   "execution_count": null,
   "metadata": {},
   "outputs": [],
   "source": [
    "verts_r_smoothed, faces_r_smoothed = remesh.remesh_simplify_iso(\n",
    "    verts=verts_orig,\n",
    "    faces=faces_orig,\n",
    "    n_remesh_iters=10,\n",
    "    remesh_targetlen=1,\n",
    "    simplify_strength=1,\n",
    "    )\n",
    "template_r_smoothed = trimesh.Trimesh(\n",
    "    vertices=verts_r_smoothed,\n",
    "    faces=faces_r_smoothed\n",
    "    )\n",
    "trimesh.smoothing.filter_laplacian(template_r_smoothed, lamb=0.5, iterations=3)\n",
    "# trimesh.smoothing.filter_taubin(template_r_smoothed, lamb=0.5, iterations=5)\n",
    "\n",
    "verts_r_smoothed = torch.tensor(template_r_smoothed.vertices, dtype=torch.float32)\n",
    "faces_r_smoothed = torch.tensor(template_r_smoothed.faces, dtype=torch.int32)\n",
    "\n",
    "corr_r_smoothed = fmap_util.nn_query(\n",
    "    verts_r_smoothed,\n",
    "    verts_orig, \n",
    "    )\n",
    "\n",
    "scene.geometry.clear()\n",
    "scene.add_geometry(trimesh.creation.axis(origin_size=0.1))\n",
    "\n",
    "# scene.add_geometry(template_original)\n",
    "# scene.add_geometry(template_remeshed)\n",
    "scene.add_geometry(template_r_smoothed)\n",
    "\n",
    "scene.show()"
   ]
  },
  {
   "cell_type": "code",
   "execution_count": null,
   "metadata": {},
   "outputs": [],
   "source": [
    "scene.geometry.clear()\n",
    "\n",
    "plotting_utils.plot_p2p_map(\n",
    "    scene,\n",
    "    verts_r_smoothed, faces_r_smoothed,\n",
    "    verts_orig, faces_orig,\n",
    "    corr_r_smoothed,\n",
    "    )\n",
    "scene.show()"
   ]
  },
  {
   "cell_type": "code",
   "execution_count": null,
   "metadata": {},
   "outputs": [],
   "source": [
    "template_r_smoothed.export(\n",
    "    '/home/s94zalek_hpc/shape_matching/data/SURREAL_full/template/remeshed_smoothed/template.off'\n",
    "    )\n",
    "np.savetxt(\n",
    "    '/home/s94zalek_hpc/shape_matching/data/SURREAL_full/template/remeshed_smoothed/corr.txt',\n",
    "    corr_r_smoothed.numpy() + 1, fmt='%d')\n"
   ]
  },
  {
   "cell_type": "markdown",
   "metadata": {},
   "source": [
    "# Test all templates"
   ]
  },
  {
   "cell_type": "code",
   "execution_count": null,
   "metadata": {},
   "outputs": [],
   "source": [
    "import trimesh\n",
    "\n",
    "scene = trimesh.Scene()"
   ]
  },
  {
   "cell_type": "code",
   "execution_count": null,
   "metadata": {},
   "outputs": [],
   "source": [
    "mesh_3dc = '/home/s94zalek_hpc/shape_matching/data/SURREAL_full/template/3DC/template.ply'\n",
    "\n",
    "mesh_orig = '/home/s94zalek_hpc/shape_matching/data/SURREAL_full/template/original/template.off'\n",
    "corr_orig = '/home/s94zalek_hpc/shape_matching/data/SURREAL_full/template/original/corr.txt'\n",
    "\n",
    "mesh_remeshed = '/home/s94zalek_hpc/shape_matching/data/SURREAL_full/template/remeshed/template.off'\n",
    "corr_remeshed = '/home/s94zalek_hpc/shape_matching/data/SURREAL_full/template/remeshed/corr.txt'\n",
    "\n",
    "mesh_remeshed_simplified = '/home/s94zalek_hpc/shape_matching/data/SURREAL_full/template/remeshed_simplified/template.off'\n",
    "corr_remeshed_simplified = '/home/s94zalek_hpc/shape_matching/data/SURREAL_full/template/remeshed_simplified/corr.txt'\n",
    "\n",
    "mesh_remeshed_smoothed = '/home/s94zalek_hpc/shape_matching/data/SURREAL_full/template/remeshed_smoothed/template.off'\n",
    "corr_remeshed_smoothed = '/home/s94zalek_hpc/shape_matching/data/SURREAL_full/template/remeshed_smoothed/corr.txt'"
   ]
  },
  {
   "cell_type": "code",
   "execution_count": null,
   "metadata": {},
   "outputs": [],
   "source": [
    "import torch\n",
    "import numpy as np\n",
    "import my_code.utils.plotting_utils as plotting_utils\n",
    "\n",
    "mesh_3dc = trimesh.load_mesh(mesh_3dc)\n",
    "verts_3dc = torch.tensor(mesh_3dc.vertices, dtype=torch.float32)\n",
    "faces_3dc = torch.tensor(mesh_3dc.faces, dtype=torch.int32)\n",
    "\n",
    "def check_p2p(mesh_path, corr_path):\n",
    "    scene.geometry.clear()\n",
    "    scene.add_geometry(trimesh.creation.axis(origin_size=0.1))\n",
    "    \n",
    "    mesh_i = trimesh.load_mesh(mesh_path)\n",
    "    \n",
    "    verts_i = torch.tensor(mesh_i.vertices, dtype=torch.float32)\n",
    "    faces_i = torch.tensor(mesh_i.faces, dtype=torch.int32)\n",
    "    \n",
    "    corr_i = torch.tensor(np.loadtxt(corr_path), dtype=torch.int32) - 1\n",
    "\n",
    "    plotting_utils.plot_p2p_map(\n",
    "        scene,\n",
    "        verts_i, faces_i,\n",
    "        verts_3dc, faces_3dc,\n",
    "        corr_i,\n",
    "        )\n",
    "    # scene.show()"
   ]
  },
  {
   "cell_type": "code",
   "execution_count": null,
   "metadata": {},
   "outputs": [],
   "source": [
    "# check_p2p(mesh_orig, corr_orig)\n",
    "# check_p2p(mesh_remeshed, corr_remeshed)\n",
    "# check_p2p(mesh_remeshed_simplified, corr_remeshed_simplified)\n",
    "check_p2p(mesh_remeshed_smoothed, corr_remeshed_smoothed)\n",
    "scene.show()"
   ]
  },
  {
   "cell_type": "markdown",
   "metadata": {},
   "source": [
    "# Check the dataset"
   ]
  },
  {
   "cell_type": "code",
   "execution_count": null,
   "metadata": {},
   "outputs": [],
   "source": [
    "from my_code.datasets.surreal_dataset_3dc import TemplateSurrealDataset3DC\n",
    "\n",
    "augmentations = {\n",
    "    \"remesh\": {\n",
    "        \"isotropic\": {\n",
    "            \"n_remesh_iters\": 10,\n",
    "            \"remesh_targetlen\": 1,\n",
    "            \"simplify_strength_min\": 0.2,\n",
    "            \"simplify_strength_max\": 0.8,\n",
    "        },\n",
    "        \"anisotropic\": {\n",
    "            \"probability\": 0.35,\n",
    "                \n",
    "            \"n_remesh_iters\": 10,\n",
    "            \"fraction_to_simplify_min\": 0.2,\n",
    "            \"fraction_to_simplify_max\": 0.6,\n",
    "            \"simplify_strength_min\": 0.2,\n",
    "            \"simplify_strength_max\": 0.5,\n",
    "            \"weighted_by\": \"face_count\",\n",
    "        },\n",
    "    },\n",
    "}\n",
    "\n",
    "template_type = 'remeshed_smoothed'\n",
    "\n",
    "dataset = TemplateSurrealDataset3DC(\n",
    "    # shape_path=f'/home/s94zalek_hpc/3D-CODED/data/mmap_datas_surreal_train.pth',\n",
    "    shape_path='/lustre/mlnvme/data/s94zalek_hpc-shape_matching/mmap_datas_surreal_train.pth',\n",
    "    num_evecs=128,\n",
    "    cache_lb_dir=None,\n",
    "    return_evecs=True,\n",
    "    mmap=True,\n",
    "    augmentations=augmentations,\n",
    "    template_path=f'/home/s94zalek_hpc/shape_matching/data/SURREAL_full/template/{template_type}/template.off',\n",
    "    template_corr=np.loadtxt(\n",
    "        f'/home/s94zalek_hpc/shape_matching/data/SURREAL_full/template/{template_type}/corr.txt',\n",
    "        dtype=np.int32) - 1\n",
    ")  "
   ]
  },
  {
   "cell_type": "code",
   "execution_count": null,
   "metadata": {},
   "outputs": [],
   "source": [
    "data_i = dataset[200004]\n",
    "\n",
    "scene.geometry.clear()\n",
    "\n",
    "mesh_1 = trimesh.Trimesh(vertices=data_i['first']['verts'], faces=data_i['first']['faces'])\n",
    "mesh_2 = trimesh.Trimesh(vertices=data_i['second']['verts'] + torch.tensor([1, 0, 0]), faces=data_i['second']['faces'])\n",
    "\n",
    "scene.add_geometry(trimesh.creation.axis(origin_size=0.1))\n",
    "scene.add_geometry(mesh_1)\n",
    "scene.add_geometry(mesh_2)\n",
    "\n",
    "scene.show()"
   ]
  },
  {
   "cell_type": "code",
   "execution_count": null,
   "metadata": {},
   "outputs": [],
   "source": [
    "import matplotlib.pyplot as plt\n",
    "\n",
    "l = 0\n",
    "h = 32\n",
    "\n",
    "fig, axs = plt.subplots(1, 2, figsize=(8, 5))\n",
    "\n",
    "plotting_utils.plot_Cxy(fig, axs[0], data_i['second']['C_gt_xy'],\n",
    "                        'xy', l, h, show_grid=False, show_colorbar=False)\n",
    "plotting_utils.plot_Cxy(fig, axs[1], data_i['second']['C_gt_yx'],\n",
    "                        'yx', l, h, show_grid=False, show_colorbar=False)\n",
    "plt.show()"
   ]
  },
  {
   "cell_type": "code",
   "execution_count": null,
   "metadata": {},
   "outputs": [],
   "source": [
    "import utils.fmap_util as fmap_util\n",
    "\n",
    "C_gt_xy = data_i['second']['C_gt_xy']\n",
    "\n",
    "p2p = fmap_util.fmap2pointmap(\n",
    "    C12=C_gt_xy,\n",
    "    evecs_x=data_i['first']['evecs'],\n",
    "    evecs_y=data_i['second']['evecs'],\n",
    ")\n",
    "\n",
    "scene.geometry.clear()\n",
    "\n",
    "plotting_utils.plot_p2p_map(\n",
    "    scene,\n",
    "    data_i['first']['verts'], data_i['first']['faces'],\n",
    "    data_i['second']['verts'], data_i['second']['faces'],\n",
    "    p2p,\n",
    "    )\n",
    "scene.show()"
   ]
  },
  {
   "cell_type": "code",
   "execution_count": null,
   "metadata": {},
   "outputs": [],
   "source": [
    "import torch\n",
    "\n",
    "cached_C = torch.load(\n",
    "    '/lustre/mlnvme/data/s94zalek_hpc-shape_matching/SURREAL/train/test_pt/train/C_gt_xy_0_2.pt'\n",
    ")\n",
    "cached_C.shape"
   ]
  },
  {
   "cell_type": "code",
   "execution_count": null,
   "metadata": {},
   "outputs": [],
   "source": [
    "\n",
    "\n",
    "import matplotlib.pyplot as plt\n",
    "\n",
    "l = 0\n",
    "h = 32\n",
    "\n",
    "fig, axs = plt.subplots(1, 2, figsize=(8, 5))\n",
    "\n",
    "plotting_utils.plot_Cxy(fig, axs[0], cached_C[0],\n",
    "                        'xy', l, h, show_grid=False, show_colorbar=False)\n",
    "plotting_utils.plot_Cxy(fig, axs[1], cached_C[1],\n",
    "                        'yx', l, h, show_grid=False, show_colorbar=False)\n",
    "plt.show()"
   ]
  }
 ],
 "metadata": {
  "kernelspec": {
   "display_name": "Python 3 (ipykernel)",
   "language": "python",
   "name": "python3"
  }
 },
 "nbformat": 4,
 "nbformat_minor": 2
}
