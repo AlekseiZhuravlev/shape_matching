{
 "cells": [
  {
   "cell_type": "code",
   "execution_count": 1,
   "metadata": {},
   "outputs": [],
   "source": [
    "import torch\n",
    "import numpy as np\n",
    "import os\n",
    "import shutil\n",
    "from tqdm import tqdm\n",
    "import yaml\n",
    "\n",
    "import sys\n",
    "import os\n",
    "curr_dir = os.getcwd()\n",
    "if 's94zalek_hpc' in curr_dir:\n",
    "    user_name = 's94zalek_hpc'\n",
    "else:\n",
    "    user_name = 's94zalek'\n",
    "sys.path.append(f'/home/{user_name}/shape_matching')\n",
    "\n",
    "# models\n",
    "from my_code.models.diag_conditional import DiagConditionedUnet\n",
    "from diffusers import DDPMScheduler\n",
    "\n",
    "# training / evaluation\n",
    "from torch.utils.tensorboard import SummaryWriter\n",
    "from my_code.diffusion_training_sign_corr.train_model import train_epoch\n",
    "from my_code.diffusion_training_sign_corr.validate_model import validate_epoch\n",
    "\n",
    "import my_code.diffusion_training_sign_corr.data_loading as data_loading\n",
    "\n",
    "from my_code.datasets.surreal_cached_train_dataset import SurrealTrainDataset\n",
    "import networks.diffusion_network as diffusion_network  "
   ]
  },
  {
   "cell_type": "code",
   "execution_count": 6,
   "metadata": {},
   "outputs": [],
   "source": [
    "import accelerate"
   ]
  },
  {
   "cell_type": "code",
   "execution_count": 7,
   "metadata": {},
   "outputs": [],
   "source": [
    "experiment_name = 'pair_10_xy_distributed'\n",
    "checkpoint_name = 'epoch_2'\n",
    "subset_fraction = 100\n",
    "# dataset_name = 'FAUST_orig'\n",
    "dataset_name = 'SHREC19'\n",
    "\n",
    "\n",
    "### config\n",
    "exp_base_folder = f'/home/{user_name}/shape_matching/my_code/experiments/ddpm/{experiment_name}'\n",
    "with open(f'{exp_base_folder}/config.yaml', 'r') as f:\n",
    "    config = yaml.load(f, Loader=yaml.FullLoader)\n",
    "\n",
    "\n",
    "### model\n",
    "model = DiagConditionedUnet(config[\"model_params\"]).to('cuda')\n",
    "# model.load_state_dict(torch.load(f\"{exp_base_folder}/checkpoints/{checkpoint_name}/model.safetensors\"))\n",
    "# model = model.to('cuda')\n",
    "\n",
    "accelerate.load_checkpoint_in_model(model, f\"{exp_base_folder}/checkpoints/{checkpoint_name}/model.safetensors\")"
   ]
  },
  {
   "cell_type": "code",
   "execution_count": 13,
   "metadata": {},
   "outputs": [],
   "source": [
    "#get the size of this file /home/s94zalek_hpc/shape_matching/my_code/experiments/ddpm/pair_10_xy_distributed/checkpoints/epoch_8/model.safetensors in GB\n",
    "# os.path.getsize(f\"{exp_base_folder}/checkpoints/{checkpoint_name}/model.safetensors\") / 1024 / 1024 \n",
    "# /home/s94zalek_hpc/shape_matching/my_code/experiments/ddpm/single_template_remeshed_augShapes_signNet_remeshed_mass_6b_1ev_10_0.2_0.8/checkpoints/checkpoint_99.pt\n",
    "os.path.getsize('/home/s94zalek_hpc/shape_matching/my_code/experiments/ddpm/single_template_remeshed_augShapes_signNet_remeshed_mass_6b_1ev_10_0.2_0.8/checkpoints/checkpoint_99.pt') / 1024 / 1024"
   ]
  }
 ],
 "metadata": {
  "kernelspec": {
   "display_name": "Python 3 (ipykernel)",
   "language": "python",
   "name": "python3"
  }
 },
 "nbformat": 4,
 "nbformat_minor": 2
}
