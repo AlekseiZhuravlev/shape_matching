{
 "cells": [
  {
   "cell_type": "code",
   "execution_count": 19,
   "metadata": {},
   "outputs": [
    {
     "name": "stdout",
     "output_type": "stream",
     "text": [
      "Collecting xvfbwrapper\n",
      "  Downloading xvfbwrapper-0.2.9.tar.gz (5.6 kB)\n",
      "  Preparing metadata (setup.py) ... \u001b[?25ldone\n",
      "\u001b[?25hBuilding wheels for collected packages: xvfbwrapper\n",
      "  Building wheel for xvfbwrapper (setup.py) ... \u001b[?25ldone\n",
      "\u001b[?25h  Created wheel for xvfbwrapper: filename=xvfbwrapper-0.2.9-py3-none-any.whl size=5009 sha256=e559611947e08068ec6c6043ea37c60ab4b5d078ea51e32a609a43a4983e361d\n",
      "  Stored in directory: /tmp/pip-ephem-wheel-cache-_jcu_8ip/wheels/e1/da/b4/57ac130c024104997ae76f389fe0e7e43922ec3cfdffaf1b1e\n",
      "Successfully built xvfbwrapper\n",
      "Installing collected packages: xvfbwrapper\n",
      "Successfully installed xvfbwrapper-0.2.9\n"
     ]
    }
   ],
   "source": [
    "!pip install xvfbwrapper"
   ]
  },
  {
   "cell_type": "code",
   "execution_count": 22,
   "metadata": {},
   "outputs": [],
   "source": [
    "!module load Xvfb"
   ]
  },
  {
   "cell_type": "code",
   "execution_count": 16,
   "metadata": {},
   "outputs": [
    {
     "name": "stdout",
     "output_type": "stream",
     "text": [
      "\n",
      "The following have been reloaded with a version change:\n",
      "  1) GCCcore/11.2.0 => GCCcore/12.2.0\n",
      "  2) XZ/5.2.5-GCCcore-11.2.0 => XZ/5.2.7-GCCcore-12.2.0\n",
      "  3) zlib/1.2.11-GCCcore-11.2.0 => zlib/1.2.12-GCCcore-12.2.0\n",
      "\n"
     ]
    }
   ],
   "source": [
    "!module load libxml2"
   ]
  },
  {
   "cell_type": "code",
   "execution_count": 23,
   "metadata": {},
   "outputs": [
    {
     "name": "stdout",
     "output_type": "stream",
     "text": [
      "Traceback (most recent call last):\n",
      "  File \"/home/s94zalek/shape_matching/my_code/save_func_map.py\", line 26, in <module>\n",
      "    pyvirtualdisplay.Display(visible=0, size=(1400, 900)).start()\n",
      "  File \"/home/s94zalek/.conda/envs/fmnet/lib/python3.8/site-packages/pyvirtualdisplay/display.py\", line 54, in __init__\n",
      "    self._obj = cls(\n",
      "  File \"/home/s94zalek/.conda/envs/fmnet/lib/python3.8/site-packages/pyvirtualdisplay/xvfb.py\", line 44, in __init__\n",
      "    AbstractDisplay.__init__(\n",
      "  File \"/home/s94zalek/.conda/envs/fmnet/lib/python3.8/site-packages/pyvirtualdisplay/abstractdisplay.py\", line 85, in __init__\n",
      "    helptext = get_helptext(program)\n",
      "  File \"/home/s94zalek/.conda/envs/fmnet/lib/python3.8/site-packages/pyvirtualdisplay/util.py\", line 13, in get_helptext\n",
      "    p = subprocess.Popen(\n",
      "  File \"/home/s94zalek/.conda/envs/fmnet/lib/python3.8/subprocess.py\", line 858, in __init__\n",
      "    self._execute_child(args, executable, preexec_fn, close_fds,\n",
      "  File \"/home/s94zalek/.conda/envs/fmnet/lib/python3.8/subprocess.py\", line 1720, in _execute_child\n",
      "    raise child_exception_type(errno_num, err_msg, err_filename)\n",
      "FileNotFoundError: [Errno 2] No such file or directory: 'Xvfb'\n"
     ]
    }
   ],
   "source": [
    "!python /home/s94zalek/shape_matching/my_code/save_func_map.py"
   ]
  },
  {
   "cell_type": "code",
   "execution_count": 2,
   "metadata": {},
   "outputs": [
    {
     "name": "stdout",
     "output_type": "stream",
     "text": [
      "Requirement already satisfied: tqdm in /home/s94zalek/.conda/envs/fmnet/lib/python3.8/site-packages (4.66.2)\n"
     ]
    }
   ],
   "source": [
    "!python "
   ]
  },
  {
   "cell_type": "code",
   "execution_count": 2,
   "metadata": {},
   "outputs": [],
   "source": [
    "!cd .."
   ]
  },
  {
   "cell_type": "code",
   "execution_count": 3,
   "metadata": {},
   "outputs": [
    {
     "name": "stdout",
     "output_type": "stream",
     "text": [
      "checkpoints\t      figures\t networks\trequirements.txt\n",
      "data\t\t      func_maps  notebooks\tresults\n",
      "data_pt_geometric     LICENSE\t options\ttest.py\n",
      "datasets_code\t      losses\t output\t\ttexture_transfer.py\n",
      "ddpm-butterflies-128  metrics\t preprocess.py\ttrain.py\n",
      "environment.sh\t      models\t __pycache__\tutils\n",
      "experiments\t      my_code\t README.md\n"
     ]
    }
   ],
   "source": [
    "!ls"
   ]
  }
 ],
 "metadata": {
  "kernelspec": {
   "display_name": "Python 3 (ipykernel)",
   "language": "python",
   "name": "python3"
  }
 },
 "nbformat": 4,
 "nbformat_minor": 2
}
